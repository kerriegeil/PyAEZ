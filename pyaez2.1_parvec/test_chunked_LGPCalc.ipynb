{
 "cells": [
  {
   "cell_type": "markdown",
   "metadata": {},
   "source": [
    "# Notebook I - Climate Regime\n",
    "<hr>\n",
    "This module performs climate data analysis and compiling general agro-climatic indicators. These general agro-climatic indicators summarize climatic profiles in the study area for each grid. The key input data for this module is the climatic data, and the geographical and terrain data.\n",
    "\n",
    "Prepared by Geoinformatics Center, AIT\n",
    "<hr>\n"
   ]
  },
  {
   "cell_type": "code",
   "execution_count": null,
   "metadata": {},
   "outputs": [],
   "source": [
    "import psutil\n",
    "# psutil.virtual_memory()\n",
    "\n",
    "psutil.virtual_memory().free/1E9"
   ]
  },
  {
   "cell_type": "markdown",
   "metadata": {},
   "source": [
    "Now, we will import the specific Python packages we need for PyAEZ."
   ]
  },
  {
   "cell_type": "code",
   "execution_count": 1,
   "metadata": {},
   "outputs": [],
   "source": [
    "'''import supporting libraries'''\n",
    "import numpy as np\n",
    "import matplotlib.pyplot as plt\n",
    "# import numpy as np\n",
    "import os\n",
    "try:\n",
    "    from osgeo import gdal\n",
    "except:\n",
    "    import gdal\n",
    "import sys\n",
    "\n",
    "from time import time as timer\n",
    "\n",
    "import xarray as xr\n",
    "import rioxarray as rio\n",
    "\n",
    "import dask.array as da\n",
    "import dask\n",
    "\n",
    "import psutil\n",
    "from dask.distributed import Client,LocalCluster\n",
    "# import graphviz"
   ]
  },
  {
   "cell_type": "code",
   "execution_count": 2,
   "metadata": {},
   "outputs": [],
   "source": [
    "# branch version tag\n",
    "revname='v21pv'\n",
    "\n",
    "# # HPC Orion\n",
    "# # Replace with path to your PyAEZ folder under your username\n",
    "# work_dir = '/work/hpc/users/kerrie/UN_FAO/repos/PyAEZ/pyaez2.1_vectorize/'\n",
    "# # Replace with whatever location you want to output data under your username\n",
    "# out_path = '/work/hpc/users/kerrie/UN_FAO/pyaez_results/china_8110/'+revname+'/' \n",
    "# # these are the same for everyone on HPC Orion\n",
    "# data_dir = '/work/hpc/datasets/un_fao/pyaez/china_8110/daily/npy/'\n",
    "# maskfile = '/work/hpc/datasets/un_fao/pyaez/china_static/netcdf/mask.nc'\n",
    "# elevfile = '/work/hpc/datasets/un_fao/pyaez/china_static/tif/elev.tif'\n",
    "\n",
    "\n",
    "# # Kerrie desktop\n",
    "# work_dir = 'K:/projects/unfao/pyaez_gaez/repos/PyAEZ_kerrie/PyAEZ/pyaez2.1_parvec/' # path to your PyAEZ repo\n",
    "# out_path = work_dir+'NB1outputs/' # path for saving output data\n",
    "# data_dir = 'C://Users/kerrie.WIN/Documents/data/pyAEZ_data_inputs_china_03272023/npy/' # path to your data\n",
    "# maskfile = 'C://Users/kerrie.WIN/Documents/data/pyAEZ_data_inputs_china_03272023/tif/mask.tif'# subset for no antarctica, 1800 lats\n",
    "# elevfile = 'C://Users/kerrie.WIN/Documents/data/pyAEZ_data_inputs_china_03272023/tif/elev.tif'\n",
    "\n",
    "# work_dir = 'K:/projects/unfao/pyaez_gaez/repos/PyAEZ_kerrie/PyAEZ/pyaez2.1_parvec/' # path to your PyAEZ repo\n",
    "# out_path = work_dir+'NB1outputs/' # path for saving output data\n",
    "# data_dir = 'C://Users/kerrie.WIN/Documents/data/pyAEZ_data_inputs_global_NOTPRODUCTION/npy/' # path to your data\n",
    "# maskfile = 'C://Users/kerrie.WIN/Documents/data/pyAEZ_data_inputs_global_NOTPRODUCTION/tif/mask_2268708_5m.tif'# subset for no antarctica, 1800 lats\n",
    "# elevfile = 'C://Users/kerrie.WIN/Documents/data/pyAEZ_data_inputs_global_NOTPRODUCTION/tif/Elevation_2268708_5m.tif'\n",
    "\n",
    "\n",
    "# # Kerrie laptop china\n",
    "# work_dir = 'C://Users/kerrie/Documents/01_LocalCode/repos/PyAEZ/pyaez2.1_parvec/' # path to your PyAEZ repo\n",
    "# out_path = work_dir+'NB1outputs/' # path for saving output data\n",
    "# # # data_dir = 'C://Users/kerrie/Documents/02_LocalData/pyAEZ_input_data/china/npy/' # path to your data\n",
    "# # # maskfile = 'C://Users/kerrie/Documents/02_LocalData/pyAEZ_input_data/china/tif/mask.tif'# subset for no antarctica, 1800 lats\n",
    "# # # elevfile = 'C://Users/kerrie/Documents/02_LocalData/pyAEZ_input_data/china/tif/elev.tif'\n",
    "# data_dir = 'C://Users/kerrie/Documents/02_LocalData/pyAEZ_input_data/5GB/' # path to your data\n",
    "# maskfile = 'C://Users/kerrie/Documents/02_LocalData/pyAEZ_input_data/5GB/mask.tif'# subset for no antarctica, 1800 lats\n",
    "# elevfile = 'C://Users/kerrie/Documents/02_LocalData/pyAEZ_input_data/5GB/elev.tif'\n",
    "\n",
    "# # Kerrie laptop global\n",
    "work_dir = 'C://Users/kerrie/Documents/01_LocalCode/repos/PyAEZ/pyaez2.1_parvec/' # path to your PyAEZ repo\n",
    "out_path = work_dir+'NB1outputs/' # path for saving output data\n",
    "data_dir = 'C://Users/kerrie/Documents/02_LocalData/pyAEZ_input_data/global_NOTPRODUCTION/npy/' # path to your data\n",
    "maskfile = 'C://Users/kerrie/Documents/02_LocalData/pyAEZ_input_data/global_NOTPRODUCTION/tif/mask_2268708_5m.tif'# subset for no antarctica, 1800 lats\n",
    "elevfile = 'C://Users/kerrie/Documents/02_LocalData/pyAEZ_input_data/global_NOTPRODUCTION/tif/Elevation_2268708_5m.tif'\n",
    "\n",
    "# Check whether the specified path exists or not\n",
    "isExist = os.path.exists(out_path)\n",
    "if not isExist:\n",
    "   # Create a new directory because it does not exist\n",
    "   os.makedirs(out_path)\n",
    "   print(\"The new directory is created!\")\n",
    "\n",
    "dir_toplev='C://Users/kerrie/Documents/01_LocalCode/'\n",
    "daskpath=os.path.join(dir_toplev, \"dask-worker-space-can-be-deleted\")\n",
    "\n",
    "isExist = os.path.exists(daskpath)\n",
    "if not isExist:\n",
    "   os.mkdir(daskpath)\n",
    "   print(\"dask worker directory created\")"
   ]
  },
  {
   "cell_type": "code",
   "execution_count": 3,
   "metadata": {},
   "outputs": [],
   "source": [
    "# %load_ext autoreload\n",
    "# %autoreload 2\n",
    "# Import Module 1 and initate Class intance\n",
    "# from pyaez import ClimateRegime\n",
    "# clim_reg = ClimateRegime.ClimateRegime()\n",
    "\n",
    "# # Importing UtilitiesCalc\n",
    "# from pyaez import UtilitiesCalc\n",
    "# obj_util = UtilitiesCalc.UtilitiesCalc()\n",
    "sys.path.append(work_dir)\n",
    "# import ClimateRegime_v21pv as ClimateRegime\n",
    "# import ClimateRegime_test as ClimateRegime\n",
    "import ClimateRegime_loopchunks as ClimateRegime\n",
    "clim_reg = ClimateRegime.ClimateRegime()\n",
    "\n",
    "# import UtilitiesCalc_v21pv as UtilitiesCalc\n",
    "import UtilitiesCalc_test as UtilitiesCalc\n",
    "obj_utilities=UtilitiesCalc.UtilitiesCalc()\n",
    "\n",
    "\n",
    "# import UtilitiesCalc_v21pv as UtilitiesCalc\n",
    "import LGPCalc_loopchunks as LGPCalc\n"
   ]
  },
  {
   "cell_type": "code",
   "execution_count": 4,
   "metadata": {},
   "outputs": [],
   "source": [
    "# # cluster=LocalCluster(n_workers=1, threads_per_worker=20)#, memory_limit='10GB')\n",
    "# # client=Client(cluster)\n",
    "# client=Client()\n",
    "# client"
   ]
  },
  {
   "cell_type": "code",
   "execution_count": 5,
   "metadata": {},
   "outputs": [
    {
     "name": "stdout",
     "output_type": "stream",
     "text": [
      "(1800, 4320, 365) (1800, 4320)\n"
     ]
    },
    {
     "name": "stderr",
     "output_type": "stream",
     "text": [
      "c:\\Users\\kerrie\\.conda\\envs\\pyaez_dask\\Lib\\site-packages\\osgeo\\gdal.py:287: FutureWarning: Neither gdal.UseExceptions() nor gdal.DontUseExceptions() has been explicitly called. In GDAL 4.0, exceptions will be enabled by default.\n",
      "  warnings.warn(\n"
     ]
    },
    {
     "data": {
      "text/plain": [
       "0.07602405548095703"
      ]
     },
     "execution_count": 5,
     "metadata": {},
     "output_type": "execute_result"
    }
   ],
   "source": [
    "# expect 2 seconds run time for china\n",
    "# expect s run time for global\n",
    "\n",
    "start=timer()\n",
    "\n",
    "max_temp = da.from_npy_stack(data_dir+'Tmax-2m365/').astype('float32')  # maximum temperature\n",
    "min_temp = da.from_npy_stack(data_dir+'Tmin-2m365/').astype('float32')  # minimum temperature\n",
    "precipitation = da.from_npy_stack(data_dir+'Precip365/').astype('float32')  # precipitation\n",
    "rel_humidity = da.from_npy_stack(data_dir+'Rhum365/').astype('float32')  # relative humidity\n",
    "wind_speed = da.from_npy_stack(data_dir+'Wind-2m365/').astype('float32') # wind speed measured at two meters\n",
    "short_rad = da.from_npy_stack(data_dir+'Srad365/').astype('float32')  # shortwave radiation\n",
    "mask=da.from_array(gdal.Open(maskfile).ReadAsArray())\n",
    "elevation=da.from_array(gdal.Open(elevfile).ReadAsArray())\n",
    "\n",
    "print(min_temp.shape,mask.shape)\n",
    "\n",
    "task_time=timer()-start\n",
    "task_time"
   ]
  },
  {
   "cell_type": "code",
   "execution_count": 6,
   "metadata": {},
   "outputs": [],
   "source": [
    "# test=np.nan_to_num(short_rad)\n",
    "# test[test<0]=100\n",
    "# test.max().compute()"
   ]
  },
  {
   "cell_type": "code",
   "execution_count": 7,
   "metadata": {},
   "outputs": [
    {
     "data": {
      "text/plain": [
       "68.179968"
      ]
     },
     "execution_count": 7,
     "metadata": {},
     "output_type": "execute_result"
    }
   ],
   "source": [
    "(max_temp.nbytes+min_temp.nbytes+precipitation.nbytes+rel_humidity.nbytes+wind_speed.nbytes+short_rad.nbytes+mask.nbytes+elevation.nbytes)/1E9"
   ]
  },
  {
   "cell_type": "code",
   "execution_count": 8,
   "metadata": {},
   "outputs": [],
   "source": [
    "# Define the Area-Of-Interest's geographical extents\n",
    "\n",
    "# if lat_min/lat_max values defined below are located at pixel center --> set lat_centers to True \n",
    "# if they are located at the exterior pixel edge --> set lat_centers to False\n",
    "lat_centers=True \n",
    "\n",
    "# provide min and max latitudes (either set manually or read from a data file)\n",
    "# lat_min = 18.04167\n",
    "# lat_max = 53.625\n",
    "lats=rio.open_rasterio(maskfile)['y'].data   # get array of latitudes from maskfile\n",
    "lat_min = np.trunc(lats.min()*100000)/100000 # min lat value at pixel center, limit precision to 5 decimal places\n",
    "lat_max = np.trunc(lats.max()*100000)/100000 # max lat value at pixel center, limit precision 5 decimal places\n",
    "\n",
    "# mask information\n",
    "mask_value = 0  # pixel value in admin_mask to exclude from the analysis\n",
    "mask_path=maskfile\n",
    "\n",
    "# time resolution information\n",
    "daily = True #Type of climate data = True: daily, False: monthly\n",
    "parallel=True#False#True"
   ]
  },
  {
   "cell_type": "markdown",
   "metadata": {},
   "source": [
    "### Loading the imported data into the Object Class ('*clim_reg*' Class)"
   ]
  },
  {
   "cell_type": "code",
   "execution_count": 9,
   "metadata": {},
   "outputs": [
    {
     "name": "stdout",
     "output_type": "stream",
     "text": [
      "computed optimized nchunks,nlons 140 31\n"
     ]
    },
    {
     "data": {
      "text/plain": [
       "0.002989053726196289"
      ]
     },
     "execution_count": 9,
     "metadata": {},
     "output_type": "execute_result"
    }
   ],
   "source": [
    "# expect >1s run time for china\n",
    "start=timer()\n",
    "\n",
    "clim_reg.setParallel(max_temp,parallel)#,nchunks=288)#,nchunks=864)\n",
    "\n",
    "task_time=timer()-start\n",
    "task_time"
   ]
  },
  {
   "cell_type": "code",
   "execution_count": 10,
   "metadata": {},
   "outputs": [
    {
     "data": {
      "text/plain": [
       "0.001993894577026367"
      ]
     },
     "execution_count": 10,
     "metadata": {},
     "output_type": "execute_result"
    }
   ],
   "source": [
    "# expect >1s run time for china\n",
    "start=timer()\n",
    "\n",
    "clim_reg.setStudyAreaMask(mask, mask_value)\n",
    "\n",
    "task_time=timer()-start\n",
    "task_time"
   ]
  },
  {
   "cell_type": "code",
   "execution_count": 11,
   "metadata": {},
   "outputs": [
    {
     "data": {
      "text/plain": [
       "0.32726407051086426"
      ]
     },
     "execution_count": 11,
     "metadata": {},
     "output_type": "execute_result"
    }
   ],
   "source": [
    "# expect >1s run time for china\n",
    "start=timer()\n",
    "\n",
    "clim_reg.setLocationTerrainData(lat_min, lat_max, lat_centers, elevation) #KLG\n",
    "\n",
    "task_time=timer()-start\n",
    "task_time\n"
   ]
  },
  {
   "cell_type": "code",
   "execution_count": 12,
   "metadata": {},
   "outputs": [
    {
     "data": {
      "text/plain": [
       "(140, (-1, 31, -1), 81.468)"
      ]
     },
     "execution_count": 12,
     "metadata": {},
     "output_type": "execute_result"
    }
   ],
   "source": [
    "clim_reg.nchunks, clim_reg.chunk3D, clim_reg.chunksize3D_MB"
   ]
  },
  {
   "cell_type": "code",
   "execution_count": 13,
   "metadata": {},
   "outputs": [
    {
     "name": "stdout",
     "output_type": "stream",
     "text": [
      "26.840612864\n"
     ]
    }
   ],
   "source": [
    "print(psutil.virtual_memory().free/1E9)"
   ]
  },
  {
   "cell_type": "code",
   "execution_count": 14,
   "metadata": {},
   "outputs": [
    {
     "name": "stdout",
     "output_type": "stream",
     "text": [
      "in ClimateRegime, computing pet_daily in parallel\n",
      "in ClimateRegime, agg daily to meanT_monthly_sealevel in parallel\n",
      "in ClimateRegime, computing P_by_PET in parallel\n",
      "in ClimateRegime, computing meanT_monthly, totalPrec_monthly\n",
      "in ClimateRegime, computing annual_Tmean\n",
      "in ClimateRegime, computing annual_accPrec\n"
     ]
    },
    {
     "data": {
      "text/plain": [
       "429.5263307094574"
      ]
     },
     "execution_count": 14,
     "metadata": {},
     "output_type": "execute_result"
    }
   ],
   "source": [
    "# parallel=True; for global expect ~8.5min (laptop), ~11.5min (desktop) run time\n",
    "# parallel=True; for china expect x (laptop), ~24s (desktop) run time\n",
    "# parallel=False; for china\n",
    "# for parallel this is computing pet_daily and a few 2D monthly means and saving in memory as numpy arrays\n",
    "# everything else remains a dask array to be loaded and computed later when needed\n",
    "start=timer()\n",
    "\n",
    "clim_reg.setDailyClimateData(min_temp, max_temp, precipitation, short_rad, wind_speed, rel_humidity)\n",
    "\n",
    "task_time=timer()-start\n",
    "task_time"
   ]
  },
  {
   "cell_type": "code",
   "execution_count": null,
   "metadata": {},
   "outputs": [],
   "source": [
    "# start=timer()\n",
    "\n",
    "# tclimate = clim_reg.getThermalClimate()\n",
    "\n",
    "# task_time=timer()-start\n",
    "# task_time"
   ]
  },
  {
   "cell_type": "code",
   "execution_count": 15,
   "metadata": {},
   "outputs": [
    {
     "name": "stdout",
     "output_type": "stream",
     "text": [
      "in ClimateRegime, computing lgpt5 in parallel\n",
      "float32\n",
      "25.689513984\n"
     ]
    }
   ],
   "source": [
    "lgpt5 = clim_reg.getThermalLGP5()\n",
    "print(lgpt5.dtype)\n",
    "print(psutil.virtual_memory().free/1E9)"
   ]
  },
  {
   "cell_type": "code",
   "execution_count": 16,
   "metadata": {},
   "outputs": [
    {
     "name": "stdout",
     "output_type": "stream",
     "text": [
      "time spent on prepping vars 84.10980415344238\n",
      "loop 0\n",
      "{'chunk_size': (1800, 72, 365), 'complete day loop': 7.547747611999512, 'avg daily compute': 0.010507117232231244, 'avg daily agg': 0.010099114457221881, 'stack': 0.3182706832885742, 'ETA where': 0.06881833076477051, 'append': 0.08271646499633789, 'xx,yy': 0.6072328090667725, 'lgp_whole': 0.04783987998962402, 'lgp_tot': 0.10066604614257812}\n",
      "loop 1\n",
      "{'chunk_size': (1800, 72, 365), 'complete day loop': 7.128700017929077, 'avg daily compute': 0.00958121312807684, 'avg daily agg': 0.00990078285948871, 'stack': 0.3040282726287842, 'ETA where': 0.06876850128173828, 'append': 0.07276320457458496, 'xx,yy': 0.6382825374603271, 'lgp_whole': 0.04987192153930664, 'lgp_tot': 0.0997624397277832}\n",
      "loop 2\n",
      "{'chunk_size': (1800, 72, 365), 'complete day loop': 7.124741792678833, 'avg daily compute': 0.009497321141909246, 'avg daily agg': 0.009959672248526796, 'stack': 0.3389298915863037, 'ETA where': 0.06777095794677734, 'append': 0.07276153564453125, 'xx,yy': 0.613945484161377, 'lgp_whole': 0.0538175106048584, 'lgp_tot': 0.11661219596862793}\n",
      "loop 3\n",
      "{'chunk_size': (1800, 72, 365), 'complete day loop': 7.1088902950286865, 'avg daily compute': 0.009493271292072452, 'avg daily agg': 0.009931303703621643, 'stack': 0.35411548614501953, 'ETA where': 0.07026815414428711, 'append': 0.07278585433959961, 'xx,yy': 0.6249334812164307, 'lgp_whole': 0.04783940315246582, 'lgp_tot': 0.09967660903930664}\n",
      "loop 4\n",
      "{'chunk_size': (1800, 72, 365), 'complete day loop': 7.005249261856079, 'avg daily compute': 0.009329759258113496, 'avg daily agg': 0.009813582407285089, 'stack': 0.33715152740478516, 'ETA where': 0.08181595802307129, 'append': 0.07275676727294922, 'xx,yy': 0.7049334049224854, 'lgp_whole': 0.05381894111633301, 'lgp_tot': 0.12337017059326172}\n",
      "loop 5\n",
      "{'chunk_size': (1800, 72, 365), 'complete day loop': 6.980769395828247, 'avg daily compute': 0.009151929698578299, 'avg daily agg': 0.009910786641787177, 'stack': 0.3109924793243408, 'ETA where': 0.06784486770629883, 'append': 0.07375526428222656, 'xx,yy': 0.6557986736297607, 'lgp_whole': 0.06381845474243164, 'lgp_tot': 0.12163114547729492}\n",
      "loop 6\n",
      "{'chunk_size': (1800, 72, 365), 'complete day loop': 6.970595598220825, 'avg daily compute': 0.00912881224122766, 'avg daily agg': 0.00991638719219051, 'stack': 0.30797481536865234, 'ETA where': 0.06677436828613281, 'append': 0.08371901512145996, 'xx,yy': 0.6543629169464111, 'lgp_whole': 0.05681109428405762, 'lgp_tot': 0.16146326065063477}\n",
      "loop 7\n",
      "{'chunk_size': (1800, 72, 365), 'complete day loop': 6.892112970352173, 'avg daily compute': 0.009073112435536842, 'avg daily agg': 0.00974383876748281, 'stack': 0.30998921394348145, 'ETA where': 0.0777430534362793, 'append': 0.08870291709899902, 'xx,yy': 0.6398806571960449, 'lgp_whole': 0.056817054748535156, 'lgp_tot': 0.11687445640563965}\n",
      "loop 8\n",
      "{'chunk_size': (1800, 72, 365), 'complete day loop': 6.946869134902954, 'avg daily compute': 0.009154039539702952, 'avg daily agg': 0.009851363587052854, 'stack': 0.32591748237609863, 'ETA where': 0.07773852348327637, 'append': 0.09368562698364258, 'xx,yy': 0.6630806922912598, 'lgp_whole': 0.05481529235839844, 'lgp_tot': 0.1136474609375}\n",
      "loop 9\n",
      "{'chunk_size': (1800, 72, 365), 'complete day loop': 7.419124603271484, 'avg daily compute': 0.010371027254078485, 'avg daily agg': 0.009879887593935615, 'stack': 0.30793142318725586, 'ETA where': 0.0767524242401123, 'append': 0.09062576293945312, 'xx,yy': 0.6420853137969971, 'lgp_whole': 0.055753469467163086, 'lgp_tot': 0.11271405220031738}\n",
      "loop 10\n",
      "{'chunk_size': (1800, 72, 365), 'complete day loop': 6.983226537704468, 'avg daily compute': 0.009328245136835804, 'avg daily agg': 0.009743634968587798, 'stack': 0.327923059463501, 'ETA where': 0.08172059059143066, 'append': 0.09122896194458008, 'xx,yy': 0.6332526206970215, 'lgp_whole': 0.0548095703125, 'lgp_tot': 0.11159372329711914}\n",
      "loop 11\n",
      "{'chunk_size': (1800, 72, 365), 'complete day loop': 7.030054330825806, 'avg daily compute': 0.00943243732191112, 'avg daily agg': 0.009773115262593309, 'stack': 0.3149075508117676, 'ETA where': 0.07775354385375977, 'append': 0.09164261817932129, 'xx,yy': 0.6478102207183838, 'lgp_whole': 0.055777788162231445, 'lgp_tot': 0.11957883834838867}\n",
      "loop 12\n",
      "{'chunk_size': (1800, 72, 365), 'complete day loop': 7.066465616226196, 'avg daily compute': 0.009466828385444537, 'avg daily agg': 0.009840125253755752, 'stack': 0.31406140327453613, 'ETA where': 0.07275605201721191, 'append': 0.08871221542358398, 'xx,yy': 0.6408429145812988, 'lgp_whole': 0.056802988052368164, 'lgp_tot': 0.11460494995117188}\n",
      "loop 13\n",
      "{'chunk_size': (1800, 72, 365), 'complete day loop': 6.974084854125977, 'avg daily compute': 0.009220888190073509, 'avg daily agg': 0.00981137654552721, 'stack': 0.32299256324768066, 'ETA where': 0.07792854309082031, 'append': 0.09076046943664551, 'xx,yy': 0.7008047103881836, 'lgp_whole': 0.057806968688964844, 'lgp_tot': 0.12153983116149902}\n",
      "loop 14\n",
      "{'chunk_size': (1800, 72, 365), 'complete day loop': 7.025369882583618, 'avg daily compute': 0.009199700290209627, 'avg daily agg': 0.009999737021041243, 'stack': 0.3180816173553467, 'ETA where': 0.07701277732849121, 'append': 0.08870482444763184, 'xx,yy': 0.6360530853271484, 'lgp_whole': 0.05481290817260742, 'lgp_tot': 0.11491560935974121}\n",
      "loop 15\n",
      "{'chunk_size': (1800, 72, 365), 'complete day loop': 6.9784018993377686, 'avg daily compute': 0.009276191502401273, 'avg daily agg': 0.00978369320908638, 'stack': 0.3159630298614502, 'ETA where': 0.07569503784179688, 'append': 0.0877068042755127, 'xx,yy': 0.6405529975891113, 'lgp_whole': 0.056757450103759766, 'lgp_tot': 0.11462020874023438}\n",
      "loop 16\n",
      "{'chunk_size': (1800, 72, 365), 'complete day loop': 6.926664352416992, 'avg daily compute': 0.009057828171612466, 'avg daily agg': 0.009870177752351108, 'stack': 0.327822208404541, 'ETA where': 0.07965207099914551, 'append': 0.09866809844970703, 'xx,yy': 0.6460099220275879, 'lgp_whole': 0.055812835693359375, 'lgp_tot': 0.1126244068145752}\n",
      "loop 17\n",
      "{'chunk_size': (1800, 72, 365), 'complete day loop': 6.904346704483032, 'avg daily compute': 0.009101092978699567, 'avg daily agg': 0.009741180890227017, 'stack': 0.322101354598999, 'ETA where': 0.07275128364562988, 'append': 0.0887136459350586, 'xx,yy': 0.6478226184844971, 'lgp_whole': 0.05711817741394043, 'lgp_tot': 0.1136167049407959}\n",
      "loop 18\n",
      "{'chunk_size': (1800, 72, 365), 'complete day loop': 7.000399351119995, 'avg daily compute': 0.00931743661018267, 'avg daily agg': 0.009799054550797971, 'stack': 0.31294941902160645, 'ETA where': 0.07076215744018555, 'append': 0.08770561218261719, 'xx,yy': 0.6370179653167725, 'lgp_whole': 0.05480337142944336, 'lgp_tot': 0.11454391479492188}\n",
      "loop 19\n",
      "{'chunk_size': (1800, 72, 365), 'complete day loop': 6.9745330810546875, 'avg daily compute': 0.009201648137340807, 'avg daily agg': 0.00983850988623214, 'stack': 0.30497217178344727, 'ETA where': 0.07474160194396973, 'append': 0.09070730209350586, 'xx,yy': 0.6418328285217285, 'lgp_whole': 0.054802656173706055, 'lgp_tot': 0.11266970634460449}\n",
      "loop 20\n",
      "{'chunk_size': (1800, 72, 365), 'complete day loop': 6.859643459320068, 'avg daily compute': 0.008881937967587824, 'avg daily agg': 0.009841159271867309, 'stack': 0.31486010551452637, 'ETA where': 0.07385540008544922, 'append': 0.08272314071655273, 'xx,yy': 0.6428258419036865, 'lgp_whole': 0.05678510665893555, 'lgp_tot': 0.12549948692321777}\n",
      "loop 21\n",
      "{'chunk_size': (1800, 72, 365), 'complete day loop': 6.887909650802612, 'avg daily compute': 0.009052631952991224, 'avg daily agg': 0.009760721415689547, 'stack': 0.31290316581726074, 'ETA where': 0.08262825012207031, 'append': 0.07699179649353027, 'xx,yy': 0.642920970916748, 'lgp_whole': 0.0558164119720459, 'lgp_tot': 0.11660552024841309}\n",
      "loop 22\n",
      "{'chunk_size': (1800, 72, 365), 'complete day loop': 6.809372186660767, 'avg daily compute': 0.008875968358288073, 'avg daily agg': 0.009721850695675367, 'stack': 0.3280336856842041, 'ETA where': 0.0767679214477539, 'append': 0.09169697761535645, 'xx,yy': 0.6474277973175049, 'lgp_whole': 0.05684614181518555, 'lgp_tot': 0.11484241485595703}\n",
      "loop 23\n",
      "{'chunk_size': (1800, 72, 365), 'complete day loop': 6.887238025665283, 'avg daily compute': 0.009084965431526915, 'avg daily agg': 0.009737573257864339, 'stack': 0.32886528968811035, 'ETA where': 0.07577872276306152, 'append': 0.08770442008972168, 'xx,yy': 0.6647815704345703, 'lgp_whole': 0.05581259727478027, 'lgp_tot': 0.11362266540527344}\n",
      "loop 24\n",
      "{'chunk_size': (1800, 72, 365), 'complete day loop': 6.858972549438477, 'avg daily compute': 0.008781146349972242, 'avg daily agg': 0.009942299699130124, 'stack': 0.3129451274871826, 'ETA where': 0.07674217224121094, 'append': 0.08870244026184082, 'xx,yy': 0.6809489727020264, 'lgp_whole': 0.05780649185180664, 'lgp_tot': 0.11561155319213867}\n",
      "loop 25\n",
      "{'chunk_size': (1800, 72, 365), 'complete day loop': 6.701985597610474, 'avg daily compute': 0.00870241204353228, 'avg daily agg': 0.009603352089450784, 'stack': 0.32784366607666016, 'ETA where': 0.07577180862426758, 'append': 0.09265494346618652, 'xx,yy': 0.6418700218200684, 'lgp_whole': 0.054807424545288086, 'lgp_tot': 0.11154603958129883}\n",
      "loop 26\n",
      "{'chunk_size': (1800, 72, 365), 'complete day loop': 6.766865968704224, 'avg daily compute': 0.00879948367811229, 'avg daily agg': 0.00967130138449473, 'stack': 0.3290700912475586, 'ETA where': 0.07683324813842773, 'append': 0.09470009803771973, 'xx,yy': 0.6479153633117676, 'lgp_whole': 0.05381917953491211, 'lgp_tot': 0.12151360511779785}\n",
      "loop 27\n",
      "{'chunk_size': (1800, 72, 365), 'complete day loop': 6.826718091964722, 'avg daily compute': 0.008919882447752233, 'avg daily agg': 0.009715482633407801, 'stack': 0.3196907043457031, 'ETA where': 0.06978082656860352, 'append': 0.08960938453674316, 'xx,yy': 0.6439118385314941, 'lgp_whole': 0.05587315559387207, 'lgp_tot': 0.12156033515930176}\n",
      "loop 28\n",
      "{'chunk_size': (1800, 72, 365), 'complete day loop': 6.790208101272583, 'avg daily compute': 0.008821286893870732, 'avg daily agg': 0.009720208546886705, 'stack': 0.3399324417114258, 'ETA where': 0.0767202377319336, 'append': 0.0926966667175293, 'xx,yy': 0.6450729370117188, 'lgp_whole': 0.05580711364746094, 'lgp_tot': 0.11072492599487305}\n",
      "loop 29\n",
      "{'chunk_size': (1800, 72, 365), 'complete day loop': 6.939097166061401, 'avg daily compute': 0.009176859790331697, 'avg daily agg': 0.009761765231824902, 'stack': 0.30599474906921387, 'ETA where': 0.07773303985595703, 'append': 0.09268569946289062, 'xx,yy': 0.6459434032440186, 'lgp_whole': 0.05678892135620117, 'lgp_tot': 0.11461210250854492}\n",
      "loop 30\n",
      "{'chunk_size': (1800, 72, 365), 'complete day loop': 6.896233081817627, 'avg daily compute': 0.009093970468599503, 'avg daily agg': 0.009732054357659326, 'stack': 0.32791757583618164, 'ETA where': 0.07769298553466797, 'append': 0.08974099159240723, 'xx,yy': 0.632908821105957, 'lgp_whole': 0.05786395072937012, 'lgp_tot': 0.11859798431396484}\n",
      "loop 31\n",
      "{'chunk_size': (1800, 72, 365), 'complete day loop': 6.939549922943115, 'avg daily compute': 0.009151157614302961, 'avg daily agg': 0.009795431894798801, 'stack': 0.32491493225097656, 'ETA where': 0.07869791984558105, 'append': 0.08079695701599121, 'xx,yy': 0.634915828704834, 'lgp_whole': 0.055756568908691406, 'lgp_tot': 0.11262083053588867}\n",
      "loop 32\n",
      "{'chunk_size': (1800, 72, 365), 'complete day loop': 6.9650068283081055, 'avg daily compute': 0.009260593701715338, 'avg daily agg': 0.009744590602508964, 'stack': 0.3109569549560547, 'ETA where': 0.07370424270629883, 'append': 0.08766937255859375, 'xx,yy': 0.630911111831665, 'lgp_whole': 0.05481076240539551, 'lgp_tot': 0.11272072792053223}\n",
      "loop 33\n",
      "{'chunk_size': (1800, 72, 365), 'complete day loop': 6.913563966751099, 'avg daily compute': 0.009112528578875815, 'avg daily agg': 0.009763285885118458, 'stack': 0.31707763671875, 'ETA where': 0.07574105262756348, 'append': 0.08870220184326172, 'xx,yy': 0.6512951850891113, 'lgp_whole': 0.05481147766113281, 'lgp_tot': 0.11261677742004395}\n",
      "loop 34\n",
      "{'chunk_size': (1800, 72, 365), 'complete day loop': 6.965507984161377, 'avg daily compute': 0.009147221421542232, 'avg daily agg': 0.009872696497668958, 'stack': 0.31702709197998047, 'ETA where': 0.07684540748596191, 'append': 0.09168148040771484, 'xx,yy': 0.7045702934265137, 'lgp_whole': 0.08877849578857422, 'lgp_tot': 0.10383009910583496}\n",
      "loop 35\n",
      "{'chunk_size': (1800, 72, 365), 'complete day loop': 6.927560806274414, 'avg daily compute': 0.00927337163115201, 'avg daily agg': 0.00964373823714583, 'stack': 0.3441307544708252, 'ETA where': 0.0797584056854248, 'append': 0.09161019325256348, 'xx,yy': 0.6431338787078857, 'lgp_whole': 0.054807186126708984, 'lgp_tot': 0.11332345008850098}\n",
      "loop 36\n",
      "{'chunk_size': (1800, 72, 365), 'complete day loop': 6.880566835403442, 'avg daily compute': 0.009073115048343188, 'avg daily agg': 0.009715739341631328, 'stack': 0.32887792587280273, 'ETA where': 0.07279467582702637, 'append': 0.08871030807495117, 'xx,yy': 0.6361734867095947, 'lgp_whole': 0.054769039154052734, 'lgp_tot': 0.12068009376525879}\n",
      "loop 37\n",
      "{'chunk_size': (1800, 72, 365), 'complete day loop': 7.032173156738281, 'avg daily compute': 0.009385018805934958, 'avg daily agg': 0.009826578506051677, 'stack': 0.3133728504180908, 'ETA where': 0.07876014709472656, 'append': 0.08960151672363281, 'xx,yy': 0.6452805995941162, 'lgp_whole': 0.05689072608947754, 'lgp_tot': 0.11262154579162598}\n",
      "loop 38\n",
      "{'chunk_size': (1800, 72, 365), 'complete day loop': 6.834335565567017, 'avg daily compute': 0.008895314882879387, 'avg daily agg': 0.009777410716226656, 'stack': 0.3211219310760498, 'ETA where': 0.07371735572814941, 'append': 0.0897514820098877, 'xx,yy': 0.6411421298980713, 'lgp_whole': 0.05588483810424805, 'lgp_tot': 0.11361193656921387}\n",
      "loop 39\n",
      "{'chunk_size': (1800, 72, 365), 'complete day loop': 6.871984481811523, 'avg daily compute': 0.009132268330822252, 'avg daily agg': 0.00964838641963593, 'stack': 0.3288612365722656, 'ETA where': 0.07575178146362305, 'append': 0.09261369705200195, 'xx,yy': 0.6401183605194092, 'lgp_whole': 0.05482316017150879, 'lgp_tot': 0.11657452583312988}\n",
      "loop 40\n",
      "{'chunk_size': (1800, 72, 365), 'complete day loop': 6.946903228759766, 'avg daily compute': 0.009239737628257439, 'avg daily agg': 0.009757424707282079, 'stack': 0.3368680477142334, 'ETA where': 0.07378053665161133, 'append': 0.08674073219299316, 'xx,yy': 0.6387698650360107, 'lgp_whole': 0.05282235145568848, 'lgp_tot': 0.1136178970336914}\n",
      "loop 41\n",
      "{'chunk_size': (1800, 72, 365), 'complete day loop': 7.032883405685425, 'avg daily compute': 0.009319230301739418, 'avg daily agg': 0.00989075490873154, 'stack': 0.31403207778930664, 'ETA where': 0.08215117454528809, 'append': 0.09199380874633789, 'xx,yy': 0.6515815258026123, 'lgp_whole': 0.05485105514526367, 'lgp_tot': 0.11289858818054199}\n",
      "loop 42\n",
      "{'chunk_size': (1800, 72, 365), 'complete day loop': 6.899777412414551, 'avg daily compute': 0.009059657136054888, 'avg daily agg': 0.009767290664045778, 'stack': 0.3180105686187744, 'ETA where': 0.0836343765258789, 'append': 0.07385563850402832, 'xx,yy': 0.6436150074005127, 'lgp_whole': 0.05481314659118652, 'lgp_tot': 0.11756396293640137}\n",
      "loop 43\n",
      "{'chunk_size': (1800, 72, 365), 'complete day loop': 6.970117568969727, 'avg daily compute': 0.009177723976030741, 'avg daily agg': 0.00985006763510508, 'stack': 0.31493139266967773, 'ETA where': 0.07674217224121094, 'append': 0.08969974517822266, 'xx,yy': 0.6440587043762207, 'lgp_whole': 0.05482053756713867, 'lgp_tot': 0.11262154579162598}\n",
      "loop 44\n",
      "{'chunk_size': (1800, 72, 365), 'complete day loop': 6.9122350215911865, 'avg daily compute': 0.009207767329803884, 'avg daily agg': 0.009663761478580842, 'stack': 0.31818532943725586, 'ETA where': 0.07569289207458496, 'append': 0.09174346923828125, 'xx,yy': 0.6380736827850342, 'lgp_whole': 0.055849552154541016, 'lgp_tot': 0.11356186866760254}\n",
      "loop 45\n",
      "{'chunk_size': (1800, 72, 365), 'complete day loop': 6.962509393692017, 'avg daily compute': 0.009134215524751845, 'avg daily agg': 0.00988331820866833, 'stack': 0.3219926357269287, 'ETA where': 0.07883048057556152, 'append': 0.09775376319885254, 'xx,yy': 0.6598742008209229, 'lgp_whole': 0.0538175106048584, 'lgp_tot': 0.1136472225189209}\n",
      "loop 46\n",
      "{'chunk_size': (1800, 72, 365), 'complete day loop': 6.936104774475098, 'avg daily compute': 0.009155215955760382, 'avg daily agg': 0.009803932007044961, 'stack': 0.33193349838256836, 'ETA where': 0.07276129722595215, 'append': 0.08872199058532715, 'xx,yy': 0.6442110538482666, 'lgp_whole': 0.054825782775878906, 'lgp_tot': 0.12159037590026855}\n",
      "loop 47\n",
      "{'chunk_size': (1800, 72, 365), 'complete day loop': 6.9923858642578125, 'avg daily compute': 0.00927573164848432, 'avg daily agg': 0.00980390000016722, 'stack': 0.31070590019226074, 'ETA where': 0.07175993919372559, 'append': 0.08770465850830078, 'xx,yy': 0.6448359489440918, 'lgp_whole': 0.05476880073547363, 'lgp_tot': 0.11557531356811523}\n",
      "loop 48\n",
      "{'chunk_size': (1800, 72, 365), 'complete day loop': 6.9124836921691895, 'avg daily compute': 0.009043250671804767, 'avg daily agg': 0.009833691218127943, 'stack': 0.30195188522338867, 'ETA where': 0.08071041107177734, 'append': 0.09273290634155273, 'xx,yy': 0.6299483776092529, 'lgp_whole': 0.05482125282287598, 'lgp_tot': 0.11162829399108887}\n",
      "loop 49\n",
      "{'chunk_size': (1800, 72, 365), 'complete day loop': 6.931557893753052, 'avg daily compute': 0.00924204800226917, 'avg daily agg': 0.009697857948198711, 'stack': 0.32889580726623535, 'ETA where': 0.0757453441619873, 'append': 0.08870959281921387, 'xx,yy': 0.6328692436218262, 'lgp_whole': 0.05482363700866699, 'lgp_tot': 0.11361813545227051}\n",
      "loop 50\n",
      "{'chunk_size': (1800, 72, 365), 'complete day loop': 6.904402256011963, 'avg daily compute': 0.009053247268885782, 'avg daily agg': 0.00979738562074426, 'stack': 0.3154597282409668, 'ETA where': 0.08076667785644531, 'append': 0.09377336502075195, 'xx,yy': 0.6389415264129639, 'lgp_whole': 0.055852413177490234, 'lgp_tot': 0.11069226264953613}\n",
      "loop 51\n",
      "{'chunk_size': (1800, 72, 365), 'complete day loop': 6.847902774810791, 'avg daily compute': 0.008879724920612493, 'avg daily agg': 0.009787106187376257, 'stack': 0.31603407859802246, 'ETA where': 0.07368183135986328, 'append': 0.08777642250061035, 'xx,yy': 0.6510879993438721, 'lgp_whole': 0.054917097091674805, 'lgp_tot': 0.1126108169555664}\n",
      "loop 52\n",
      "{'chunk_size': (1800, 72, 365), 'complete day loop': 6.812230825424194, 'avg daily compute': 0.008945704159671313, 'avg daily agg': 0.009654497773679969, 'stack': 0.3278656005859375, 'ETA where': 0.07676291465759277, 'append': 0.08940315246582031, 'xx,yy': 0.6410167217254639, 'lgp_whole': 0.05487704277038574, 'lgp_tot': 0.11162209510803223}\n",
      "loop 53\n",
      "{'chunk_size': (1800, 72, 365), 'complete day loop': 6.8759684562683105, 'avg daily compute': 0.008998213075611688, 'avg daily agg': 0.009777180136066594, 'stack': 0.31311535835266113, 'ETA where': 0.0817253589630127, 'append': 0.07482457160949707, 'xx,yy': 0.6349565982818604, 'lgp_whole': 0.058800458908081055, 'lgp_tot': 0.11753129959106445}\n",
      "loop 54\n",
      "{'chunk_size': (1800, 72, 365), 'complete day loop': 6.808080196380615, 'avg daily compute': 0.008836736417796514, 'avg daily agg': 0.00977044301490261, 'stack': 0.32288622856140137, 'ETA where': 0.08067798614501953, 'append': 0.08974480628967285, 'xx,yy': 0.6369812488555908, 'lgp_whole': 0.0548090934753418, 'lgp_tot': 0.11162400245666504}\n",
      "loop 55\n",
      "{'chunk_size': (1800, 72, 365), 'complete day loop': 6.861521244049072, 'avg daily compute': 0.00901393171859114, 'avg daily agg': 0.009743371728348405, 'stack': 0.33775973320007324, 'ETA where': 0.07870101928710938, 'append': 0.09264254570007324, 'xx,yy': 0.6847255229949951, 'lgp_whole': 0.05378866195678711, 'lgp_tot': 0.11767911911010742}\n",
      "loop 56\n",
      "{'chunk_size': (1800, 72, 365), 'complete day loop': 6.848430871963501, 'avg daily compute': 0.008959522639235405, 'avg daily agg': 0.00973994307322045, 'stack': 0.3328888416290283, 'ETA where': 0.08072948455810547, 'append': 0.08970260620117188, 'xx,yy': 0.6448328495025635, 'lgp_whole': 0.055816650390625, 'lgp_tot': 0.11162471771240234}\n",
      "loop 57\n",
      "{'chunk_size': (1800, 72, 365), 'complete day loop': 6.752066135406494, 'avg daily compute': 0.008812881495854626, 'avg daily agg': 0.009625125911137828, 'stack': 0.3190436363220215, 'ETA where': 0.07474875450134277, 'append': 0.08870482444763184, 'xx,yy': 0.6362566947937012, 'lgp_whole': 0.05681920051574707, 'lgp_tot': 0.11468148231506348}\n",
      "loop 58\n",
      "{'chunk_size': (1800, 72, 365), 'complete day loop': 6.803446531295776, 'avg daily compute': 0.008833592558560307, 'avg daily agg': 0.009738108883165333, 'stack': 0.3109762668609619, 'ETA where': 0.07644248008728027, 'append': 0.08863091468811035, 'xx,yy': 0.6638991832733154, 'lgp_whole': 0.05477738380432129, 'lgp_tot': 0.11297130584716797}\n",
      "loop 59\n",
      "{'chunk_size': (1800, 72, 365), 'complete day loop': 6.772736072540283, 'avg daily compute': 0.008898601793263057, 'avg daily agg': 0.009596036231681091, 'stack': 0.32999205589294434, 'ETA where': 0.07566189765930176, 'append': 0.08777427673339844, 'xx,yy': 0.6368134021759033, 'lgp_whole': 0.05481457710266113, 'lgp_tot': 0.12949872016906738}\n",
      "time spent in compute 682.9671316146851\n",
      "time spent on lgp_tot concat 0.012956857681274414\n"
     ]
    },
    {
     "data": {
      "text/plain": [
       "767.4514420032501"
      ]
     },
     "execution_count": 16,
     "metadata": {},
     "output_type": "execute_result"
    }
   ],
   "source": [
    "start=timer()\n",
    "\n",
    "# lgp = clim_reg.getLGP(Sa=100., D=1.)\n",
    "lgp = clim_reg.getLGP(Sa=100., D=1.)\n",
    "\n",
    "task_time=timer()-start\n",
    "task_time"
   ]
  },
  {
   "cell_type": "code",
   "execution_count": null,
   "metadata": {},
   "outputs": [],
   "source": [
    "plt.imshow(lgp,interpolation='none')\n",
    "# plt.imshow(results[0],interpolation='none')\n",
    "plt.colorbar()"
   ]
  },
  {
   "cell_type": "code",
   "execution_count": null,
   "metadata": {},
   "outputs": [],
   "source": []
  },
  {
   "cell_type": "code",
   "execution_count": null,
   "metadata": {},
   "outputs": [],
   "source": []
  },
  {
   "cell_type": "code",
   "execution_count": null,
   "metadata": {},
   "outputs": [],
   "source": []
  },
  {
   "cell_type": "code",
   "execution_count": null,
   "metadata": {},
   "outputs": [],
   "source": []
  },
  {
   "cell_type": "code",
   "execution_count": null,
   "metadata": {},
   "outputs": [],
   "source": [
    "def psh(ng, et0):\n",
    "    psh0=da.where(ng==0,0.5,0.3+(ng-1)*.05)\n",
    "    psh = psh0 + .04 * (5.-et0)\n",
    "    psh=da.where(psh<0.1,0.1,psh)  \n",
    "    psh=da.where(psh>0.8,0.8,psh)\n",
    "\n",
    "    return psh.astype('float32')"
   ]
  },
  {
   "cell_type": "code",
   "execution_count": null,
   "metadata": {},
   "outputs": [],
   "source": [
    "start=timer()\n",
    "Sa=100.\n",
    "D=1.\n",
    "Txsnm = 0. \n",
    "\n",
    "# bigchunk2D=(-1,50)\n",
    "# bigchunk3D=(-1,50,-1)\n",
    "# nchunks=32\n",
    "# bigchunk2D=(-1,198)\n",
    "# bigchunk3D=(-1,198,-1)\n",
    "# nchunks=8\n",
    "bigchunk2D=(-1,80)\n",
    "bigchunk3D=(-1,80,-1)\n",
    "nchunks=54#20\n",
    "# bigchunk2D=(-1,99)\n",
    "# bigchunk3D=(-1,99,-1)\n",
    "# nchunks=16\n",
    "\n",
    "print('build task graph for istart0,istart1,p')\n",
    "# lgpt5=da.from_array(clim_reg.lgpt5,chunks=clim_reg.chunk2D)\n",
    "# istart0,istart1=LGPCalc.rainPeak(clim_reg.meanT_daily,lgpt5)\n",
    "# ng=da.zeros(clim_reg.pet_daily.shape,chunks=clim_reg.chunk3D,dtype='float32')\n",
    "# pet=da.from_array(clim_reg.pet_daily,chunks=clim_reg.chunk3D)\n",
    "lgpt5=da.from_array(clim_reg.lgpt5,chunks=bigchunk2D)\n",
    "istart0,istart1=LGPCalc.rainPeak(clim_reg.meanT_daily.rechunk(chunks=bigchunk3D),lgpt5)\n",
    "ng=da.zeros(clim_reg.pet_daily.shape,chunks=bigchunk3D,dtype='float32')\n",
    "pet=da.from_array(clim_reg.pet_daily,chunks=bigchunk3D)\n",
    "\n",
    "print('compute eta_class')\n",
    "# lgpt5_3D=da.broadcast_to(clim_reg.lgpt5[:,:,np.newaxis].astype('float16'),(clim_reg.im_height,clim_reg.im_width,365)).rechunk(chunks=clim_reg.chunk3D).to_delayed().ravel()\n",
    "# mask_3D=da.broadcast_to(clim_reg.im_mask[:,:,np.newaxis],(clim_reg.im_height,clim_reg.im_width,365)).rechunk(chunks=clim_reg.chunk3D).to_delayed().ravel()\n",
    "# Tmean=clim_reg.meanT_daily.astype('float16').to_delayed().ravel()\n",
    "# Tmax=clim_reg.maxT_daily.astype('float16').to_delayed().ravel()\n",
    "# zip1=zip(mask_3D,lgpt5_3D,Tmean,Tmax)\n",
    "# task_list=[dask.delayed(LGPCalc.Eta_class)(m,l5,Tbar,Tmx,Txsnm) for m,l5,Tbar,Tmx in zip1]\n",
    "# results=dask.compute(*task_list)\n",
    "# eta_class=np.concatenate(results,axis=1)\n",
    "lgpt5_3D=da.broadcast_to(clim_reg.lgpt5[:,:,np.newaxis].astype('float16'),(clim_reg.im_height,clim_reg.im_width,365)).rechunk(chunks=bigchunk3D).to_delayed().ravel()\n",
    "mask_3D=da.broadcast_to(clim_reg.im_mask[:,:,np.newaxis],(clim_reg.im_height,clim_reg.im_width,365)).rechunk(chunks=bigchunk3D).to_delayed().ravel()\n",
    "Tmean=clim_reg.meanT_daily.rechunk(chunks=bigchunk3D).astype('float16').to_delayed().ravel()\n",
    "Tmax=clim_reg.maxT_daily.rechunk(chunks=bigchunk3D).astype('float16').to_delayed().ravel()\n",
    "zip1=zip(mask_3D,lgpt5_3D,Tmean,Tmax)\n",
    "task_list=[dask.delayed(LGPCalc.Eta_class)(m,l5,Tbar,Tmx,Txsnm) for m,l5,Tbar,Tmx in zip1]\n",
    "results=dask.compute(*task_list)\n",
    "eta_class=np.concatenate(results,axis=1)\n",
    "\n",
    "del lgpt5_3D,mask_3D,Tmean,Tmax,zip1,task_list,results\n",
    "\n",
    "print('build task graph for islgp')\n",
    "# islgp=da.where(clim_reg.meanT_daily>=5,np.int8(1),np.int8(0))\n",
    "islgp=da.where(clim_reg.meanT_daily>=5,np.int8(1),np.int8(0)).rechunk(chunks=bigchunk3D)  #KLG\n",
    "Fsnm = 5.5\n",
    "kc_list = np.array([0.0, 0.1, 0.2, 0.5, 1.0],dtype='float32')"
   ]
  },
  {
   "cell_type": "code",
   "execution_count": null,
   "metadata": {},
   "outputs": [],
   "source": [
    "# lgpt5=da.from_array(clim_reg.lgpt5,chunks=clim_reg.chunk2D)\n",
    "# lgpt5_cl = client.scatter(lgpt5)\n",
    "# # lgpt5=client.scatter(lgpt5)\n",
    "# mask_cl=client.scatter(clim_reg.im_mask)\n",
    "# istart0_cl = client.scatter(istart0)\n",
    "# istart1_cl = client.scatter(istart1)  \n",
    "# Sb_old_cl = client.scatter(da.zeros((clim_reg.im_height,clim_reg.im_width),chunks=clim_reg.chunk2D,dtype='float32'))\n",
    "# Wb_old_cl = client.scatter(da.zeros((clim_reg.im_height,clim_reg.im_width),chunks=clim_reg.chunk2D,dtype='float32'))\n",
    "\n",
    "# # # 3D chunked inputs\n",
    "# Pet365_cl = client.scatter(da.from_array(clim_reg.pet_daily,chunks=clim_reg.chunk3D))\n",
    "# p_cl = client.scatter(p)\n",
    "# eta_class_cl=client.scatter(da.from_array(eta_class,chunks=clim_reg.chunk3D))\n",
    "# Tx365_cl = client.scatter(clim_reg.maxT_daily)\n",
    "# Pcp365_cl = client.scatter(clim_reg.totalPrec_daily)\n",
    "# islgp_cl = client.scatter(islgp)\n",
    "\n",
    "\n",
    "# lgpt5_cl=lgpt5\n",
    "# mask_cl=clim_reg.im_mask\n",
    "# istart0_cl = istart0\n",
    "# istart1_cl = istart1  \n",
    "# Sb_old_cl = da.zeros((clim_reg.im_height,clim_reg.im_width),chunks=clim_reg.chunk2D,dtype='float32')\n",
    "# Wb_old_cl = da.zeros((clim_reg.im_height,clim_reg.im_width),chunks=clim_reg.chunk2D,dtype='float32')\n",
    "# Pet365_cl = da.from_array(clim_reg.pet_daily,chunks=clim_reg.chunk3D)\n",
    "# p_cl = psh(ng,pet)\n",
    "# eta_class_cl=da.from_array(eta_class,chunks=clim_reg.chunk3D)\n",
    "# Tx365_cl = clim_reg.maxT_daily\n",
    "# Pcp365_cl = clim_reg.totalPrec_daily\n",
    "# islgp_cl = islgp\n",
    "\n",
    "lgpt5_cl=lgpt5\n",
    "mask_cl=clim_reg.im_mask.rechunk(chunks=bigchunk2D)\n",
    "istart0_cl = istart0\n",
    "istart1_cl = istart1  \n",
    "Sb_old_cl = da.zeros((clim_reg.im_height,clim_reg.im_width),chunks=bigchunk2D,dtype='float32')\n",
    "Wb_old_cl = da.zeros((clim_reg.im_height,clim_reg.im_width),chunks=bigchunk2D,dtype='float32')\n",
    "Pet365_cl = da.from_array(clim_reg.pet_daily,chunks=bigchunk3D)\n",
    "p_cl = psh(ng,pet)\n",
    "eta_class_cl=da.from_array(eta_class,chunks=bigchunk3D)\n",
    "Tx365_cl = clim_reg.maxT_daily.rechunk(chunks=bigchunk3D)\n",
    "Pcp365_cl = clim_reg.totalPrec_daily.rechunk(chunks=bigchunk3D)\n",
    "islgp_cl = islgp"
   ]
  },
  {
   "cell_type": "code",
   "execution_count": null,
   "metadata": {},
   "outputs": [],
   "source": [
    "# cluster=LocalCluster()#worker_dashboard_address='localhost:8787')#(log_directory=daskpath)\n",
    "# # cluster=LocalCluster(n_workers=1, threads_per_worker=20)#, memory_limit='10GB')\n",
    "# client=Client(cluster)\n",
    "# client"
   ]
  },
  {
   "cell_type": "code",
   "execution_count": null,
   "metadata": {},
   "outputs": [],
   "source": [
    "results=[]\n",
    "task_list=[]\n",
    "# for i in range(clim_reg.nchunks):\n",
    "for i in range(nchunks):\n",
    "    print('loop',i)\n",
    "    mask_s=mask_cl.blocks[0,i].compute()\n",
    "    Tx365_s=Tx365_cl.blocks[0,i,0].compute()\n",
    "    islgp_s=islgp_cl.blocks[0,i,0].compute()\n",
    "    Pcp365_s=Pcp365_cl.blocks[0,i,0].compute()\n",
    "    Pet365_s=Pet365_cl.blocks[0,i,0].compute()\n",
    "    Wb_old_s=Wb_old_cl.blocks[0,i].compute()\n",
    "    Sb_old_s=Sb_old_cl.blocks[0,i].compute()\n",
    "    istart0_s=istart0_cl.blocks[0,i].compute()\n",
    "    istart1_s=istart1_cl.blocks[0,i].compute()\n",
    "    lgpt5_s=lgpt5_cl.blocks[0,i].compute()\n",
    "    # print('eta_class')\n",
    "    eta_class_s=eta_class_cl.blocks[0,i].compute()\n",
    "    # print('p')\n",
    "    p_s=p_cl.blocks[0,i,0].compute()\n",
    "    # print('lgp_tot')\n",
    "    results.append(LGPCalc.EtaCalc(mask_s,Tx365_s,islgp_s,Pcp365_s,Txsnm,Fsnm,Pet365_s,Wb_old_s,Sb_old_s,istart0_s,istart1_s,Sa,D,p_s,kc_list,lgpt5_s,eta_class_s,clim_reg.doy_start,clim_reg.doy_end))\n",
    "\n",
    "    # mask_s=dask.delayed(mask_cl.blocks[0,i])\n",
    "    # Tx365_s=dask.delayed(Tx365_cl.blocks[0,i,0])\n",
    "    # islgp_s=dask.delayed(islgp_cl.blocks[0,i,0])\n",
    "    # Pcp365_s=dask.delayed(Pcp365_cl.blocks[0,i,0])\n",
    "    # Pet365_s=dask.delayed(Pet365_cl.blocks[0,i,0])\n",
    "    # Wb_old_s=dask.delayed(Wb_old_cl.blocks[0,i])\n",
    "    # Sb_old_s=dask.delayed(Sb_old_cl.blocks[0,i])\n",
    "    # istart0_s=dask.delayed(istart0_cl.blocks[0,i])\n",
    "    # istart1_s=dask.delayed(istart1_cl.blocks[0,i])\n",
    "    # lgpt5_s=dask.delayed(lgpt5_cl.blocks[0,i])\n",
    "    # eta_class_s=dask.delayed(eta_class_cl.blocks[0,i])\n",
    "    # p_s=dask.delayed(p_cl.blocks[0,i,0])\n",
    "    # task_list.append(dask.delayed(LGPCalc.EtaCalc)(mask_s,Tx365_s,islgp_s,Pcp365_s,Txsnm,Fsnm,Pet365_s,Wb_old_s,Sb_old_s,istart0_s,istart1_s,Sa,D,p_s,kc_list,lgpt5_s,eta_class_s,clim_reg.doy_start,clim_reg.doy_end))\n",
    "print('--------------------------------')\n",
    "len(results),results[0].shape\n",
    "# len(task_list),task_list[0]"
   ]
  },
  {
   "cell_type": "code",
   "execution_count": null,
   "metadata": {},
   "outputs": [],
   "source": [
    "# results=dask.compute(*task_list)\n",
    "# len(results),results[0].shape"
   ]
  },
  {
   "cell_type": "code",
   "execution_count": null,
   "metadata": {},
   "outputs": [],
   "source": [
    "lgp_tot=np.concatenate(results,axis=1)\n",
    "plt.imshow(lgp_tot,interpolation='none')\n",
    "# plt.imshow(results[0],interpolation='none')\n",
    "plt.colorbar()\n"
   ]
  },
  {
   "cell_type": "code",
   "execution_count": null,
   "metadata": {},
   "outputs": [],
   "source": [
    "varlist=[mask_cl,Tx365_cl,islgp_cl,Pcp365_cl,Pet365_cl,Wb_old_cl,Sb_old_cl,istart0_cl,istart1_cl,lgpt5_cl,eta_class_cl,p_cl]\n",
    "for vararr in varlist:\n",
    "    if len(vararr.shape)==2:\n",
    "        # vb=vararr.blocks[0,1].compute()\n",
    "        # plt.imshow(vb,interpolation='none')\n",
    "        plt.imshow(vararr,interpolation='none')\n",
    "        plt.colorbar()\n",
    "        plt.show()\n",
    "    if len(vararr.shape)==3:\n",
    "        # vb=vararr.blocks[0,1,0].compute()\n",
    "        # plt.imshow(vb[:,:,0],interpolation='none')\n",
    "        plt.imshow(vararr[:,:,1],interpolation='none')\n",
    "        plt.colorbar()\n",
    "        plt.show()       \n",
    "        "
   ]
  },
  {
   "cell_type": "code",
   "execution_count": null,
   "metadata": {},
   "outputs": [],
   "source": []
  },
  {
   "cell_type": "code",
   "execution_count": null,
   "metadata": {},
   "outputs": [],
   "source": []
  },
  {
   "cell_type": "code",
   "execution_count": null,
   "metadata": {},
   "outputs": [],
   "source": [
    "# mask_cl.blocks[0,1]\n",
    "# Tx365_cl.blocks[0,1,0]\n",
    "# islgp_cl.blocks[0,1,0]\n",
    "# Pcp365_cl.blocks[0,1,0]\n",
    "# Txsnm,Fsnm \n",
    "# Pet365_cl.blocks[0,1,0]\n",
    "# Wb_old_cl.blocks[0,1]\n",
    "Sb_old_cl.blocks[0,1]\n",
    "istart0_cl.blocks[0,1]\n",
    "istart1_cl.blocks[0,1]\n",
    "Sa,D\n",
    "p_cl.blocks[0,1,0]\n",
    "kc_list\n",
    "lgpt5_cl.blocks[0,1]\n",
    "eta_class_cl.blocks[0,1,0]\n",
    "clim_reg.doy_start,clim_reg.doy_end\n",
    "\n",
    "# TRY SCATTERING ARRAYS\n",
    "# TRY USING FUTURES ON p,istart0,istart1,eta_class"
   ]
  },
  {
   "cell_type": "code",
   "execution_count": null,
   "metadata": {},
   "outputs": [],
   "source": [
    "# mask_s=client.scatter(mask_cl) \n",
    "# Tx365_s=client.scatter(Tx365_cl)\n",
    "# islgp_s=client.scatter(islgp_cl)\n",
    "# Pcp365_s=client.scatter(Pcp365_cl)\n",
    "# Pet365_s=client.scatter(Pet365_cl)\n",
    "# Wb_old_s=client.scatter(Wb_old_cl)\n",
    "# Sb_old_s=client.scatter(Sb_old_cl)\n",
    "# istart0_s=client.scatter(istart0_cl)\n",
    "# istart1_s=client.scatter(istart1_cl)\n",
    "# p_s=client.scatter(p_cl)\n",
    "# lgpt5_s=client.scatter(lgpt5_cl)\n",
    "# eta_class_s=client.scatter(eta_class_cl)\n",
    "\n",
    "# mask_s=mask_cl) \n",
    "# Tx365_s=Tx365_cl.blocks[0,1,0]\n",
    "# islgp_s=client.scatter(islgp_cl)\n",
    "# Pcp365_s=client.scatter(Pcp365_cl)\n",
    "# Pet365_s=client.scatter(Pet365_cl)\n",
    "# Wb_old_s=client.scatter(Wb_old_cl)\n",
    "# Sb_old_s=client.scatter(Sb_old_cl)\n",
    "# istart0_s=client.scatter(istart0_cl)\n",
    "# istart1_s=client.scatter(istart1_cl)\n",
    "# p_s=client.scatter(p_cl)\n",
    "# lgpt5_s=client.scatter(lgpt5_cl)\n",
    "# eta_class_s=client.scatter(eta_class_cl)\n",
    "\n",
    "\n",
    "# test=client.submit(LGPCalc.EtaCalc,mask_s, Tx365_s, islgp_s, Pcp365_s,Txsnm,Fsnm, Pet365_s, Wb_old_s, Sb_old_s, istart0_s, istart1_s,Sa,D, p_s, kc_list,lgpt5_s, eta_class_cl.blocks[0,1,0],clim_reg.doy_start,clim_reg.doy_end)\n",
    "# test=client.submit(LGPCalc.EtaCalc,mask_cl.blocks[0,1], Tx365_cl.blocks[0,1,0], islgp_cl.blocks[0,1,0], Pcp365_cl.blocks[0,1,0],Txsnm,Fsnm, Pet365_cl.blocks[0,1,0], Wb_old_cl.blocks[0,1], Sb_old_cl.blocks[0,1], istart0_cl.blocks[0,1], istart1_cl.blocks[0,1],Sa,D, p_cl.blocks[0,1,0], kc_list,lgpt5_cl.blocks[0,1], eta_class_cl.blocks[0,1,0],clim_reg.doy_start,clim_reg.doy_end)\n",
    "# test"
   ]
  },
  {
   "cell_type": "code",
   "execution_count": null,
   "metadata": {},
   "outputs": [],
   "source": [
    "# # p_s=p_cl.blocks[0,1,0].compute()\n",
    "# # p_cl = psh(da.zeros(clim_reg.pet_daily.shape,chunks=clim_reg.chunk3D,dtype='float32'), da.from_array(clim_reg.pet_daily,chunks=clim_reg.chunk3D))\n",
    "# ng=da.zeros(clim_reg.pet_daily.shape,chunks=clim_reg.chunk3D,dtype='float32')\n",
    "# pet=da.from_array(clim_reg.pet_daily,chunks=clim_reg.chunk3D)\n",
    "# p_cl = psh(ng,pet)\n",
    "# p_s=p_cl.blocks[0,1,0].compute()\n",
    "# p_s#.dask"
   ]
  },
  {
   "cell_type": "code",
   "execution_count": null,
   "metadata": {},
   "outputs": [],
   "source": [
    "p_s.nbytes/1E6"
   ]
  },
  {
   "cell_type": "code",
   "execution_count": null,
   "metadata": {},
   "outputs": [],
   "source": [
    "def compute_var_chunk(var):\n",
    "    return var.compute()"
   ]
  },
  {
   "cell_type": "code",
   "execution_count": null,
   "metadata": {},
   "outputs": [],
   "source": [
    "# ng=da.zeros(clim_reg.pet_daily.shape,chunks=clim_reg.chunk3D,dtype='float32')\n",
    "# pet=da.from_array(clim_reg.pet_daily,chunks=clim_reg.chunk3D)\n",
    "# p_cl = psh(ng,pet)"
   ]
  },
  {
   "cell_type": "code",
   "execution_count": null,
   "metadata": {},
   "outputs": [],
   "source": [
    "futures=[]\n",
    "for i in range(2):\n",
    "    print('loop',i)\n",
    "    mask_s=client.submit(compute_var_chunk,mask_cl.blocks[0,i])\n",
    "    Tx365_s=client.submit(compute_var_chunk,Tx365_cl.blocks[0,i,0])\n",
    "    islgp_s=client.submit(compute_var_chunk,islgp_cl.blocks[0,i,0])\n",
    "    Pcp365_s=client.submit(compute_var_chunk,Pcp365_cl.blocks[0,i,0])\n",
    "    Pet365_s=client.submit(compute_var_chunk,Pet365_cl.blocks[0,i,0])\n",
    "    Wb_old_s=client.submit(compute_var_chunk,Wb_old_cl.blocks[0,i])\n",
    "    Sb_old_s=client.submit(compute_var_chunk,Sb_old_cl.blocks[0,i])\n",
    "    istart0_s=client.submit(compute_var_chunk,istart0_cl.blocks[0,i])\n",
    "    istart1_s=client.submit(compute_var_chunk,istart1_cl.blocks[0,i])\n",
    "    lgpt5_s=client.submit(compute_var_chunk,lgpt5_cl.blocks[0,i])\n",
    "    print('eta_class')\n",
    "    eta_class_s=client.submit(compute_var_chunk,eta_class_cl.blocks[0,i])\n",
    "    print('p')\n",
    "    p_s=client.submit(compute_var_chunk,p_cl.blocks[0,i,0])\n",
    "\n",
    "    print('lgp_tot')\n",
    "    lgp_tot=client.submit(LGPCalc.EtaCalc,mask_s,Tx365_s,islgp_s,Pcp365_s,Txsnm,Fsnm,Pet365_s,Wb_old_s,Sb_old_s,istart0_s,istart1_s,Sa,D,p_s,kc_list,lgpt5_s,eta_class_s,clim_reg.doy_start,clim_reg.doy_end).result()\n",
    "    futures.append(lgp_tot)\n",
    "    print(futures)\n",
    "\n",
    "futures\n"
   ]
  },
  {
   "cell_type": "code",
   "execution_count": null,
   "metadata": {},
   "outputs": [],
   "source": [
    "futures"
   ]
  },
  {
   "cell_type": "code",
   "execution_count": null,
   "metadata": {},
   "outputs": [],
   "source": [
    "lgpt5_s=lgpt5_cl.blocks[0,1].compute() \n"
   ]
  },
  {
   "cell_type": "code",
   "execution_count": null,
   "metadata": {},
   "outputs": [],
   "source": [
    "eta_class_s=eta_class_cl.blocks[0,1,0].compute()"
   ]
  },
  {
   "cell_type": "code",
   "execution_count": null,
   "metadata": {},
   "outputs": [],
   "source": [
    "test=LGPCalc.EtaCalc(mask_s, Tx365_s, islgp_s, Pcp365_s,Txsnm,Fsnm, Pet365_s, Wb_old_s, Sb_old_s, istart0_s, istart1_s,Sa,D, p_s, kc_list,lgpt5_s, eta_class_s,clim_reg.doy_start,clim_reg.doy_end)\n",
    "test"
   ]
  },
  {
   "cell_type": "code",
   "execution_count": null,
   "metadata": {},
   "outputs": [],
   "source": [
    "futures=[]\n",
    "for i in range(132):\n",
    "    futures.append()\n",
    "futuresclient.submit(LGPCalc.EtaCalc,mask_cl.blocks[0,i], Tx365_cl.blocks[0,i,0], islgp_cl.blocks[0,i,0], Pcp365_cl.blocks[0,i,0],Txsnm,Fsnm, Pet365_cl.blocks[0,i,0], Wb_old_cl.blocks[0,i], Sb_old_cl[0,i], istart0_cl[0,i], istart1_cl[0,i],Sa,D, p_cl[0,i,0], kc_list,lgpt5_cl[0,i], eta_class_cl[0,i,0],clim_reg.doy_start,clim_reg.doy_end)\n",
    "\n",
    "# task_list=[client.submit(LGPCalc.EtaCalc,mask,Tx365,blgp,Pcp365,Txsnm,Fsnm,pet365,Wb_old,Sb_old,s0,s1,Sa,D,p_c,kc_list,lgp,eclass,clim_reg.doy_start,clim_reg.doy_end) for mask,Tx365,blgp,Pcp365,pet365,Wb_old,Sb_old,s0,s1,p_c,lgp,eclass in zipvars]\n",
    "\n",
    "# futures=client.submit(LGPCalc.EtaCalc,mask_cl, Tx365_cl, islgp_cl, Pcp365_cl,Txsnm,Fsnm, Pet365_cl, Wb_old_cl, Sb_old_cl, istart0_cl, istart1_cl,Sa,D, p_cl, kc_list,lgpt5_cl, eta_class_cl,clim_reg.doy_start,clim_reg.doy_end)\n",
    "# # mask_cl, Tx365_cl, islgp_cl, Pcp365_cl,Txsnm,Fsnm, Pet365_cl, Wb_old_cl, Sb_old_cl, istart0_cl, istart1_cl,Sa,D, p_cl, kc_list,lgpt5_cl, eta_class_cl,clim_reg.doy_start,clim_reg.doy_end\n",
    "# # mask,Tx365,blgp,Pcp365,Txsnm,Fsnm,pet365,Wb_old,Sb_old,s0,s1,Sa,D,p_c,kc_list,lgp,eclass,clim_reg.doy_start,clim_reg.doy_end\n",
    "# futures"
   ]
  },
  {
   "cell_type": "code",
   "execution_count": null,
   "metadata": {},
   "outputs": [],
   "source": []
  },
  {
   "cell_type": "code",
   "execution_count": null,
   "metadata": {},
   "outputs": [],
   "source": [
    "results=[]"
   ]
  },
  {
   "cell_type": "code",
   "execution_count": null,
   "metadata": {},
   "outputs": [],
   "source": [
    "res=client.gather(futures)\n",
    "res"
   ]
  },
  {
   "cell_type": "code",
   "execution_count": null,
   "metadata": {},
   "outputs": [],
   "source": [
    "start=timer()\n",
    "Sa=100.\n",
    "D=1.\n",
    "Txsnm = 0. \n",
    "\n",
    "print('build task graph for istart0,istart1,p')\n",
    "# lgpt5=da.from_array(clim_reg.lgpt5,chunks=clim_reg.chunk2D)\n",
    "istart0,istart1=LGPCalc.rainPeak(clim_reg.meanT_daily,lgpt5)\n",
    "# pet_daily=clim_reg.pet_daily\n",
    "p = LGPCalc.psh(da.zeros(clim_reg.pet_daily.shape,chunks=clim_reg.chunk3D,dtype='float32'), clim_reg.pet_daily)\n",
    "# ndays=clim_reg.maxT_daily.shape[2]\n",
    "# print(istart0,istart1,p)\n",
    "\n",
    "# compute eta_class then chunk (reduces memory required in day loop)\n",
    "print('compute eta_class')\n",
    "# dask delayed using the default dask scheduler (no distributed) is fastest\n",
    "lgpt5_3D=da.broadcast_to(clim_reg.lgpt5[:,:,np.newaxis].astype('float16'),(clim_reg.im_height,clim_reg.im_width,365)).rechunk(chunks=clim_reg.chunk3D).to_delayed().ravel()\n",
    "mask_3D=da.broadcast_to(clim_reg.im_mask[:,:,np.newaxis],(clim_reg.im_height,clim_reg.im_width,365)).rechunk(chunks=clim_reg.chunk3D).to_delayed().ravel()\n",
    "Tmean=clim_reg.meanT_daily.astype('float16').to_delayed().ravel()\n",
    "Tmax=clim_reg.maxT_daily.astype('float16').to_delayed().ravel()\n",
    "zip1=zip(mask_3D,lgpt5_3D,Tmean,Tmax)\n",
    "task_list=[dask.delayed(LGPCalc.Eta_class)(m,l5,Tbar,Tmx,Txsnm) for m,l5,Tbar,Tmx in zip1]\n",
    "results=dask.compute(*task_list)\n",
    "eta_class=np.concatenate(results,axis=1)\n",
    "del lgpt5_3D,mask_3D,Tmean,Tmax,zip1,task_list,results\n",
    "\n",
    "\n",
    "\n",
    "eta_class_cl=da.from_array(eta_class,chunks=clim_reg.chunk3D)#.to_delayed().ravel()\n",
    "eta_class_cl\n",
    "\n",
    "\n",
    "\n",
    "# compute eta_class with default dask arrays is too slow\n",
    "# dask futures scatter/submit/gather returns weird shape\n",
    "\n",
    "print('build task graph for islgp')\n",
    "islgp=da.where(clim_reg.meanT_daily>=5,np.int8(1),np.int8(0))  #KLG\n",
    "Fsnm = 5.5\n",
    "kc_list = np.array([0.0, 0.1, 0.2, 0.5, 1.0],dtype='float32')\n",
    "\n",
    "# # smallchunk3D=(-1,4,-1)#self.chunk3D#(-1,400,-1)\n",
    "# # smallchunk2D=(-1,4)#self.chunk2D#(-1,400)\n",
    "\n",
    "# # # 2D chunked inputs\n",
    "# # mask_cl=clim_reg.im_mask.rechunk(chunks=smallchunk2D).to_delayed().ravel()#.blocks.ravel()\n",
    "# # lgpt5_cl = lgpt5.rechunk(chunks=smallchunk2D).to_delayed().ravel()#.blocks.ravel()\n",
    "# # istart0_cl = istart0.rechunk(chunks=smallchunk2D).to_delayed().ravel()#.blocks.ravel()\n",
    "# # istart1_cl = istart1.rechunk(chunks=smallchunk2D).to_delayed().ravel()#.blocks.ravel()       \n",
    "# # Sb_old_cl = da.zeros((clim_reg.im_height,clim_reg.im_width),chunks=smallchunk2D,dtype='float32').to_delayed().ravel()#.blocks.ravel()\n",
    "# # Wb_old_cl = da.zeros((clim_reg.im_height,clim_reg.im_width),chunks=smallchunk2D,dtype='float32').to_delayed().ravel()#.blocks.ravel() \n",
    "# print('prepare delayed input chunks')\n",
    "# lgpt5=da.from_array(clim_reg.lgpt5,chunks=clim_reg.chunk2D)\n",
    "# mask_cl=clim_reg.im_mask.to_delayed().ravel()\n",
    "# lgpt5_cl = lgpt5.to_delayed().ravel()\n",
    "# istart0_cl = istart0.to_delayed().ravel()\n",
    "# istart1_cl = istart1.to_delayed().ravel()    \n",
    "# Sb_old_cl = da.zeros((clim_reg.im_height,clim_reg.im_width),chunks=clim_reg.chunk2D,dtype='float32').to_delayed().ravel()\n",
    "# Wb_old_cl = da.zeros((clim_reg.im_height,clim_reg.im_width),chunks=clim_reg.chunk2D,dtype='float32').to_delayed().ravel()\n",
    "\n",
    "# # # 3D chunked inputs\n",
    "# # Pet365_cl = pet_daily.rechunk(chunks=smallchunk3D).to_delayed().ravel()#.blocks.ravel()\n",
    "# # p_cl = p.rechunk(chunks=smallchunk3D).to_delayed().ravel()#.blocks.ravel()\n",
    "# # eta_class_cl = eta_class.rechunk(chunks=smallchunk3D).to_delayed().ravel()#.blocks.ravel()\n",
    "# # Tx365_cl = clim_reg.maxT_daily.rechunk(chunks=smallchunk3D).to_delayed().ravel()#.blocks.ravel()\n",
    "# # Pcp365_cl = clim_reg.totalPrec_daily.rechunk(chunks=smallchunk3D).to_delayed().ravel()#.blocks.ravel()\n",
    "# # islgp_cl = islgp.rechunk(chunks=smallchunk3D).to_delayed().ravel()\n",
    "# Pet365_cl = da.from_array(clim_reg.pet_daily,chunks=clim_reg.chunk3D).to_delayed().ravel()\n",
    "# p_cl = p.to_delayed().ravel()\n",
    "# eta_class_cl=da.from_array(eta_class,chunks=clim_reg.chunk3D).to_delayed().ravel()\n",
    "# Tx365_cl = clim_reg.maxT_daily.to_delayed().ravel()\n",
    "# Pcp365_cl = clim_reg.totalPrec_daily.to_delayed().ravel()\n",
    "# islgp_cl = islgp.to_delayed().ravel()\n",
    "\n",
    "\n",
    "# # # zip all the chunked variables together\n",
    "# zipvars=zip(mask_cl, Tx365_cl, islgp_cl, Pcp365_cl, Pet365_cl, Wb_old_cl, Sb_old_cl, istart0_cl, istart1_cl, p_cl, lgpt5_cl, eta_class_cl)\n",
    "# task_time=timer()-start\n",
    "# print('time spent on prepping vars',task_time) \n",
    "\n",
    "# print('computing LGP')\n",
    "# start=timer()\n",
    "# task_list=[dask.delayed(LGPCalc.EtaCalc,pure=True)(mask,Tx365,blgp,Pcp365,Txsnm,Fsnm,pet365,Wb_old,Sb_old,s0,s1,Sa,D,p_c,kc_list,lgp,eclass,clim_reg.doy_start,clim_reg.doy_end) for mask,Tx365,blgp,Pcp365,pet365,Wb_old,Sb_old,s0,s1,p_c,lgp,eclass in zipvars]\n",
    "# results=dask.compute(*task_list)\n",
    "# task_time=timer()-start\n",
    "# print('NUMBER OF TASKS',len(task_list))\n",
    "# print('time spent computing lgp_tot chunks',task_time) \n",
    "# print('free RAM',psutil.virtual_memory().free/1E9)\n",
    "\n",
    "# print('aggregating lgp_tot')\n",
    "# start=timer()\n",
    "# lgp_tot=np.concatenate(results,axis=1)\n",
    "# task_time=timer()-start\n",
    "# print('time spent on lgp_tot concat',task_time)\n"
   ]
  },
  {
   "cell_type": "code",
   "execution_count": null,
   "metadata": {},
   "outputs": [],
   "source": [
    "# from dask.distributed import Client#,LocalCluster\n",
    "cluster=LocalCluster(n_workers=1, threads_per_worker=10, memory_limit='10GB')\n",
    "client=Client(cluster)\n",
    "# client=Client()\n",
    "client"
   ]
  },
  {
   "cell_type": "code",
   "execution_count": null,
   "metadata": {},
   "outputs": [],
   "source": [
    "start=timer()\n",
    "Sa=100.\n",
    "D=1.\n",
    "\n",
    "lgpt5=da.from_array(clim_reg.lgpt5,chunks=clim_reg.chunk2D)#.persist()\n",
    "istart0,istart1=LGPCalc.rainPeak(clim_reg.meanT_daily,lgpt5)\n",
    "# istart0=istart0.persist()\n",
    "# istart1=istart1.persist()\n",
    "pet_daily=clim_reg.pet_daily#.persist()\n",
    "p = LGPCalc.psh(da.zeros(pet_daily.shape,chunks=clim_reg.chunk3D,dtype='float32'), pet_daily)#.persist()\n",
    "ndays=clim_reg.maxT_daily.shape[2]\n",
    "\n",
    "\n",
    "lgpt5_3D=da.broadcast_to(clim_reg.lgpt5[:,:,np.newaxis].astype('float16'),(clim_reg.im_height,clim_reg.im_width,365)).rechunk(chunks=clim_reg.chunk3D).to_delayed().ravel()\n",
    "mask_3D=da.broadcast_to(clim_reg.im_mask[:,:,np.newaxis],(clim_reg.im_height,clim_reg.im_width,365)).rechunk(chunks=clim_reg.chunk3D).to_delayed().ravel()\n",
    "Tmean=clim_reg.meanT_daily.to_delayed().ravel()\n",
    "Tmax=clim_reg.maxT_daily.to_delayed().ravel()\n",
    "zip1=zip(mask_3D,lgpt5_3D,Tmean,Tmax)\n",
    "Txsnm = 0. \n",
    "task_list=[dask.delayed(LGPCalc.Eta_class)(m,l5,Tbar,Tmx,Txsnm) for m,l5,Tbar,Tmx in zip1]\n",
    "results=dask.compute(*task_list)\n",
    "eta_class=np.concatenate(results,axis=1)\n",
    "del lgpt5_3D,mask_3D,Tmean,Tmax,zip1,task_list,results\n",
    "eta_class_cl=da.from_array(eta_class,chunks=clim_reg.chunk3D).to_delayed().ravel()\n",
    "\n",
    "\n",
    "\n",
    "# res_list=dask.compute(*eta_class_cl)\n",
    "# eta_class_list=[da.from_delayed(class_c,(clim_reg.im_height,clim_reg.im_width),dtype='int8') for class_c in eta_class_cl]\n",
    "# eta_class=np.concatenate(res_list,axis=1)\n",
    "# eta_class=dask.delayed(eta_class)\n",
    "\n",
    "# zip1=zip(Tmean_cl,Tmax_cl)\n",
    "# res=[dask.delayed(LGPCalc.Eta_class, pure=True)(mask_delay,lgpt5_delay,Tbar,Tmax,Txsnm) for Tbar,Tmax in zip1]\n",
    "# eta_class_list=[da.from_delayed(res_c,(clim_reg.im_height,clim_reg.im_width),dtype='int32') for res_c in res]\n",
    "# eta_class=da.stack(eta_class_list,axis=-1)#.rechunk(chunks=(-1,12,365))\n",
    "# eta_class=LGPCalc.Eta_class(mask_3D,lgpt5_3D,clim_reg.meanT_daily,clim_reg.maxT_daily,Txsnm)\n",
    "islgp=da.where(clim_reg.meanT_daily>=5,np.int8(1),np.int8(0))#.persist()  #KLG\n",
    "Fsnm = 5.5\n",
    "kc_list = np.array([0.0, 0.1, 0.2, 0.5, 1.0],dtype='float32')\n",
    "\n",
    "# smallchunk3D=(-1,4,-1)#self.chunk3D#(-1,400,-1)\n",
    "# smallchunk2D=(-1,4)#self.chunk2D#(-1,400)\n",
    "#constants\n",
    "Txsnm_cl=da.from_array(np.zeros(clim_reg.nchunks),chunks=(1))\n",
    "Fsnm_cl=da.from_array(np.zeros(clim_reg.nchunks)+Fsnm,chunks=(1))\n",
    "Sa_cl=da.from_array(np.zeros(clim_reg.nchunks)+Sa,chunks=(1))\n",
    "D_cl=da.from_array(np.ones(clim_reg.nchunks),chunks=(1))\n",
    "kclist_cl=da.broadcast_to(kc_list[:,np.newaxis],(kc_list.shape[0],clim_reg.nchunks)).rechunk(chunks=(kc_list.shape[0],1))\n",
    "dstart_cl=da.from_array(np.zeros(clim_reg.nchunks)+clim_reg.doy_start,chunks=(1))\n",
    "dend_cl=da.from_array(np.zeros(clim_reg.nchunks)+clim_reg.doy_end,chunks=(1))\n",
    "\n",
    "\n",
    "# 2D chunked inputs\n",
    "mask_cl=clim_reg.im_mask#.to_delayed().ravel()#.blocks.ravel()\n",
    "lgpt5_cl = lgpt5#.to_delayed().ravel()#.blocks.ravel()\n",
    "istart0_cl = istart0#.to_delayed().ravel()#.blocks.ravel()\n",
    "istart1_cl = istart1#.to_delayed().ravel()#.blocks.ravel()       \n",
    "Sb_old_cl = da.zeros((clim_reg.im_height,clim_reg.im_width),chunks=clim_reg.chunk2D,dtype='float32')#.to_delayed().ravel()#.blocks.ravel()\n",
    "Wb_old_cl = da.zeros((clim_reg.im_height,clim_reg.im_width),chunks=clim_reg.chunk2D,dtype='float32')#.to_delayed().ravel()#.blocks.ravel() \n",
    "\n",
    "# 3D chunked inputs\n",
    "Pet365_cl = pet_daily#.to_delayed().ravel()#.blocks.ravel()\n",
    "p_cl = p#.to_delayed().ravel()#.blocks.ravel()\n",
    "# eta_class_cl = eta_class.to_delayed().ravel()#.blocks.ravel()\n",
    "eta_class_cl=eta_class#.to_delayed().ravel()\n",
    "Tx365_cl = clim_reg.maxT_daily#.to_delayed().ravel()#.blocks.ravel()\n",
    "Pcp365_cl = clim_reg.totalPrec_daily#.to_delayed().ravel()#.blocks.ravel()\n",
    "islgp_cl = islgp#.to_delayed().ravel()\n",
    "\n",
    "# # 2D chunked inputs\n",
    "# mask_cl=client.scatter(clim_reg.im_mask)#.to_delayed().ravel())#.blocks.ravel()\n",
    "# lgpt5_cl = client.scatter(lgpt5)#.to_delayed().ravel())#.blocks.ravel()\n",
    "# istart0_cl = client.scatter(istart0)#.to_delayed().ravel())#.blocks.ravel()\n",
    "# istart1_cl = client.scatter(istart1)#.to_delayed().ravel())#.blocks.ravel()       \n",
    "# Sb_old_cl = client.scatter(da.zeros((clim_reg.im_height,clim_reg.im_width),chunks=clim_reg.chunk2D,dtype='float32'))#.to_delayed().ravel())#.blocks.ravel()\n",
    "# Wb_old_cl = client.scatter(da.zeros((clim_reg.im_height,clim_reg.im_width),chunks=clim_reg.chunk2D,dtype='float32'))#.to_delayed().ravel())#.blocks.ravel() \n",
    "\n",
    "# # 3D chunked inputs\n",
    "# Pet365_cl = client.scatter(pet_daily)#.to_delayed().ravel())#.blocks.ravel()\n",
    "# p_cl = client.scatter(p)#.to_delayed().ravel())#.blocks.ravel()\n",
    "# # eta_class_cl = eta_class.to_delayed().ravel()#.blocks.ravel()\n",
    "# eta_class_cl=client.scatter(eta_class)#.to_delayed().ravel())\n",
    "# Tx365_cl = client.scatter(clim_reg.maxT_daily)#.to_delayed().ravel())#.blocks.ravel()\n",
    "# Pcp365_cl = client.scatter(clim_reg.totalPrec_daily)#.to_delayed().ravel())#.blocks.ravel()\n",
    "# islgp_cl = client.scatter(islgp)#.to_delayed().ravel())\n",
    "\n",
    "# zip all the chunked variables together\n",
    "# zipvars=zip(mask_cl, Tx365_cl, islgp_cl, Pcp365_cl, Pet365_cl, Wb_old_cl, Sb_old_cl, istart0_cl, istart1_cl, p_cl, lgpt5_cl, eta_class_cl)\n",
    "# zipvars=zip(mask_cl, Tx365_cl, islgp_cl, Pcp365_cl, Pet365_cl, Wb_old_cl, Sb_old_cl, istart0_cl, istart1_cl, p_cl, lgpt5_cl, eta_class_cl)\n",
    "# print(len(mask_cl.chunks[1]),len(Tx365_cl.chunks[1]),len(islgp_cl.chunks[1]),len(Pcp365_cl.chunks[1]),len(Txsnm_cl.chunks[0]),len(Fsnm_cl.chunks[0]),len(Pet365_cl.chunks[1]),len(Wb_old_cl.chunks[1]),len(Sb_old_cl.chunks[1]))\n",
    "# print(len(istart0_cl.chunks[1]),len(istart1_cl.chunks[1]),len(Sa_cl.chunks[0]),len(D_cl.chunks[0]),len(p_cl.chunks[1]),len(kclist_cl.chunks[1]),len(lgpt5_cl.chunks[1]),len(eta_class_cl.chunks[1]),len(dstart_cl.chunks[0]),len(dend_cl.chunks[0])  )#, Tx365_cl, islgp_cl, Pcp365_cl,Txsnm_cl,Fsnm_cl,Pet365_cl, Wb_old_cl, Sb_old_cl, istart0_cl, istart1_cl,Sa_cl,D_cl,p_cl,kclist_cl,lgpt5_cl, eta_class_cl,dstart_cl,dend_cl)\n",
    "print(mask_cl.numblocks, Tx365_cl.numblocks, islgp_cl.numblocks, Pcp365_cl.numblocks,Txsnm_cl.numblocks,Fsnm_cl.numblocks,Pet365_cl.numblocks, Wb_old_cl.numblocks, Sb_old_cl.numblocks)\n",
    "print(istart0_cl.numblocks, istart1_cl.numblocks,Sa_cl.numblocks,D_cl.numblocks,p_cl.numblocks,kclist_cl.numblocks,lgpt5_cl.numblocks, eta_class_cl.numblocks,dstart_cl.numblocks,dend_cl.numblocks)\n",
    "zipvars=zip(mask_cl, Tx365_cl, islgp_cl, Pcp365_cl,Txsnm_cl,Fsnm_cl,Pet365_cl, Wb_old_cl, Sb_old_cl, istart0_cl, istart1_cl,Sa_cl,D_cl,p_cl,kclist_cl,lgpt5_cl, eta_class_cl,dstart_cl,dend_cl)\n",
    "task_time=timer()-start\n",
    "print('time spent on prepping vars',task_time) \n"
   ]
  },
  {
   "cell_type": "code",
   "execution_count": null,
   "metadata": {},
   "outputs": [],
   "source": [
    "print(da.broadcast_to(clim_reg.lgpt5[:,:,np.newaxis],(clim_reg.im_height,clim_reg.im_width,365)).rechunk(chunks=clim_reg.chunk3D).chunks)\n",
    "print(da.broadcast_to(clim_reg.im_mask[:,:,np.newaxis],(clim_reg.im_height,clim_reg.im_width,365)).rechunk(chunks=clim_reg.chunk3D).chunksize)\n",
    "print(clim_reg.meanT_daily.chunksize)\n",
    "print(clim_reg.maxT_daily.chunksize)"
   ]
  },
  {
   "cell_type": "code",
   "execution_count": null,
   "metadata": {},
   "outputs": [],
   "source": [
    "# lgpt5_3D=da.broadcast_to(clim_reg.lgpt5[:,:,np.newaxis],(clim_reg.im_height,clim_reg.im_width,365)).rechunk(chunks=clim_reg.chunk3D)\n",
    "# mask_3D=da.broadcast_to(clim_reg.im_mask[:,:,np.newaxis],(clim_reg.im_height,clim_reg.im_width,365)).rechunk(chunks=clim_reg.chunk3D)\n",
    "# Tmean=clim_reg.meanT_daily\n",
    "# Tmax=clim_reg.maxT_daily\n",
    "# Tmax\n",
    "\n",
    "def ETA_CLASS(mask,lg5,ta,tx,tmelt):\n",
    "    eta_class=np.zeros(tx.shape,dtype='int8')\n",
    "    # category 1, snow\n",
    "    inds = (ta<=0)\n",
    "    inds &= (tx<=tmelt)\n",
    "    eta_class[inds]=1\n",
    "    # category 2, snow melting\n",
    "    inds = (ta<=0)\n",
    "    inds &= (tx>=0)\n",
    "    inds &= (eta_class==0)\n",
    "    eta_class[inds]=2\n",
    "    # category 3, cold pre growing\n",
    "    inds = (ta>0)\n",
    "    inds &= (ta<5)\n",
    "    inds &= (eta_class==0)\n",
    "    eta_class[inds]=3\n",
    "    # category 4, warm\n",
    "    inds = (lg5<365)\n",
    "    inds &= (ta>=5)\n",
    "    inds &= (eta_class==0)\n",
    "    eta_class[inds]=4\n",
    "    # category 5, warmest\n",
    "    inds = (mask==1)\n",
    "    inds &= (eta_class==0)\n",
    "    eta_class[inds]=5\n",
    "    return eta_class\n"
   ]
  },
  {
   "cell_type": "code",
   "execution_count": null,
   "metadata": {},
   "outputs": [],
   "source": [
    "def test(var1,var2):\n",
    "    return var1,var2"
   ]
  },
  {
   "cell_type": "code",
   "execution_count": null,
   "metadata": {},
   "outputs": [],
   "source": [
    "print('free RAM',psutil.virtual_memory().free/1E9)\n",
    "start=timer()\n",
    "Txsnm = 0. \n",
    "lgpt5_3D=da.broadcast_to(clim_reg.lgpt5[:,:,np.newaxis].astype('float16'),(clim_reg.im_height,clim_reg.im_width,365)).rechunk(chunks=clim_reg.chunk3D).to_delayed().ravel()\n",
    "mask_3D=da.broadcast_to(clim_reg.im_mask[:,:,np.newaxis],(clim_reg.im_height,clim_reg.im_width,365)).rechunk(chunks=clim_reg.chunk3D).to_delayed().ravel()\n",
    "Tmean=clim_reg.meanT_daily.to_delayed().ravel()\n",
    "Tmax=clim_reg.maxT_daily.to_delayed().ravel()\n",
    "zip1=zip(mask_3D,lgpt5_3D,Tmean,Tmax)\n",
    "task_list=[dask.delayed(LGPCalc.Eta_class)(m,l5,Tbar,Tmx,Txsnm) for m,l5,Tbar,Tmx in zip1]\n",
    "print(len(task_list))\n",
    "results=dask.compute(*task_list)\n",
    "task_time=timer()-start\n",
    "print('time:',task_time)\n",
    "print('free RAM',psutil.virtual_memory().free/1E9)\n",
    "eta_class=np.concatenate(results,axis=1)\n",
    "print(eta_class.nbytes/1E9)\n",
    "eta_class_cl=da.from_array(eta_class,chunks=clim_reg.chunk3D)#.to_delayed().ravel()\n",
    "del lgpt5_3D,mask_3D,Tmean,Tmax,zip1,task_list,results\n",
    "eta_class_cl\n",
    "\n",
    "\n",
    "# print('free RAM',psutil.virtual_memory().free/1E9)\n",
    "# start=timer()\n",
    "# Txsnm = 0.\n",
    "# tmelt=0. \n",
    "# lg5=da.broadcast_to(clim_reg.lgpt5[:,:,np.newaxis].astype('float16'),(clim_reg.im_height,clim_reg.im_width,365)).rechunk(chunks=clim_reg.chunk3D)\n",
    "# mask=da.broadcast_to(clim_reg.im_mask[:,:,np.newaxis],(clim_reg.im_height,clim_reg.im_width,365)).rechunk(chunks=clim_reg.chunk3D)\n",
    "# ta=clim_reg.meanT_daily\n",
    "# tx=clim_reg.maxT_daily\n",
    "# # eta_class=LGPCalc.Eta_class(mask,lg5,ta,tx,Txsnm).compute()\n",
    "# # eta_class=da.ones(ta.shape,dtype='int8',chunks=clim_reg.chunk3D)\n",
    "# # category 1, snow\n",
    "# inds = (ta<=0)\n",
    "# # inds &= (tx<=tmelt)\n",
    "# # eta_class[inds]=1\n",
    "# # # category 2, snow melting\n",
    "# # inds = (ta<=0)\n",
    "# # inds &= (tx>=0)\n",
    "# # inds &= (eta_class==0)\n",
    "# # eta_class[inds]=2\n",
    "# # # category 3, cold pre growing\n",
    "# # inds = (ta>0)\n",
    "# # inds &= (ta<5)\n",
    "# # inds &= (eta_class==0)\n",
    "# # eta_class[inds]=3\n",
    "# # # category 4, warm\n",
    "# # inds = (lg5<365)\n",
    "# # inds &= (ta>=5)\n",
    "# # inds &= (eta_class==0)\n",
    "# # eta_class[inds]=4\n",
    "# # # category 5, warmest\n",
    "# # inds = (mask==1)\n",
    "# # inds &= (eta_class==0)\n",
    "# # eta_class[inds]=5\n",
    "\n",
    "# inds=inds.compute()\n",
    "# # eta_class=eta_class.compute()\n",
    "# task_time=timer()-start\n",
    "# print('time:',task_time)\n",
    "# print('free RAM',psutil.virtual_memory().free/1E9)\n",
    "# # # # eta_class=np.concatenate(results,axis=1)\n",
    "# # # del lgpt5_3D,mask_3D,Tmean,Tmax\n",
    "# # print(eta_class.nbytes/1E9)\n",
    "# # eta_class\n",
    "# inds\n",
    "# # print(lgpt5_3D.dtype,lgpt5_3D.nbytes/1E9)\n",
    "# # lgpt5_3D\n",
    "# # print(mask_3D.dtype,mask_3D.nbytes/1E9)\n",
    "# # mask_3D\n",
    "\n",
    "\n",
    "# lgpt5_3D=da.broadcast_to(clim_reg.lgpt5[:,:,np.newaxis],(clim_reg.im_height,clim_reg.im_width,365)).rechunk(chunks=clim_reg.chunk3D).to_delayed().ravel()\n",
    "# mask_3D=da.broadcast_to(clim_reg.im_mask[:,:,np.newaxis],(clim_reg.im_height,clim_reg.im_width,365)).rechunk(chunks=clim_reg.chunk3D).to_delayed().ravel()\n",
    "# Tmean=clim_reg.meanT_daily.to_delayed().ravel()\n",
    "# Tmax=clim_reg.maxT_daily.to_delayed().ravel()\n",
    "# zip1=zip(mask_3D,lgpt5_3D,Tmean,Tmax)\n",
    "# # Txsnm = 0. \n",
    "# eta_class_res=[dask.delayed(LGPCalc.Eta_class)(m,l5,Tbar,Tmx,Txsnm) for m,l5,Tbar,Tmx in zip1]\n",
    "# eta_class_list=[da.from_delayed(res_c,(clim_reg.chunk3D),dtype='int8') for res_c in eta_class_res]\n",
    "# eta_class=da.concatenate(eta_class_list,axis=1)\n",
    "# eta_class_cl=eta_class.to_delayed().ravel()\n",
    "# eta_class_cl"
   ]
  },
  {
   "cell_type": "code",
   "execution_count": null,
   "metadata": {},
   "outputs": [],
   "source": [
    "# # test=dask.compute(*eta_class_cl)\n",
    "# test=eta_class.compute()\n",
    "# test"
   ]
  },
  {
   "cell_type": "code",
   "execution_count": null,
   "metadata": {},
   "outputs": [],
   "source": [
    "# etc=np.concatenate(test,axis=1)\n",
    "# etc.shape,etc.dtype,etc.nbytes/1E9"
   ]
  },
  {
   "cell_type": "code",
   "execution_count": null,
   "metadata": {},
   "outputs": [],
   "source": [
    "# def test_func(mask_cl, Tx365_cl, islgp_cl, Pcp365_cl, Pet365_cl, Wb_old_cl, Sb_old_cl, istart0_cl, istart1_cl, p_cl, lgpt5_cl, eta_class_cl):\n",
    "#     return mask_cl, Tx365_cl, islgp_cl, Pcp365_cl, Pet365_cl, Wb_old_cl, Sb_old_cl, istart0_cl, istart1_cl, p_cl, lgpt5_cl, eta_class_cl\n",
    "\n",
    "# def test_func(var_cl):\n",
    "#     return var_cl"
   ]
  },
  {
   "cell_type": "code",
   "execution_count": null,
   "metadata": {},
   "outputs": [],
   "source": [
    "start=timer()\n",
    "task_list=[dask.delayed(LGPCalc.EtaCalc,pure=True)(mask,Tx365,blgp,Pcp365,Txsnm,Fsnm,pet365,Wb_old,Sb_old,s0,s1,Sa,D,p_c,kc_list,lgp,eclass,clim_reg.doy_start,clim_reg.doy_end) for mask,Tx365,blgp,Pcp365,pet365,Wb_old,Sb_old,s0,s1,p_c,lgp,eclass in zipvars]\n",
    "# task_list=client.persist(task_list)\n",
    "# task_list=[dask.delayed(LGPCalc.EtaCalc,pure=True)(mask,Tx365,blgp,Pcp365,Txsnm,Fsnm,pet365,Wb_old,Sb_old,s0,s1,Sa,D,p_c,kc_list,lgp,eta_class,clim_reg.doy_start,clim_reg.doy_end) for mask,Tx365,blgp,Pcp365,pet365,Wb_old,Sb_old,s0,s1,p_c,lgp in zipvars]\n",
    "# task_list=[dask.delayed(test_func,pure=True)(mask,Tx365,blgp,Pcp365,pet365,Wb_old,Sb_old,s0,s1,p_c,lgp,eclass) for mask,Tx365,blgp,Pcp365,pet365,Wb_old,Sb_old,s0,s1,p_c,lgp,eclass in zipvars]\n",
    "# task_list=[dask.delayed(test_func,pure=True)(var) for var in eta_class]\n",
    "results=dask.persist(*task_list)\n",
    "task_time=timer()-start\n",
    "print('NUMBER OF TASKS',len(task_list))\n",
    "print('time spent building task list',task_time) \n",
    "print('free RAM',psutil.virtual_memory().free/1E9)\n"
   ]
  },
  {
   "cell_type": "code",
   "execution_count": null,
   "metadata": {},
   "outputs": [],
   "source": [
    "start=timer()\n",
    "# results=dask.compute(*task_list, scheduler='single-threaded',num_workers=20)#, optimize_graph=False,scheduler='processes')\n",
    "# results=dask.compute(*task_list)#,scheduler='distributed')#, scheduler='synchronous')#,num_workers=20)#, optimize_graph=False,scheduler='processes')\n",
    "# results=dask.persist(*task_list)#,scheduler='distributed')#, scheduler='synchronous')#,num_workers=20)#, optimize_graph=False,scheduler='processes')\n",
    "   \n",
    "# lgp_tot=client.submit(LGPCalc.EtaCalc,mask_cl, Tx365_cl, islgp_cl, Pcp365_cl,Txsnm,Fsnm,Pet365_cl, Wb_old_cl, Sb_old_cl, istart0_cl, istart1_cl,Sa,D,p_cl,kc_list,lgpt5_cl, eta_class_cl,clim_reg.doy_start,clim_reg.doy_end).result()\n",
    "# futures=client.map(LGPCalc.EtaCalc,*zipvars).result()\n",
    "lgp_tot=client.map(LGPCalc.EtaCalc,*[mask_cl, Tx365_cl, islgp_cl, Pcp365_cl,Txsnm_cl,Fsnm_cl,Pet365_cl, Wb_old_cl, Sb_old_cl, istart0_cl, istart1_cl,Sa_cl,D_cl,p_cl,kclist_cl,lgpt5_cl, eta_class_cl,dstart_cl,dend_cl])\n",
    "# lgp_tot=[f.result() for f in futures]\n",
    "\n",
    "# automated dask is too slow on dask arrays\n",
    "# lgp_tot=LGPCalc.EtaCalc(mask_cl, Tx365_cl, islgp_cl, Pcp365_cl,Txsnm,Fsnm,Pet365_cl, Wb_old_cl, Sb_old_cl, istart0_cl, istart1_cl,Sa,D,p_cl,kc_list,lgpt5_cl, eta_class_cl,clim_reg.doy_start,clim_reg.doy_end)\n",
    "# our function and inputs are too complicated for map blocks\n",
    "# lgp_tot=da.map_blocks(LGPCalc.EtaCalc,mask_cl,Tx365_cl,islgp_cl,Pcp365_cl,Txsnm,Fsnm,Pet365_cl,Wb_old_cl,Sb_old_cl,istart0_cl,istart1_cl,Sa,D,p_cl,kc_list,lgpt5_cl,eta_class_cl,clim_reg.doy_start,clim_reg.doy_end)\n",
    "task_time=timer()-start\n",
    "print('time spent in compute',task_time)    "
   ]
  },
  {
   "cell_type": "code",
   "execution_count": null,
   "metadata": {},
   "outputs": [],
   "source": [
    "print(psutil.virtual_memory().free/1E9)\n",
    "lgp_tot"
   ]
  },
  {
   "cell_type": "code",
   "execution_count": null,
   "metadata": {},
   "outputs": [],
   "source": [
    "def concat_res(var):\n",
    "    var_concat=np.concatenate(var,axis=1)\n",
    "    return var_concat\n",
    "\n",
    "# ans=client.gather(lgp_tot)\n",
    "ans=client.submit(concat_res,lgp_tot)\n",
    "ans"
   ]
  },
  {
   "cell_type": "code",
   "execution_count": null,
   "metadata": {},
   "outputs": [],
   "source": [
    "total=client.gather(ans)\n",
    "total"
   ]
  },
  {
   "cell_type": "code",
   "execution_count": null,
   "metadata": {},
   "outputs": [],
   "source": [
    "results[0]"
   ]
  },
  {
   "cell_type": "code",
   "execution_count": null,
   "metadata": {},
   "outputs": [],
   "source": [
    "start=timer()\n",
    "lgp_tot=np.concatenate(results,axis=1)\n",
    "task_time=timer()-start\n",
    "print('time spent on lgp_tot concat',task_time)"
   ]
  },
  {
   "cell_type": "code",
   "execution_count": null,
   "metadata": {},
   "outputs": [],
   "source": [
    "plt.imshow(lgp_tot,interpolation='none')\n",
    "plt.colorbar()"
   ]
  },
  {
   "cell_type": "code",
   "execution_count": null,
   "metadata": {},
   "outputs": [],
   "source": []
  },
  {
   "cell_type": "code",
   "execution_count": null,
   "metadata": {},
   "outputs": [],
   "source": []
  },
  {
   "cell_type": "code",
   "execution_count": null,
   "metadata": {},
   "outputs": [],
   "source": []
  },
  {
   "cell_type": "code",
   "execution_count": null,
   "metadata": {},
   "outputs": [],
   "source": [
    "len(ETA), ETA[0].shape\n",
    "# plt.imshow(ETM[:,:,0],interpolation='none')\n",
    "# plt.colorbar()"
   ]
  },
  {
   "cell_type": "code",
   "execution_count": null,
   "metadata": {},
   "outputs": [],
   "source": [
    "test=np.concatenate(ETA,axis=1)\n",
    "test.shape"
   ]
  },
  {
   "cell_type": "code",
   "execution_count": null,
   "metadata": {},
   "outputs": [],
   "source": [
    "plt.imshow(test[:,:,2],interpolation='none')\n",
    "plt.colorbar()"
   ]
  },
  {
   "cell_type": "code",
   "execution_count": null,
   "metadata": {},
   "outputs": [],
   "source": [
    "tlgpt5=da.from_array(clim_reg.lgpt5,chunks=clim_reg.chunk2D)\n",
    "plt.imshow(tlgpt5,interpolation='none')\n",
    "plt.colorbar()"
   ]
  },
  {
   "cell_type": "code",
   "execution_count": null,
   "metadata": {},
   "outputs": [],
   "source": [
    "istart0,istart1=LGPCalc.rainPeak(clim_reg.meanT_daily,tlgpt5)\n",
    "plt.imshow(istart0,interpolation='none')\n",
    "plt.colorbar()"
   ]
  },
  {
   "cell_type": "code",
   "execution_count": null,
   "metadata": {},
   "outputs": [],
   "source": [
    "plt.imshow(lgp,interpolation='none')\n",
    "plt.colorbar()"
   ]
  },
  {
   "cell_type": "code",
   "execution_count": null,
   "metadata": {},
   "outputs": [],
   "source": [
    "pet_daily=da.from_array(clim_reg.pet_daily,chunks=clim_reg.chunk3D)\n",
    "p = LGPCalc.psh(da.zeros(pet_daily.shape,chunks=clim_reg.chunk3D,dtype='float32'), pet_daily)\n",
    "plt.imshow(p[:,:,0],interpolation='none')\n",
    "plt.colorbar()"
   ]
  },
  {
   "cell_type": "code",
   "execution_count": null,
   "metadata": {},
   "outputs": [],
   "source": [
    "ndays=clim_reg.maxT_daily.shape[2]\n",
    "lgpt5_3D=da.tile(clim_reg.lgpt5[:,:,np.newaxis],(1,1,ndays)).rechunk(chunks=clim_reg.chunk3D) \n",
    "mask_3D=da.tile(clim_reg.im_mask[:,:,np.newaxis],(1,1,ndays)).rechunk(chunks=clim_reg.chunk3D)\n",
    "Txsnm = 0. \n",
    "eta_class=LGPCalc.Eta_class(mask_3D,lgpt5_3D,clim_reg.meanT_daily,clim_reg.maxT_daily,Txsnm)\n",
    "plt.imshow(eta_class[:,:,100],interpolation='none')\n",
    "plt.colorbar()"
   ]
  },
  {
   "cell_type": "code",
   "execution_count": null,
   "metadata": {},
   "outputs": [],
   "source": [
    "plt.imshow(clim_reg.maxT_daily[:,:,0],interpolation='none')\n",
    "plt.colorbar()"
   ]
  },
  {
   "cell_type": "code",
   "execution_count": null,
   "metadata": {},
   "outputs": [],
   "source": [
    "plt.imshow(clim_reg.meanT_daily[:,:,0],interpolation='none')\n",
    "plt.colorbar()"
   ]
  },
  {
   "cell_type": "code",
   "execution_count": null,
   "metadata": {},
   "outputs": [],
   "source": [
    "plt.imshow(clim_reg.totalPrec_daily[:,:,0],interpolation='none')\n",
    "plt.colorbar()"
   ]
  },
  {
   "cell_type": "code",
   "execution_count": null,
   "metadata": {},
   "outputs": [],
   "source": []
  },
  {
   "cell_type": "code",
   "execution_count": null,
   "metadata": {},
   "outputs": [],
   "source": [
    "# var=clim_reg.maxT_daily.compute()[:,0:400,:]\n",
    "# var=np.append(var, var[:,:,0:30],axis=2)\n",
    "# print(var.shape,var.dtype)\n",
    "\n",
    "# start=timer()\n",
    "# rollmean=LGPCalc.val10day(var)\n",
    "# task_time=timer()-start\n",
    "# print(task_time)\n",
    "\n",
    "\n",
    "var=ETA[0]\n",
    "print(var.shape,var.dtype)\n",
    "\n",
    "start=timer()\n",
    "rollmean=LGPCalc.val10day(var)\n",
    "task_time=timer()-start\n",
    "print(task_time)"
   ]
  },
  {
   "cell_type": "code",
   "execution_count": null,
   "metadata": {},
   "outputs": [],
   "source": [
    "import scipy"
   ]
  },
  {
   "cell_type": "code",
   "execution_count": null,
   "metadata": {},
   "outputs": [],
   "source": [
    "    # window_size = 10\n",
    "    # # first reshape the input data to 2d (space, time)\n",
    "    # Et2d=np.reshape(Et,(Et.shape[0]*Et.shape[1],Et.shape[2])).astype('float32')\n",
    "    # # use apply_along_axis to apply a rolling mean with length=window_size\n",
    "    # rollmean2d=np.apply_along_axis(lambda m: np.convolve(m, np.ones(window_size), mode='valid')/window_size, axis=1, arr=Et2d) \n",
    "    # # reshape the result back to 3 dimensions\n",
    "    # rollmean3d=np.reshape(rollmean2d,(Et.shape[0],Et.shape[1],rollmean2d.shape[1])).astype('float32')\n",
    "start=timer()\n",
    "window_size=10\n",
    "scipyroll=scipy.signal.convolve(ETA[0],np.ones((1,1,window_size)),mode='valid',method='fft')/window_size\n",
    "task_time=timer()-start\n",
    "print(task_time)\n",
    "scipyroll.shape"
   ]
  },
  {
   "cell_type": "code",
   "execution_count": null,
   "metadata": {},
   "outputs": [],
   "source": [
    "plt.imshow(rollmean[:,:,0],interpolation='none')\n",
    "plt.colorbar()"
   ]
  },
  {
   "cell_type": "code",
   "execution_count": null,
   "metadata": {},
   "outputs": [],
   "source": [
    "plt.imshow(roll[:,:,0],interpolation='none')\n",
    "plt.colorbar()"
   ]
  },
  {
   "cell_type": "code",
   "execution_count": null,
   "metadata": {},
   "outputs": [],
   "source": [
    "plt.imshow((rollmean[:,:,0]-roll[:,:,0]),interpolation='none')\n",
    "plt.colorbar()"
   ]
  },
  {
   "cell_type": "code",
   "execution_count": null,
   "metadata": {},
   "outputs": [],
   "source": [
    "test=np.arange(20)\n",
    "\n",
    "testfull=np.tile(test,(428,400,1))\n",
    "testfull.shape"
   ]
  },
  {
   "cell_type": "code",
   "execution_count": null,
   "metadata": {},
   "outputs": [],
   "source": [
    "def moving_average(a, n=10):\n",
    "    ret = np.cumsum(a, axis=-1, dtype='float32')\n",
    "    ret[:,:,n:] = ret[:,:,n:] - ret[:,:,:-n]\n",
    "    return ret[:,:,n - 1:] / n"
   ]
  },
  {
   "cell_type": "code",
   "execution_count": null,
   "metadata": {},
   "outputs": [],
   "source": [
    "roll=moving_average(ETA[0])\n",
    "# roll"
   ]
  },
  {
   "cell_type": "code",
   "execution_count": null,
   "metadata": {},
   "outputs": [],
   "source": [
    "roll.dtype"
   ]
  },
  {
   "cell_type": "code",
   "execution_count": null,
   "metadata": {},
   "outputs": [],
   "source": []
  },
  {
   "cell_type": "code",
   "execution_count": null,
   "metadata": {},
   "outputs": [],
   "source": [
    "lgpt5_delayed=da.from_array(clim_reg.lgpt5,chunks=clim_reg.chunk2D).blocks.ravel()\n",
    "lgpt5_delayed"
   ]
  },
  {
   "cell_type": "code",
   "execution_count": null,
   "metadata": {},
   "outputs": [],
   "source": []
  },
  {
   "cell_type": "code",
   "execution_count": null,
   "metadata": {},
   "outputs": [],
   "source": [
    "plt.imshow(clim_reg.Etm365[:,:,1],interpolation='none')\n",
    "plt.colorbar()"
   ]
  },
  {
   "cell_type": "code",
   "execution_count": null,
   "metadata": {},
   "outputs": [],
   "source": [
    "lgp#[0].shape"
   ]
  },
  {
   "cell_type": "code",
   "execution_count": null,
   "metadata": {},
   "outputs": [],
   "source": [
    "plt.imshow(lgp,interpolation='none')\n",
    "plt.colorbar()"
   ]
  },
  {
   "cell_type": "code",
   "execution_count": null,
   "metadata": {},
   "outputs": [],
   "source": []
  },
  {
   "cell_type": "code",
   "execution_count": null,
   "metadata": {},
   "outputs": [],
   "source": []
  },
  {
   "cell_type": "code",
   "execution_count": null,
   "metadata": {},
   "outputs": [],
   "source": []
  },
  {
   "cell_type": "code",
   "execution_count": null,
   "metadata": {},
   "outputs": [],
   "source": []
  },
  {
   "cell_type": "code",
   "execution_count": null,
   "metadata": {},
   "outputs": [],
   "source": [
    "start=timer()\n",
    "\n",
    "tclimate = clim_reg.getThermalClimate()\n",
    "\n",
    "task_time=timer()-start\n",
    "task_time"
   ]
  },
  {
   "cell_type": "code",
   "execution_count": null,
   "metadata": {},
   "outputs": [],
   "source": [
    "clim_reg.__dict__.keys()\n",
    "# clim_reg.im_mask,clim_reg.elevation"
   ]
  },
  {
   "cell_type": "code",
   "execution_count": null,
   "metadata": {},
   "outputs": [],
   "source": [
    "# plt.imshow(clim_reg.meanT_monthly_sealevel[:,:,2],interpolation='none')\n",
    "# plt.colorbar()"
   ]
  },
  {
   "cell_type": "code",
   "execution_count": null,
   "metadata": {},
   "outputs": [],
   "source": [
    "clim_reg.maxT_daily.transpose((2,0,1)).rechunk(chunks=(1,-1,-1)).blocks.ravel()"
   ]
  },
  {
   "cell_type": "code",
   "execution_count": null,
   "metadata": {},
   "outputs": [],
   "source": [
    "import psutil\n",
    "psutil.virtual_memory().free/1E9"
   ]
  },
  {
   "cell_type": "code",
   "execution_count": null,
   "metadata": {},
   "outputs": [],
   "source": [
    "test=[]"
   ]
  },
  {
   "cell_type": "code",
   "execution_count": null,
   "metadata": {},
   "outputs": [],
   "source": []
  },
  {
   "cell_type": "code",
   "execution_count": null,
   "metadata": {},
   "outputs": [],
   "source": [
    "# start=timer()\n",
    "\n",
    "# istart0,istart1 = clim_reg.getLGP(Sa=100., D=1.)\n",
    "\n",
    "# task_time=timer()-start\n",
    "# task_time"
   ]
  },
  {
   "cell_type": "code",
   "execution_count": null,
   "metadata": {},
   "outputs": [],
   "source": [
    "def psh(ng, et0):\n",
    "    # psh0=np.where(ng==0,np.float32(0.5),np.float32(0.3+(ng-1)*.05))\n",
    "    # psh = psh0 + .04 * (5.-et0)\n",
    "    # psh=np.where(psh<0.1,np.float32(0.1),np.float32(psh))  \n",
    "    # psh=np.where(psh>0.8,np.float32(0.8),np.float32(psh))\n",
    "    psh0=np.where(ng==0,0.5,0.3+(ng-1)*.05)\n",
    "    psh = psh0 + .04 * (5.-et0)\n",
    "    psh=np.where(psh<0.1,0.1,psh)  \n",
    "    psh=np.where(psh>0.8,0.8,psh)  \n",
    "    return psh"
   ]
  },
  {
   "cell_type": "code",
   "execution_count": null,
   "metadata": {},
   "outputs": [],
   "source": [
    "def rainPeak(meanT_daily, lgpt5):\n",
    "    day1=np.argmax(meanT_daily>=5.0,axis=2)   #KLG\n",
    "    day1=np.where(lgpt5==0,np.nan,day1)  #KLG\n",
    "    istart0=np.where((lgpt5<365),day1,0).astype('float32') # replaces if block  #KLG\n",
    "    dat1=np.where(istart0>365,istart0-365,istart0)  # replaces setdat function  #KLG\n",
    "    istart1=np.where((lgpt5<365),dat1+lgpt5-1,lgpt5-1).astype('float32') # replaces if block  #KLG\n",
    "    return istart0, istart1"
   ]
  },
  {
   "cell_type": "code",
   "execution_count": null,
   "metadata": {},
   "outputs": [],
   "source": [
    "# start=timer()\n",
    "\n",
    "# p = psh(np.zeros(clim_reg.pet_daily[:,:,0].shape,dtype='float32'), clim_reg.pet_daily[:,:,0])   #KLG\n",
    "# # p = psh(np.zeros(clim_reg.pet_daily.shape,dtype='float32'), clim_reg.pet_daily)   #KLG\n",
    "\n",
    "# task_time=timer()-start\n",
    "# task_time\n",
    "\n",
    "# create delayed chunks\n",
    "lgpt5_delayed=da.from_array(lgpt5,chunks=clim_reg.chunk2D).to_delayed().ravel()\n",
    "meanT_delayed=clim_reg.meanT_daily.to_delayed().ravel()\n",
    "\n",
    "# create list of delayed compute tasks\n",
    "task_list=[dask.delayed(rainPeak)(meanT_chunk,lgp_chunk) for meanT_chunk,lgp_chunk in zip(meanT_delayed,lgpt5_delayed)]\n",
    "\n",
    "# compute\n",
    "results_list=dask.compute(*task_list)\n",
    "\n",
    "# separate results into lists of chunks\n",
    "istart0_chunks=[]\n",
    "istart1_chunks=[]\n",
    "for c in range(clim_reg.nchunks):\n",
    "    istart0_chunks.append(results_list[c][0])\n",
    "    istart1_chunks.append(results_list[c][1])\n",
    "\n",
    "# # concatenate to numpy array\n",
    "# istart0=np.concatenate(istart0_chunks,axis=1)\n",
    "# istart1=np.concatenate(istart1_chunks,axis=1)\n",
    "\n",
    "istart0_delayed=[]\n",
    "for arr in istart0_chunks:\n",
    "    istart0_delayed.append(dask.delayed(arr))\n",
    "\n",
    "istart0_delayed"
   ]
  },
  {
   "cell_type": "code",
   "execution_count": null,
   "metadata": {},
   "outputs": [],
   "source": [
    "test=dask.delayed(clim_reg.meanT_daily)\n",
    "test"
   ]
  },
  {
   "cell_type": "code",
   "execution_count": null,
   "metadata": {},
   "outputs": [],
   "source": [
    "test=clim_reg.meanT_daily.to_delayed().ravel()\n",
    "test"
   ]
  },
  {
   "cell_type": "code",
   "execution_count": null,
   "metadata": {},
   "outputs": [],
   "source": [
    "timechunks=(1,-1,clim_reg.chunk3D[1])\n",
    "Tx365 = clim_reg.maxT_daily.transpose((2,0,1)).rechunk(chunks=timechunks).blocks.ravel()\n",
    "len(Tx365),Tx365[0]"
   ]
  },
  {
   "cell_type": "code",
   "execution_count": null,
   "metadata": {},
   "outputs": [],
   "source": [
    "len(Tx365[0:clim_reg.nchunks])\n",
    "istart=clim_reg.nchunks*i\n",
    "iend=istart+clim_reg.nchunks\n",
    "# clim_reg.maxT_daily.transpose((2,0,1)).rechunk(chunks=timechunks).blocks.ravel()"
   ]
  },
  {
   "cell_type": "code",
   "execution_count": null,
   "metadata": {},
   "outputs": [],
   "source": [
    "s=(3,5)\n",
    "\n",
    "arr1=np.array([[1,2,3,4,5],\n",
    "               [6,7,8,9,10],\n",
    "               [11,12,13,14,15]],dtype='int8')\n",
    "\n",
    "arr2=-np.array([[1,2,3,4,5],\n",
    "               [6,7,8,9,10],\n",
    "               [11,12,13,14,15]],dtype='int8')\n",
    "\n",
    "# np0=np.zeros(s,dtype='int8')\n",
    "# np1=np.ones(s,dtype='int8')\n",
    "\n",
    "# nptest=np.stack((np0,np1),axis=-1,dtype='int8')\n",
    "# nptest\n",
    "\n",
    "# nptest=np.stack((arr1,arr2),axis=-1,dtype='int8')\n",
    "# darr=da.from_array(nptest,chunks=(3,2,1))\n",
    "# nptest.shape,nptest\n",
    "nptest=np.stack((arr1,arr2),axis=0,dtype='int8')\n",
    "darr=da.from_array(nptest,chunks=(1,-1,2))\n",
    "darr\n"
   ]
  },
  {
   "cell_type": "code",
   "execution_count": null,
   "metadata": {},
   "outputs": [],
   "source": [
    "darr.blocks.shape"
   ]
  },
  {
   "cell_type": "code",
   "execution_count": null,
   "metadata": {},
   "outputs": [],
   "source": [
    "darr.blocks[0].shape"
   ]
  },
  {
   "cell_type": "code",
   "execution_count": null,
   "metadata": {},
   "outputs": [],
   "source": [
    "for i,block in enumerate(darr.blocks.ravel()[0:3]):\n",
    "    print('block',i)\n",
    "    print(block.compute())\n",
    "    print('---')"
   ]
  },
  {
   "cell_type": "code",
   "execution_count": null,
   "metadata": {},
   "outputs": [],
   "source": [
    "test=dask.compute(*darr.blocks.ravel()[0:3])\n",
    "test2=np.concatenate(test,axis=2)\n",
    "test2.shape"
   ]
  },
  {
   "cell_type": "code",
   "execution_count": null,
   "metadata": {},
   "outputs": [],
   "source": [
    "test2"
   ]
  },
  {
   "cell_type": "code",
   "execution_count": null,
   "metadata": {},
   "outputs": [],
   "source": [
    "nptest.shape,nptest"
   ]
  },
  {
   "cell_type": "code",
   "execution_count": null,
   "metadata": {},
   "outputs": [],
   "source": [
    "np.stack((arr1,arr2),axis=2,dtype='int8')"
   ]
  },
  {
   "cell_type": "code",
   "execution_count": null,
   "metadata": {},
   "outputs": [],
   "source": [
    "nptest.transpose((1,2,0))"
   ]
  },
  {
   "cell_type": "code",
   "execution_count": null,
   "metadata": {},
   "outputs": [],
   "source": [
    "# parallel=True; for global expect ~1min (laptop), ~1.5min (desktop) run time \n",
    "# parallel=True; for china expect x (laptop), ~1s (desktop) run time\n",
    "# parallel=False; for china expect x (laptop), ~xmin (desktop) run time\n",
    "\n",
    "start=timer()\n",
    "\n",
    "tclimate = clim_reg.getThermalClimate()\n",
    "\n",
    "task_time=timer()-start\n",
    "task_time"
   ]
  },
  {
   "cell_type": "code",
   "execution_count": null,
   "metadata": {},
   "outputs": [],
   "source": [
    "'''save and visualize result'''\n",
    "fig = plt.figure()\n",
    "plt.imshow(tclimate, cmap=plt.get_cmap('gist_ncar_r', 12),vmin=-0.3,vmax=12.5,interpolation='none')\n",
    "plt.title('Thermal Climate')\n",
    "plt.colorbar(shrink=0.4)\n",
    "plt.savefig(out_path+\"ThermalClimate.png\",bbox_inches =\"tight\",dpi=300) #Save as PNG image\n",
    "plt.show()"
   ]
  },
  {
   "cell_type": "code",
   "execution_count": null,
   "metadata": {},
   "outputs": [],
   "source": [
    "# parallel=True; for global expect ~3s (laptop), ~4s (desktop) run time \n",
    "# parallel=True; for china expect x (laptop), <1s (desktop) run time\n",
    "# parallel=False; for china expect x (laptop), ~xmin (desktop) run time\n",
    "start=timer()\n",
    "\n",
    "tzone = clim_reg.getThermalZone()\n",
    "\n",
    "task_time=timer()-start\n",
    "task_time"
   ]
  },
  {
   "cell_type": "code",
   "execution_count": null,
   "metadata": {},
   "outputs": [],
   "source": [
    "'''save and visualize result'''\n",
    "fig = plt.figure()\n",
    "plt.imshow(tzone, cmap=plt.get_cmap('gist_ncar_r', 12),vmin=-0.3,vmax=12.5,interpolation='none')\n",
    "plt.title('Thermal Zones')\n",
    "plt.colorbar(shrink=0.4)\n",
    "plt.savefig(out_path+\"ThermalZone\"+revname+\".png\",bbox_inches =\"tight\",dpi=300) #Save as PNG image\n",
    "plt.show()"
   ]
  },
  {
   "cell_type": "code",
   "execution_count": null,
   "metadata": {},
   "outputs": [],
   "source": [
    "# parallel=True; for global expect ~1min (laptop), ~1.25min (desktop) run time \n",
    "# parallel=True; for china expect x (laptop), ~1.5s (desktop) run time\n",
    "# parallel=False; for china expect x (laptop), ~xmin (desktop) run time\n",
    "start=timer()\n",
    "\n",
    "lgpt0 = clim_reg.getThermalLGP0()\n",
    "lgpt5 = clim_reg.getThermalLGP5()\n",
    "lgpt10 = clim_reg.getThermalLGP10()\n",
    "\n",
    "task_time=timer()-start\n",
    "task_time"
   ]
  },
  {
   "cell_type": "code",
   "execution_count": null,
   "metadata": {},
   "outputs": [],
   "source": [
    "'''save and visualize result'''\n",
    "#======================\n",
    "# plt.figure(figsize=(20, 4),dpi=300)\n",
    "plt.figure()\n",
    "plt.subplot(1, 3, 1)\n",
    "plt.imshow(lgpt0,vmin=0,vmax=366,interpolation='none')\n",
    "plt.title('LGPt 0')\n",
    "plt.colorbar(shrink=0.8)\n",
    "#----------------------\n",
    "plt.subplot(1, 3, 2)\n",
    "plt.imshow(lgpt5, vmin=0, vmax=366,interpolation='none')\n",
    "plt.title('LGPt 5')\n",
    "plt.colorbar(shrink=0.8)\n",
    "#----------------------\n",
    "plt.subplot(1, 3, 3)\n",
    "plt.imshow(lgpt10, vmin=0, vmax=366,interpolation='none')\n",
    "plt.title('LGPt 10')\n",
    "plt.colorbar(shrink=0.8)\n",
    "#----------------------\n",
    "plt.savefig(out_path+\"ThermalLGPs\"+revname+\".png\",\n",
    "            bbox_inches=\"tight\", dpi=300)\n",
    "plt.show()\n",
    "#======================"
   ]
  },
  {
   "cell_type": "code",
   "execution_count": null,
   "metadata": {},
   "outputs": [],
   "source": [
    "# parallel=True; for global expect ~70s (laptop), ~75s (desktop) run time \n",
    "# parallel=True; for china expect x (laptop), ~1.5s (desktop) run time\n",
    "# parallel=False; for china expect x (laptop), ~xmin (desktop) run time\n",
    "start=timer()\n",
    "\n",
    "tsum0 = clim_reg.getTemperatureSum0()\n",
    "tsum5 = clim_reg.getTemperatureSum5()\n",
    "tsum10 = clim_reg.getTemperatureSum10()\n",
    "\n",
    "task_time=timer()-start\n",
    "task_time"
   ]
  },
  {
   "cell_type": "code",
   "execution_count": null,
   "metadata": {},
   "outputs": [],
   "source": [
    "'''save and visualize result'''\n",
    "#======================\n",
    "# plt.figure(1, figsize=(20, 4),dpi=300)\n",
    "plt.figure()\n",
    "plt.subplot(1, 3, 1)\n",
    "plt.imshow(tsum0, cmap='hot_r', vmin=0, vmax=11000,interpolation='none')\n",
    "plt.title('T-sumation 0')\n",
    "plt.colorbar(shrink=0.8)\n",
    "#----------------------\n",
    "plt.subplot(1, 3, 2)\n",
    "plt.imshow(tsum5, cmap='hot_r', vmin=0, vmax=11000,interpolation='none')\n",
    "plt.title('T-sumation 5')\n",
    "plt.colorbar(shrink=0.8)\n",
    "#----------------------\n",
    "plt.subplot(1, 3, 3)\n",
    "plt.imshow(tsum10, cmap='hot_r', vmin=0, vmax=11000,interpolation='none')\n",
    "plt.title('T-sumation 10')\n",
    "plt.colorbar(shrink=0.8)\n",
    "#----------------------\n",
    "plt.savefig(out_path+\"Tsum_\"+revname+\".png\",\n",
    "            bbox_inches=\"tight\", dpi=300)\n",
    "plt.show()\n",
    "#======================"
   ]
  },
  {
   "cell_type": "code",
   "execution_count": null,
   "metadata": {},
   "outputs": [],
   "source": [
    "import psutil\n",
    "print('1:',psutil.virtual_memory().free/1E9)\n"
   ]
  },
  {
   "cell_type": "code",
   "execution_count": null,
   "metadata": {},
   "outputs": [],
   "source": [
    "# parallel=True; for global expect ~s (laptop), ~4.75min (desktop) run time \n",
    "# parallel=True; for china expect x (laptop), ~8s (desktop) run time\n",
    "# parallel=False; for china expect x (laptop), ~xmin (desktop) run time\n",
    "start=timer()\n",
    "\n",
    "tprofile = clim_reg.getTemperatureProfile()\n",
    "\n",
    "task_time=timer()-start\n",
    "task_time"
   ]
  },
  {
   "cell_type": "code",
   "execution_count": null,
   "metadata": {},
   "outputs": [],
   "source": [
    "'''save and visualize result'''\n",
    "tile_list = ['A1','A2','A3','A4','A5','A6','A7','A8','A9',\n",
    "            'B1', 'B2', 'B3', 'B4', 'B5', 'B6', 'B7', 'B8', 'B9']\n",
    "\n",
    "# fig = plt.figure(figsize=(12, 12))\n",
    "fig = plt.figure()\n",
    "for i1 in range(1, 19):\n",
    "    plt.subplot(6, 3, i1)\n",
    "    plt.imshow(tprofile[i1-1],interpolation='none')\n",
    "    plt.title(tile_list[i1-1])\n",
    "    plt.colorbar(shrink=0.8)\n",
    "plt.tight_layout()\n",
    "\n",
    "plt.savefig(out_path+\"Tprofiles_\"+revname+\".png\",bbox_inches=\"tight\", dpi=300)\n",
    "plt.show()"
   ]
  },
  {
   "cell_type": "code",
   "execution_count": null,
   "metadata": {},
   "outputs": [],
   "source": []
  },
  {
   "cell_type": "code",
   "execution_count": null,
   "metadata": {},
   "outputs": [],
   "source": [
    "def Eta_class(mask,ta,tx,tmelt,lgpt5):    \n",
    "\n",
    "    eta_class=np.empty(mask.shape,dtype='float32')\n",
    "    eta_class[:]=np.nan\n",
    "\n",
    "    # assign categorical value to snow areas\n",
    "    eta_class=np.where((ta<=0) & (tx<=tmelt),np.float32(1),np.float32(eta_class))\n",
    "\n",
    "    # assign categorical value to snow melting areas\n",
    "    eta_class=np.where((ta<=0) & (tx>=0) & ~np.isfinite(eta_class),np.float32(2),np.float32(eta_class))\n",
    "\n",
    "    # assign categorical value to cold areas (pre-growing season)\n",
    "    eta_class=np.where((ta>0) & (ta<5) & ~np.isfinite(eta_class),np.float32(3),np.float32(eta_class))\n",
    "\n",
    "    # assign categorical value to warm areas (growing season)\n",
    "    eta_class=np.where((lgpt5<365) & (ta>=5) & ~np.isfinite(eta_class),np.float32(4),np.float32(eta_class))\n",
    "\n",
    "    # assign categorical value to warmest areas\n",
    "    eta_class=np.where((mask==1) & ~np.isfinite(eta_class),np.float32(5),np.float32(eta_class))"
   ]
  },
  {
   "cell_type": "code",
   "execution_count": null,
   "metadata": {},
   "outputs": [],
   "source": [
    "def Eta_class(mask,lgpt5,ta,tx,tmelt):    \n",
    "\n",
    "    eta_class=da.empty(mask.shape,dtype='float32')\n",
    "    eta_class[:]=np.nan\n",
    "\n",
    "    eta_class=da.where((ta<=0) & (tx<=tmelt),np.float32(1),np.float32(eta_class))\n",
    "    eta_class=da.where((ta<=0) & (tx>=0) & ~np.isfinite(eta_class),np.float32(2),np.float32(eta_class))\n",
    "    eta_class=da.where((ta>0) & (ta<5) & ~np.isfinite(eta_class),np.float32(3),np.float32(eta_class))\n",
    "    eta_class=da.where((lgpt5<365) & (ta>=5) & ~np.isfinite(eta_class),np.float32(4),np.float32(eta_class))\n",
    "    eta_class=da.where((mask==1) & ~np.isfinite(eta_class),np.float32(5),np.float32(eta_class))\n",
    "\n",
    "    return eta_class"
   ]
  },
  {
   "cell_type": "code",
   "execution_count": null,
   "metadata": {},
   "outputs": [],
   "source": [
    "start=timer()\n",
    "print('in ClimateRegime, computing Tx365 in parallel')\n",
    "Tx365=clim_reg.maxT_daily.compute()  # convert dask to numpy\n",
    "print('in ClimateRegime, computing Ta365 in parallel')\n",
    "Ta365=clim_reg.meanT_daily.compute()  # convert dask to numpy\n",
    "print('in ClimateRegime, computing Pcp355 in parallel')\n",
    "Pcp365=clim_reg.totalPrec_daily.compute()  # convert dask to numpy   \n",
    "print('computing mask in parallel')\n",
    "mask=clim_reg.im_mask.compute()\n",
    "\n",
    "eta_class=Eta_class(im_mask,lgpt5,Ta,Tx,Txsnm)\n",
    "task_time=timer()-start\n",
    "task_time"
   ]
  },
  {
   "cell_type": "code",
   "execution_count": null,
   "metadata": {},
   "outputs": [],
   "source": [
    "test=clim_reg.im_mask.to_delayed()\n",
    "chunk_shapes2D=dask.compute([chunk.shape for chunk in test.ravel()])\n",
    "# chunk_shapes2D[0][:]\n",
    "\n",
    "chunk_shapes3D=[]\n",
    "for item in chunk_shapes2D[0]:\n",
    "    chunk_shapes3D.append((item[0],item[1],365))\n",
    "# chunk_shapes3D[:]"
   ]
  },
  {
   "cell_type": "code",
   "execution_count": null,
   "metadata": {},
   "outputs": [],
   "source": [
    "test=clim_reg.meanT_daily.rechunk(chunks=(-1,-1,1))\n",
    "test"
   ]
  },
  {
   "cell_type": "code",
   "execution_count": null,
   "metadata": {},
   "outputs": [],
   "source": [
    "test2=clim_reg.maxT_daily.rechunk(chunks=(-1,-1,1))\n",
    "test2"
   ]
  },
  {
   "cell_type": "code",
   "execution_count": null,
   "metadata": {},
   "outputs": [],
   "source": [
    "Txsnm = 0.\n",
    "eta_class=Eta_class(clim_reg.im_mask,da.from_array(lgpt5,chunks=clim_reg.chunk2D),clim_reg.meanT_daily[:,:,0],clim_reg.maxT_daily[:,:,0],Txsnm)\n",
    "eta_class"
   ]
  },
  {
   "cell_type": "code",
   "execution_count": null,
   "metadata": {},
   "outputs": [],
   "source": [
    "# parallel=True; for global expect ~s (laptop), ~x (desktop) run time \n",
    "# parallel=True; for china expect x (laptop), ~52s (desktop) run time\n",
    "# parallel=False; for china expect x (laptop), ~xmin (desktop) run time\n",
    "start=timer()\n",
    "\n",
    "lgp = clim_reg.getLGP(Sa=100., D=1.)\n",
    "lgp_class = clim_reg.getLGPClassified(lgp)\n",
    "lgp_equv = clim_reg.getLGPEquivalent()\n",
    "\n",
    "task_time=timer()-start\n",
    "task_time"
   ]
  },
  {
   "cell_type": "code",
   "execution_count": null,
   "metadata": {},
   "outputs": [],
   "source": [
    "'''save and visualize result'''\n",
    "# fig = plt.figure(figsize=(20, 4))\n",
    "fig = plt.figure()\n",
    "# fig = plt.figure(figsize=(10, 8),dpi=600)\n",
    "plt.subplot(121)\n",
    "plt.imshow(lgp, cmap='viridis', vmin=0, vmax=366,interpolation='none')\n",
    "plt.title('LGP [days]')\n",
    "plt.colorbar(shrink=0.8)\n",
    "# plt.savefig(out_path+\"LGP_\"+revname+\".png\", bbox_inches=\"tight\", dpi=600)\n",
    "# plt.show()\n",
    "\n",
    "# fig = plt.figure(figsize=(20, 8),dpi=600)\n",
    "plt.subplot(122)\n",
    "plt.imshow(lgp_equv, cmap='viridis', vmin=0, vmax=366,interpolation='none')\n",
    "plt.title('LGP Equivalent [days]')\n",
    "plt.colorbar(shrink=0.8)\n",
    "# plt.savefig(out_path+\"LGP_Equv_\"+revname+\".png\",bbox_inches=\"tight\", dpi=600)\n",
    "plt.show()\n",
    "\n",
    "plt.savefig(out_path+\"LGP_and_LGP_Equv_\"+revname+\".png\",bbox_inches=\"tight\", dpi=300)"
   ]
  },
  {
   "cell_type": "code",
   "execution_count": null,
   "metadata": {},
   "outputs": [],
   "source": [
    "# parallel=True; for global expect ~s (laptop), ~x (desktop) run time \n",
    "# parallel=True; for china expect x (laptop), ~7s (desktop) run time\n",
    "# parallel=False; for china expect x (laptop), ~xmin (desktop) run time\n",
    "\n",
    "# expect >1s run time for china\n",
    "# non-vectorized: expect ~1.5 minutes run time for china\n",
    "start=timer()\n",
    "\n",
    "multi_crop = clim_reg.getMultiCroppingZones(tclimate, lgp, lgpt5, lgpt10, tsum0, tsum10)\n",
    "multi_crop_rainfed = multi_crop[0]  # for rainfed conditions\n",
    "multi_crop_irr = multi_crop[1]  # for irrigated conditions\n",
    "\n",
    "task_time=timer()-start\n",
    "task_time"
   ]
  },
  {
   "cell_type": "code",
   "execution_count": null,
   "metadata": {},
   "outputs": [],
   "source": [
    "'''save and visualize result'''\n",
    "fig = plt.figure()\n",
    "plt.imshow(multi_crop_irr, cmap=plt.get_cmap('gist_ncar_r', 9), vmin=-0.2, vmax=8.4,interpolation='none')\n",
    "plt.title('Multi Cropping Zone - IRR')\n",
    "plt.colorbar()\n",
    "plt.savefig(out_path+\"multicrop_irr_\"+revname+\".png\", bbox_inches=\"tight\", dpi=300)\n",
    "plt.show()\n",
    "\n",
    "fig = plt.figure()\n",
    "plt.imshow(multi_crop_rainfed,cmap=plt.get_cmap('gist_ncar_r', 9), vmin=-0.2, vmax=8.4,interpolation='none')\n",
    "plt.title('Multi Cropping Zone - RAINFED')\n",
    "plt.colorbar()\n",
    "plt.savefig(out_path+\"multicrop_rain_\"+revname+\".png\",bbox_inches=\"tight\", dpi=300)\n",
    "plt.show()"
   ]
  },
  {
   "cell_type": "code",
   "execution_count": null,
   "metadata": {},
   "outputs": [],
   "source": [
    "# parallel=True; for global expect ~s (laptop), ~x (desktop) run time \n",
    "# parallel=True; for china expect x (laptop), ~1s (desktop) run time\n",
    "# parallel=False; for china expect x (laptop), ~xmin (desktop) run time\n",
    "\n",
    "# expect >1s run time for china\n",
    "# non-vectorized: expect ~2 seconds run time for china\n",
    "start=timer()\n",
    "\n",
    "permafrost_eval = clim_reg.AirFrostIndexandPermafrostEvaluation()\n",
    "frost_index = permafrost_eval[0]\n",
    "permafrost = permafrost_eval[1]\n",
    "\n",
    "task_time=timer()-start\n",
    "task_time"
   ]
  },
  {
   "cell_type": "code",
   "execution_count": null,
   "metadata": {},
   "outputs": [],
   "source": [
    "frost_index.dtype"
   ]
  },
  {
   "cell_type": "code",
   "execution_count": null,
   "metadata": {},
   "outputs": [],
   "source": [
    "'''save and visualize result'''\n",
    "fig = plt.figure()\n",
    "plt.imshow(frost_index, cmap=plt.get_cmap('tab20b', 11), vmin=-0.05, vmax=1.05,interpolation='none')\n",
    "plt.title('Frost Index')\n",
    "plt.colorbar()\n",
    "plt.savefig(out_path+\"frost_index_\"+revname+\".png\",bbox_inches=\"tight\", dpi=300)\n",
    "plt.show()\n",
    "\n",
    "fig = plt.figure()\n",
    "plt.imshow(permafrost, cmap=plt.get_cmap('tab20b', 5), vmin=-0.5, vmax=4.3,interpolation='none')\n",
    "plt.title('Permafrost Evaluation')\n",
    "plt.colorbar()\n",
    "plt.savefig(out_path+\"permafrost_\"+revname+\".png\",bbox_inches=\"tight\", dpi=300)\n",
    "plt.show()"
   ]
  },
  {
   "cell_type": "code",
   "execution_count": null,
   "metadata": {},
   "outputs": [],
   "source": [
    "# parallel=True; for global expect ~s (laptop), ~x (desktop) run time \n",
    "# parallel=True; for china expect x (laptop), <1s (desktop) run time\n",
    "# parallel=False; for china expect x (laptop), ~xmin (desktop) run time\n",
    "\n",
    "# expect >1s run time for china\n",
    "# expect ~15 seconds run time for china\n",
    "start=timer()\n",
    "\n",
    "tzone_fallow = clim_reg.TZoneFallowRequirement(tzone)\n",
    "\n",
    "task_time=timer()-start\n",
    "task_time"
   ]
  },
  {
   "cell_type": "code",
   "execution_count": null,
   "metadata": {},
   "outputs": [],
   "source": [
    "'''save and visualize result'''\n",
    "fig = plt.figure()\n",
    "plt.imshow(tzone_fallow, cmap=plt.get_cmap('tab10', 7), vmin=-0.5, vmax=6.3,interpolation='none')\n",
    "plt.title('Fallow Requirement')\n",
    "plt.colorbar()\n",
    "plt.savefig(out_path+\"fallow_\"+revname+\".png\",bbox_inches=\"tight\", dpi=300)\n",
    "plt.show()\n",
    "\n",
    "obj_utilities.saveRaster(mask_path, out_path+'fallow_'+revname+'.tif', tzone_fallow)\n"
   ]
  },
  {
   "cell_type": "code",
   "execution_count": null,
   "metadata": {},
   "outputs": [],
   "source": [
    "clim_reg.__dict__.keys()"
   ]
  },
  {
   "cell_type": "code",
   "execution_count": null,
   "metadata": {},
   "outputs": [],
   "source": [
    "# check dtypes of all outputs\n",
    "outputs=[tclimate,tzone,lgpt0,lgpt5,lgpt10,tsum0,tsum5,tsum10,tprofile,lgp,lgp_class,lgp_equv,multi_crop_rainfed,multi_crop_irr,frost_index,permafrost,tzone_fallow]\n",
    "dtypes=[]\n",
    "for var in outputs:\n",
    "    # for arrays\n",
    "    try:\n",
    "        dt=var.dtype\n",
    "        dtypes.append(dt)\n",
    "    # for lists of arrays\n",
    "    except:\n",
    "        for v in var:\n",
    "            dt=v.dtype\n",
    "            dtypes.append(dt)\n",
    "\n",
    "print(dtypes)"
   ]
  },
  {
   "cell_type": "code",
   "execution_count": null,
   "metadata": {},
   "outputs": [],
   "source": [
    "vars=['meanT_daily','meanT_daily_sealevel','P_by_PET_daily','maxT_daily','totalPrec_daily']\n",
    "\n",
    "for v in vars:\n",
    "\n",
    "    start=timer()\n",
    "    test=clim_reg.__getattribute__(v).compute()\n",
    "    task_time=timer()-start\n",
    "    print(v, task_time, 'seconds')"
   ]
  },
  {
   "cell_type": "code",
   "execution_count": null,
   "metadata": {},
   "outputs": [],
   "source": []
  },
  {
   "cell_type": "code",
   "execution_count": null,
   "metadata": {},
   "outputs": [],
   "source": []
  },
  {
   "cell_type": "code",
   "execution_count": null,
   "metadata": {},
   "outputs": [],
   "source": []
  },
  {
   "cell_type": "code",
   "execution_count": null,
   "metadata": {},
   "outputs": [],
   "source": []
  },
  {
   "cell_type": "code",
   "execution_count": null,
   "metadata": {},
   "outputs": [],
   "source": []
  },
  {
   "cell_type": "code",
   "execution_count": null,
   "metadata": {},
   "outputs": [],
   "source": []
  },
  {
   "cell_type": "code",
   "execution_count": null,
   "metadata": {},
   "outputs": [],
   "source": []
  },
  {
   "cell_type": "code",
   "execution_count": null,
   "metadata": {},
   "outputs": [],
   "source": []
  },
  {
   "cell_type": "code",
   "execution_count": null,
   "metadata": {},
   "outputs": [],
   "source": []
  },
  {
   "cell_type": "code",
   "execution_count": null,
   "metadata": {},
   "outputs": [],
   "source": []
  },
  {
   "cell_type": "code",
   "execution_count": null,
   "metadata": {},
   "outputs": [],
   "source": []
  },
  {
   "cell_type": "code",
   "execution_count": null,
   "metadata": {},
   "outputs": [],
   "source": [
    "def ETtest(dstart,dend,cdims,lat,alt,tmn,tmx,u2m,srad,rh):\n",
    "    # print('implementing data value limits')\n",
    "    nlats=cdims[0]\n",
    "    nlons=cdims[1]\n",
    "\n",
    "    # print('tavg,lam,dayoyr,ndays')\n",
    "    tavg = 0.5*(tmn + tmx)  # Averaged temperature  #KLG\n",
    "    lam = 2.501 - 0.002361 * tavg  # Latent heat of vaporization\n",
    "    dayoyr = np.arange(dstart, dend+1)  # Julien Days #KLG\n",
    "    ndays=len(dayoyr)  #KLG            \n",
    "\n",
    "    # print('es_tmin,es_tmax,es,ea')\n",
    "    es_tmin = 0.6108 * np.exp((17.27 * tmn) / (tmn + 237.3))\n",
    "    es_tmax = 0.6108 * np.exp((17.27 * tmx) / (tmx + 237.3))\n",
    "    es = 0.5*(es_tmin + es_tmax)\n",
    "    ea = rh * es  # Actual Vapor Pressure derived from relative humidity\n",
    "\n",
    "    # print('dlmx,dlmn,dl')\n",
    "    dlmx = 4098. * es_tmax / (tmx + 237.3)**2\n",
    "    dlmn = 4098. * es_tmin / (tmn + 237.3)**2\n",
    "    del es_tmin, es_tmax  #KLG\n",
    "    dl = 0.5* (dlmx + dlmn)\n",
    "    del dlmx,dlmn  #KLG\n",
    "\n",
    "    # print('ap and constants')\n",
    "    ap = 101.3*np.power(((293-(0.0065*alt))/293), 5.256)\n",
    "    ap = np.tile(ap[:,:,np.newaxis],(1,1,ndays))  \n",
    "    gam = 0.0016286 * ap/lam\n",
    "    hw = 200.\n",
    "    ht = 190.\n",
    "    hc = 12\n",
    "    Rl = 100  \n",
    "    RLAI = 24 * 0.12\n",
    "    rhoc = Rl/(0.5*RLAI)  \n",
    "    del ap\n",
    "\n",
    "    # print('rhoa,gamst')\n",
    "    rhoa = 208/u2m\n",
    "    gamst = gam * (1. + rhoc/rhoa)\n",
    "\n",
    "    # print('lat,sdcl')\n",
    "    latr = lat * np.pi/180.\n",
    "    latr3D = np.tile(latr[:,:,np.newaxis],(1,1,ndays))\n",
    "    del latr\n",
    "    sdcl = 0.4093 * np.sin(0.017214206 * dayoyr - 1.405)\n",
    "    sdcl3D = np.tile(sdcl[np.newaxis, np.newaxis,:], (nlats,nlons,1))\n",
    "    del sdcl\n",
    "\n",
    "    # print('xx,yy,zz')\n",
    "    xx = np.sin(sdcl3D) * np.sin(latr3D)\n",
    "    yy = np.cos(sdcl3D) * np.cos(latr3D)\n",
    "    zz = xx/yy\n",
    "\n",
    "    # print('omg,dayhr')\n",
    "    with np.errstate(invalid='ignore'):\n",
    "        omg = np.tan(zz / (1. - zz*zz)**0.5) + 1.5708\n",
    "    dayhr = 24. * (omg/np.pi)\n",
    "\n",
    "    omg=np.where((np.abs(zz)>=0.9999)&(zz>0),np.pi,omg)\n",
    "    dayhr=np.where((np.abs(zz) >= 0.9999)&(zz > 0), 23.999,dayhr)\n",
    "    omg=np.where((np.abs(zz) >= 0.9999)&(zz <= 0),0,omg)\n",
    "    dayhr=np.where((np.abs(zz) >= 0.9999)&(zz <= 0), 0.001,dayhr)\n",
    "    del latr3D,sdcl3D,zz\n",
    "\n",
    "    # print('sdst,ra')\n",
    "    sdst = 1.0 + 0.033 * np.cos(0.017214206 * dayoyr)\n",
    "    sdst3D = np.tile(sdst[np.newaxis, np.newaxis,:], (nlats,nlons,1))\n",
    "    del sdst\n",
    "    ra = 37.586 * sdst3D * (omg*xx + np.sin(omg)*yy)\n",
    "    # ra = 37.586 * sdst3D * (omg_rev2*xx + np.sin(omg_rev2)*yy)\n",
    "    # del sdst3D, sdst, omg, omg_rev1, omg_rev2, dayhr, dayhr_rev1, dayhr_rev2, xx, yy       \n",
    "    del sdst3D, omg, dayhr, xx, yy       \n",
    "\n",
    "    # print('rs,rs0')\n",
    "    rs = srad  \n",
    "    alt3D=np.tile(alt[:,:,np.newaxis],(1,1,ndays)) \n",
    "    del alt\n",
    "    rs0 = (0.75 + 0.00002 * alt3D) * ra\n",
    "    del alt3D\n",
    "\n",
    "    # print('rns,rnl')\n",
    "    rns = 0.77 * rs\n",
    "    sub_cst = 0.000000004903\n",
    "    with np.errstate(invalid='ignore',divide='ignore'):\n",
    "        rs_div_ds0=rs/rs0\n",
    "    rnl = (((273.16+tmx)**4)+((273.16 + tmn)**4)) * \\\n",
    "        (0.34 - (0.14*(ea**0.5))) * \\\n",
    "        ((1.35*(rs_div_ds0))-0.35)*sub_cst/2\n",
    "    del rs0,rs,rs_div_ds0,tmx,tmn\n",
    "\n",
    "    # print('rn')\n",
    "    rn = rns - rnl\n",
    "    del rns,rnl\n",
    "\n",
    "    # print('ta_diff,G')\n",
    "    ta_diff=np.diff(tavg,n=1,axis=2,prepend=tavg[:,:,-1:])  #KLG\n",
    "    G = 0.14 * ta_diff  #KLG\n",
    "    del ta_diff\n",
    "\n",
    "    # print('et0ady')\n",
    "    et0ady = gam/(dl+gamst) * 900./(tavg+273.) * u2m * (es-ea)\n",
    "    del gam,tavg,es,ea\n",
    "\n",
    "    # print('et0rad')\n",
    "    et0rad = dl/(dl+gamst) * (rn-G) / lam\n",
    "    del dl,gamst,rn,G,lam\n",
    "\n",
    "    # print('et0')\n",
    "    et0 = et0ady + et0rad\n",
    "    del et0ady,et0rad\n",
    "\n",
    "    # print('et0_out')\n",
    "    et0_out=np.where(et0<0,0,et0)\n",
    "\n",
    "    return et0_out\n",
    "    # return doy_start,doy_end,chunkdims,latitude,alt,min_temp,max_temp,u2m,shortrad_daily_MJm2day,rel_humidity\n",
    "    # return alt"
   ]
  },
  {
   "cell_type": "code",
   "execution_count": null,
   "metadata": {},
   "outputs": [],
   "source": [
    "def setDailyClimateData(self, min_temp, max_temp, precipitation, short_rad, wind_speed, rel_humidity):\n",
    "\n",
    "    self.doy_start=1  #KLG\n",
    "    self.doy_end=min_temp.shape[2]  #KLG \n",
    "    \n",
    "    print('rechunking and delaying inputs')\n",
    "    min_temp=min_temp.rechunk(chunks=self.chunk3D)\n",
    "    max_temp=max_temp.rechunk(chunks=self.chunk3D)\n",
    "    tmn_delay=min_temp.to_delayed()\n",
    "    tmx_delay=max_temp.to_delayed()\n",
    "\n",
    "    short_rad=short_rad.rechunk(chunks=self.chunk3D) # chunk\n",
    "    short_rad=da.where(short_rad < 0, 0, short_rad)  # elim negatives\n",
    "    short_rad = (short_rad*3600.*24.)/1000000.       # convert units\n",
    "    srad_delay=short_rad.to_delayed()\n",
    "    del short_rad\n",
    "\n",
    "    wind_speed=wind_speed.rechunk(chunks=self.chunk3D)     # chunk\n",
    "    # wind_speed=da.where(wind_speed < 0, 0, wind_speed)     # elim negative\n",
    "    wind_speed=da.where(wind_speed < 0.5, 0.5, wind_speed) # elim negative and small values\n",
    "    wind_delay=wind_speed.to_delayed()\n",
    "\n",
    "    rel_humidity=rel_humidity.rechunk(chunks=self.chunk3D)        # chunk\n",
    "    rel_humidity=da.where(rel_humidity > 0.99, 0.99,rel_humidity) # elim high values\n",
    "    rel_humidity=da.where(rel_humidity < 0.05, 0.05,rel_humidity) # elim low values\n",
    "    rh_delay=rel_humidity.to_delayed()\n",
    "    del rel_humidity\n",
    "\n",
    "    lat_delay=self.latitude.to_delayed()\n",
    "    elev_delay=self.elevation.to_delayed()        \n",
    "\n",
    "\n",
    "    print('getting chunk shapes')\n",
    "    chunk_shapes=dask.compute([chunk.shape for chunk in tmn_delay.ravel()])\n",
    "    print('zipping delayed inputs')\n",
    "    zipvars=zip(chunk_shapes[0][:],lat_delay.ravel(),elev_delay.ravel(),tmn_delay.ravel(),tmx_delay.ravel(),wind_delay.ravel(),srad_delay.ravel(),rh_delay.ravel())\n",
    "    print('creating task list')\n",
    "    task_list=[dask.delayed(ETtest)(self.doy_start,self.doy_end,cshape,lat,el,tmn,tmx,u,srad,rh) for cshape,lat,el,tmn,tmx,u,srad,rh in zipvars]\n",
    "\n",
    "    print('COMPUTING')\n",
    "    result_chunks=dask.compute(*task_list)\n",
    "    print('CONCATENATING')\n",
    "    self.pet_daily=np.concatenate(result_chunks,axis=1)\n",
    "    # return result_chunks\n",
    "\n",
    "\n",
    "    print('computing meanT, meanT_daily_sealevel, P_by_PET_daily')\n",
    "    self.meanT_daily = 0.5*(min_temp+max_temp)  #KLG\n",
    "\n",
    "    # sea level temperature\n",
    "    # P over PET ratio (to eliminate nan in the result, nan is replaced with zero)\n",
    "    if self.parallel:\n",
    "        self.meanT_daily_sealevel = self.meanT_daily + (da.tile(self.elevation[:,:,np.newaxis],(1,1,self.doy_end)).rechunk(chunks=self.chunk3D)/100*0.55)\n",
    "        precipitation=precipitation.rechunk(chunks=self.chunk3D)\n",
    "        with np.errstate(invalid='ignore',divide='ignore'):\n",
    "            self.P_by_PET_daily = da.nan_to_num(precipitation / self.pet_daily)\n",
    "    else:\n",
    "        self.meanT_daily_sealevel = self.meanT_daily + np.expand_dims(self.elevation/100*0.55,axis=2) # automatic broadcasting #KLG        \n",
    "        with np.errstate(invalid='ignore',divide='ignore'):\n",
    "            self.P_by_PET_daily = np.nan_to_num(precipitation / self.pet_daily)\n",
    "\n",
    "    self.set_monthly = False\n",
    "\n",
    "    print('computing interp_daily_temp')\n",
    "    # smoothed daily temperature\n",
    "    # create a mask of all 1's if the user doesn't provide a mask\n",
    "    if self.set_mask:\n",
    "        mask=self.im_mask\n",
    "    else:\n",
    "        mask=np.ones((self.im_height,self.im_width),dtype='int')\n",
    "\n",
    "    obj_utilities = UtilitiesCalc.UtilitiesCalc(self.chunk2D,self.chunk3D)  #KLG\n",
    "    self.interp_daily_temp=obj_utilities.smoothDailyTemp(self.doy_start,self.doy_end, mask, self.meanT_daily,self.chunk3D)\n",
    "\n",
    "    print('copying maxT_daily,minT_daily,totalPrec_daily')\n",
    "    self.maxT_daily = max_temp\n",
    "    # self.minT_daily = min_temp\n",
    "    self.totalPrec_daily = precipitation  #KLG   "
   ]
  },
  {
   "cell_type": "code",
   "execution_count": null,
   "metadata": {},
   "outputs": [],
   "source": [
    "clim_reg.chunk3D, clim_reg.chunksize3D_MB"
   ]
  },
  {
   "cell_type": "code",
   "execution_count": null,
   "metadata": {},
   "outputs": [],
   "source": [
    "setDailyClimateData(clim_reg, min_temp, max_temp, precipitation, short_rad, wind_speed, rel_humidity)"
   ]
  },
  {
   "cell_type": "code",
   "execution_count": null,
   "metadata": {},
   "outputs": [],
   "source": [
    "# clim_reg.pet_daily # numpy array\n",
    "# clim_reg.meanT_daily  # dask array\n",
    "# clim_reg.meanT_daily_sealevel  # dask_array\n",
    "# clim_reg.P_by_PET_daily  # dask array\n",
    "# clim_reg.maxT_daily  # dask array\n",
    "# clim_reg.totalPrec_daily  # dask array\n",
    "# clim_reg.interp_daily_temp  # numpy array"
   ]
  },
  {
   "cell_type": "code",
   "execution_count": null,
   "metadata": {},
   "outputs": [],
   "source": [
    "prsum=clim_reg.totalPrec_daily.sum(axis=2).compute()"
   ]
  },
  {
   "cell_type": "code",
   "execution_count": null,
   "metadata": {},
   "outputs": [],
   "source": []
  },
  {
   "cell_type": "code",
   "execution_count": null,
   "metadata": {},
   "outputs": [],
   "source": [
    "clim_reg.P_by_PET_daily.compute()"
   ]
  },
  {
   "cell_type": "code",
   "execution_count": null,
   "metadata": {},
   "outputs": [],
   "source": []
  },
  {
   "cell_type": "code",
   "execution_count": null,
   "metadata": {},
   "outputs": [],
   "source": [
    "# this normal numpy calculation works just fine with 5GB inputs\n",
    "\n",
    "print('implementing data value limits')\n",
    "doy_start=1  #KLG\n",
    "doy_end=min_temp.shape[2]  #KLG\n",
    "nlats=min_temp.shape[0]\n",
    "nlons=min_temp.shape[1]\n",
    "\n",
    "rel_humidity=np.where(rel_humidity > 0.99, 0.99,rel_humidity)\n",
    "rel_humidity=np.where(rel_humidity < 0.05, 0.05,rel_humidity)\n",
    "short_rad=np.where(short_rad < 0, 0, short_rad)\n",
    "shortrad_daily_MJm2day = (short_rad*3600.*24.)/1000000.\n",
    "del short_rad\n",
    "# wind_speed=da.where(wind_speed < 0, 0, wind_speed)  \n",
    "u2m=np.where(wind_speed < 0.5, 0.5, wind_speed)\n",
    "\n",
    "print('tavg,lam,dayoyr,ndays')\n",
    "tavg = 0.5*(min_temp + max_temp)  # Averaged temperature  #KLG\n",
    "lam = 2.501 - 0.002361 * tavg  # Latent heat of vaporization\n",
    "\n",
    "dayoyr = np.arange(doy_start, doy_end+1)  # Julien Days #KLG\n",
    "ndays=len(dayoyr)  #KLG            \n",
    "# alt=np.tile(clim_reg.elevation[:,:,np.newaxis],(1,1,ndays))  # 3D altitude #KLG\n",
    "alt=elevation\n",
    "\n",
    "print('es_tmin,es_tmax,es,ea')\n",
    "es_tmin = 0.6108 * np.exp((17.27 * min_temp) / (min_temp + 237.3))\n",
    "es_tmax = 0.6108 * np.exp((17.27 * max_temp) / (max_temp + 237.3))\n",
    "es = 0.5*(es_tmin + es_tmax)\n",
    "ea = rel_humidity * es  # Actual Vapor Pressure derived from relative humidity\n",
    "\n",
    "print('dlmx,dlmn,dl')\n",
    "dlmx = 4098. * es_tmax / (max_temp + 237.3)**2\n",
    "dlmn = 4098. * es_tmin / (min_temp + 237.3)**2\n",
    "# del es_tmin, es_tmax  #KLG\n",
    "dl = 0.5* (dlmx + dlmn)\n",
    "# del dlmx,dlmn  #KLG\n",
    "\n",
    "print('ap and constants')\n",
    "ap = 101.3*np.power(((293-(0.0065*alt))/293), 5.256)\n",
    "ap = np.tile(ap[:,:,np.newaxis],(1,1,ndays))  \n",
    "gam = 0.0016286 * ap/lam\n",
    "hw = 200.\n",
    "ht = 190.\n",
    "hc = 12\n",
    "Rl = 100  \n",
    "RLAI = 24 * 0.12\n",
    "rhoc = Rl/(0.5*RLAI)  \n",
    "# del ap\n",
    "\n",
    "print('rhoa,gamst')\n",
    "rhoa = 208/u2m\n",
    "gamst = gam * (1. + rhoc/rhoa)\n",
    "\n",
    "print('lat,sdcl')\n",
    "latr = clim_reg.latitude * np.pi/180.\n",
    "latr3D = np.tile(latr[:,:,np.newaxis],(1,1,ndays))\n",
    "sdcl = 0.4093 * np.sin(0.017214206 * dayoyr - 1.405)\n",
    "sdcl3D = np.tile(sdcl[np.newaxis, np.newaxis,:], (nlats,nlons,1))\n",
    "\n",
    "print('xx,yy,zz')\n",
    "xx = np.sin(sdcl3D) * np.sin(latr3D)\n",
    "yy = np.cos(sdcl3D) * np.cos(latr3D)\n",
    "zz = xx/yy\n",
    "\n",
    "print('omg,dayhr')\n",
    "omg = np.tan(zz / (1. - zz*zz)**0.5) + 1.5708\n",
    "dayhr = 24. * (omg/np.pi)\n",
    "omg_rev1=np.where((np.abs(zz)>=0.9999)&(zz>0),np.pi,omg)\n",
    "dayhr_rev1=np.where((np.abs(zz) >= 0.9999)&(zz > 0), 23.999,dayhr)\n",
    "omg_rev2=np.where((np.abs(zz) >= 0.9999)&(zz <= 0),0,omg_rev1)\n",
    "dayhr_rev2=np.where((np.abs(zz) >= 0.9999)&(zz <= 0), 0.001,dayhr_rev1)\n",
    "del latr3D,sdcl3D,latr,sdcl,zz\n",
    "\n",
    "print('sdst,ra')\n",
    "sdst = 1.0 + 0.033 * np.cos(0.017214206 * dayoyr)\n",
    "sdst3D = np.tile(sdst[np.newaxis, np.newaxis,:], (nlats,nlons,1))\n",
    "ra = 37.586 * sdst3D * (omg_rev2*xx + np.sin(omg_rev2)*yy)\n",
    "del sdst3D, sdst, omg, omg_rev1, omg_rev2, dayhr, dayhr_rev1, dayhr_rev2, xx, yy       \n",
    "\n",
    "print('rs,rs0')\n",
    "rs = shortrad_daily_MJm2day  \n",
    "alt3D=np.tile(alt[:,:,np.newaxis],(1,1,ndays)) \n",
    "rs0 = (0.75 + 0.00002 * alt3D) * ra\n",
    "del alt3D,alt\n",
    "\n",
    "print('rns,rnl')\n",
    "rns = 0.77 * rs\n",
    "sub_cst = 0.000000004903\n",
    "rs_div_ds0=rs/rs0\n",
    "rnl = (((273.16+max_temp)**4)+((273.16 + min_temp)**4)) * \\\n",
    "    (0.34 - (0.14*(ea**0.5))) * \\\n",
    "    ((1.35*(rs_div_ds0))-0.35)*sub_cst/2\n",
    "del rs0,rs,rs_div_ds0\n",
    "\n",
    "print('rn')\n",
    "rn = rns - rnl\n",
    "del rns,rnl\n",
    "\n",
    "print('ta_diff,G')\n",
    "ta_diff=np.diff(tavg,n=1,axis=2,prepend=tavg[:,:,-1:])  #KLG\n",
    "G = 0.14 * ta_diff  #KLG\n",
    "del ta_diff\n",
    "\n",
    "print('et0ady')\n",
    "et0ady = gam/(dl+gamst) * 900./(tavg+273.) * u2m * (es-ea)\n",
    "del gam,tavg,es,ea\n",
    "\n",
    "print('et0rad')\n",
    "et0rad = dl/(dl+gamst) * (rn-G) / lam\n",
    "del dl,gamst,rn,G,lam\n",
    "\n",
    "print('et0')\n",
    "et0 = et0ady + et0rad\n",
    "del et0ady,et0rad\n",
    "\n",
    "print('et0_out')\n",
    "et0_out=np.where(et0<0,0,et0)"
   ]
  },
  {
   "cell_type": "code",
   "execution_count": null,
   "metadata": {},
   "outputs": [],
   "source": [
    "gam.shape, rhoa.shape"
   ]
  },
  {
   "cell_type": "code",
   "execution_count": null,
   "metadata": {},
   "outputs": [],
   "source": [
    "# gamst"
   ]
  },
  {
   "cell_type": "code",
   "execution_count": null,
   "metadata": {},
   "outputs": [],
   "source": []
  },
  {
   "cell_type": "code",
   "execution_count": null,
   "metadata": {},
   "outputs": [],
   "source": []
  },
  {
   "cell_type": "code",
   "execution_count": null,
   "metadata": {},
   "outputs": [],
   "source": []
  },
  {
   "cell_type": "code",
   "execution_count": null,
   "metadata": {},
   "outputs": [],
   "source": [
    "# nchunks=238\n",
    "# nlons=min_temp.shape[1]\n",
    "# chunk_nlons=int(da.ceil(nlons/nchunks))\n",
    "# chunks3D=(-1,chunk_nlons,-1)\n",
    "# chunks2D=(-1,chunk_nlons)\n",
    "\n",
    "# lat_vals=da.linspace(lat_min, lat_max, min_temp.shape[0]).astype('float32')  #KLG\n",
    "# lat_map=da.tile(lat_vals[:,np.newaxis],(1,min_temp.shape[1])).rechunk(chunks=chunks2D)  #KLG   \n",
    "# # lat_map=da.broadcast_to(lat_vals,(min_temp.shape[0],min_temp.shape[1]),chunks=chunks2D)\n",
    "# lat_map"
   ]
  },
  {
   "cell_type": "code",
   "execution_count": null,
   "metadata": {},
   "outputs": [],
   "source": [
    "class ETOCalc(object):\n",
    " \n",
    "    def __init__(self, cycle_begin, cycle_end, latitude, altitude,chunk3D):\n",
    "        \"\"\"Initiate a ETOCalc Class instance\n",
    "\n",
    "        Args:\n",
    "            cycle_begin (int): Julian day for the beginning of crop cycle\n",
    "            cycle_end (int): Julian day for the ending of crop cycle\n",
    "            latitude (float): a latitude value\n",
    "            altitude (float): an altitude value\n",
    "        \"\"\"        \n",
    "        self.cycle_begin = cycle_begin\n",
    "        self.cycle_end = cycle_end\n",
    "        self.latitude = latitude\n",
    "        self.alt = altitude\n",
    "        \n",
    "        self.chunk3D=chunk3D\n",
    "        if self.chunk3D: self.parallel=True\n",
    "        else: self.parallel=False\n",
    "        print('parallel ETO = ',self.parallel)\n",
    "\n",
    "    def setClimateData(self, min_temp, max_temp, wind_speed, short_rad, rel_humidity):\n",
    "        \"\"\"Load the climatic (point) data into the Class\n",
    "\n",
    "        Args:\n",
    "            min_temp (float): Minimum temperature [Celcius]\n",
    "            max_temp (float): Maximum temperature [Celcius]\n",
    "            wind_speed (float): Windspeed at 2m altitude [m/s]\n",
    "            short_rad (float): Radiation [MJ/m2.day]\n",
    "            rel_humidity (float): Relative humidity [decimal percentage]\n",
    "        \"\"\"        \n",
    "\n",
    "        self.minT_daily = min_temp # Celcius\n",
    "        self.maxT_daily = max_temp # Celcius\n",
    "        self.u2m = wind_speed # m/s at 2m\n",
    "        self.shortRad_daily = short_rad # MJ/m2.day\n",
    "        self.rel_humidity = rel_humidity # Fraction\n",
    "\n",
    "    def calculateETO(self):  #KLG\n",
    "        # numba doesn't speed this up in time tests  #KLG\n",
    "        # removing in favor of vectorization which will allow chunking with dask for speed  #KLG\n",
    "\n",
    "        \"\"\"Calculate the reference evapotranspiration with Penmann-Monteith Equation\n",
    "\n",
    "        Returns:\n",
    "            ## float: ETo of a single pixel (function is called pixel-wise)\n",
    "            float: ETo of each pixel  #KLG\n",
    "        \"\"\"        \n",
    "        # if self.parallel:\n",
    "        #     self.minT_daily=self.minT_daily.persist()\n",
    "        #     self.maxT_daily=self.maxT_daily.persist()\n",
    "            # self.windspeed_daily=self.windspeed_daily.persist()\n",
    "            # self.alt=self.alt.persist()\n",
    "            # self.latitude=self.latitude.persist()\n",
    "\n",
    "        # nchunks=238\n",
    "        # nlons=self.alt.shape[1]\n",
    "        # chunk_nlons=int(da.ceil(nlons/nchunks))\n",
    "        # chunks3D=(-1,chunk_nlons,-1)\n",
    "        # chunks2D=(-1,chunk_nlons)\n",
    "\n",
    "        print('tavg,lam,alt')\n",
    "        # constants\n",
    "        # tavg = 0.5*(maxT_daily+minT_daily)  # Averaged temperature\n",
    "        tavg = 0.5*(self.minT_daily + self.maxT_daily)  # Averaged temperature  #KLG\n",
    "        print('tavg.shape=',tavg.shape)\n",
    "        lam = 2.501 - 0.002361 * tavg  # Latent heat of vaporization\n",
    "        # if self.parallel:\n",
    "        #     dayoyr = da.arange(self.cycle_begin, self.cycle_end+1,chunks=-1)  # Julien Days #KLG\n",
    "        #     ndays=len(dayoyr)  #KLG\n",
    "        #     alt=da.tile(self.alt[:,:,np.newaxis],(1,1,ndays)).rechunk(chunks=self.chunk3D)\n",
    "        # else:\n",
    "            # dayoyr = np.arange(self.cycle_begin, self.cycle_end+1)  # Julien Days #KLG\n",
    "            # ndays=len(dayoyr)  #KLG            \n",
    "            # alt=np.tile(self.alt[:,:,np.newaxis],(1,1,ndays))  # 3D altitude #KLG\n",
    "        dayoyr = np.arange(self.cycle_begin, self.cycle_end+1)  # Julien Days #KLG\n",
    "        ndays=len(dayoyr)  #KLG            \n",
    "        alt=np.tile(self.alt[:,:,np.newaxis],(1,1,ndays))  # 3D altitude #KLG\n",
    "\n",
    "        # print('u2m')\n",
    "        # Wind speed\n",
    "        # u2m = windspeed_daily.copy()\n",
    "        # u2m = self.windspeed_daily.copy()  #KLG\n",
    "        # limit to no less than 0.5 m/s; FAO 56, p.63\n",
    "        # u2m[windspeed_daily < 0.5] = 0.5\n",
    "        # print('u2m.where')\n",
    "        # if self.parallel:\n",
    "        #     u2m=da.where(u2m < 0.5, 0.5, u2m)\n",
    "        # else:\n",
    "        #     u2m=np.where(u2m < 0.5, 0.5, u2m)\n",
    "        # u2m=np.where(u2m < 0.5, 0.5, u2m)\n",
    "\n",
    "        print('es_tmin,es_tmax')\n",
    "        # Mean Saturation Vapor Pressure derived from air temperature\n",
    "        # if self.parallel:\n",
    "        #     es_tmin = 0.6108 * da.exp((17.27 * self.minT_daily) / (self.minT_daily + 237.3))  #KLG\n",
    "        #     es_tmax = 0.6108 * da.exp((17.27 * self.maxT_daily) / (self.maxT_daily + 237.3))  #KLG\n",
    "        # else:            \n",
    "        #     es_tmin = 0.6108 * np.exp((17.27 * self.minT_daily) / (self.minT_daily + 237.3))\n",
    "        #     es_tmax = 0.6108 * np.exp((17.27 * self.maxT_daily) / (self.maxT_daily + 237.3))\n",
    "        es_tmin = 0.6108 * np.exp((17.27 * self.minT_daily) / (self.minT_daily + 237.3))\n",
    "        es_tmax = 0.6108 * np.exp((17.27 * self.maxT_daily) / (self.maxT_daily + 237.3))\n",
    "\n",
    "        print('es,ea')\n",
    "        es = 0.5*(es_tmin + es_tmax)\n",
    "        # ea = rel_humidity * es  # Actual Vapor Pressure derived from relative humidity\n",
    "        ea = self.rel_humidity * es  # Actual Vapor Pressure derived from relative humidity  #KLG\n",
    "\n",
    "        print('dlmx,dlmn,dl')\n",
    "        # slope vapour pressure curve\n",
    "        # dlmx = 4098. * es_tmax / (maxT_daily + 237.3)**2\n",
    "        # dlmn = 4098. * es_tmin / (minT_daily + 237.3)**2\n",
    "        dlmx = 4098. * es_tmax / (self.maxT_daily + 237.3)**2  #KLG\n",
    "        dlmn = 4098. * es_tmin / (self.minT_daily + 237.3)**2  #KLG\n",
    "        del es_tmin, es_tmax  #KLG\n",
    "        dl = 0.5* (dlmx + dlmn)\n",
    "        del dlmx,dlmn  #KLG\n",
    "\n",
    "        print('ap,gam')\n",
    "        # Atmospheric pressure\n",
    "        # if self.parallel:\n",
    "        #     ap = 101.3*da.power(((293-(0.0065*alt))/293), 5.256)\n",
    "        # else:\n",
    "        #     ap = 101.3*np.power(((293-(0.0065*alt))/293), 5.256)\n",
    "        ap = 101.3*np.power(((293-(0.0065*alt))/293), 5.256)\n",
    "\n",
    "            \n",
    "        # Psychrometric constant\n",
    "        gam = 0.0016286 * ap/lam\n",
    "        del ap\n",
    "\n",
    "        hw = 200.\n",
    "        ht = 190.\n",
    "        hc = 12.\n",
    "\n",
    "        print('rhoa,Rl,RLAI,rhic,gamst')\n",
    "        # aerodynamic resistance\n",
    "        rhoa = 208/self.u2m\n",
    "\n",
    "        # crop canopy resistance\n",
    "        Rl = 100  # daily stomata resistance of a single leaf (s/m)\n",
    "        # Standard is xLAO = 24\n",
    "        RLAI = 24 * 0.12\n",
    "        rhoc = Rl/(0.5*RLAI)  # crop canopy resistance\n",
    "\n",
    "        gamst = gam * (1. + rhoc/rhoa)\n",
    "\n",
    "        print('latr')\n",
    "        # latr = latitude * np.pi/180.\n",
    "        latr = self.latitude * np.pi/180.\n",
    "        # if self.parallel:\n",
    "        #     latr=da.tile(latr[:,:,np.newaxis],(1,1,ndays)).rechunk(chunks=self.chunk3D)\n",
    "        # else:\n",
    "        #     latr = np.tile(latr[:,:,np.newaxis],(1,1,ndays))\n",
    "        # latr = np.tile(latr[:,:,np.newaxis],(1,1,ndays))\n",
    "\n",
    "        print('sdcl')\n",
    "        # (a) calculate extraterrestrial radiation\n",
    "        # solar declination (rad)\n",
    "        # if self.parallel:\n",
    "        #     sdcl = 0.4093 * da.sin(0.017214206 * dayoyr - 1.405)\n",
    "        #     sdcl=da.broadcast_to(sdcl,(tavg.shape[0],tavg.shape[1],tavg.shape[2]),chunks=self.chunk3D)\n",
    "        # else:\n",
    "        #     sdcl = 0.4093 * np.sin(0.017214206 * dayoyr - 1.405)\n",
    "        #     sdcl = np.tile(sdcl[np.newaxis, np.newaxis,:], (tavg.shape[0],tavg.shape[1],1))\n",
    "        sdcl = 0.4093 * np.sin(0.017214206 * dayoyr - 1.405)\n",
    "        # sdcl = np.tile(sdcl[np.newaxis, np.newaxis,:], (tavg.shape[0],tavg.shape[1],1))\n",
    "        \n",
    "        print('sdst')\n",
    "        # relative distance earth to sun\n",
    "        # if self.parallel:\n",
    "        #     sdst = 1.0 + 0.033 * da.cos(0.017214206 * dayoyr)\n",
    "        #     sdst=da.broadcast_to(sdst,(tavg.shape[0],tavg.shape[1],tavg.shape[2]),chunks=self.chunk3D)\n",
    "        # else:\n",
    "        #     sdst = 1.0 + 0.033 * np.cos(0.017214206 * dayoyr)\n",
    "        #     sdst=np.tile(sdst[np.newaxis, np.newaxis,:], (tavg.shape[0],tavg.shape[1],1))\n",
    "        sdst = 1.0 + 0.033 * np.cos(0.017214206 * dayoyr)\n",
    "        # sdst=np.tile(sdst[np.newaxis, np.newaxis,:], (tavg.shape[0],tavg.shape[1],1))\n",
    "        del dayoyr\n",
    "\n",
    "        print('xx,yy,zz')\n",
    "        # if self.parallel:\n",
    "        #     xx = da.sin(sdcl) * da.sin(latr)\n",
    "        #     yy = da.cos(sdcl) * da.cos(latr)            \n",
    "        # else:\n",
    "        #     xx = np.sin(sdcl) * np.sin(latr)\n",
    "        #     yy = np.cos(sdcl) * np.cos(latr)\n",
    "        xx = np.sin(sdcl) * np.sin(latr)\n",
    "        yy = np.cos(sdcl) * np.cos(latr)\n",
    "        zz = xx/yy\n",
    "\n",
    "        print('omg,dayhr')\n",
    "        # if self.parallel:\n",
    "        #     omg = da.tan(zz / (1. - zz*zz)**0.5) + 1.5708\n",
    "        # else:\n",
    "        #     omg = np.tan(zz / (1. - zz*zz)**0.5) + 1.5708\n",
    "        omg = np.tan(zz / (1. - zz*zz)**0.5) + 1.5708\n",
    "        dayhr = 24. * (omg/np.pi)\n",
    "\n",
    "        # if self.parallel:\n",
    "        #     print('omg.where,dayhr.where,ra')\n",
    "        #     omg=da.where((da.abs(zz)>=0.9999)&(zz>0),np.pi,omg)\n",
    "        #     dayhr=da.where((da.abs(zz) >= 0.9999)&(zz > 0), 23.999,dayhr)\n",
    "\n",
    "        #     omg=da.where((da.abs(zz) >= 0.9999)&(zz <= 0),0,omg)\n",
    "        #     dayhr=da.where((da.abs(zz) >= 0.9999)&(zz <= 0), 0.001,dayhr)\n",
    "\n",
    "        #     print('ra')\n",
    "        #     ra = 37.586 * sdst * (omg*xx + da.sin(omg)*yy)\n",
    "        # else:\n",
    "        #     print('omg.where,dayhr.where,ra')\n",
    "        #     omg=np.where((np.abs(zz)>=0.9999)&(zz>0),np.pi,omg)\n",
    "        #     dayhr=np.where((np.abs(zz) >= 0.9999)&(zz > 0), 23.999,dayhr)\n",
    "\n",
    "        #     omg=np.where((np.abs(zz) >= 0.9999)&(zz <= 0),0,omg)\n",
    "        #     dayhr=np.where((np.abs(zz) >= 0.9999)&(zz <= 0), 0.001,dayhr) \n",
    "            \n",
    "        #     print('ra')\n",
    "        #     ra = 37.586 * sdst * (omg*xx + np.sin(omg)*yy)\n",
    "        print('omg.where,dayhr.where,ra')\n",
    "        omg_rev1=np.where((np.abs(zz)>=0.9999)&(zz>0),np.pi,omg)\n",
    "        dayhr_rev1=np.where((np.abs(zz) >= 0.9999)&(zz > 0), 23.999,dayhr)\n",
    "\n",
    "        omg_rev2=np.where((np.abs(zz) >= 0.9999)&(zz <= 0),0,omg_rev1)\n",
    "        dayhr_rev2=np.where((np.abs(zz) >= 0.9999)&(zz <= 0), 0.001,dayhr_rev1) \n",
    "        \n",
    "        print('ra')\n",
    "        ra = 37.586 * sdst * (omg_rev2*xx + np.sin(omg_rev2)*yy)\n",
    "        del sdcl, latr, sdst, omg, omg_rev1, omg_rev2, dayhr, dayhr_rev1, dayhr_rev2, xx, yy, zz        \n",
    "\n",
    "        print('rs,rs0')\n",
    "        # (b) solar radiation Rs (0.25, 0.50 Angstrom coefficients)\n",
    "        # rs = (0.25 + (0.50 * (sd/dayhr))) * ra\n",
    "        # rs = shortRad_daily\n",
    "        rs = self.shortRad_daily  #KLG\n",
    "        # rs0 = (0.75 + 0.00002 * alt) * ra\n",
    "        rs0 = (0.75 + 0.00002 * self.alt) * ra\n",
    "        \n",
    "        del alt\n",
    "\n",
    "        print('rns,rnl')\n",
    "        # (c) net shortwave radiation Rns = (1 - alpha) * Rs\n",
    "        # (alpha for grass = 0.23)\n",
    "        rns = 0.77 * rs\n",
    "\n",
    "        # (d) net longwave radiation Rnl\n",
    "        # Stefan-Boltzmann constant [MJ K-4 m-2 day-1]\n",
    "        sub_cst = 0.000000004903\n",
    "        rs_div_ds0=rs/rs0\n",
    "        rnl = (((273.16+self.maxT_daily)**4)+((273.16 + self.minT_daily)**4)) * \\\n",
    "            (0.34 - (0.14*(ea**0.5))) * \\\n",
    "            ((1.35*(rs_div_ds0))-0.35)*sub_cst/2\n",
    "        del rs0,rs\n",
    "\n",
    "        print('rn')\n",
    "        # (e) net radiation Rn = Rns - Rnl\n",
    "        rn = rns - rnl\n",
    "        del rns,rnl\n",
    "\n",
    "        print('ta_diff,G')\n",
    "        # (f) soil heat flux [MJ/m2/day]\n",
    "        # if self.parallel:\n",
    "        #     ta_diff=da.diff(tavg,n=1,axis=2,prepend=tavg[:,:,-1:])  #KLG\n",
    "        # else:\n",
    "        #     ta_diff=np.diff(tavg,n=1,axis=2,prepend=tavg[:,:,-1:])  #KLG\n",
    "        ta_diff=np.diff(tavg,n=1,axis=2,prepend=tavg[:,:,-1:])  #KLG\n",
    "        G = 0.14 * ta_diff  #KLG\n",
    "        del ta_diff\n",
    "\n",
    "        print('et0ady')\n",
    "        # (g) calculate aerodynamic and radiation terms of ET0\n",
    "        et0ady = gam/(dl+gamst) * 900./(tavg+273.) * self.u2m * (es-ea)\n",
    "        del gam,tavg,es,ea\n",
    "\n",
    "        print('et0rad')\n",
    "        et0rad = dl/(dl+gamst) * (rn-G) / lam\n",
    "        del dl,gamst,rn,G,lam\n",
    "\n",
    "        print('et0')\n",
    "        et0 = et0ady + et0rad\n",
    "        del et0ady,et0rad\n",
    "\n",
    "        print('et0.where')\n",
    "        # et0[et0 < 0] = 0\n",
    "        # if self.parallel:\n",
    "        #     et0=da.where(et0<0,0,et0)\n",
    "        # else:\n",
    "        #     et0=np.where(et0<0,0,et0)\n",
    "        et0=np.where(et0<0,0,et0)\n",
    "\n",
    "        return et0"
   ]
  },
  {
   "cell_type": "code",
   "execution_count": null,
   "metadata": {},
   "outputs": [],
   "source": [
    "def compute_pet(doy_start, doy_end, chunk3D, latitude, elevation, min_temp, max_temp, wind_speed, short_rad, rel_humidity):\n",
    "    print('initializing obj_eto')\n",
    "    obj_eto = ETOCalc(doy_start, doy_end, latitude, elevation, chunk3D)  #KLG\n",
    "    \n",
    "    print('adjusting short_rad units')\n",
    "    shortrad_daily_MJm2day = (short_rad*3600.*24.)/1000000. # convert w/m2 to MJ/m2/day  #KLG    \n",
    "\n",
    "    print('obj_eto.setClimateData')\n",
    "    obj_eto.setClimateData(min_temp, max_temp, wind_speed, shortrad_daily_MJm2day, rel_humidity)  #KLG\n",
    "\n",
    "    pet_daily= obj_eto.calculateETO()\n",
    "    return pet_daily\n"
   ]
  },
  {
   "cell_type": "code",
   "execution_count": null,
   "metadata": {},
   "outputs": [],
   "source": [
    "def setDailyClimateData(self, min_temp, max_temp, precipitation, short_rad, wind_speed, rel_humidity):\n",
    "\n",
    "    if self.parallel:\n",
    "        print('rechunking')\n",
    "        min_temp=min_temp.rechunk(chunks=self.chunk3D).to_delayed()\n",
    "        max_temp=max_temp.rechunk(chunks=self.chunk3D).to_delayed()\n",
    "        # precipitation=precipitation.rechunk(chunks=self.chunk3D)\n",
    "        short_rad=short_rad.rechunk(chunks=self.chunk3D)\n",
    "        wind_speed=wind_speed.rechunk(chunks=self.chunk3D)\n",
    "        rel_humidity=rel_humidity.rechunk(chunks=self.chunk3D)\n",
    "        # latitude and elevation are already chunked correctly    \n",
    "\n",
    "        print('removing negative data values')\n",
    "        rel_humidity=da.where(rel_humidity > 0.99, 0.99,rel_humidity)\n",
    "        rel_humidity=da.where(rel_humidity < 0.05, 0.05,rel_humidity)\n",
    "        short_rad=da.where(short_rad < 0, 0, short_rad)\n",
    "        # wind_speed=da.where(wind_speed < 0, 0, wind_speed)  \n",
    "        wind_speed=da.where(wind_speed < 0.5, 0.5, wind_speed)\n",
    "\n",
    "        rel_humidity=rel_humidity.to_delayed()\n",
    "        short_rad=short_rad.to_delayed()\n",
    "        wind_speed=wind_speed.to_delayed()\n",
    "\n",
    "        latitude=self.latitude.to_delayed()\n",
    "        elevation=self.elevation.to_delayed()        \n",
    "\n",
    "    self.doy_start=1  #KLG\n",
    "    self.doy_end=min_temp.shape[2]  #KLG\n",
    "\n",
    "    task_list=[dask.delayed(compute_pet)(self.doy_start,self.doy_end,self.chunk3D, lat_chunk, elev_chunk, minT_chunk, maxT_chunk, wind_chunk, rad_chunk, rhum_chunk) for lat_chunk, elev_chunk, minT_chunk, maxT_chunk, wind_chunk, rad_chunk, rhum_chunk in zip(latitude[0,:], elevation[0,:], min_temp[0,:], max_temp[0,:], wind_speed[0,:], short_rad[0,:], rel_humidity[0,:])]\n",
    "\n",
    "    result_chunks=dask.compute(*task_list)\n",
    "    self.pet_daily=np.concat(result_chunks)"
   ]
  },
  {
   "cell_type": "code",
   "execution_count": null,
   "metadata": {},
   "outputs": [],
   "source": [
    "setDailyClimateData(clim_reg, min_temp, max_temp, precipitation, short_rad, wind_speed, rel_humidity)"
   ]
  },
  {
   "cell_type": "code",
   "execution_count": null,
   "metadata": {},
   "outputs": [],
   "source": []
  },
  {
   "cell_type": "code",
   "execution_count": null,
   "metadata": {},
   "outputs": [],
   "source": []
  },
  {
   "cell_type": "code",
   "execution_count": null,
   "metadata": {},
   "outputs": [],
   "source": []
  },
  {
   "cell_type": "code",
   "execution_count": null,
   "metadata": {},
   "outputs": [],
   "source": [
    "def setDailyClimateData(self, min_temp, max_temp, precipitation, short_rad, wind_speed, rel_humidity):\n",
    "    # print('converting inputs to dask arrays')\n",
    "    # nchunks=238\n",
    "    # nlons=min_temp.shape[1]\n",
    "    # chunk_nlons=int(np.ceil(nlons/nchunks))\n",
    "    # chunks3D=(-1,chunk_nlons,-1)\n",
    "    # chunks2D=(-1,chunk_nlons)\n",
    "    # print(nchunks,nlons,chunk_nlons,chunks3D)\n",
    "\n",
    "    # min_temp=da.from_array(min_temp,chunks=chunks3D)\n",
    "    # max_temp=da.from_array(max_temp,chunks=chunks3D)\n",
    "    # precipitation=da.from_array(precipitation,chunks=chunks3D)\n",
    "    # short_rad=da.from_array(short_rad,chunks=chunks3D)\n",
    "    # wind_speed=da.from_array(wind_speed,chunks=chunks3D)\n",
    "    # rel_humidity=da.from_array(rel_humidity,chunks=chunks3D)\n",
    "    # latitude=da.from_array(self.latitude,chunks=chunks2D)\n",
    "    # elevation=da.from_array(self.elevation,chunks=chunks2D)\n",
    "    if self.parallel:\n",
    "        print('rechunking')\n",
    "        min_temp=min_temp.rechunk(chunks=self.chunk3D)\n",
    "        max_temp=max_temp.rechunk(chunks=self.chunk3D)\n",
    "        precipitation=precipitation.rechunk(chunks=self.chunk3D)\n",
    "        short_rad=short_rad.rechunk(chunks=self.chunk3D)\n",
    "        wind_speed=wind_speed.rechunk(chunks=self.chunk3D)\n",
    "        rel_humidity=rel_humidity.rechunk(chunks=self.chunk3D)\n",
    "        # latitude and elevation are already chunked correctly\n",
    "\n",
    "        # min_temp=min_temp.persist()\n",
    "        # max_temp=max_temp.persist()\n",
    "        # precipitation=precipitation.persist()\n",
    "        # short_rad=short_rad.persist()\n",
    "        # wind_speed=wind_speed.persist()\n",
    "        # rel_humidity=rel_humidity.persist()        \n",
    "\n",
    "        print('removing negative data values')\n",
    "        rel_humidity=da.where(rel_humidity > 0.99, 0.99,rel_humidity)\n",
    "        rel_humidity=da.where(rel_humidity < 0.05, 0.05,rel_humidity)\n",
    "        short_rad=da.where(short_rad < 0, 0, short_rad)\n",
    "        wind_speed=da.where(wind_speed < 0, 0, wind_speed)  \n",
    "\n",
    "\n",
    "    else:\n",
    "        print('removing negative data values')\n",
    "        rel_humidity[rel_humidity > 0.99] = 0.99\n",
    "        rel_humidity[rel_humidity < 0.05] = 0.05\n",
    "        short_rad[short_rad < 0] = 0\n",
    "        wind_speed[wind_speed < 0] = 0\n",
    "\n",
    "    self.doy_start=1  #KLG\n",
    "    self.doy_end=min_temp.shape[2]  #KLG\n",
    "\n",
    "\n",
    "\n",
    "    # calculation of reference evapotranspiration (ETo)  #KLG\n",
    "    print('initializing obj_eto')\n",
    "    obj_eto = ETOCalc(self.doy_start, self.doy_end, self.latitude, self.elevation,self.chunk3D)  #KLG\n",
    "\n",
    "    print('adjusting short_rad units')\n",
    "    shortrad_daily_MJm2day = (short_rad*3600.*24.)/1000000. # convert w/m2 to MJ/m2/day  #KLG\n",
    "    # shortrad_daily_MJm2day=shortrad_daily_MJm2day.persist()\n",
    "    print('obj_eto.setClimateData')\n",
    "    obj_eto.setClimateData(min_temp, max_temp, wind_speed, shortrad_daily_MJm2day, rel_humidity)  #KLG\n",
    "    del rel_humidity,short_rad,wind_speed,shortrad_daily_MJm2day  #KLG\n",
    "    # print('pet equations')\n",
    "    # pet_daily= obj_eto.calculateETO()   #KLG\n",
    "    # print(pet_daily)\n",
    "    print('computing pet')\n",
    "    if self.parallel:\n",
    "        # self.pet_daily=pet_daily.compute()\n",
    "        self.pet_daily= obj_eto.calculateETO().compute()   #KLG\n",
    "        # self.pet_daily= obj_eto.calculateETO()\n",
    "\n",
    "    else:\n",
    "        self.pet_daily= obj_eto.calculateETO()\n",
    "    del obj_eto\n",
    "\n",
    "    # print('computing meanT, meanT_daily_sealevel, P_by_PET_daily')\n",
    "    # self.meanT_daily = 0.5*(min_temp+max_temp)  #KLG\n",
    "\n",
    "    # # sea level temperature\n",
    "    # # P over PET ratio (to eliminate nan in the result, nan is replaced with zero)\n",
    "    # if self.parallel:\n",
    "    #     self.meanT_daily_sealevel = self.meanT_daily + (da.tile(self.elevation[:,:,np.newaxis],(1,1,self.doy_end)).rechunk(chunks=self.chunk3D)/100*0.55)\n",
    "    #     self.P_by_PET_daily = da.nan_to_num(precipitation / self.pet_daily)\n",
    "    # else:\n",
    "    #     self.meanT_daily_sealevel = self.meanT_daily + np.expand_dims(self.elevation/100*0.55,axis=2) # automatic broadcasting #KLG        \n",
    "    #     self.P_by_PET_daily = np.nan_to_num(precipitation / self.pet_daily)\n",
    "\n",
    "    # self.set_monthly = False\n",
    "\n",
    "    # print('computing interp_daily_temp')\n",
    "    # # smoothed daily temperature\n",
    "    # # create a mask of all 1's if the user doesn't provide a mask\n",
    "    # if self.set_mask:\n",
    "    #     mask=self.im_mask\n",
    "    # else:\n",
    "    #     mask=np.ones((self.im_height,self.im_width),dtype='int')\n",
    "\n",
    "    # obj_utilities = UtilitiesCalc.UtilitiesCalc(self.chunk2D,self.chunk3D)  #KLG\n",
    "\n",
    "    # # if self.parallel:\n",
    "    # self.interp_daily_temp=obj_utilities.smoothDailyTemp(self.doy_start,self.doy_end, mask, self.meanT_daily,self.chunk3D)\n",
    "    # # else:\n",
    "    #     # self.interp_daily_temp=obj_utilities.smoothDailyTemp(self.doy_start,self.doy_end, mask, self.meanT_daily)  \n",
    "\n",
    "    # print('copying maxT_daily,minT_daily,totalPrec_daily')\n",
    "    # self.maxT_daily = max_temp\n",
    "    # # self.minT_daily = min_temp\n",
    "    # self.totalPrec_daily = precipitation  #KLG    \n",
    "    \n",
    "          \n"
   ]
  },
  {
   "cell_type": "code",
   "execution_count": null,
   "metadata": {},
   "outputs": [],
   "source": []
  },
  {
   "cell_type": "code",
   "execution_count": null,
   "metadata": {},
   "outputs": [],
   "source": [
    "setDailyClimateData(clim_reg, min_temp, max_temp, precipitation, short_rad, wind_speed, rel_humidity)"
   ]
  },
  {
   "cell_type": "code",
   "execution_count": null,
   "metadata": {},
   "outputs": [],
   "source": [
    "clim_reg.pet_daily.shape,clim_reg.nchunks"
   ]
  },
  {
   "cell_type": "code",
   "execution_count": null,
   "metadata": {},
   "outputs": [],
   "source": [
    "data_labels=clim_reg.__dict__.keys()\n",
    "data_labels"
   ]
  },
  {
   "cell_type": "code",
   "execution_count": null,
   "metadata": {},
   "outputs": [],
   "source": [
    "if clim_reg.set_mask:\n",
    "    mask=clim_reg.im_mask\n",
    "else:\n",
    "    mask=np.ones((clim_reg.im_height,clim_reg.im_width),dtype='int')\n",
    "\n",
    "# this takes 100s\n",
    "# days = np.arange(clim_reg.doy_start,clim_reg.doy_end+1) # x values  #KLG\n",
    "# mask3D = np.tile(mask[:,:,np.newaxis], (1,1,days.shape[0]))  #KLG\n",
    "# data=np.where(mask3D==0,0,clim_reg.meanT_daily)   #KLG\n",
    "# data2D=data.transpose(2,0,1).reshape(days.shape[0],-1) # every column is a set of y values  #KLG\n",
    "# del data  #KLG\n",
    "# quad_spl=np.polynomial.polynomial.polyfit(days,data2D,deg=5)  #KLG\n",
    "# interp_daily_temp=np.polynomial.polynomial.polyval(days,quad_spl)  #KLG\n",
    "# interp_daily_temp=interp_daily_temp.reshape(mask3D.shape[0],mask3D.shape[1],-1)  #KLG\n",
    "# interp_daily_temp=np.where(mask3D==0,np.nan,interp_daily_temp)        \n",
    "# interp_daily_temp.shape\n",
    "\n",
    "# this takes 33s\n",
    "# days = np.arange(clim_reg.doy_start,clim_reg.doy_end+1) # x values  #KLG\n",
    "# mask3D = da.tile(mask[:,:,np.newaxis], (1,1,days.shape[0])).rechunk(chunks=clim_reg.chunk3D)  #KLG\n",
    "# data=da.where(mask3D==0,0,clim_reg.meanT_daily)   #KLG\n",
    "# nlats=data.shape[0]\n",
    "# data2D=data.transpose(2,0,1).reshape(days.shape[0],-1).rechunk(chunks=(clim_reg.chunk3D[0],clim_reg.chunk3D[1]*nlats)) # every column is a set of y values  #KLG\n",
    "# coefs=np.polynomial.polynomial.polyfit(days,data2D,deg=5)  #KLG\n",
    "# interp_daily_temp=np.polynomial.polynomial.polyval(days,coefs)  #KLG\n",
    "# interp_daily_temp.shape\n",
    "\n",
    "\n",
    "# # this takes 33s\n",
    "# days = np.arange(clim_reg.doy_start,clim_reg.doy_end+1) # x values  #KLG\n",
    "# mask3D = da.tile(mask[:,:,np.newaxis], (1,1,days.shape[0])).rechunk(chunks=clim_reg.chunk3D)  #KLG\n",
    "# data=da.where(mask3D==0,0,clim_reg.meanT_daily)   #KLG\n",
    "# nlats=data.shape[0]\n",
    "# data2D=data.transpose(2,0,1).reshape(days.shape[0],-1).rechunk(chunks=(clim_reg.chunk3D[0],clim_reg.chunk3D[1]*nlats))#(-1,-1)) # every column is a set of y values  #KLG\n",
    "# def polyfit(x,y,deg):\n",
    "#     coefs=np.polynomial.polynomial.polyfit(x,y,deg=deg)\n",
    "#     return coefs\n",
    "# deg=5\n",
    "# coefs=da.apply_gufunc(polyfit,\"(t),(t,s),()->(d,s)\",days,data2D,deg,output_dtypes='float32',output_sizes={'t':data2D.shape[0],'s':data2D.shape[1],'d':deg+1},vectorize=True)#.compute()\n",
    "# def polyval(x,coefs):\n",
    "#     spline=np.polynomial.polynomial.polyval(x,coefs)    \n",
    "#     return spline\n",
    "# interp_daily_temp=da.apply_gufunc(polyval,\"(t),(d,s)->(s,t)\",days,coefs,output_dtypes='float32',output_sizes={'t':data2D.shape[0],'s':data2D.shape[1],'d':deg+1},vectorize=True).compute()\n",
    "# interp_daily_temp\n",
    "\n"
   ]
  },
  {
   "cell_type": "code",
   "execution_count": null,
   "metadata": {},
   "outputs": [],
   "source": [
    "if clim_reg.set_mask:\n",
    "    mask=clim_reg.im_mask\n",
    "else:\n",
    "    mask=np.ones((clim_reg.im_height,clim_reg.im_width),dtype='int')\n",
    "\n",
    "days1D = np.arange(clim_reg.doy_start,clim_reg.doy_end+1) # x values  #KLG\n",
    "mask3D = da.tile(mask[:,:,np.newaxis], (1,1,days1D.shape[0])).rechunk(chunks=clim_reg.chunk3D)  #KLG\n",
    "data=da.where(mask3D==0,0,clim_reg.meanT_daily)   #KLG\n",
    "nlats=data.shape[0]\n",
    "data2D=data.transpose(2,0,1).reshape(days1D.shape[0],-1).rechunk({0:-1,1:'auto'})\n",
    "\n",
    "days1D=dask.delayed(days1D)\n",
    "partitions=data2D.to_delayed()\n",
    "\n",
    "def polyfit_polyval(x,y,deg):\n",
    "    coefs=np.polynomial.polynomial.polyfit(x,y,deg=deg)         \n",
    "    spline=np.polynomial.polynomial.polyval(x,coefs) \n",
    "    return spline   \n",
    "\n",
    "deg=5\n",
    "delayed_values = [dask.delayed(polyfit_polyval)(days1D,part,deg) for part in partitions[0,:]]\n",
    "results=dask.compute(*delayed_values)\n",
    "\n",
    "interp_daily_temp=np.concatenate(results).reshape(mask3D.shape[0],mask3D.shape[1],-1)  #KLG\n",
    "# interp_daily_temp.shape\n"
   ]
  },
  {
   "cell_type": "code",
   "execution_count": null,
   "metadata": {},
   "outputs": [],
   "source": [
    "data2D"
   ]
  },
  {
   "cell_type": "code",
   "execution_count": null,
   "metadata": {},
   "outputs": [],
   "source": [
    "# results[0].shape\n",
    "test=np.concatenate(results)\n",
    "test.shape"
   ]
  },
  {
   "cell_type": "code",
   "execution_count": null,
   "metadata": {},
   "outputs": [],
   "source": [
    "if clim_reg.set_mask:\n",
    "    mask=clim_reg.im_mask\n",
    "else:\n",
    "    mask=np.ones((clim_reg.im_height,clim_reg.im_width),dtype='int')\n",
    "\n",
    "days1D = np.arange(clim_reg.doy_start,clim_reg.doy_end+1) # x values  #KLG\n",
    "# days1D = da.arange(clim_reg.doy_start,clim_reg.doy_end+1,chunks=-1) # x values  #KLG\n",
    "mask3D = np.tile(mask[:,:,np.newaxis], (1,1,days1D.shape[0])) #KLG\n",
    "data=np.where(mask3D==0,0,clim_reg.meanT_daily)   #KLG\n",
    "data2D=data.transpose(2,0,1).reshape(days1D.shape[0],-1)#.rechunk(chunks=-1)#(clim_reg.chunk3D[0],clim_reg.chunk3D[1]*nlats))#(-1,-1)) # every column is a set of y values  #KLG\n",
    "ngrids=data2D.shape[1]\n",
    "# days2D = da.from_array(np.tile(days1D[:,np.newaxis],(1,data2D.shape[1])),chunks=(clim_reg.chunk3D[0],clim_reg.chunk3D[1]*nlats)) # x values  #KLG\n",
    "\n",
    "# @dask.delayed\n",
    "# def polyfit(x,y,deg):\n",
    "#     coefs=np.polynomial.polynomial.polyfit(x,y,deg=deg)\n",
    "#     return coefs\n",
    "\n",
    "# def polyval(x,coefs):\n",
    "#     spline=np.polynomial.polynomial.polyval(x,coefs)    \n",
    "#     return spline   \n",
    "# days1D=dask.persist(days1D)\n",
    "# data2D=dask.persist(data2D)\n",
    "days1D=dask.delayed(days1D)\n",
    "data2D=dask.delayed(data2D)\n",
    "\n",
    "@dask.delayed\n",
    "def polyfit_polyval(x,y,deg):\n",
    "    coefs=np.polynomial.polynomial.polyfit(x,y,deg=deg)         \n",
    "    spline=np.polynomial.polynomial.polyval(x,coefs) \n",
    "    return spline   \n",
    "\n",
    "deg=5\n",
    "nlats_block=int(np.ceil(ngrids/clim_reg.nchunks))\n",
    "# ngrids,clim_reg.nchunks,nlats_block\n",
    "\n",
    "# interp_T=np.empty((data2D.shape[1],data2D.shape[0]),dtype='float32')\n",
    "\n",
    "task_list=[]\n",
    "for ichunk in range(clim_reg.nchunks)[0:3]:\n",
    "    istart=ichunk*nlats_block\n",
    "    if ichunk < clim_reg.nchunks-1:\n",
    "        iend=istart+nlats_block\n",
    "    else:\n",
    "        iend=ngrids\n",
    "    print(istart,iend)\n",
    "    interp_task=polyfit_polyval(days1D,data2D[:,istart:iend],deg)\n",
    "    task_list.append(interp_task)\n",
    "print('computing')\n",
    "interp_list=dask.compute(*task_list)\n",
    "\n",
    "interp_list[0].shape\n",
    "# interp_temp_daily=np.concat(interp_list,axis=1)\n",
    "\n",
    "# task_list=[]\n",
    "# for ichunk in range(clim_reg.nchunks)[0:3]:\n",
    "#     istart=ichunk*nlats_block\n",
    "#     if ichunk < clim_reg.nchunks-1:\n",
    "#         iend=istart+nlats_block\n",
    "#     else:\n",
    "#         iend=ngrids\n",
    "\n",
    "#     interp_task=polyval(days1D,coefs_list[ichunk])\n",
    "#     task_list.append(coefs_task)\n",
    "# coefs_list=dask.compute(*task_list)\n",
    "\n",
    "#     print(coefs.T)\n",
    "\n",
    "        # T=polyval(days1D,coefs)\n",
    "\n",
    "    # print(istart,iend)\n",
    "# days1D.shape,data2D.shape\n",
    "\n",
    "# for block in data2D.blocks:\n",
    "#     coef_block=polyfit(days1D,block)\n",
    "\n",
    "# data2D.blocks[0,1]\n",
    "\n",
    "# coefs=da.apply_gufunc(polyfit,\"(t),(t,s),()->(d,s)\",days,data2D,deg,output_dtypes='float32',output_sizes={'t':data2D.shape[0],'s':data2D.shape[1],'d':deg+1},vectorize=True)#.compute()\n",
    "# coefs=da.map_blocks(polyfit,days2D,data2D,dtype='float32',chunks=(deg+1,clim_reg.chunk3D[1]*nlats),drop_axis=0,new_axis=0,meta=np.empty((6,data2D.shape[1]),dtype='float32'))#.compute()\n",
    "# coefs.shape\n",
    "# def polyval(x,coefs):\n",
    "#     spline=np.polynomial.polynomial.polyval(x,coefs)    \n",
    "#     return spline\n",
    "# # interp_daily_temp=da.apply_gufunc(polyval,\"(t),(d,s)->(s,t)\",days,coefs,output_dtypes='float32',output_sizes={'t':data2D.shape[0],'s':data2D.shape[1],'d':deg+1},vectorize=True).compute()\n",
    "# interp_daily_temp=da.apply_gufunc(polyval,\"(t),(d,s)->(s,t)\",days1D,coefs,output_dtypes='float32',output_sizes={'t':data2D.shape[0],'s':data2D.shape[1],'d':deg+1},vectorize=True,allow_rechunk=True).compute()\n",
    "# interp_daily_temp"
   ]
  },
  {
   "cell_type": "code",
   "execution_count": null,
   "metadata": {},
   "outputs": [],
   "source": [
    "data2D=min_temp.transpose(2,0,1).reshape(365,-1).rechunk(chunks=(-1,7200)) # every column is a set of y values  #KLG\n",
    "data2D"
   ]
  },
  {
   "cell_type": "code",
   "execution_count": null,
   "metadata": {},
   "outputs": [],
   "source": [
    "clim_reg.__dict__.keys()"
   ]
  },
  {
   "cell_type": "code",
   "execution_count": null,
   "metadata": {},
   "outputs": [],
   "source": [
    "clim_reg.pet_daily.dtype"
   ]
  },
  {
   "cell_type": "code",
   "execution_count": null,
   "metadata": {},
   "outputs": [],
   "source": [
    "    def setDailyClimateData(self, min_temp, max_temp, precipitation, short_rad, wind_speed, rel_humidity):\n",
    "        \"\"\"Load DAILY climate data into the Class and calculate the Reference Evapotranspiration (ETo)\n",
    "\n",
    "        Args:\n",
    "            min_temp (3D NumPy): Daily minimum temperature [Celcius]\n",
    "            max_temp (3D NumPy): Daily maximum temperature [Celcius]\n",
    "            precipitation (3D NumPy): Daily total precipitation [mm/day]\n",
    "            short_rad (3D NumPy): Daily solar radiation [W/m2]\n",
    "            wind_speed (3D NumPy): Daily windspeed at 2m altitude [m/s]\n",
    "            rel_humidity (3D NumPy): Daily relative humidity [percentage decimal, 0-1]\n",
    "        \"\"\"\n",
    "        self.doy_start=1  #KLG\n",
    "        self.doy_end=min_temp.shape[2]  #KLG\n",
    "\n",
    "        rel_humidity[rel_humidity > 0.99] = 0.99\n",
    "        rel_humidity[rel_humidity < 0.05] = 0.05\n",
    "        short_rad[short_rad < 0] = 0\n",
    "        wind_speed[wind_speed < 0] = 0\n",
    "                \n",
    "        # self.meanT_daily = np.zeros((self.im_height, self.im_width, 365)) \n",
    "        # self.totalPrec_daily = np.zeros((self.im_height, self.im_width, 365)) \n",
    "        # self.pet_daily = np.zeros((self.im_height, self.im_width, 365))  \n",
    "        self.maxT_daily = max_temp\n",
    "        self.minT_daily = min_temp\n",
    "        self.totalPrec_daily = precipitation  #KLG\n",
    "        del max_temp, min_temp, precipitation  #KLG\n",
    "\n",
    "\n",
    "        # calculation of reference evapotranspiration (ETo)  #KLG\n",
    "        obj_eto = ETOCalc.ETOCalc(self.doy_start, self.doy_end, self.latitude, self.elevation)  #KLG\n",
    "        shortrad_daily_MJm2day = (short_rad*3600.*24.)/1000000. # convert w/m2 to MJ/m2/day  #KLG\n",
    "        obj_eto.setClimateData(self.minT_daily, self.maxT_daily, wind_speed, shortrad_daily_MJm2day, rel_humidity)  #KLG\n",
    "        del rel_humidity,short_rad,wind_speed,shortrad_daily_MJm2day  #KLG\n",
    "        self.pet_daily= obj_eto.calculateETO()   #KLG\n",
    "        del obj_eto\n",
    "\n",
    "        # sea level temperature\n",
    "        # self.meanT_daily_sealevel = self.meanT_daily + np.tile(np.reshape(self.elevation/100*0.55, (self.im_height,self.im_width,1)), (1,1,365))\n",
    "        self.meanT_daily = 0.5*(self.minT_daily+self.maxT_daily)  #KLG\n",
    "        self.meanT_daily_sealevel = self.meanT_daily + np.expand_dims(self.elevation/100*0.55,axis=2) # automatic broadcasting #KLG        \n",
    "\n",
    "        # P over PET ratio (to eliminate nan in the result, nan is replaced with zero)\n",
    "        self.P_by_PET_daily = np.nan_to_num(self.totalPrec_daily / self.pet_daily)\n",
    "        self.set_monthly = False\n",
    "\n",
    "        # smoothed daily temperature\n",
    "        obj_utilities = UtilitiesCalc.UtilitiesCalc()  #KLG\n",
    "\n",
    "        if self.set_mask:\n",
    "            mask=self.im_mask\n",
    "        else:\n",
    "            mask=np.ones((self.im_height,self.im_width),dtype='int')\n",
    "\n",
    "        if self.parallel:\n",
    "            self.interp_daily_temp=obj_utilities.smoothDailyTemp(self.doy_start,self.doy_end, mask, self.meanT_daily,self.chunk3D)\n",
    "        else:\n",
    "            self.interp_daily_temp=obj_utilities.smoothDailyTemp(self.doy_start,self.doy_end, mask, self.meanT_daily)\n",
    "\n",
    "\n",
    "        self.chunk3D=(-1,94,-1)\n",
    "        self.chunk2D=(-1,94)"
   ]
  },
  {
   "cell_type": "code",
   "execution_count": null,
   "metadata": {},
   "outputs": [],
   "source": []
  },
  {
   "cell_type": "code",
   "execution_count": null,
   "metadata": {},
   "outputs": [],
   "source": []
  },
  {
   "cell_type": "code",
   "execution_count": null,
   "metadata": {},
   "outputs": [],
   "source": []
  },
  {
   "cell_type": "code",
   "execution_count": null,
   "metadata": {},
   "outputs": [],
   "source": []
  },
  {
   "cell_type": "code",
   "execution_count": null,
   "metadata": {},
   "outputs": [],
   "source": []
  },
  {
   "cell_type": "code",
   "execution_count": null,
   "metadata": {},
   "outputs": [],
   "source": []
  },
  {
   "cell_type": "code",
   "execution_count": null,
   "metadata": {},
   "outputs": [],
   "source": []
  },
  {
   "cell_type": "code",
   "execution_count": null,
   "metadata": {},
   "outputs": [],
   "source": []
  },
  {
   "cell_type": "code",
   "execution_count": null,
   "metadata": {},
   "outputs": [],
   "source": []
  },
  {
   "cell_type": "code",
   "execution_count": null,
   "metadata": {},
   "outputs": [],
   "source": []
  },
  {
   "cell_type": "code",
   "execution_count": null,
   "metadata": {},
   "outputs": [],
   "source": []
  },
  {
   "cell_type": "code",
   "execution_count": null,
   "metadata": {},
   "outputs": [],
   "source": [
    "# # expect ~30 seconds run time for china\n",
    "\n",
    "# start=timer()\n",
    "\n",
    "# if daily:\n",
    "#     clim_reg.setDailyClimateData(\n",
    "#         min_temp, max_temp, precipitation, short_rad, wind_speed, rel_humidity)\n",
    "# else:\n",
    "#     clim_reg.setMonthlyClimateData(\n",
    "#         min_temp, max_temp, precipitation, short_rad, wind_speed, rel_humidity)\n",
    "    \n",
    "# task_time=timer()-start\n",
    "# task_time    "
   ]
  },
  {
   "cell_type": "code",
   "execution_count": null,
   "metadata": {},
   "outputs": [],
   "source": [
    "'Releasing the memory of input climate data -- free up some RAM space'\n",
    "# del(min_temp, max_temp, precipitation, short_rad, wind_speed, rel_humidity)"
   ]
  },
  {
   "cell_type": "code",
   "execution_count": null,
   "metadata": {},
   "outputs": [],
   "source": [
    "# get a list of all the data in the class instance clim_reg\n",
    "\n",
    "data_labels=clim_reg.__dict__.keys()\n",
    "data_labels"
   ]
  },
  {
   "cell_type": "code",
   "execution_count": null,
   "metadata": {},
   "outputs": [],
   "source": [
    "# # sanity check\n",
    "# # plot 2D & 3D data, print value of scalars \n",
    "\n",
    "# for key in data_labels:\n",
    "#     print(key)    \n",
    "#     try:\n",
    "#         ndims=len(clim_reg.__getattribute__(key).shape)\n",
    "#         # dims=clim_reg.__getattribute__(key).shape\n",
    "#     except:\n",
    "#         ndims=1\n",
    "#     if ndims==1:\n",
    "#         print(key,'=',clim_reg.__getattribute__(key))\n",
    "#     if ndims==2:\n",
    "#         plt.imshow(clim_reg.__getattribute__(key),interpolation='none')\n",
    "#         plt.colorbar(shrink=0.5)\n",
    "#         plt.title(key)\n",
    "#         plt.show()\n",
    "#     if ndims==3:\n",
    "#         plt.imshow(clim_reg.__getattribute__(key)[:,:,0],interpolation='none')\n",
    "#         plt.colorbar(shrink=0.5)\n",
    "#         plt.title(key)\n",
    "#         plt.show()"
   ]
  },
  {
   "cell_type": "code",
   "execution_count": null,
   "metadata": {},
   "outputs": [],
   "source": [
    "# data_list=[]\n",
    "# for key in data_labels:\n",
    "#     data_list.append(clim_reg.__getattribute__(key))\n",
    "\n",
    "# data_list"
   ]
  },
  {
   "cell_type": "code",
   "execution_count": null,
   "metadata": {},
   "outputs": [],
   "source": [
    "# fut_climreg=dask.persist(*data_list)\n",
    "\n",
    "# fut_climreg.result()"
   ]
  },
  {
   "cell_type": "code",
   "execution_count": null,
   "metadata": {},
   "outputs": [],
   "source": [
    "# da_vars=clim_reg.meanT_daily\n",
    "# da_vars.store(clim_reg.meanT_daily,return_stored=True)\n",
    "# da_vars\n"
   ]
  },
  {
   "cell_type": "code",
   "execution_count": null,
   "metadata": {},
   "outputs": [],
   "source": [
    "# fut_climreg"
   ]
  },
  {
   "cell_type": "markdown",
   "metadata": {},
   "source": [
    "NOTE: After loading the data into the *clim_reg* Class, all the parameters will be converted to DAILY DATA and calculated as other parameters. \n",
    "These new parameters are available and can be called into use as:\n",
    "- *clim_reg.minT_daily* (minimum temperature)\n",
    "- *clim_reg.maxT_daily* (maximum temperature)\n",
    "- *clim_reg.meanT_daily* (mean temperature)\n",
    "- *clim_reg.meanT_daily_sealevel* (mean temperature, corrected to sea-level)\n",
    "- *clim_reg.totalPrec_daily* (total precipitation)\n",
    "- *clim_reg.pet_daily* (reference evapotranspiration, ETo)\n",
    "- *clim_reg.P_by_PET_daily* (ratio of precipitation over ETo)\n",
    "  \n"
   ]
  },
  {
   "cell_type": "markdown",
   "metadata": {},
   "source": [
    "#### Thermal Climate\n",
    "The Thermal Climate function calculates and classifies latitudinal thermal climate, which will be used later in Module 2 for the assessment of potential crops and land utilization types (LUT) presence in each grid cell."
   ]
  },
  {
   "cell_type": "code",
   "execution_count": null,
   "metadata": {},
   "outputs": [],
   "source": [
    "# expect >1s run time for china\n",
    "# non-vectorized: expect ~50 seconds run time for china\n",
    "start=timer()\n",
    "\n",
    "tclimate = clim_reg.getThermalClimate()\n",
    "\n",
    "task_time=timer()-start\n",
    "task_time"
   ]
  },
  {
   "cell_type": "code",
   "execution_count": null,
   "metadata": {},
   "outputs": [],
   "source": [
    "'''save and visualize result'''\n",
    "fig = plt.figure()\n",
    "plt.imshow(tclimate, cmap=plt.get_cmap('gist_ncar_r', 12),vmin=-0.3,vmax=12.5,interpolation='none')\n",
    "plt.title('Thermal Climate')\n",
    "plt.colorbar(shrink=0.4)\n",
    "plt.savefig(out_path+\"ThermalClimate.png\",bbox_inches =\"tight\",dpi=300) #Save as PNG image\n",
    "plt.show()"
   ]
  },
  {
   "cell_type": "code",
   "execution_count": null,
   "metadata": {},
   "outputs": [],
   "source": [
    "obj_utilities.saveRaster(mask_path, out_path+'ThermalClimate_'+revname+'.tif',tclimate) #Save as GeoTIFF raster"
   ]
  },
  {
   "cell_type": "markdown",
   "metadata": {},
   "source": [
    "#### Thermal Zone\n",
    "The thermal zone is classified based on actual temperature which reflects on the temperature regimes of major thermal climates"
   ]
  },
  {
   "cell_type": "code",
   "execution_count": null,
   "metadata": {},
   "outputs": [],
   "source": [
    "# expect >1s run time for china\n",
    "# non-vectorized: expect ~35 seconds run time for china\n",
    "start=timer()\n",
    "\n",
    "tzone = clim_reg.getThermalZone()\n",
    "\n",
    "task_time=timer()-start\n",
    "task_time"
   ]
  },
  {
   "cell_type": "code",
   "execution_count": null,
   "metadata": {},
   "outputs": [],
   "source": [
    "'''save and visualize result'''\n",
    "fig = plt.figure()\n",
    "plt.imshow(tzone, cmap=plt.get_cmap('gist_ncar_r', 12),vmin=-0.3,vmax=12.5,interpolation='none')\n",
    "plt.title('Thermal Zones')\n",
    "plt.colorbar(shrink=0.4)\n",
    "plt.savefig(out_path+\"ThermalZone\"+revname+\".png\",bbox_inches =\"tight\",dpi=300) #Save as PNG image\n",
    "plt.show()\n",
    "\n",
    "obj_utilities.saveRaster(mask_path, out_path+'ThermalZone'+revname+'.tif',tzone) #Save as GeoTIFF raster"
   ]
  },
  {
   "cell_type": "markdown",
   "metadata": {},
   "source": [
    "#### Thermal Length of Growing Period (LGP)\n",
    "The thermal length of growing period (LGPt) is defined as the number of days in a year during which the daily mean temperature (Ta) is conductive to crop growth and development. PyAEZ utilizes the AEZ three standard temperature thresholds for LGPt:\n",
    "- Periods with Ta>0°C (LGPt0)\n",
    "- Periods with Ta>5°C (LGPt5) – the period conductive to plant growth and development\n",
    "- Periods, and Ta>10°C (LGPt10) – a proxy for the period of low risks for late and early frost occurrences and termed ‘frost-free period’"
   ]
  },
  {
   "cell_type": "code",
   "execution_count": null,
   "metadata": {},
   "outputs": [],
   "source": [
    "# expect >1s run time for china\n",
    "# non-vectorized: expect ~1 second run time for china\n",
    "start=timer()\n",
    "\n",
    "lgpt0 = clim_reg.getThermalLGP0()\n",
    "lgpt5 = clim_reg.getThermalLGP5()\n",
    "lgpt10 = clim_reg.getThermalLGP10()\n",
    "\n",
    "task_time=timer()-start\n",
    "task_time"
   ]
  },
  {
   "cell_type": "code",
   "execution_count": null,
   "metadata": {},
   "outputs": [],
   "source": [
    "'''save and visualize result'''\n",
    "#======================\n",
    "# plt.figure(figsize=(20, 4),dpi=300)\n",
    "plt.figure()\n",
    "plt.subplot(1, 3, 1)\n",
    "plt.imshow(lgpt0,vmin=0,vmax=366,interpolation='none')\n",
    "plt.title('LGPt 0')\n",
    "plt.colorbar(shrink=0.8)\n",
    "#----------------------\n",
    "plt.subplot(1, 3, 2)\n",
    "plt.imshow(lgpt5, vmin=0, vmax=366,interpolation='none')\n",
    "plt.title('LGPt 5')\n",
    "plt.colorbar(shrink=0.8)\n",
    "#----------------------\n",
    "plt.subplot(1, 3, 3)\n",
    "plt.imshow(lgpt10, vmin=0, vmax=366,interpolation='none')\n",
    "plt.title('LGPt 10')\n",
    "plt.colorbar(shrink=0.8)\n",
    "#----------------------\n",
    "plt.savefig(out_path+\"ThermalLGPs\"+revname+\".png\",\n",
    "            bbox_inches=\"tight\", dpi=300)\n",
    "plt.show()\n",
    "#======================\n",
    "\n",
    "obj_utilities.saveRaster(mask_path, out_path+'LGPt0_'+revname+'.tif', lgpt0)\n",
    "obj_utilities.saveRaster(mask_path, out_path+'LGPt5_'+revname+'.tif', lgpt5)\n",
    "obj_utilities.saveRaster(mask_path, out_path+'LGPt10_'+revname+'.tif', lgpt10)\n"
   ]
  },
  {
   "cell_type": "markdown",
   "metadata": {},
   "source": [
    "#### Temperature Sum"
   ]
  },
  {
   "cell_type": "code",
   "execution_count": null,
   "metadata": {},
   "outputs": [],
   "source": [
    "# expect >1s run time for china\n",
    "# non-vectorized: expect ~1 second run time for china\n",
    "start=timer()\n",
    "\n",
    "tsum0 = clim_reg.getTemperatureSum0()\n",
    "tsum5 = clim_reg.getTemperatureSum5()\n",
    "tsum10 = clim_reg.getTemperatureSum10()\n",
    "\n",
    "task_time=timer()-start\n",
    "task_time"
   ]
  },
  {
   "cell_type": "code",
   "execution_count": null,
   "metadata": {},
   "outputs": [],
   "source": [
    "'''save and visualize result'''\n",
    "#======================\n",
    "# plt.figure(1, figsize=(20, 4),dpi=300)\n",
    "plt.figure()\n",
    "plt.subplot(1, 3, 1)\n",
    "plt.imshow(tsum0, cmap='hot_r', vmin=0, vmax=11000,interpolation='none')\n",
    "plt.title('T-sumation 0')\n",
    "plt.colorbar(shrink=0.8)\n",
    "#----------------------\n",
    "plt.subplot(1, 3, 2)\n",
    "plt.imshow(tsum5, cmap='hot_r', vmin=0, vmax=11000,interpolation='none')\n",
    "plt.title('T-sumation 5')\n",
    "plt.colorbar(shrink=0.8)\n",
    "#----------------------\n",
    "plt.subplot(1, 3, 3)\n",
    "plt.imshow(tsum10, cmap='hot_r', vmin=0, vmax=11000,interpolation='none')\n",
    "plt.title('T-sumation 10')\n",
    "plt.colorbar(shrink=0.8)\n",
    "#----------------------\n",
    "plt.savefig(out_path+\"Tsum_\"+revname+\".png\",\n",
    "            bbox_inches=\"tight\", dpi=300)\n",
    "plt.show()\n",
    "#======================"
   ]
  },
  {
   "cell_type": "code",
   "execution_count": null,
   "metadata": {},
   "outputs": [],
   "source": [
    "obj_utilities.saveRaster(mask_path, out_path+'tsum0_'+revname+'.tif', tsum0)\n",
    "obj_utilities.saveRaster(mask_path, out_path+'tsum5_'+revname+'.tif', tsum5)\n",
    "obj_utilities.saveRaster(mask_path, out_path+'tsum10_'+revname+'.tif', tsum10)"
   ]
  },
  {
   "cell_type": "markdown",
   "metadata": {},
   "source": [
    "#### Temperature Profile"
   ]
  },
  {
   "cell_type": "code",
   "execution_count": null,
   "metadata": {},
   "outputs": [],
   "source": [
    "# vectorized+parallel: expect ~1 second run time for china\n",
    "# vectorized: expect ~6 seconds run time for china\n",
    "# non-vectorized: expect ~50 seconds run time for china\n",
    "start=timer()\n",
    "\n",
    "tprofile = clim_reg.getTemperatureProfile()\n",
    "\n",
    "task_time=timer()-start\n",
    "task_time"
   ]
  },
  {
   "cell_type": "code",
   "execution_count": null,
   "metadata": {},
   "outputs": [],
   "source": [
    "'''save and visualize result'''\n",
    "tile_list = ['A1','A2','A3','A4','A5','A6','A7','A8','A9',\n",
    "            'B1', 'B2', 'B3', 'B4', 'B5', 'B6', 'B7', 'B8', 'B9']\n",
    "\n",
    "# fig = plt.figure(figsize=(12, 12))\n",
    "fig = plt.figure()\n",
    "for i1 in range(1, 19):\n",
    "    plt.subplot(6, 3, i1)\n",
    "    plt.imshow(tprofile[i1-1],interpolation='none')\n",
    "    plt.title(tile_list[i1-1])\n",
    "    plt.colorbar(shrink=0.8)\n",
    "plt.tight_layout()\n",
    "\n",
    "plt.savefig(out_path+\"Tprofiles_\"+revname+\".png\",bbox_inches=\"tight\", dpi=300)\n",
    "plt.show()\n"
   ]
  },
  {
   "cell_type": "code",
   "execution_count": null,
   "metadata": {},
   "outputs": [],
   "source": [
    "for i1 in range(18):\n",
    "    obj_utilities.saveRaster(mask_path, out_path+'TProfile_' + tile_list[i1] +'_'+revname+'.tif', tprofile[i1])"
   ]
  },
  {
   "cell_type": "markdown",
   "metadata": {},
   "source": [
    "#### Length of Growing Periods (LGPs)"
   ]
  },
  {
   "cell_type": "code",
   "execution_count": null,
   "metadata": {},
   "outputs": [],
   "source": [
    "@dask.delayed\n",
    "def test_func1(x,y,z,X,Y,Z,mask):\n",
    "    x=x*2\n",
    "    y=y+3\n",
    "    z=z**2\n",
    "    X=np.where(mask,x,X)\n",
    "    Y=np.where(mask,y,Y)\n",
    "    Z=np.where(mask,z,Z)\n",
    "    return X,Y,Z\n",
    "\n",
    "def test_func2(out1,out2,out3):\n",
    "    out1=out1+10\n",
    "    out2=out2+20\n",
    "    out3=out3+30\n",
    "    return out1,out2,out3\n",
    "\n",
    "@dask.delayed\n",
    "def test_combine(x1,y1,z1,x2,y2,z2,mask1,mask2):\n",
    "    x=np.empty(x1.shape)\n",
    "    y=np.empty(x1.shape)\n",
    "    z=np.empty(x1.shape)\n",
    "    x=np.where(mask1,x1,x)\n",
    "    x=np.where(mask2,x2,x)\n",
    "    y=np.where(mask1,y1,y)\n",
    "    y=np.where(mask2,y2,y)\n",
    "    z=np.where(mask1,z1,z)\n",
    "    z=np.where(mask2,z2,z)        \n",
    "    return x,y,z\n",
    "\n",
    "\n",
    "\n",
    "\n",
    "ndays=5\n",
    "x_arr=np.ones((ndays,2,2),dtype='float32')\n",
    "y_arr=np.zeros((ndays,2,2),dtype='float32')\n",
    "z_arr=y_arr-1\n",
    "\n",
    "X=np.empty(x_arr.shape)\n",
    "Y=np.empty(y_arr.shape)\n",
    "Z=np.empty(z_arr.shape)\n",
    "X[:],Y[:],Z[:]=np.nan,np.nan,np.nan\n",
    "\n",
    "# [[1,1],[1,1]]\n",
    "mask1=np.array([[[1,0],[1,1]],[[1,0],[1,1]],[[1,0],[1,1]],[[1,0],[1,1]],[[1,0],[1,1]]])\n",
    "mask2=np.array([[[0,1],[0,0]],[[0,1],[0,0]],[[0,1],[0,0]],[[0,1],[0,0]],[[0,1],[0,0]]])\n",
    "\n",
    "mask1.shape"
   ]
  },
  {
   "cell_type": "code",
   "execution_count": null,
   "metadata": {},
   "outputs": [],
   "source": [
    "ncats=5\n",
    "for i,cat in enumerate(np.arange(ncats)+1):\n",
    "    print(i,cat)"
   ]
  },
  {
   "cell_type": "code",
   "execution_count": null,
   "metadata": {},
   "outputs": [],
   "source": [
    "task_list=[]\n",
    "for doy in range(ndays):\n",
    "    # task=test_func1(x_arr,y_arr,z_arr,X,Y,Z,mask1)\n",
    "    # task_list.append(task)\n",
    "    X,Y,Z=test_func1(x_arr,y_arr,z_arr,X,Y,Z,mask1)\n",
    "    # task=test_func1(x_arr,y_arr,z_arr,X,Y,Z,mask2)\n",
    "    # task_list.append(task)\n",
    "    # task=test_combine()\n",
    "    # print(task_list)\n",
    "    # output=dask.compute(*task_list)\n"
   ]
  },
  {
   "cell_type": "code",
   "execution_count": null,
   "metadata": {},
   "outputs": [],
   "source": [
    "len(output)\n",
    "output[1]"
   ]
  },
  {
   "cell_type": "code",
   "execution_count": null,
   "metadata": {},
   "outputs": [],
   "source": [
    "task_list=[]\n",
    "for doy in range(ndays):\n",
    "    # out1,out2,out3=test_func1(x_arr,y_arr,z_arr)\n",
    "    task=test_func1(x_arr,y_arr,z_arr)\n",
    "    # task=test_func2(out1,out2,out3)\n",
    "    # task_list.append(task)\n",
    "    output=task.compute()\n",
    "    x_arr=output[0]\n",
    "    y_arr=output[1]\n",
    "    z_arr=output[2]\n",
    "    "
   ]
  },
  {
   "cell_type": "code",
   "execution_count": null,
   "metadata": {},
   "outputs": [],
   "source": [
    "output=dask.compute(*task_list)"
   ]
  },
  {
   "cell_type": "code",
   "execution_count": null,
   "metadata": {},
   "outputs": [],
   "source": [
    "x_arr"
   ]
  },
  {
   "cell_type": "code",
   "execution_count": null,
   "metadata": {},
   "outputs": [],
   "source": [
    "output[0][0]"
   ]
  },
  {
   "cell_type": "code",
   "execution_count": null,
   "metadata": {},
   "outputs": [],
   "source": []
  },
  {
   "cell_type": "code",
   "execution_count": null,
   "metadata": {},
   "outputs": [],
   "source": []
  },
  {
   "cell_type": "code",
   "execution_count": null,
   "metadata": {},
   "outputs": [],
   "source": [
    "# vectorized+parallel: expect ~66 seconds run time for china\n",
    "# vectorized: expect ~1.5 minutes run time for china\n",
    "# non-vectorized: expect ~6 minutes run time for china\n",
    "start=timer()\n",
    "\n",
    "lgp = clim_reg.getLGP(Sa=100., D=1.)\n",
    "lgp_class = clim_reg.getLGPClassified(lgp)\n",
    "lgp_equv = clim_reg.getLGPEquivalent()\n",
    "\n",
    "task_time=timer()-start\n",
    "task_time"
   ]
  },
  {
   "cell_type": "code",
   "execution_count": null,
   "metadata": {},
   "outputs": [],
   "source": [
    "'''save and visualize result'''\n",
    "# fig = plt.figure(figsize=(20, 4))\n",
    "fig = plt.figure()\n",
    "# fig = plt.figure(figsize=(10, 8),dpi=600)\n",
    "plt.subplot(121)\n",
    "plt.imshow(lgp, cmap='viridis', vmin=0, vmax=366,interpolation='none')\n",
    "plt.title('LGP [days]')\n",
    "plt.colorbar(shrink=0.8)\n",
    "# plt.savefig(out_path+\"LGP_\"+revname+\".png\", bbox_inches=\"tight\", dpi=600)\n",
    "# plt.show()\n",
    "\n",
    "# fig = plt.figure(figsize=(20, 8),dpi=600)\n",
    "plt.subplot(122)\n",
    "plt.imshow(lgp_equv, cmap='viridis', vmin=0, vmax=366,interpolation='none')\n",
    "plt.title('LGP Equivalent [days]')\n",
    "plt.colorbar(shrink=0.8)\n",
    "# plt.savefig(out_path+\"LGP_Equv_\"+revname+\".png\",bbox_inches=\"tight\", dpi=600)\n",
    "plt.show()\n",
    "\n",
    "plt.savefig(out_path+\"LGP_and_LGP_Equv_\"+revname+\".png\",bbox_inches=\"tight\", dpi=300)\n",
    "\n",
    "\n",
    "obj_utilities.saveRaster(mask_path, out_path+'LGP_'+revname+'.tif', lgp)\n",
    "obj_utilities.saveRaster(mask_path, out_path+'LGPEquivalent_'+revname+'.tif', lgp_equv)\n"
   ]
  },
  {
   "cell_type": "markdown",
   "metadata": {},
   "source": [
    "#### Multi Cropping Zone\n",
    "Multiple cropping zones classification is an additional agro-climatic indicator, which relates to the possibility of cultivating multiple sequential crops under rain-fed and irrigated conditions."
   ]
  },
  {
   "cell_type": "code",
   "execution_count": null,
   "metadata": {},
   "outputs": [],
   "source": [
    "# expect >1s run time for china\n",
    "# non-vectorized: expect ~1.5 minutes run time for china\n",
    "start=timer()\n",
    "\n",
    "multi_crop = clim_reg.getMultiCroppingZones(tclimate, lgp, lgpt5, lgpt10, tsum0, tsum10)\n",
    "multi_crop_rainfed = multi_crop[0]  # for rainfed conditions\n",
    "multi_crop_irr = multi_crop[1]  # for irrigated conditions\n",
    "\n",
    "task_time=timer()-start\n",
    "task_time"
   ]
  },
  {
   "cell_type": "code",
   "execution_count": null,
   "metadata": {},
   "outputs": [],
   "source": [
    "'''save and visualize result'''\n",
    "fig = plt.figure()\n",
    "plt.imshow(multi_crop_irr, cmap=plt.get_cmap('gist_ncar_r', 9), vmin=-0.2, vmax=8.4,interpolation='none')\n",
    "plt.title('Multi Cropping Zone - IRR')\n",
    "plt.colorbar()\n",
    "plt.savefig(out_path+\"multicrop_irr_\"+revname+\".png\", bbox_inches=\"tight\", dpi=300)\n",
    "plt.show()\n",
    "\n",
    "fig = plt.figure()\n",
    "plt.imshow(multi_crop_rainfed,cmap=plt.get_cmap('gist_ncar_r', 9), vmin=-0.2, vmax=8.4,interpolation='none')\n",
    "plt.title('Multi Cropping Zone - RAINFED')\n",
    "plt.colorbar()\n",
    "plt.savefig(out_path+\"multicrop_rain_\"+revname+\".png\",bbox_inches=\"tight\", dpi=300)\n",
    "plt.show()\n",
    "\n",
    "obj_utilities.saveRaster(mask_path, out_path+'multicrop_irr_'+revname+'.tif', multi_crop_irr)\n",
    "obj_utilities.saveRaster(mask_path, out_path+'multicrop_rain_'+revname+'.tif', multi_crop_rainfed)\n"
   ]
  },
  {
   "cell_type": "markdown",
   "metadata": {},
   "source": [
    "### Air Frost Index and Permafrost Evaluation\n",
    "Occurrence of continuous or discontinuous permafrost conditions are used in the suitability assessment. Permafrost areas are characterized by sub-soil at or below the freezing point for two or more years. In this section, PyAEZ utilizes the air frost index (FI) which is used to characterize climate-derived permafrost condition into 4 classes: \n",
    "1) Continuous permafrost\n",
    "2) Discontinuous permafrost \n",
    "3) Sporadic permafrost\n",
    "4) No permafrost"
   ]
  },
  {
   "cell_type": "code",
   "execution_count": null,
   "metadata": {},
   "outputs": [],
   "source": [
    "# expect >1s run time for china\n",
    "# non-vectorized: expect ~2 seconds run time for china\n",
    "start=timer()\n",
    "\n",
    "permafrost_eval = clim_reg.AirFrostIndexandPermafrostEvaluation()\n",
    "frost_index = permafrost_eval[0]\n",
    "permafrost = permafrost_eval[1]\n",
    "\n",
    "task_time=timer()-start\n",
    "task_time"
   ]
  },
  {
   "cell_type": "code",
   "execution_count": null,
   "metadata": {},
   "outputs": [],
   "source": [
    "'''save and visualize result'''\n",
    "fig = plt.figure()\n",
    "plt.imshow(frost_index, cmap=plt.get_cmap('tab20b', 11), vmin=-0.05, vmax=1.05,interpolation='none')\n",
    "plt.title('Frost Index')\n",
    "plt.colorbar()\n",
    "plt.savefig(out_path+\"frost_index_\"+revname+\".png\",bbox_inches=\"tight\", dpi=300)\n",
    "plt.show()\n",
    "\n",
    "fig = plt.figure()\n",
    "plt.imshow(permafrost, cmap=plt.get_cmap('tab20b', 5), vmin=-0.5, vmax=4.3,interpolation='none')\n",
    "plt.title('Permafrost Evaluation')\n",
    "plt.colorbar()\n",
    "plt.savefig(out_path+\"permafrost_\"+revname+\".png\",bbox_inches=\"tight\", dpi=300)\n",
    "plt.show()\n",
    "\n",
    "\n",
    "obj_utilities.saveRaster(mask_path, out_path+'frost_index_'+revname+'.tif', frost_index)\n",
    "obj_utilities.saveRaster(mask_path, out_path+'permafrost_'+revname+'.tif', permafrost)\n"
   ]
  },
  {
   "cell_type": "markdown",
   "metadata": {},
   "source": [
    "### Fallow period requirement\n",
    "Fallow is an agricultural technique that consists of not sowing the arable land during one or more growing seasons. In AEZ framework, the fallow factors have been established by main crop groups and environmental conditions. The crop groups include cereals, legumes, roots and tubers, and a miscellaneous group consisting of long-term annuals/perennials. The fallow factors are expressed as percentage of time during the fallow-cropping cycle the land must be under fallow. PyAEZ determines the fallow requirements using Thermal Zones."
   ]
  },
  {
   "cell_type": "code",
   "execution_count": null,
   "metadata": {},
   "outputs": [],
   "source": [
    "# expect >1s run time for china\n",
    "# expect ~15 seconds run time for china\n",
    "start=timer()\n",
    "\n",
    "tzone_fallow = clim_reg.TZoneFallowRequirement(tzone)\n",
    "\n",
    "task_time=timer()-start\n",
    "task_time"
   ]
  },
  {
   "cell_type": "code",
   "execution_count": null,
   "metadata": {},
   "outputs": [],
   "source": [
    "'''save and visualize result'''\n",
    "fig = plt.figure()\n",
    "plt.imshow(tzone_fallow, cmap=plt.get_cmap('tab10', 7), vmin=-0.5, vmax=6.3,interpolation='none')\n",
    "plt.title('Fallow Requirement')\n",
    "plt.colorbar()\n",
    "plt.savefig(out_path+\"fallow_\"+revname+\".png\",bbox_inches=\"tight\", dpi=300)\n",
    "plt.show()\n",
    "\n",
    "obj_utilities.saveRaster(mask_path, out_path+'fallow_'+revname+'.tif', tzone_fallow)\n"
   ]
  },
  {
   "cell_type": "code",
   "execution_count": null,
   "metadata": {},
   "outputs": [],
   "source": [
    "# check dtypes of all outputs\n",
    "outputs=[tclimate,tzone,lgpt0,lgpt5,lgpt10,tsum0,tsum5,tsum10,tprofile,lgp,lgp_class,lgp_equv,multi_crop_rainfed,multi_crop_irr,frost_index,permafrost,tzone_fallow]\n",
    "dtypes=[]\n",
    "for var in outputs:\n",
    "    # for arrays\n",
    "    try:\n",
    "        dt=var.dtype\n",
    "        dtypes.append(dt)\n",
    "    # for lists of arrays\n",
    "    except:\n",
    "        for v in var:\n",
    "            dt=v.dtype\n",
    "            dtypes.append(dt)\n",
    "\n",
    "print(dtypes)"
   ]
  },
  {
   "cell_type": "markdown",
   "metadata": {},
   "source": [
    "### Agro-ecological zones classification\n",
    "The agro-ecological zones (AEZ) methodology provides a framework for establishing a spatial inventory of land resources compiled from global/national environmental data sets and assembled to quantify multiple spatial characteristics required for the assessments of land productivity under location-specific agro-ecological conditions."
   ]
  },
  {
   "cell_type": "code",
   "execution_count": null,
   "metadata": {},
   "outputs": [],
   "source": [
    "# can't run until we have the global soil_terrain_lulc\n",
    "\n",
    "# expect ~ minutes run time for global\n",
    "start=timer()\n",
    "\n",
    "aez = clim_reg.AEZClassification(\n",
    "    tclimate, lgp, lgp_equv, lgpt5, soil_terrain_lulc, permafrost)\n",
    "\n",
    "task_time=timer()-start\n",
    "task_time"
   ]
  },
  {
   "cell_type": "code",
   "execution_count": null,
   "metadata": {},
   "outputs": [],
   "source": [
    "# now visualizing result\n",
    "fig = plt.figure(dpi=600)\n",
    "plt.imshow(aez, cmap=plt.get_cmap('rainbow', 59), vmin=0, vmax=59,interpolation=None)\n",
    "plt.title('Agro-ecological Zonation')\n",
    "plt.colorbar()\n",
    "plt.savefig(out_path+\"aez_\"+revname+\".png\",bbox_inches=\"tight\", dpi=600)\n",
    "plt.show()\n",
    "\n",
    "obj_utilities.saveRaster(mask_path, out_path+'aez_'+revname+'.tif', aez)\n"
   ]
  },
  {
   "cell_type": "markdown",
   "metadata": {},
   "source": [
    "<hr>\n",
    "\n",
    "### END OF MODULE 1: CLIMATE REGIME\n",
    "\n",
    "<hr>"
   ]
  }
 ],
 "metadata": {
  "kernelspec": {
   "display_name": "Python 3.11.3 ('pyaez_dask')",
   "language": "python",
   "name": "python3"
  },
  "language_info": {
   "codemirror_mode": {
    "name": "ipython",
    "version": 3
   },
   "file_extension": ".py",
   "mimetype": "text/x-python",
   "name": "python",
   "nbconvert_exporter": "python",
   "pygments_lexer": "ipython3",
   "version": "3.11.3"
  },
  "vscode": {
   "interpreter": {
    "hash": "65e72b0120c35d75cf65cfd3d4805280e35b271cd085ff832a3f7fa98db0a8ca"
   }
  }
 },
 "nbformat": 4,
 "nbformat_minor": 2
}
