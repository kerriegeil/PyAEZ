{
 "cells": [
  {
   "cell_type": "code",
   "execution_count": null,
   "metadata": {},
   "outputs": [],
   "source": [
    "import numpy as np\n",
    "import matplotlib.pyplot as plt\n",
    "import os\n",
    "try:\n",
    "    from osgeo import gdal\n",
    "except:\n",
    "    import gdal    \n",
    "import sys\n",
    "from time import time as timer\n",
    "import xarray as xr\n",
    "import rioxarray as rio"
   ]
  },
  {
   "cell_type": "code",
   "execution_count": null,
   "metadata": {},
   "outputs": [],
   "source": [
    "work_dir = r'C://Users/kerrie/Documents/01_LocalCode/repos/PyAEZ/pyaez2.1/'\n",
    "# debug_OCT_dir=r'pyaez2.1_2023OCT23/debug/'\n",
    "# debug_parvec_dir=r'pyaez2.1_parvec/debug/'"
   ]
  },
  {
   "cell_type": "code",
   "execution_count": null,
   "metadata": {},
   "outputs": [],
   "source": [
    "lgp_new = xr.open_dataset(work_dir+'pyaez2.1_parvec/debug/lgp_parvec21_LGPCalc.nc')\n",
    "lgp_new"
   ]
  },
  {
   "cell_type": "code",
   "execution_count": null,
   "metadata": {},
   "outputs": [],
   "source": [
    "lgp_old = xr.open_dataset(work_dir+'pyaez2.1_2023OCT23/debug/lgp_repoOCT_LGPCalc.nc')\n",
    "lgp_old"
   ]
  },
  {
   "cell_type": "code",
   "execution_count": null,
   "metadata": {},
   "outputs": [],
   "source": [
    "lgp_new.lgp.min().data,lgp_old.lgp.min().data"
   ]
  },
  {
   "cell_type": "code",
   "execution_count": null,
   "metadata": {},
   "outputs": [],
   "source": [
    "lgp_new.lgp.max().data,lgp_old.lgp.max().data"
   ]
  },
  {
   "cell_type": "code",
   "execution_count": null,
   "metadata": {},
   "outputs": [],
   "source": [
    "vnew=lgp_new.lgp\n",
    "vold=lgp_old.lgp\n",
    "\n",
    "fig = plt.figure(figsize=(20,5))\n",
    "levels=[-2.5,-1.5,-.5,.5,1.5,2.5]\n",
    "colors=['darkblue','blue','lightblue','white','pink','red','darkred']\n",
    "# levels=[1,2,3,4,5,6,7,8,9,10]\n",
    "\n",
    "plt.subplot(1, 3, 1)\n",
    "p=vnew.plot()#levels=levels)\n",
    "title=p.axes.get_title()\n",
    "plt.title(title,fontsize='xx-small')\n",
    "x_axis = p.axes.get_xaxis()\n",
    "x_axis.set_visible(False)\n",
    "y_axis = p.axes.get_yaxis()\n",
    "y_axis.set_visible(False)    \n",
    "\n",
    "plt.subplot(1, 3, 2)\n",
    "p=vold.plot()#levels=levels)\n",
    "title=p.axes.get_title()\n",
    "plt.title(title,fontsize='xx-small')\n",
    "x_axis = p.axes.get_xaxis()\n",
    "x_axis.set_visible(False)\n",
    "y_axis = p.axes.get_yaxis()\n",
    "y_axis.set_visible(False) \n",
    "\n",
    "plt.subplot(1, 3, 3)\n",
    "p=(vnew-vold).plot(levels=levels,colors=colors)\n",
    "title=p.axes.get_title()\n",
    "plt.title(title,fontsize='xx-small')\n",
    "x_axis = p.axes.get_xaxis()\n",
    "x_axis.set_visible(False)\n",
    "y_axis = p.axes.get_yaxis()\n",
    "y_axis.set_visible(False) \n",
    "plt.show()"
   ]
  },
  {
   "cell_type": "code",
   "execution_count": null,
   "metadata": {},
   "outputs": [],
   "source": []
  },
  {
   "cell_type": "code",
   "execution_count": null,
   "metadata": {},
   "outputs": [],
   "source": []
  },
  {
   "cell_type": "code",
   "execution_count": null,
   "metadata": {},
   "outputs": [],
   "source": []
  },
  {
   "cell_type": "code",
   "execution_count": null,
   "metadata": {},
   "outputs": [],
   "source": []
  },
  {
   "cell_type": "code",
   "execution_count": null,
   "metadata": {},
   "outputs": [],
   "source": [
    "islgp_new = xr.open_dataset(work_dir+'pyaez2.1_parvec/debug/islgp_parvec21_LGPCalc.nc')\n",
    "islgp_new"
   ]
  },
  {
   "cell_type": "code",
   "execution_count": null,
   "metadata": {},
   "outputs": [],
   "source": [
    "islgp_old = xr.open_dataset(work_dir+'pyaez2.1_2023OCT23/debug/islgp_repoOCT_LGPCalc.nc')\n",
    "islgp_old"
   ]
  },
  {
   "cell_type": "code",
   "execution_count": null,
   "metadata": {},
   "outputs": [],
   "source": [
    "islgp_new.islgp.min().data,islgp_old.islgp.min().data"
   ]
  },
  {
   "cell_type": "code",
   "execution_count": null,
   "metadata": {},
   "outputs": [],
   "source": [
    "islgp_new.islgp.max().data,islgp_old.islgp.max().data"
   ]
  },
  {
   "cell_type": "code",
   "execution_count": null,
   "metadata": {},
   "outputs": [],
   "source": [
    "t='1980-05-01'\n",
    "vnew=islgp_new.islgp.sel(time=t)\n",
    "vold=islgp_old.islgp.sel(time=t)\n",
    "\n",
    "fig = plt.figure(figsize=(20,5))\n",
    "# levels=[-8.5,-6.5,-4.5,-2.5,-.5,.5,2.5,4.5,6.5,8.5]\n",
    "# levels=[1,2,3,4,5,6,7,8,9,10]\n",
    "\n",
    "plt.subplot(1, 3, 1)\n",
    "p=vnew.plot()#levels=levels)\n",
    "title=p.axes.get_title()\n",
    "plt.title(title,fontsize='xx-small')\n",
    "x_axis = p.axes.get_xaxis()\n",
    "x_axis.set_visible(False)\n",
    "y_axis = p.axes.get_yaxis()\n",
    "y_axis.set_visible(False)    \n",
    "\n",
    "plt.subplot(1, 3, 2)\n",
    "p=vold.plot()#levels=levels)\n",
    "title=p.axes.get_title()\n",
    "plt.title(title,fontsize='xx-small')\n",
    "x_axis = p.axes.get_xaxis()\n",
    "x_axis.set_visible(False)\n",
    "y_axis = p.axes.get_yaxis()\n",
    "y_axis.set_visible(False) \n",
    "\n",
    "plt.subplot(1, 3, 3)\n",
    "p=(vnew-vold).plot()#levels=[0,.05,.1,.2,.4,.6,.8,1.,1.2],cmap='viridis')\n",
    "title=p.axes.get_title()\n",
    "plt.title(title,fontsize='xx-small')\n",
    "x_axis = p.axes.get_xaxis()\n",
    "x_axis.set_visible(False)\n",
    "y_axis = p.axes.get_yaxis()\n",
    "y_axis.set_visible(False) \n",
    "plt.show()"
   ]
  },
  {
   "cell_type": "code",
   "execution_count": null,
   "metadata": {},
   "outputs": [],
   "source": [
    "islgp_new.islgp[50,50,:].plot()\n",
    "islgp_old.islgp[50,50,:].plot()"
   ]
  },
  {
   "cell_type": "code",
   "execution_count": null,
   "metadata": {},
   "outputs": [],
   "source": []
  },
  {
   "cell_type": "code",
   "execution_count": null,
   "metadata": {},
   "outputs": [],
   "source": []
  },
  {
   "cell_type": "code",
   "execution_count": null,
   "metadata": {},
   "outputs": [],
   "source": [
    "x_new = xr.open_dataset(work_dir+'pyaez2.1_parvec/debug/xx_parvec21_LGPCalc.nc')\n",
    "x_new"
   ]
  },
  {
   "cell_type": "code",
   "execution_count": null,
   "metadata": {},
   "outputs": [],
   "source": [
    "x_old = xr.open_dataset(work_dir+'pyaez2.1_2023OCT23/debug/xx_repoOCT_LGPCalc.nc')\n",
    "x_old"
   ]
  },
  {
   "cell_type": "code",
   "execution_count": null,
   "metadata": {},
   "outputs": [],
   "source": [
    "x_new.xx.min().data,x_old.xx.min().data"
   ]
  },
  {
   "cell_type": "code",
   "execution_count": null,
   "metadata": {},
   "outputs": [],
   "source": [
    "x_new.xx.max().data,x_old.xx.max().data"
   ]
  },
  {
   "cell_type": "code",
   "execution_count": null,
   "metadata": {},
   "outputs": [],
   "source": [
    "t='1980-05-01'\n",
    "vnew=x_new.xx.sel(time=t)\n",
    "vold=x_old.xx.sel(time=t)\n",
    "\n",
    "fig = plt.figure(figsize=(20,5))\n",
    "# levels=[-8.5,-6.5,-4.5,-2.5,-.5,.5,2.5,4.5,6.5,8.5]\n",
    "# levels=[1,2,3,4,5,6,7,8,9,10]\n",
    "\n",
    "plt.subplot(1, 3, 1)\n",
    "p=vnew.plot()#levels=levels)\n",
    "title=p.axes.get_title()\n",
    "plt.title(title,fontsize='xx-small')\n",
    "x_axis = p.axes.get_xaxis()\n",
    "x_axis.set_visible(False)\n",
    "y_axis = p.axes.get_yaxis()\n",
    "y_axis.set_visible(False)    \n",
    "\n",
    "plt.subplot(1, 3, 2)\n",
    "p=vold.plot()#levels=levels)\n",
    "title=p.axes.get_title()\n",
    "plt.title(title,fontsize='xx-small')\n",
    "x_axis = p.axes.get_xaxis()\n",
    "x_axis.set_visible(False)\n",
    "y_axis = p.axes.get_yaxis()\n",
    "y_axis.set_visible(False) \n",
    "\n",
    "plt.subplot(1, 3, 3)\n",
    "p=(vnew-vold).plot()#levels=[0,.05,.1,.2,.4,.6,.8,1.,1.2],cmap='viridis')\n",
    "title=p.axes.get_title()\n",
    "plt.title(title,fontsize='xx-small')\n",
    "x_axis = p.axes.get_xaxis()\n",
    "x_axis.set_visible(False)\n",
    "y_axis = p.axes.get_yaxis()\n",
    "y_axis.set_visible(False) \n",
    "plt.show()"
   ]
  },
  {
   "cell_type": "code",
   "execution_count": null,
   "metadata": {},
   "outputs": [],
   "source": [
    "x_new.xx[50,50,:].plot()\n",
    "x_old.xx[50,50,:].plot()\n"
   ]
  },
  {
   "cell_type": "code",
   "execution_count": null,
   "metadata": {},
   "outputs": [],
   "source": [
    "y_new = xr.open_dataset(work_dir+'pyaez2.1_parvec/debug/yy_parvec21_LGPCalc.nc')\n",
    "y_new"
   ]
  },
  {
   "cell_type": "code",
   "execution_count": null,
   "metadata": {},
   "outputs": [],
   "source": [
    "y_old = xr.open_dataset(work_dir+'pyaez2.1_2023OCT23/debug/yy_repoOCT_LGPCalc.nc')\n",
    "y_old"
   ]
  },
  {
   "cell_type": "code",
   "execution_count": null,
   "metadata": {},
   "outputs": [],
   "source": [
    "y_new.yy.min().data,y_old.yy.min().data"
   ]
  },
  {
   "cell_type": "code",
   "execution_count": null,
   "metadata": {},
   "outputs": [],
   "source": [
    "y_new.yy.max().data,y_old.yy.max().data"
   ]
  },
  {
   "cell_type": "code",
   "execution_count": null,
   "metadata": {},
   "outputs": [],
   "source": [
    "t='1980-05-01'\n",
    "vnew=y_new.yy.sel(time=t)\n",
    "vold=y_old.yy.sel(time=t)\n",
    "\n",
    "fig = plt.figure(figsize=(20,5))\n",
    "# levels=[-8.5,-6.5,-4.5,-2.5,-.5,.5,2.5,4.5,6.5,8.5]\n",
    "# levels=[1,2,3,4,5,6,7,8,9,10]\n",
    "\n",
    "plt.subplot(1, 3, 1)\n",
    "p=vnew.plot()#levels=levels)\n",
    "title=p.axes.get_title()\n",
    "plt.title(title,fontsize='xx-small')\n",
    "x_axis = p.axes.get_xaxis()\n",
    "x_axis.set_visible(False)\n",
    "y_axis = p.axes.get_yaxis()\n",
    "y_axis.set_visible(False)    \n",
    "\n",
    "plt.subplot(1, 3, 2)\n",
    "p=vold.plot()#levels=levels)\n",
    "title=p.axes.get_title()\n",
    "plt.title(title,fontsize='xx-small')\n",
    "x_axis = p.axes.get_xaxis()\n",
    "x_axis.set_visible(False)\n",
    "y_axis = p.axes.get_yaxis()\n",
    "y_axis.set_visible(False) \n",
    "\n",
    "plt.subplot(1, 3, 3)\n",
    "p=(vnew-vold).plot()#levels=[0,.05,.1,.2,.4,.6,.8,1.,1.2],cmap='viridis')\n",
    "title=p.axes.get_title()\n",
    "plt.title(title,fontsize='xx-small')\n",
    "x_axis = p.axes.get_xaxis()\n",
    "x_axis.set_visible(False)\n",
    "y_axis = p.axes.get_yaxis()\n",
    "y_axis.set_visible(False) \n",
    "plt.show()"
   ]
  },
  {
   "cell_type": "code",
   "execution_count": null,
   "metadata": {},
   "outputs": [],
   "source": [
    "y_new.yy[50,50,:].plot()\n",
    "y_old.yy[50,50,:].plot()"
   ]
  },
  {
   "cell_type": "code",
   "execution_count": null,
   "metadata": {},
   "outputs": [],
   "source": [
    "diff=vnew-vold\n",
    "diff.min().data,diff.max().data"
   ]
  },
  {
   "cell_type": "code",
   "execution_count": null,
   "metadata": {},
   "outputs": [],
   "source": []
  },
  {
   "cell_type": "code",
   "execution_count": null,
   "metadata": {},
   "outputs": [],
   "source": []
  },
  {
   "cell_type": "code",
   "execution_count": null,
   "metadata": {},
   "outputs": [],
   "source": [
    "lgpwhole_new=x_new.xx/y_new.yy\n",
    "lgpwhole_old=x_old.xx/y_old.yy"
   ]
  },
  {
   "cell_type": "code",
   "execution_count": null,
   "metadata": {},
   "outputs": [],
   "source": [
    "t='1980-05-01'\n",
    "vnew=lgpwhole_new.sel(time=t)\n",
    "vold=lgpwhole_old.sel(time=t)\n",
    "\n",
    "fig = plt.figure(figsize=(20,5))\n",
    "# levels=[-8.5,-6.5,-4.5,-2.5,-.5,.5,2.5,4.5,6.5,8.5]\n",
    "# levels=[1,2,3,4,5,6,7,8,9,10]\n",
    "\n",
    "plt.subplot(1, 3, 1)\n",
    "p=vnew.plot()#levels=levels)\n",
    "title=p.axes.get_title()\n",
    "plt.title(title,fontsize='xx-small')\n",
    "x_axis = p.axes.get_xaxis()\n",
    "x_axis.set_visible(False)\n",
    "y_axis = p.axes.get_yaxis()\n",
    "y_axis.set_visible(False)    \n",
    "\n",
    "plt.subplot(1, 3, 2)\n",
    "p=vold.plot()#levels=levels)\n",
    "title=p.axes.get_title()\n",
    "plt.title(title,fontsize='xx-small')\n",
    "x_axis = p.axes.get_xaxis()\n",
    "x_axis.set_visible(False)\n",
    "y_axis = p.axes.get_yaxis()\n",
    "y_axis.set_visible(False) \n",
    "\n",
    "plt.subplot(1, 3, 3)\n",
    "p=(vnew-vold).plot()#levels=[0,.05,.1,.2,.4,.6,.8,1.,1.2],cmap='viridis')\n",
    "title=p.axes.get_title()\n",
    "plt.title(title,fontsize='xx-small')\n",
    "x_axis = p.axes.get_xaxis()\n",
    "x_axis.set_visible(False)\n",
    "y_axis = p.axes.get_yaxis()\n",
    "y_axis.set_visible(False) \n",
    "plt.show()"
   ]
  },
  {
   "cell_type": "code",
   "execution_count": null,
   "metadata": {},
   "outputs": [],
   "source": [
    "lgpwhole_new[50,50,:].plot()\n",
    "lgpwhole_old[50,50,:].plot()"
   ]
  },
  {
   "cell_type": "code",
   "execution_count": null,
   "metadata": {},
   "outputs": [],
   "source": []
  },
  {
   "cell_type": "code",
   "execution_count": null,
   "metadata": {},
   "outputs": [],
   "source": [
    "lgptot_new=xr.where((islgp_new==1)&(lgpwhole_new>=0.4),1,0).sum('time')  \n",
    "lgptot_new"
   ]
  },
  {
   "cell_type": "code",
   "execution_count": null,
   "metadata": {},
   "outputs": [],
   "source": [
    "lgptot_old = np.zeros((len(lgpwhole_old[:,0,0]), len(lgpwhole_old[0,:,0])))\n",
    "\n",
    "for r in range(50):\n",
    "    for c in range(50):\n",
    "        count = 0\n",
    "        for t in range(len(lgpwhole_old[0,0,:])):\n",
    "            if islgp_old.islgp[r,c,t] == 1 and lgpwhole_old[r,c,t] >= 0.4:\n",
    "                count = count+1\n",
    "        lgptot_old[r,c] = count"
   ]
  },
  {
   "cell_type": "code",
   "execution_count": null,
   "metadata": {},
   "outputs": [],
   "source": [
    "lgptot_old=xr.DataArray(lgptot_old,coords=lgptot_new.coords,dims=lgptot_new.dims)\n",
    "lgptot_old\n"
   ]
  },
  {
   "cell_type": "code",
   "execution_count": null,
   "metadata": {},
   "outputs": [],
   "source": [
    "vnew=lgptot_new.islgp\n",
    "vold=lgptot_old\n",
    "\n",
    "fig = plt.figure(figsize=(20,5))\n",
    "\n",
    "plt.subplot(1, 3, 1)\n",
    "p=vnew.plot()\n",
    "title=p.axes.get_title()\n",
    "plt.title(title,fontsize='xx-small')\n",
    "x_axis = p.axes.get_xaxis()\n",
    "x_axis.set_visible(False)\n",
    "y_axis = p.axes.get_yaxis()\n",
    "y_axis.set_visible(False)    \n",
    "\n",
    "plt.subplot(1, 3, 2)\n",
    "p=vold.plot(vmin=0,vmax=365)#levels=levels)\n",
    "title=p.axes.get_title()\n",
    "plt.title(title,fontsize='xx-small')\n",
    "x_axis = p.axes.get_xaxis()\n",
    "x_axis.set_visible(False)\n",
    "y_axis = p.axes.get_yaxis()\n",
    "y_axis.set_visible(False) \n",
    "\n",
    "plt.subplot(1, 3, 3)\n",
    "p=(vnew-vold).plot()#levels=[0,.05,.1,.2,.4,.6,.8,1.,1.2],cmap='viridis')\n",
    "title=p.axes.get_title()\n",
    "plt.title(title,fontsize='xx-small')\n",
    "x_axis = p.axes.get_xaxis()\n",
    "x_axis.set_visible(False)\n",
    "y_axis = p.axes.get_yaxis()\n",
    "y_axis.set_visible(False) \n",
    "plt.show()"
   ]
  },
  {
   "cell_type": "code",
   "execution_count": null,
   "metadata": {},
   "outputs": [],
   "source": []
  },
  {
   "cell_type": "code",
   "execution_count": null,
   "metadata": {},
   "outputs": [],
   "source": []
  },
  {
   "cell_type": "code",
   "execution_count": null,
   "metadata": {},
   "outputs": [],
   "source": []
  },
  {
   "cell_type": "code",
   "execution_count": null,
   "metadata": {},
   "outputs": [],
   "source": []
  },
  {
   "cell_type": "code",
   "execution_count": null,
   "metadata": {},
   "outputs": [],
   "source": []
  },
  {
   "cell_type": "code",
   "execution_count": null,
   "metadata": {},
   "outputs": [],
   "source": []
  },
  {
   "cell_type": "code",
   "execution_count": null,
   "metadata": {},
   "outputs": [],
   "source": [
    "class_new = xr.open_dataset(work_dir+'pyaez2.1_parvec/debug/eta_class_parvec21_LGPCalc.nc')\n",
    "class_new"
   ]
  },
  {
   "cell_type": "code",
   "execution_count": null,
   "metadata": {},
   "outputs": [],
   "source": [
    "class_old = xr.open_dataset(work_dir+'pyaez2.1_2023OCT23/debug/eta_class_repoOCT_LGPCalc.nc')\n",
    "class_old"
   ]
  },
  {
   "cell_type": "code",
   "execution_count": null,
   "metadata": {},
   "outputs": [],
   "source": [
    "levels=[0.5,1.5,2.5,3.5,4.5]\n",
    "colors=['white','red','orange','blue','purple','green']\n",
    "t='1980-01-01'\n",
    "p=class_new.eta_class.sel(time=t).plot(levels=levels,colors=colors)\n",
    "title=p.axes.get_title()\n",
    "plt.title(title,fontsize='xx-small')\n",
    "x_axis = p.axes.get_xaxis()\n",
    "x_axis.set_visible(False)\n",
    "y_axis = p.axes.get_yaxis()\n",
    "y_axis.set_visible(False)    \n",
    "plt.show()"
   ]
  },
  {
   "cell_type": "code",
   "execution_count": null,
   "metadata": {},
   "outputs": [],
   "source": [
    "levels=[-4.5,-3.5,-2.5,-1.5,-.5,.5,1.5,2.5,3.5,4.5]\n",
    "for it,t in enumerate(class_new.time.sel(time=slice('1980-01-01','1980-01-01'))):\n",
    "\n",
    "    p=(class_new.eta_class.sel(time=t)-class_old.eta_class.sel(time=t)).plot(levels=levels,add_colorbar=False)\n",
    "    title=p.axes.get_title()\n",
    "    plt.title(title,fontsize='xx-small')\n",
    "    x_axis = p.axes.get_xaxis()\n",
    "    x_axis.set_visible(False)\n",
    "    y_axis = p.axes.get_yaxis()\n",
    "    y_axis.set_visible(False)    \n",
    "    plt.show()"
   ]
  },
  {
   "cell_type": "code",
   "execution_count": null,
   "metadata": {},
   "outputs": [],
   "source": [
    "# fig = plt.figure(figsize=(20,40))\n",
    "# levels=[-4.5,-3.5,-2.5,-1.5,-.5,.5,1.5,2.5,3.5,4.5]\n",
    "\n",
    "# for it,t in enumerate(class_new.time):\n",
    "#     plt.subplot(23, 16, it+1)\n",
    "#     p=(class_new.eta_class.sel(time=t)-class_old.eta_class.sel(time=t)).plot(levels=levels,add_colorbar=False)\n",
    "#     title=p.axes.get_title()\n",
    "#     plt.title(title,fontsize='xx-small')\n",
    "#     x_axis = p.axes.get_xaxis()\n",
    "#     x_axis.set_visible(False)\n",
    "#     y_axis = p.axes.get_yaxis()\n",
    "#     y_axis.set_visible(False)    \n",
    "# plt.show()"
   ]
  },
  {
   "cell_type": "code",
   "execution_count": null,
   "metadata": {},
   "outputs": [],
   "source": []
  },
  {
   "cell_type": "code",
   "execution_count": null,
   "metadata": {},
   "outputs": [],
   "source": []
  },
  {
   "cell_type": "code",
   "execution_count": null,
   "metadata": {},
   "outputs": [],
   "source": [
    "eta_new = xr.open_dataset(work_dir+'pyaez2.1_parvec/debug/ETA_parvec21_LGPCalc.nc')\n",
    "eta_new"
   ]
  },
  {
   "cell_type": "code",
   "execution_count": null,
   "metadata": {},
   "outputs": [],
   "source": [
    "eta_old = xr.open_dataset(work_dir+'pyaez2.1_2023OCT23/debug/Eta365_repoOCT_LGPCalc.nc')\n",
    "eta_old"
   ]
  },
  {
   "cell_type": "code",
   "execution_count": null,
   "metadata": {},
   "outputs": [],
   "source": [
    "eta_new.ETA.min().data,eta_old.Eta365.min().data"
   ]
  },
  {
   "cell_type": "code",
   "execution_count": null,
   "metadata": {},
   "outputs": [],
   "source": [
    "eta_new.ETA.max().data,eta_old.Eta365.max().data"
   ]
  },
  {
   "cell_type": "code",
   "execution_count": null,
   "metadata": {},
   "outputs": [],
   "source": [
    "t='1980-01-01'\n",
    "vnew=eta_new.ETA.sel(time=t)\n",
    "vold=eta_old.Eta365.sel(time=t)\n",
    "\n",
    "fig = plt.figure(figsize=(20,5))\n",
    "# levels=[-8.5,-6.5,-4.5,-2.5,-.5,.5,2.5,4.5,6.5,8.5]\n",
    "# levels=[1,2,3,4,5,6,7,8,9,10]\n",
    "\n",
    "plt.subplot(1, 3, 1)\n",
    "p=vnew.plot()#levels=levels)\n",
    "title=p.axes.get_title()\n",
    "plt.title(title,fontsize='xx-small')\n",
    "x_axis = p.axes.get_xaxis()\n",
    "x_axis.set_visible(False)\n",
    "y_axis = p.axes.get_yaxis()\n",
    "y_axis.set_visible(False)    \n",
    "\n",
    "plt.subplot(1, 3, 2)\n",
    "p=vold.plot()#levels=levels)\n",
    "title=p.axes.get_title()\n",
    "plt.title(title,fontsize='xx-small')\n",
    "x_axis = p.axes.get_xaxis()\n",
    "x_axis.set_visible(False)\n",
    "y_axis = p.axes.get_yaxis()\n",
    "y_axis.set_visible(False) \n",
    "\n",
    "plt.subplot(1, 3, 3)\n",
    "p=(vnew-vold).plot()#levels=[0,.05,.1,.2,.4,.6,.8,1.,1.2],cmap='viridis')\n",
    "title=p.axes.get_title()\n",
    "plt.title(title,fontsize='xx-small')\n",
    "x_axis = p.axes.get_xaxis()\n",
    "x_axis.set_visible(False)\n",
    "y_axis = p.axes.get_yaxis()\n",
    "y_axis.set_visible(False) \n",
    "plt.show()"
   ]
  },
  {
   "cell_type": "code",
   "execution_count": null,
   "metadata": {},
   "outputs": [],
   "source": [
    "fig = plt.figure(figsize=(20,40))\n",
    "levels=[-8.5,-6.5,-4.5,-2.5,-.5,.5,2.5,4.5,6.5,8.5]\n",
    "\n",
    "for it,t in enumerate(eta_new.time):\n",
    "    plt.subplot(23, 16, it+1)\n",
    "    p=(eta_new.ETA.sel(time=t)-eta_old.Eta365.sel(time=t)).plot(levels=levels,add_colorbar=False)\n",
    "    title=p.axes.get_title()\n",
    "    plt.title(title,fontsize='xx-small')\n",
    "    x_axis = p.axes.get_xaxis()\n",
    "    x_axis.set_visible(False)\n",
    "    y_axis = p.axes.get_yaxis()\n",
    "    y_axis.set_visible(False)    \n",
    "plt.show()"
   ]
  },
  {
   "cell_type": "code",
   "execution_count": null,
   "metadata": {},
   "outputs": [],
   "source": []
  },
  {
   "cell_type": "code",
   "execution_count": null,
   "metadata": {},
   "outputs": [],
   "source": []
  },
  {
   "cell_type": "code",
   "execution_count": null,
   "metadata": {},
   "outputs": [],
   "source": []
  },
  {
   "cell_type": "code",
   "execution_count": null,
   "metadata": {},
   "outputs": [],
   "source": [
    "etm_new = xr.open_dataset(work_dir+'pyaez2.1_parvec/debug/ETM_parvec21_LGPCalc.nc')\n",
    "etm_new"
   ]
  },
  {
   "cell_type": "code",
   "execution_count": null,
   "metadata": {},
   "outputs": [],
   "source": [
    "etm_old = xr.open_dataset(work_dir+'pyaez2.1_2023OCT23/debug/Etm365_repoOCT_LGPCalc.nc')\n",
    "etm_old"
   ]
  },
  {
   "cell_type": "code",
   "execution_count": null,
   "metadata": {},
   "outputs": [],
   "source": [
    "etm_new.ETM.min().data,etm_old.Etm365.min().data"
   ]
  },
  {
   "cell_type": "code",
   "execution_count": null,
   "metadata": {},
   "outputs": [],
   "source": [
    "etm_new.ETM.max().data,etm_old.Etm365.max().data"
   ]
  },
  {
   "cell_type": "code",
   "execution_count": null,
   "metadata": {},
   "outputs": [],
   "source": [
    "t='1980-05-10'\n",
    "test=etm_new.ETM.sel(time=t)-etm_old.Etm365.sel(time=t)\n",
    "test.min(),test.max()\n",
    "# test"
   ]
  },
  {
   "cell_type": "code",
   "execution_count": null,
   "metadata": {},
   "outputs": [],
   "source": [
    "fig = plt.figure(figsize=(20,5))\n",
    "# levels=[-8.5,-6.5,-4.5,-2.5,-.5,.5,2.5,4.5,6.5,8.5]\n",
    "levels=[1,2,3,4,5,6,7,8,9,10]\n",
    "t='1980-05-10'\n",
    "\n",
    "plt.subplot(1, 3, 1)\n",
    "p=etm_new.ETM.sel(time=t).plot(levels=levels)\n",
    "title=p.axes.get_title()\n",
    "plt.title(title,fontsize='xx-small')\n",
    "x_axis = p.axes.get_xaxis()\n",
    "x_axis.set_visible(False)\n",
    "y_axis = p.axes.get_yaxis()\n",
    "y_axis.set_visible(False)    \n",
    "\n",
    "plt.subplot(1, 3, 2)\n",
    "p=etm_old.Etm365.sel(time=t).plot(levels=levels)\n",
    "title=p.axes.get_title()\n",
    "plt.title(title,fontsize='xx-small')\n",
    "x_axis = p.axes.get_xaxis()\n",
    "x_axis.set_visible(False)\n",
    "y_axis = p.axes.get_yaxis()\n",
    "y_axis.set_visible(False) \n",
    "\n",
    "plt.subplot(1, 3, 3)\n",
    "p=(etm_new.ETM.sel(time=t)-etm_old.Etm365.sel(time=t)).plot(levels=[-1,-.5,-.1,-.01,.01,.1,.5,1],extend='both',colors=['cyan','darkblue','blue','lightblue','white','pink','red','darkred','magenta'])\n",
    "title=p.axes.get_title()\n",
    "plt.title(title,fontsize='xx-small')\n",
    "x_axis = p.axes.get_xaxis()\n",
    "x_axis.set_visible(False)\n",
    "y_axis = p.axes.get_yaxis()\n",
    "y_axis.set_visible(False) \n",
    "plt.show()"
   ]
  },
  {
   "cell_type": "code",
   "execution_count": null,
   "metadata": {},
   "outputs": [],
   "source": [
    "fig = plt.figure(figsize=(20,40))\n",
    "# levels=[-8.5,-6.5,-4.5,-2.5,-.5,.5,2.5,4.5,6.5,8.5]\n",
    "# levels=[0,.05,.1,.2,.4,.6,.8,1.,1.2]\n",
    "levels=[-1,-.5,-.1,-.01,.01,.1,.5,1]\n",
    "colors=['cyan','darkblue','blue','lightblue','white','pink','red','darkred','magenta']\n",
    "\n",
    "for it,t in enumerate(etm_new.time):\n",
    "    plt.subplot(23, 16, it+1)\n",
    "    p=(etm_new.ETM.sel(time=t)-etm_old.Etm365.sel(time=t)).plot(levels=levels,extend='both',add_colorbar=False,colors=colors)\n",
    "    title=p.axes.get_title()\n",
    "    plt.title(title,fontsize='xx-small')\n",
    "    x_axis = p.axes.get_xaxis()\n",
    "    x_axis.set_visible(False)\n",
    "    y_axis = p.axes.get_yaxis()\n",
    "    y_axis.set_visible(False)    \n",
    "plt.show()"
   ]
  },
  {
   "cell_type": "code",
   "execution_count": null,
   "metadata": {},
   "outputs": [],
   "source": []
  },
  {
   "cell_type": "code",
   "execution_count": null,
   "metadata": {},
   "outputs": [],
   "source": []
  },
  {
   "cell_type": "code",
   "execution_count": null,
   "metadata": {},
   "outputs": [],
   "source": []
  },
  {
   "cell_type": "code",
   "execution_count": null,
   "metadata": {},
   "outputs": [],
   "source": [
    "mask=xr.where(abs(eta_new.ETA-eta_old.Eta365)>0.5,1,0)\n",
    "mask.shape"
   ]
  },
  {
   "cell_type": "code",
   "execution_count": null,
   "metadata": {},
   "outputs": [],
   "source": [
    "# fig = plt.figure(figsize=(20,40))\n",
    "# levels=[0.5]\n",
    "\n",
    "# for it,t in enumerate(eta_new.time):\n",
    "#     plt.subplot(23, 16, it+1)\n",
    "#     p=(mask.sel(time=t)).plot(levels=levels,add_colorbar=False)\n",
    "#     title=p.axes.get_title()\n",
    "#     plt.title(title,fontsize='xx-small')\n",
    "#     x_axis = p.axes.get_xaxis()\n",
    "#     x_axis.set_visible(False)\n",
    "#     y_axis = p.axes.get_yaxis()\n",
    "#     y_axis.set_visible(False)    \n",
    "# plt.show()"
   ]
  },
  {
   "cell_type": "code",
   "execution_count": null,
   "metadata": {},
   "outputs": [],
   "source": [
    "class_masked=xr.where(mask,class_new.eta_class,0)"
   ]
  },
  {
   "cell_type": "code",
   "execution_count": null,
   "metadata": {},
   "outputs": [],
   "source": [
    "# fig = plt.figure(figsize=(20,40))\n",
    "# levels=[0.5,1.5,2.5,3.5,4.5]\n",
    "# colors=['white','yellow','red','blue','purple','green']\n",
    "# for it,t in enumerate(eta_new.time):\n",
    "#     plt.subplot(23, 16, it+1)\n",
    "#     p=(class_masked.sel(time=t)).plot(levels=levels,colors=colors,add_colorbar=False)\n",
    "#     title=p.axes.get_title()\n",
    "#     plt.title(title,fontsize='xx-small')\n",
    "#     x_axis = p.axes.get_xaxis()\n",
    "#     x_axis.set_visible(False)\n",
    "#     y_axis = p.axes.get_yaxis()\n",
    "#     y_axis.set_visible(False)    \n",
    "# plt.show()"
   ]
  },
  {
   "cell_type": "code",
   "execution_count": null,
   "metadata": {},
   "outputs": [],
   "source": [
    "wb_new = xr.open_dataset(work_dir+'pyaez2.1_parvec/debug/WB_parvec21_LGPCalc.nc')\n",
    "wb_new"
   ]
  },
  {
   "cell_type": "code",
   "execution_count": null,
   "metadata": {},
   "outputs": [],
   "source": [
    "wb_old = xr.open_dataset(work_dir+'pyaez2.1_2023OCT23/debug/Wb365_repoOCT_LGPCalc.nc')\n",
    "wb_old"
   ]
  },
  {
   "cell_type": "code",
   "execution_count": null,
   "metadata": {},
   "outputs": [],
   "source": [
    "wb_old.Wb365.sel(time='1980-01-01')"
   ]
  },
  {
   "cell_type": "code",
   "execution_count": null,
   "metadata": {},
   "outputs": [],
   "source": [
    "wb_new.WB.min().data,wb_old.Wb365.min().data"
   ]
  },
  {
   "cell_type": "code",
   "execution_count": null,
   "metadata": {},
   "outputs": [],
   "source": [
    "wb_new.WB.max().data,wb_old.Wb365.max().data"
   ]
  },
  {
   "cell_type": "code",
   "execution_count": null,
   "metadata": {},
   "outputs": [],
   "source": [
    "t='1980-01-01'\n",
    "vnew=wb_new.WB.sel(time=t)\n",
    "vold=wb_old.Wb365.sel(time=t)\n",
    "\n",
    "fig = plt.figure(figsize=(20,5))\n",
    "# levels=[-8.5,-6.5,-4.5,-2.5,-.5,.5,2.5,4.5,6.5,8.5]\n",
    "levels=[1,5,10,20,50,75]\n",
    "\n",
    "plt.subplot(1, 3, 1)\n",
    "p=vnew.plot(levels=levels)\n",
    "title=p.axes.get_title()\n",
    "plt.title(title,fontsize='xx-small')\n",
    "x_axis = p.axes.get_xaxis()\n",
    "x_axis.set_visible(False)\n",
    "y_axis = p.axes.get_yaxis()\n",
    "y_axis.set_visible(False)    \n",
    "\n",
    "plt.subplot(1, 3, 2)\n",
    "p=vold.plot(levels=levels)\n",
    "title=p.axes.get_title()\n",
    "plt.title(title,fontsize='xx-small')\n",
    "x_axis = p.axes.get_xaxis()\n",
    "x_axis.set_visible(False)\n",
    "y_axis = p.axes.get_yaxis()\n",
    "y_axis.set_visible(False) \n",
    "\n",
    "plt.subplot(1, 3, 3)\n",
    "p=(vnew-vold).plot(levels=[-5,-1,-.1,.1,1,5])#,cmap='viridis')\n",
    "title=p.axes.get_title()\n",
    "plt.title(title,fontsize='xx-small')\n",
    "x_axis = p.axes.get_xaxis()\n",
    "x_axis.set_visible(False)\n",
    "y_axis = p.axes.get_yaxis()\n",
    "y_axis.set_visible(False) \n",
    "plt.show()"
   ]
  },
  {
   "cell_type": "code",
   "execution_count": null,
   "metadata": {},
   "outputs": [],
   "source": [
    "diff=vnew.sel(time=t)-vold.sel(time=t)\n",
    "# diff=diff.drop('time')\n",
    "# diff\n",
    "classes=class_new.sel(time='1980-01-01')\n",
    "classes=xr.where(classes==0,np.nan,classes)\n",
    "badcat=xr.where(diff!=0,classes,np.nan)\n",
    "# badcat\n",
    "\n",
    "fig = plt.figure(figsize=(5,5))\n",
    "levels=[.5,1.5,2.5,3.5,4.5,5.5]\n",
    "colors=['red','orange','cyan','purple','green']\n",
    "\n",
    "plt.subplot(1, 1, 1)\n",
    "p=badcat.eta_class.plot(levels=levels,colors=colors)\n",
    "title=p.axes.get_title()\n",
    "plt.title(title,fontsize='xx-small')\n",
    "x_axis = p.axes.get_xaxis()\n",
    "x_axis.set_visible(False)\n",
    "y_axis = p.axes.get_yaxis()\n",
    "y_axis.set_visible(False)   \n"
   ]
  },
  {
   "cell_type": "code",
   "execution_count": null,
   "metadata": {},
   "outputs": [],
   "source": []
  },
  {
   "cell_type": "code",
   "execution_count": null,
   "metadata": {},
   "outputs": [],
   "source": []
  },
  {
   "cell_type": "code",
   "execution_count": null,
   "metadata": {},
   "outputs": [],
   "source": []
  },
  {
   "cell_type": "code",
   "execution_count": null,
   "metadata": {},
   "outputs": [],
   "source": []
  },
  {
   "cell_type": "code",
   "execution_count": null,
   "metadata": {},
   "outputs": [],
   "source": []
  },
  {
   "cell_type": "code",
   "execution_count": null,
   "metadata": {},
   "outputs": [],
   "source": [
    "mask=xr.where(abs(etm_new.ETM-etm_old.Etm365)>0.1,1,0)\n",
    "class_masked=xr.where(mask,class_new.eta_class,0)"
   ]
  },
  {
   "cell_type": "code",
   "execution_count": null,
   "metadata": {},
   "outputs": [],
   "source": [
    "fig = plt.figure(figsize=(20,40))\n",
    "levels=[0.5,1.5,2.5,3.5,4.5]\n",
    "colors=['white','yellow','red','blue','purple','green']\n",
    "for it,t in enumerate(eta_new.time):\n",
    "    plt.subplot(23, 16, it+1)\n",
    "    p=(class_masked.sel(time=t)).plot(levels=levels,colors=colors,add_colorbar=False)\n",
    "    title=p.axes.get_title()\n",
    "    plt.title(title,fontsize='xx-small')\n",
    "    x_axis = p.axes.get_xaxis()\n",
    "    x_axis.set_visible(False)\n",
    "    y_axis = p.axes.get_yaxis()\n",
    "    y_axis.set_visible(False)    \n",
    "plt.show()"
   ]
  },
  {
   "cell_type": "code",
   "execution_count": null,
   "metadata": {},
   "outputs": [],
   "source": []
  },
  {
   "cell_type": "code",
   "execution_count": null,
   "metadata": {},
   "outputs": [],
   "source": []
  },
  {
   "cell_type": "code",
   "execution_count": null,
   "metadata": {},
   "outputs": [],
   "source": []
  },
  {
   "cell_type": "code",
   "execution_count": null,
   "metadata": {},
   "outputs": [],
   "source": [
    "eto_new = xr.open_dataset(work_dir+'pyaez2.1_parvec/debug/ETO_parvec21_LGPCalc.nc')\n",
    "eto_new\n"
   ]
  },
  {
   "cell_type": "code",
   "execution_count": null,
   "metadata": {},
   "outputs": [],
   "source": [
    "eto_old = xr.open_dataset(work_dir+'pyaez2.1_2023OCT23/debug/Eto365_repoOCT_LGPCalc.nc')\n",
    "eto_old\n"
   ]
  },
  {
   "cell_type": "code",
   "execution_count": null,
   "metadata": {},
   "outputs": [],
   "source": [
    "eto_new.ETO.min().data,eto_old.Eto365.min().data\n"
   ]
  },
  {
   "cell_type": "code",
   "execution_count": null,
   "metadata": {},
   "outputs": [],
   "source": [
    "eto_new.ETO.max().data,eto_old.Eto365.max().data\n"
   ]
  },
  {
   "cell_type": "code",
   "execution_count": null,
   "metadata": {},
   "outputs": [],
   "source": [
    "vnew=eto_new.ETO\n",
    "vold=eto_old.Eto365\n",
    "\n",
    "fig = plt.figure(figsize=(20,5))\n",
    "# levels=[-8.5,-6.5,-4.5,-2.5,-.5,.5,2.5,4.5,6.5,8.5]\n",
    "levels=[0,1,2,3,4,5,6,7,8,9,10]\n",
    "t='1980-05-10'\n",
    "\n",
    "plt.subplot(1, 3, 1)\n",
    "p=vnew.sel(time=t).plot(levels=levels)\n",
    "title=p.axes.get_title()\n",
    "plt.title(title,fontsize='xx-small')\n",
    "x_axis = p.axes.get_xaxis()\n",
    "x_axis.set_visible(False)\n",
    "y_axis = p.axes.get_yaxis()\n",
    "y_axis.set_visible(False)    \n",
    "\n",
    "plt.subplot(1, 3, 2)\n",
    "p=vold.sel(time=t).plot(levels=levels)\n",
    "title=p.axes.get_title()\n",
    "plt.title(title,fontsize='xx-small')\n",
    "x_axis = p.axes.get_xaxis()\n",
    "x_axis.set_visible(False)\n",
    "y_axis = p.axes.get_yaxis()\n",
    "y_axis.set_visible(False) \n",
    "\n",
    "plt.subplot(1, 3, 3)\n",
    "p=(vnew.sel(time=t)-vold.sel(time=t)).plot(levels=[0,.05,.1,.2,.4,.6,.8,1.,1.2],cmap='viridis')\n",
    "title=p.axes.get_title()\n",
    "plt.title(title,fontsize='xx-small')\n",
    "x_axis = p.axes.get_xaxis()\n",
    "x_axis.set_visible(False)\n",
    "y_axis = p.axes.get_yaxis()\n",
    "y_axis.set_visible(False) \n",
    "plt.show()"
   ]
  },
  {
   "cell_type": "code",
   "execution_count": null,
   "metadata": {},
   "outputs": [],
   "source": [
    "fig = plt.figure(figsize=(20,40))\n",
    "# levels=[-8.5,-6.5,-4.5,-2.5,-.5,.5,2.5,4.5,6.5,8.5]\n",
    "levels=[0,.05,.1,.2,.4,.6,.8,1.,1.2]\n",
    "\n",
    "for it,t in enumerate(eto_new.time):\n",
    "    plt.subplot(23, 16, it+1)\n",
    "    p=(vnew.sel(time=t)-vold.sel(time=t)).plot(levels=levels,add_colorbar=False,cmap='viridis')\n",
    "    title=p.axes.get_title()\n",
    "    plt.title(title,fontsize='xx-small')\n",
    "    x_axis = p.axes.get_xaxis()\n",
    "    x_axis.set_visible(False)\n",
    "    y_axis = p.axes.get_yaxis()\n",
    "    y_axis.set_visible(False)    \n",
    "plt.show()"
   ]
  },
  {
   "cell_type": "code",
   "execution_count": null,
   "metadata": {},
   "outputs": [],
   "source": []
  },
  {
   "cell_type": "code",
   "execution_count": null,
   "metadata": {},
   "outputs": [],
   "source": []
  },
  {
   "cell_type": "code",
   "execution_count": null,
   "metadata": {},
   "outputs": [],
   "source": []
  },
  {
   "cell_type": "code",
   "execution_count": null,
   "metadata": {},
   "outputs": [],
   "source": [
    "s0_new = xr.open_dataset(work_dir+'pyaez2.1_parvec/debug/istart0_parvec21_LGPCalc.nc')\n",
    "s0_new\n"
   ]
  },
  {
   "cell_type": "code",
   "execution_count": null,
   "metadata": {},
   "outputs": [],
   "source": [
    "s0_old = xr.open_dataset(work_dir+'pyaez2.1_2023OCT23/debug/istart0_repoOCT_LGPCalc.nc')\n",
    "s0_old"
   ]
  },
  {
   "cell_type": "code",
   "execution_count": null,
   "metadata": {},
   "outputs": [],
   "source": [
    "vnew=s0_new.istart0\n",
    "vold=s0_old.istart0\n",
    "\n",
    "fig = plt.figure(figsize=(20,5))\n",
    "# levels=[-8.5,-6.5,-4.5,-2.5,-.5,.5,2.5,4.5,6.5,8.5]\n",
    "levels=[50,100,150,200,250,300,350]\n",
    "\n",
    "plt.subplot(1, 3, 1)\n",
    "p=vnew.plot(levels=levels)\n",
    "title=p.axes.get_title()\n",
    "plt.title(title,fontsize='xx-small')\n",
    "x_axis = p.axes.get_xaxis()\n",
    "x_axis.set_visible(False)\n",
    "y_axis = p.axes.get_yaxis()\n",
    "y_axis.set_visible(False)    \n",
    "\n",
    "plt.subplot(1, 3, 2)\n",
    "p=vold.plot(levels=levels)\n",
    "title=p.axes.get_title()\n",
    "plt.title(title,fontsize='xx-small')\n",
    "x_axis = p.axes.get_xaxis()\n",
    "x_axis.set_visible(False)\n",
    "y_axis = p.axes.get_yaxis()\n",
    "y_axis.set_visible(False) \n",
    "\n",
    "plt.subplot(1, 3, 3)\n",
    "p=(vnew-vold).plot(levels=[10,20,30,40,50,60,70,80,90,100],cmap='viridis')\n",
    "title=p.axes.get_title()\n",
    "plt.title(title,fontsize='xx-small')\n",
    "x_axis = p.axes.get_xaxis()\n",
    "x_axis.set_visible(False)\n",
    "y_axis = p.axes.get_yaxis()\n",
    "y_axis.set_visible(False) \n",
    "plt.show()"
   ]
  },
  {
   "cell_type": "code",
   "execution_count": null,
   "metadata": {},
   "outputs": [],
   "source": []
  },
  {
   "cell_type": "code",
   "execution_count": null,
   "metadata": {},
   "outputs": [],
   "source": [
    "s1_new = xr.open_dataset(work_dir+'pyaez2.1_parvec/debug/istart1_parvec21_LGPCalc.nc')\n",
    "s1_new"
   ]
  },
  {
   "cell_type": "code",
   "execution_count": null,
   "metadata": {},
   "outputs": [],
   "source": [
    "s1_old = xr.open_dataset(work_dir+'pyaez2.1_2023OCT23/debug/istart1_repoOCT_LGPCalc.nc')\n",
    "s1_old"
   ]
  },
  {
   "cell_type": "code",
   "execution_count": null,
   "metadata": {},
   "outputs": [],
   "source": [
    "vnew=s1_new.istart1\n",
    "vold=s1_old.istart1\n",
    "\n",
    "fig = plt.figure(figsize=(20,5))\n",
    "# levels=[-8.5,-6.5,-4.5,-2.5,-.5,.5,2.5,4.5,6.5,8.5]\n",
    "levels=[50,100,150,200,250,300,350]\n",
    "\n",
    "plt.subplot(1, 3, 1)\n",
    "p=vnew.plot(levels=levels)\n",
    "title=p.axes.get_title()\n",
    "plt.title(title,fontsize='xx-small')\n",
    "x_axis = p.axes.get_xaxis()\n",
    "x_axis.set_visible(False)\n",
    "y_axis = p.axes.get_yaxis()\n",
    "y_axis.set_visible(False)    \n",
    "\n",
    "plt.subplot(1, 3, 2)\n",
    "p=vold.plot(levels=levels)\n",
    "title=p.axes.get_title()\n",
    "plt.title(title,fontsize='xx-small')\n",
    "x_axis = p.axes.get_xaxis()\n",
    "x_axis.set_visible(False)\n",
    "y_axis = p.axes.get_yaxis()\n",
    "y_axis.set_visible(False) \n",
    "\n",
    "plt.subplot(1, 3, 3)\n",
    "p=(vnew-vold).plot(levels=[10,20,30,40,50,60,70,80,90,100],cmap='viridis')\n",
    "title=p.axes.get_title()\n",
    "plt.title(title,fontsize='xx-small')\n",
    "x_axis = p.axes.get_xaxis()\n",
    "x_axis.set_visible(False)\n",
    "y_axis = p.axes.get_yaxis()\n",
    "y_axis.set_visible(False) \n",
    "plt.show()"
   ]
  },
  {
   "cell_type": "code",
   "execution_count": null,
   "metadata": {},
   "outputs": [],
   "source": [
    "p_new = xr.open_dataset(work_dir+'pyaez2.1_parvec/debug/p_parvec21_LGPCalc.nc')\n",
    "p_new"
   ]
  },
  {
   "cell_type": "code",
   "execution_count": null,
   "metadata": {},
   "outputs": [],
   "source": [
    "p_old = xr.open_dataset(work_dir+'pyaez2.1_2023OCT23/debug/p_repoOCT_LGPCalc.nc')\n",
    "p_old"
   ]
  },
  {
   "cell_type": "code",
   "execution_count": null,
   "metadata": {},
   "outputs": [],
   "source": [
    "p_new.p.min().values,p_old.p.min().values"
   ]
  },
  {
   "cell_type": "code",
   "execution_count": null,
   "metadata": {},
   "outputs": [],
   "source": [
    "p_new.p.max().values,p_old.p.max().values"
   ]
  },
  {
   "cell_type": "code",
   "execution_count": null,
   "metadata": {},
   "outputs": [],
   "source": [
    "vnew=p_new.p\n",
    "vold=p_old.p\n",
    "\n",
    "fig = plt.figure(figsize=(20,5))\n",
    "# levels=[-8.5,-6.5,-4.5,-2.5,-.5,.5,2.5,4.5,6.5,8.5]\n",
    "levels=[0,.1,.2,.3,.4,.5,.6]\n",
    "t='1980-05-10'\n",
    "\n",
    "plt.subplot(1, 3, 1)\n",
    "p=vnew.sel(time=t).plot(levels=levels)\n",
    "title=p.axes.get_title()\n",
    "plt.title(title,fontsize='xx-small')\n",
    "x_axis = p.axes.get_xaxis()\n",
    "x_axis.set_visible(False)\n",
    "y_axis = p.axes.get_yaxis()\n",
    "y_axis.set_visible(False)    \n",
    "\n",
    "plt.subplot(1, 3, 2)\n",
    "p=vold.sel(time=t).plot(levels=levels)\n",
    "title=p.axes.get_title()\n",
    "plt.title(title,fontsize='xx-small')\n",
    "x_axis = p.axes.get_xaxis()\n",
    "x_axis.set_visible(False)\n",
    "y_axis = p.axes.get_yaxis()\n",
    "y_axis.set_visible(False) \n",
    "\n",
    "plt.subplot(1, 3, 3)\n",
    "p=(vnew.sel(time=t)-vold.sel(time=t)).plot(levels=[0,.05,.1,.2,.3,.4,.5,.6,.7],cmap='viridis')\n",
    "title=p.axes.get_title()\n",
    "plt.title(title,fontsize='xx-small')\n",
    "x_axis = p.axes.get_xaxis()\n",
    "x_axis.set_visible(False)\n",
    "y_axis = p.axes.get_yaxis()\n",
    "y_axis.set_visible(False) \n",
    "plt.show()"
   ]
  },
  {
   "cell_type": "code",
   "execution_count": null,
   "metadata": {},
   "outputs": [],
   "source": [
    "fig = plt.figure(figsize=(20,40))\n",
    "levels=[0,.05,.1,.2,.3,.4,.5,.6]\n",
    "\n",
    "for it,t in enumerate(eta_new.time):\n",
    "    plt.subplot(23, 16, it+1)\n",
    "    p=(vnew.sel(time=t)-vold.sel(time=t)).plot(levels=levels,add_colorbar=False,cmap='viridis')\n",
    "    title=p.axes.get_title()\n",
    "    plt.title(title,fontsize='xx-small')\n",
    "    x_axis = p.axes.get_xaxis()\n",
    "    x_axis.set_visible(False)\n",
    "    y_axis = p.axes.get_yaxis()\n",
    "    y_axis.set_visible(False)    \n",
    "plt.show()"
   ]
  },
  {
   "cell_type": "code",
   "execution_count": null,
   "metadata": {},
   "outputs": [],
   "source": []
  },
  {
   "cell_type": "code",
   "execution_count": null,
   "metadata": {},
   "outputs": [],
   "source": []
  },
  {
   "cell_type": "code",
   "execution_count": null,
   "metadata": {},
   "outputs": [],
   "source": []
  },
  {
   "cell_type": "code",
   "execution_count": null,
   "metadata": {},
   "outputs": [],
   "source": [
    "SB_new = xr.open_dataset(work_dir+'pyaez2.1_parvec/debug/SB_parvec21_LGPCalc.nc')\n",
    "SB_new"
   ]
  },
  {
   "cell_type": "code",
   "execution_count": null,
   "metadata": {},
   "outputs": [],
   "source": [
    "SB_old = xr.open_dataset(work_dir+'pyaez2.1_2023OCT23/debug/Sb365_repoOCT_LGPCalc.nc')\n",
    "SB_old"
   ]
  },
  {
   "cell_type": "code",
   "execution_count": null,
   "metadata": {},
   "outputs": [],
   "source": [
    "SB_new.SB.min().values,SB_old.Sb365.min().values"
   ]
  },
  {
   "cell_type": "code",
   "execution_count": null,
   "metadata": {},
   "outputs": [],
   "source": [
    "SB_new.SB.max().values,SB_old.Sb365.max().values"
   ]
  },
  {
   "cell_type": "code",
   "execution_count": null,
   "metadata": {},
   "outputs": [],
   "source": [
    "vnew=SB_new.SB\n",
    "vold=SB_old.Sb365\n",
    "\n",
    "fig = plt.figure(figsize=(20,5))\n",
    "levels=[-2,-1,-.001,.001,.5,2]\n",
    "colors=['darkred','red','pink','white','lightblue','blue','darkblue']\n",
    "t='1980-05-01'\n",
    "\n",
    "plt.subplot(1, 3, 1)\n",
    "p=vnew.sel(time=t).plot(levels=levels,cbar_kwargs={'extend':'both'},colors=colors)\n",
    "title=p.axes.get_title()\n",
    "plt.title(title,fontsize='xx-small')\n",
    "x_axis = p.axes.get_xaxis()\n",
    "x_axis.set_visible(False)\n",
    "y_axis = p.axes.get_yaxis()\n",
    "y_axis.set_visible(False)    \n",
    "\n",
    "plt.subplot(1, 3, 2)\n",
    "p=vold.sel(time=t).plot(levels=levels,cbar_kwargs={'extend':'both'},colors=colors)\n",
    "title=p.axes.get_title()\n",
    "plt.title(title,fontsize='xx-small')\n",
    "x_axis = p.axes.get_xaxis()\n",
    "x_axis.set_visible(False)\n",
    "y_axis = p.axes.get_yaxis()\n",
    "y_axis.set_visible(False) \n",
    "\n",
    "plt.subplot(1, 3, 3)\n",
    "p=(vnew.sel(time=t)-vold.sel(time=t)).plot(levels=levels,colors=colors,cbar_kwargs={'extend':'both'})\n",
    "title=p.axes.get_title()\n",
    "plt.title(title,fontsize='xx-small')\n",
    "x_axis = p.axes.get_xaxis()\n",
    "x_axis.set_visible(False)\n",
    "y_axis = p.axes.get_yaxis()\n",
    "y_axis.set_visible(False) \n",
    "plt.show()"
   ]
  },
  {
   "cell_type": "code",
   "execution_count": null,
   "metadata": {},
   "outputs": [],
   "source": [
    "vnew.sel(lat=20, lon=80, method='nearest').plot()"
   ]
  },
  {
   "cell_type": "code",
   "execution_count": null,
   "metadata": {},
   "outputs": [],
   "source": [
    "vold.sel(lat=20, lon=80, method='nearest').plot()"
   ]
  },
  {
   "cell_type": "code",
   "execution_count": null,
   "metadata": {},
   "outputs": [],
   "source": []
  },
  {
   "cell_type": "code",
   "execution_count": null,
   "metadata": {},
   "outputs": [],
   "source": []
  },
  {
   "cell_type": "code",
   "execution_count": null,
   "metadata": {},
   "outputs": [],
   "source": [
    "SNM_new = xr.open_dataset(work_dir+'pyaez2.1_parvec/debug/snm_parvec21_LGPCalc.nc')\n",
    "SNM_new"
   ]
  },
  {
   "cell_type": "code",
   "execution_count": null,
   "metadata": {},
   "outputs": [],
   "source": [
    "SNM_old = xr.open_dataset(work_dir+'pyaez2.1_2023OCT23/debug/snm365_repoOCT_LGPCalc.nc')\n",
    "SNM_old"
   ]
  },
  {
   "cell_type": "code",
   "execution_count": null,
   "metadata": {},
   "outputs": [],
   "source": [
    "SNM_new.SNM.min().values,SNM_new.SNM.max().values"
   ]
  },
  {
   "cell_type": "code",
   "execution_count": null,
   "metadata": {},
   "outputs": [],
   "source": [
    "SNM_old.snm365.min().values,SNM_old.snm365.max().values"
   ]
  },
  {
   "cell_type": "code",
   "execution_count": null,
   "metadata": {},
   "outputs": [],
   "source": [
    "vnew=SNM_new.SNM\n",
    "vold=SNM_old.snm365\n",
    "\n",
    "fig = plt.figure(figsize=(20,5))\n",
    "# levels=[-2,-1,-.001,.001,1,20]\n",
    "levels=[0,1,2,5,10,20]\n",
    "colors=['darkred','red','pink','white','lightblue','blue','darkblue']\n",
    "t='1980-01-01'\n",
    "\n",
    "plt.subplot(1, 3, 1)\n",
    "p=vnew.sel(time=t).plot(levels=levels,cbar_kwargs={'extend':'neither'})#,colors=colors)\n",
    "title=p.axes.get_title()\n",
    "plt.title(title,fontsize='xx-small')\n",
    "x_axis = p.axes.get_xaxis()\n",
    "x_axis.set_visible(False)\n",
    "y_axis = p.axes.get_yaxis()\n",
    "y_axis.set_visible(False)    \n",
    "\n",
    "plt.subplot(1, 3, 2)\n",
    "p=vold.sel(time=t).plot(levels=levels,cbar_kwargs={'extend':'neither'})#,colors=colors)\n",
    "title=p.axes.get_title()\n",
    "plt.title(title,fontsize='xx-small')\n",
    "x_axis = p.axes.get_xaxis()\n",
    "x_axis.set_visible(False)\n",
    "y_axis = p.axes.get_yaxis()\n",
    "y_axis.set_visible(False) \n",
    "\n",
    "plt.subplot(1, 3, 3)\n",
    "p=(vnew.sel(time=t)-vold.sel(time=t)).plot(levels=[-.01,.01,2,5,10,20],cbar_kwargs={'extend':'both'})#,colors=colors)\n",
    "title=p.axes.get_title()\n",
    "plt.title(title,fontsize='xx-small')\n",
    "x_axis = p.axes.get_xaxis()\n",
    "x_axis.set_visible(False)\n",
    "y_axis = p.axes.get_yaxis()\n",
    "y_axis.set_visible(False) \n",
    "plt.show()"
   ]
  },
  {
   "cell_type": "code",
   "execution_count": null,
   "metadata": {},
   "outputs": [],
   "source": [
    "SNM_old.snm365.sel(time=t)\n",
    "class_old"
   ]
  },
  {
   "cell_type": "code",
   "execution_count": null,
   "metadata": {},
   "outputs": [],
   "source": [
    "\n",
    "fig = plt.figure(figsize=(10,3))\n",
    "levels=[0.5,1.5,2.5,3.5,4.5,5.5]\n",
    "colors=['yellow','red','cyan','green','purple']\n",
    "t='1980-01-01'\n",
    "\n",
    "test=xr.where(SNM_old.snm365.sel(time=t)>0,class_old.sel(time=t),np.nan)\n",
    "# test\n",
    "\n",
    "plt.subplot(1,2, 1)\n",
    "p=test.eta_class.plot(levels=levels,colors=colors)\n",
    "title=p.axes.get_title()\n",
    "plt.title(title,fontsize='xx-small')\n",
    "x_axis = p.axes.get_xaxis()\n",
    "x_axis.set_visible(False)\n",
    "y_axis = p.axes.get_yaxis()\n",
    "y_axis.set_visible(False)    \n",
    "\n",
    "test=xr.where(SNM_old.snm365.sel(time=t)>0,class_new.sel(time=t),np.nan)\n",
    "\n",
    "plt.subplot(1,2, 2)\n",
    "p=test.eta_class.plot(levels=levels,colors=colors)\n",
    "title=p.axes.get_title()\n",
    "plt.title(title,fontsize='xx-small')\n",
    "x_axis = p.axes.get_xaxis()\n",
    "x_axis.set_visible(False)\n",
    "y_axis = p.axes.get_yaxis()\n",
    "y_axis.set_visible(False)    "
   ]
  },
  {
   "cell_type": "code",
   "execution_count": null,
   "metadata": {},
   "outputs": [],
   "source": [
    "SNM_new.snm.sel(lat=20, lon=80, method='nearest').plot()"
   ]
  },
  {
   "cell_type": "code",
   "execution_count": null,
   "metadata": {},
   "outputs": [],
   "source": [
    "SNM_old.snm365.sel(lat=20, lon=80, method='nearest').plot()"
   ]
  },
  {
   "cell_type": "code",
   "execution_count": null,
   "metadata": {},
   "outputs": [],
   "source": [
    "tx_new = xr.open_dataset(work_dir+'pyaez2.1_parvec/debug/tmx_parvec21_LGPCalc.nc')\n",
    "tx_new"
   ]
  },
  {
   "cell_type": "code",
   "execution_count": null,
   "metadata": {},
   "outputs": [],
   "source": [
    "SNM_new.snm.sel(time='1980-01-01').plot()"
   ]
  },
  {
   "cell_type": "code",
   "execution_count": null,
   "metadata": {},
   "outputs": [],
   "source": [
    "Fsnm=5.5\n",
    "tmelt=0"
   ]
  },
  {
   "cell_type": "code",
   "execution_count": null,
   "metadata": {},
   "outputs": [],
   "source": [
    "sb_old = np.zeros(SNM_new.snm.shape,dtype='float32')\n",
    "sb_old=xr.where(sb_old==0.,sb_old,sb_old)\n",
    "sb_old"
   ]
  },
  {
   "cell_type": "code",
   "execution_count": null,
   "metadata": {},
   "outputs": [],
   "source": [
    "test1=np.zeros(SNM_new.snm.shape,dtype='float32')\n",
    "test2=np.zeros(SNM_new.snm.shape,dtype='float32')\n",
    "test2[:]=5.5\n",
    "test2"
   ]
  },
  {
   "cell_type": "code",
   "execution_count": null,
   "metadata": {},
   "outputs": [],
   "source": [
    "np.unique(sb_old)"
   ]
  },
  {
   "cell_type": "code",
   "execution_count": null,
   "metadata": {},
   "outputs": [],
   "source": [
    "snm=np.zeros(sb_old.shape,dtype='float32')\n",
    "snm=xr.where((sb_old>0.) & (Fsnm*(tx_new.tmx-tmelt)>sb_old),sb_old, snm) \n",
    "snm=xr.where((sb_old>0.) & (Fsnm*(tx_new.tmx-tmelt)<sb_old),Fsnm*(tx_new.tmx-tmelt),snm) \n",
    "# snm=xr.where((sb_old>0.)&(test2*(tx_new.tmx-test1)>sb_old),sb_old, test2*(tx_new.tmx-test1) )\n",
    "mask=xr.where((sb_old>0.) & (Fsnm*(tx_new.tmx-tmelt)>sb_old),1, 0 )\n",
    "\n",
    "snm"
   ]
  },
  {
   "cell_type": "code",
   "execution_count": null,
   "metadata": {},
   "outputs": [],
   "source": [
    "mask.sel(time='1980-01-01').plot()"
   ]
  },
  {
   "cell_type": "code",
   "execution_count": null,
   "metadata": {},
   "outputs": [],
   "source": [
    "tx_new.tmx.sel(lat=20, lon=80, method='nearest').plot()"
   ]
  },
  {
   "cell_type": "code",
   "execution_count": null,
   "metadata": {},
   "outputs": [],
   "source": [
    "tx_new.tmx.sel(time='1980-01-01').plot()"
   ]
  },
  {
   "cell_type": "code",
   "execution_count": null,
   "metadata": {},
   "outputs": [],
   "source": [
    "(Fsnm*(tx_new.tmx-tmelt)).sel(time='1980-01-01').plot()"
   ]
  },
  {
   "cell_type": "code",
   "execution_count": null,
   "metadata": {},
   "outputs": [],
   "source": [
    "snm.sel(time='1980-01-01').plot()"
   ]
  },
  {
   "cell_type": "code",
   "execution_count": null,
   "metadata": {},
   "outputs": [],
   "source": [
    "# vnew=SNM_new.snm\n",
    "# vold=SNM_old.snm365\n",
    "\n",
    "fig = plt.figure(figsize=(20,5))\n",
    "levels=[-2,-1,-.001,.001,1,20]\n",
    "colors=['darkred','red','pink','white','lightblue','blue','darkblue']\n",
    "t='1980-01-01'\n",
    "\n",
    "plt.subplot(1, 3, 1)\n",
    "p=(Fsnm*(tx_new.tmx-tmelt)).sel(time=t).plot(levels=levels,cbar_kwargs={'extend':'both'},colors=colors)\n",
    "title=p.axes.get_title()\n",
    "plt.title(title,fontsize='xx-small')\n",
    "x_axis = p.axes.get_xaxis()\n",
    "x_axis.set_visible(False)\n",
    "y_axis = p.axes.get_yaxis()\n",
    "y_axis.set_visible(False)    \n",
    "\n",
    "plt.subplot(1, 3, 2)\n",
    "p=sb_old.sel(time=t).plot(levels=levels,cbar_kwargs={'extend':'both'},colors=colors)\n",
    "title=p.axes.get_title()\n",
    "plt.title(title,fontsize='xx-small')\n",
    "x_axis = p.axes.get_xaxis()\n",
    "x_axis.set_visible(False)\n",
    "y_axis = p.axes.get_yaxis()\n",
    "y_axis.set_visible(False) \n",
    "\n",
    "plt.subplot(1, 3, 3)\n",
    "p=SNM_new.snm.sel(time=t).plot(levels=levels,colors=colors,cbar_kwargs={'extend':'both'})\n",
    "title=p.axes.get_title()\n",
    "plt.title(title,fontsize='xx-small')\n",
    "x_axis = p.axes.get_xaxis()\n",
    "x_axis.set_visible(False)\n",
    "y_axis = p.axes.get_yaxis()\n",
    "y_axis.set_visible(False) \n",
    "plt.show()"
   ]
  },
  {
   "cell_type": "code",
   "execution_count": null,
   "metadata": {},
   "outputs": [],
   "source": []
  }
 ],
 "metadata": {
  "kernelspec": {
   "display_name": "Python 3.11.3 ('pyaez_dask')",
   "language": "python",
   "name": "python3"
  },
  "language_info": {
   "codemirror_mode": {
    "name": "ipython",
    "version": 3
   },
   "file_extension": ".py",
   "mimetype": "text/x-python",
   "name": "python",
   "nbconvert_exporter": "python",
   "pygments_lexer": "ipython3",
   "version": "3.11.3"
  },
  "orig_nbformat": 4,
  "vscode": {
   "interpreter": {
    "hash": "65e72b0120c35d75cf65cfd3d4805280e35b271cd085ff832a3f7fa98db0a8ca"
   }
  }
 },
 "nbformat": 4,
 "nbformat_minor": 2
}
