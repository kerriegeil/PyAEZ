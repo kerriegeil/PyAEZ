{
 "cells": [
  {
   "cell_type": "markdown",
   "metadata": {},
   "source": [
    "# Notebook I - Climate Regime\n",
    "<hr>\n",
    "This module performs climate data analysis and compiling general agro-climatic indicators. These general agro-climatic indicators summarize climatic profiles in the study area for each grid. The key input data for this module is the climatic data, and the geographical and terrain data.\n",
    "\n",
    "Prepared by Geoinformatics Center, AIT\n",
    "<hr>\n"
   ]
  },
  {
   "cell_type": "markdown",
   "metadata": {},
   "source": [
    "### Google drive connection\n",
    "In this step, we will connect to Google Drive service and mount the drive where we will start our PyAEZ project"
   ]
  },
  {
   "cell_type": "code",
   "execution_count": null,
   "metadata": {},
   "outputs": [],
   "source": [
    "# from google.colab import drive\n",
    "# drive.mount('/content/gdrive', force_remount=True)"
   ]
  },
  {
   "cell_type": "markdown",
   "metadata": {},
   "source": [
    "Then, installing any additional python packages that required to run PyAEZ.\n",
    "If working on your own PC/machine, these additional installation will vary depending on what is already installed in your Python library. "
   ]
  },
  {
   "cell_type": "code",
   "execution_count": null,
   "metadata": {},
   "outputs": [],
   "source": [
    "# 'Installing neccessary packages'\n",
    "# !pip install gdal\n",
    "# # !pip install pyaez==2.0.0"
   ]
  },
  {
   "cell_type": "markdown",
   "metadata": {},
   "source": [
    "Now, we will import the specific Python packages we need for PyAEZ."
   ]
  },
  {
   "cell_type": "code",
   "execution_count": 1,
   "metadata": {},
   "outputs": [],
   "source": [
    "'''import supporting libraries'''\n",
    "import numpy as np\n",
    "import matplotlib.pyplot as plt\n",
    "import os\n",
    "# try:\n",
    "#     from osgeo import gdal\n",
    "# except:\n",
    "#     import gdal\n",
    "    \n",
    "from osgeo import gdal\n",
    "import sys\n",
    "from time import time as timer\n",
    "\n",
    "# because I saved our data in nc files\n",
    "# import xarray as xr"
   ]
  },
  {
   "cell_type": "markdown",
   "metadata": {},
   "source": [
    "Setting the working directory -- where our PyAEZ project is located."
   ]
  },
  {
   "cell_type": "code",
   "execution_count": 2,
   "metadata": {},
   "outputs": [],
   "source": [
    "# branch version tag\n",
    "revname='v2'\n",
    "\n",
    "# 'Set the working directory'\n",
    "\n",
    "# HPC Orion\n",
    "# Replace with path to your PyAEZ folder under your username\n",
    "work_dir = '/work/hpc/users/kerrie/UN_FAO/repos/PyAEZ/'\n",
    "\n",
    "# Replace with whatever location you want to output data under your username\n",
    "out_path = '/work/hpc/users/kerrie/UN_FAO/pyaez_results/global_1980/'+revname+'/' \n",
    "\n",
    "# these are the same for everyone on HPC Orion\n",
    "# data_dir = '/work/hpc/datasets/un_fao/pyaez/global_1980/daily/netcdf/'\n",
    "data_dir = '/work/hpc/datasets/un_fao/pyaez/global_1980/daily/npy/'\n",
    "maskfile = '/work/hpc/datasets/un_fao/pyaez/static/netcdf/mask_2268708_5m.nc'\n",
    "elevfile = '/work/hpc/datasets/un_fao/pyaez/static/netcdf/Elevation_2268708_5m.nc'\n",
    "\n",
    "os.chdir(work_dir)\n",
    "sys.path.append('./pyaez/')\n",
    "\n",
    "# Check whether the specified path exists or not\n",
    "isExist = os.path.exists(out_path)\n",
    "if not isExist:\n",
    "   # Create a new directory because it does not exist\n",
    "   os.makedirs(out_path)\n",
    "   print(\"The new directory is created!\")\n"
   ]
  },
  {
   "cell_type": "markdown",
   "metadata": {},
   "source": [
    "<hr>\n",
    "\n",
    "## MODULE 1: CLIMATE REGIME\n",
    "Now, we will start executing the routines in Module 1\n",
    "\n",
    "\n",
    "First, we initiate Module 1 Class instance by invoking the following commands:"
   ]
  },
  {
   "cell_type": "code",
   "execution_count": 3,
   "metadata": {},
   "outputs": [],
   "source": [
    "# Import Module 1 and initate Class intance\n",
    "from pyaez import ClimateRegime\n",
    "clim_reg = ClimateRegime.ClimateRegime()\n",
    "\n",
    "# Importing UtilitiesCalc\n",
    "from pyaez import UtilitiesCalc\n",
    "obj_utilities = UtilitiesCalc.UtilitiesCalc()\n",
    "\n"
   ]
  },
  {
   "cell_type": "markdown",
   "metadata": {},
   "source": [
    "### Importing the climate dataset and the geographical data/rasters.\n",
    "\n",
    "The package expects six climate variables, as daily or monthly observations, as Numpy arrays.\n",
    "Arrays must be 3-dimensional, with the third axes containing the time dimension.\n",
    "Unit of measures are expected as follows:\n",
    "- Minimum temperature = Degree Celsius\n",
    "- Maximum temperature = Degree Celsius\n",
    "- Precipitation = Accumulated mm / day (or per month)\n",
    "- Solar radiation = W/m$^2$\n",
    "- Wind speed = Average m/s\n",
    "- Relative humidity = Average fraction (0 to 1)\n",
    "\n",
    "In addition to climate data, the system requires:\n",
    "- A binary admin_mask, with 0 and 1 values. 0 pixels values will be not executed, while 1 pixels values will be executed\n",
    "- An elevation layer\n",
    "- Soil/terrain/special land cover classes\n",
    "  \n",
    "\n",
    "**All the datasets must have the same shape.**"
   ]
  },
  {
   "cell_type": "code",
   "execution_count": 4,
   "metadata": {},
   "outputs": [
    {
     "name": "stdout",
     "output_type": "stream",
     "text": [
      "(2160, 4320, 366)\n"
     ]
    }
   ],
   "source": [
    "# Importing the climate data\n",
    "max_temp = np.load(data_dir+'Tmax-2m/0.npy')  # maximum temperature\n",
    "min_temp = np.load(data_dir+'Tmin-2m/0.npy')  # minimum temperature\n",
    "precipitation = np.load(data_dir+'Precip/0.npy')  # precipitation\n",
    "rel_humidity = np.load(data_dir+'Rhum/0.npy')  # relative humidity\n",
    "wind_speed = np.load(data_dir+'Wind-2m/0.npy') # wind speed measured at two meters\n",
    "short_rad = np.load(data_dir+'Srad/0.npy')  # shortwave radiation\n",
    "\n",
    "# Load the geographical data/rasters\n",
    "mask=np.load(data_dir+'mask/0.npy')\n",
    "elevation=np.load(data_dir+'Elevation/0.npy')\n",
    "# soil_terrain_lulc = gdal.Open(r'./data_input/LAO_soil_terrain_lulc.tif').ReadAsArray()\n",
    "\n",
    "print(min_temp.shape)"
   ]
  },
  {
   "cell_type": "markdown",
   "metadata": {},
   "source": [
    "This section contains parameters that can be modified by the user:\n",
    "- lat_min = minimum latitude of analysis\n",
    "- lat_max = maximum latitude of analysis\n",
    "- mask_value = the value in the admin_mask to exclude from the analysis (typically 0)\n",
    "- daily = whether climate input data are daily (True) or monthly (False)"
   ]
  },
  {
   "cell_type": "code",
   "execution_count": 5,
   "metadata": {},
   "outputs": [],
   "source": [
    "# Define the Area-Of-Interest's geographical extents\n",
    "lat_min = 13.87\n",
    "lat_max = 22.59\n",
    "mask_path=maskfile\n",
    "mask_value = 0  # pixel value in admin_mask to exclude from the analysis\n",
    "daily = True #Type of climate data = True: daily, False: monthly"
   ]
  },
  {
   "cell_type": "markdown",
   "metadata": {},
   "source": [
    "### Loading the imported data into the Object Class ('*clim_reg*' Class)"
   ]
  },
  {
   "cell_type": "code",
   "execution_count": 6,
   "metadata": {},
   "outputs": [],
   "source": [
    "clim_reg.setStudyAreaMask(mask, mask_value)\n",
    "clim_reg.setLocationTerrainData(lat_min, lat_max, elevation)\n",
    "if daily:\n",
    "    clim_reg.setDailyClimateData(\n",
    "        min_temp, max_temp, precipitation, short_rad, wind_speed, rel_humidity)\n",
    "else:\n",
    "    clim_reg.setMonthlyClimateData(\n",
    "        min_temp, max_temp, precipitation, short_rad, wind_speed, rel_humidity)"
   ]
  },
  {
   "cell_type": "code",
   "execution_count": 7,
   "metadata": {},
   "outputs": [],
   "source": [
    "'Releasing the memory of input climate data -- free up some RAM space'\n",
    "del(min_temp, max_temp, precipitation, short_rad, wind_speed, rel_humidity)"
   ]
  },
  {
   "cell_type": "code",
   "execution_count": 8,
   "metadata": {},
   "outputs": [
    {
     "data": {
      "text/plain": [
       "dict_keys(['im_mask', 'nodata_val', 'set_mask', 'elevation', 'im_height', 'im_width', 'latitude', 'meanT_daily', 'totalPrec_daily', 'pet_daily', 'maxT_daily', 'meanT_daily_sealevel', 'P_by_PET_daily'])"
      ]
     },
     "execution_count": 8,
     "metadata": {},
     "output_type": "execute_result"
    }
   ],
   "source": [
    "clim_reg.__dict__.keys()"
   ]
  },
  {
   "cell_type": "markdown",
   "metadata": {},
   "source": [
    "NOTE: After loading the data into the *clim_reg* Class, all the parameters will be converted to DAILY DATA and calculated as other parameters. \n",
    "These new parameters are available and can be called into use as:\n",
    "- *clim_reg.minT_daily* (minimum temperature)\n",
    "- *clim_reg.maxT_daily* (maximum temperature)\n",
    "- *clim_reg.meanT_daily* (mean temperature)\n",
    "- *clim_reg.meanT_daily_sealevel* (mean temperature, corrected to sea-level)\n",
    "- *clim_reg.totalPrec_daily* (total precipitation)\n",
    "- *clim_reg.pet_daily* (reference evapotranspiration, ETo)\n",
    "- *clim_reg.P_by_PET_daily* (ratio of precipitation over ETo)\n",
    "  \n"
   ]
  },
  {
   "cell_type": "markdown",
   "metadata": {},
   "source": [
    "#### Thermal Climate\n",
    "The Thermal Climate function calculates and classifies latitudinal thermal climate, which will be used later in Module 2 for the assessment of potential crops and land utilization types (LUT) presence in each grid cell."
   ]
  },
  {
   "cell_type": "code",
   "execution_count": 9,
   "metadata": {},
   "outputs": [
    {
     "name": "stderr",
     "output_type": "stream",
     "text": [
      "/work/hpc/users/kerrie/UN_FAO/env_pyaez/lib/python3.11/site-packages/numpy/core/fromnumeric.py:86: RuntimeWarning: overflow encountered in reduce\n",
      "  return ufunc.reduce(obj, axis, dtype, out, **passkwargs)\n"
     ]
    },
    {
     "ename": "FileNotFoundError",
     "evalue": "[Errno 2] No such file or directory: './data_output/NB1/LAO_ThermalClimate.png'",
     "output_type": "error",
     "traceback": [
      "\u001b[0;31m---------------------------------------------------------------------------\u001b[0m",
      "\u001b[0;31mFileNotFoundError\u001b[0m                         Traceback (most recent call last)",
      "Cell \u001b[0;32mIn[9], line 8\u001b[0m\n\u001b[1;32m      6\u001b[0m plt\u001b[38;5;241m.\u001b[39mtitle(\u001b[38;5;124m'\u001b[39m\u001b[38;5;124mThermal Climate\u001b[39m\u001b[38;5;124m'\u001b[39m)\n\u001b[1;32m      7\u001b[0m plt\u001b[38;5;241m.\u001b[39mcolorbar()\n\u001b[0;32m----> 8\u001b[0m \u001b[43mplt\u001b[49m\u001b[38;5;241;43m.\u001b[39;49m\u001b[43msavefig\u001b[49m\u001b[43m(\u001b[49m\u001b[38;5;124;43m\"\u001b[39;49m\u001b[38;5;124;43m./data_output/NB1/LAO_ThermalClimate.png\u001b[39;49m\u001b[38;5;124;43m\"\u001b[39;49m\u001b[43m,\u001b[49m\u001b[43mbbox_inches\u001b[49m\u001b[43m \u001b[49m\u001b[38;5;241;43m=\u001b[39;49m\u001b[38;5;124;43m\"\u001b[39;49m\u001b[38;5;124;43mtight\u001b[39;49m\u001b[38;5;124;43m\"\u001b[39;49m\u001b[43m,\u001b[49m\u001b[43mdpi\u001b[49m\u001b[38;5;241;43m=\u001b[39;49m\u001b[38;5;241;43m300\u001b[39;49m\u001b[43m)\u001b[49m \u001b[38;5;66;03m#Save as PNG image\u001b[39;00m\n\u001b[1;32m      9\u001b[0m plt\u001b[38;5;241m.\u001b[39mshow()\n\u001b[1;32m     11\u001b[0m obj_utilities\u001b[38;5;241m.\u001b[39msaveRaster(mask_path, \u001b[38;5;124m'\u001b[39m\u001b[38;5;124m./data_output/NB1/LAO_ThermalClimate.tif\u001b[39m\u001b[38;5;124m'\u001b[39m,tclimate) \u001b[38;5;66;03m#Save as GeoTIFF raster\u001b[39;00m\n",
      "File \u001b[0;32m/work/hpc/users/kerrie/UN_FAO/env_pyaez/lib/python3.11/site-packages/matplotlib/pyplot.py:1023\u001b[0m, in \u001b[0;36msavefig\u001b[0;34m(*args, **kwargs)\u001b[0m\n\u001b[1;32m   1020\u001b[0m \u001b[38;5;129m@_copy_docstring_and_deprecators\u001b[39m(Figure\u001b[38;5;241m.\u001b[39msavefig)\n\u001b[1;32m   1021\u001b[0m \u001b[38;5;28;01mdef\u001b[39;00m \u001b[38;5;21msavefig\u001b[39m(\u001b[38;5;241m*\u001b[39margs, \u001b[38;5;241m*\u001b[39m\u001b[38;5;241m*\u001b[39mkwargs):\n\u001b[1;32m   1022\u001b[0m     fig \u001b[38;5;241m=\u001b[39m gcf()\n\u001b[0;32m-> 1023\u001b[0m     res \u001b[38;5;241m=\u001b[39m \u001b[43mfig\u001b[49m\u001b[38;5;241;43m.\u001b[39;49m\u001b[43msavefig\u001b[49m\u001b[43m(\u001b[49m\u001b[38;5;241;43m*\u001b[39;49m\u001b[43margs\u001b[49m\u001b[43m,\u001b[49m\u001b[43m \u001b[49m\u001b[38;5;241;43m*\u001b[39;49m\u001b[38;5;241;43m*\u001b[39;49m\u001b[43mkwargs\u001b[49m\u001b[43m)\u001b[49m\n\u001b[1;32m   1024\u001b[0m     fig\u001b[38;5;241m.\u001b[39mcanvas\u001b[38;5;241m.\u001b[39mdraw_idle()  \u001b[38;5;66;03m# Need this if 'transparent=True', to reset colors.\u001b[39;00m\n\u001b[1;32m   1025\u001b[0m     \u001b[38;5;28;01mreturn\u001b[39;00m res\n",
      "File \u001b[0;32m/work/hpc/users/kerrie/UN_FAO/env_pyaez/lib/python3.11/site-packages/matplotlib/figure.py:3343\u001b[0m, in \u001b[0;36mFigure.savefig\u001b[0;34m(self, fname, transparent, **kwargs)\u001b[0m\n\u001b[1;32m   3339\u001b[0m     \u001b[38;5;28;01mfor\u001b[39;00m ax \u001b[38;5;129;01min\u001b[39;00m \u001b[38;5;28mself\u001b[39m\u001b[38;5;241m.\u001b[39maxes:\n\u001b[1;32m   3340\u001b[0m         stack\u001b[38;5;241m.\u001b[39menter_context(\n\u001b[1;32m   3341\u001b[0m             ax\u001b[38;5;241m.\u001b[39mpatch\u001b[38;5;241m.\u001b[39m_cm_set(facecolor\u001b[38;5;241m=\u001b[39m\u001b[38;5;124m'\u001b[39m\u001b[38;5;124mnone\u001b[39m\u001b[38;5;124m'\u001b[39m, edgecolor\u001b[38;5;241m=\u001b[39m\u001b[38;5;124m'\u001b[39m\u001b[38;5;124mnone\u001b[39m\u001b[38;5;124m'\u001b[39m))\n\u001b[0;32m-> 3343\u001b[0m \u001b[38;5;28;43mself\u001b[39;49m\u001b[38;5;241;43m.\u001b[39;49m\u001b[43mcanvas\u001b[49m\u001b[38;5;241;43m.\u001b[39;49m\u001b[43mprint_figure\u001b[49m\u001b[43m(\u001b[49m\u001b[43mfname\u001b[49m\u001b[43m,\u001b[49m\u001b[43m \u001b[49m\u001b[38;5;241;43m*\u001b[39;49m\u001b[38;5;241;43m*\u001b[39;49m\u001b[43mkwargs\u001b[49m\u001b[43m)\u001b[49m\n",
      "File \u001b[0;32m/work/hpc/users/kerrie/UN_FAO/env_pyaez/lib/python3.11/site-packages/matplotlib/backend_bases.py:2366\u001b[0m, in \u001b[0;36mFigureCanvasBase.print_figure\u001b[0;34m(self, filename, dpi, facecolor, edgecolor, orientation, format, bbox_inches, pad_inches, bbox_extra_artists, backend, **kwargs)\u001b[0m\n\u001b[1;32m   2362\u001b[0m \u001b[38;5;28;01mtry\u001b[39;00m:\n\u001b[1;32m   2363\u001b[0m     \u001b[38;5;66;03m# _get_renderer may change the figure dpi (as vector formats\u001b[39;00m\n\u001b[1;32m   2364\u001b[0m     \u001b[38;5;66;03m# force the figure dpi to 72), so we need to set it again here.\u001b[39;00m\n\u001b[1;32m   2365\u001b[0m     \u001b[38;5;28;01mwith\u001b[39;00m cbook\u001b[38;5;241m.\u001b[39m_setattr_cm(\u001b[38;5;28mself\u001b[39m\u001b[38;5;241m.\u001b[39mfigure, dpi\u001b[38;5;241m=\u001b[39mdpi):\n\u001b[0;32m-> 2366\u001b[0m         result \u001b[38;5;241m=\u001b[39m \u001b[43mprint_method\u001b[49m\u001b[43m(\u001b[49m\n\u001b[1;32m   2367\u001b[0m \u001b[43m            \u001b[49m\u001b[43mfilename\u001b[49m\u001b[43m,\u001b[49m\n\u001b[1;32m   2368\u001b[0m \u001b[43m            \u001b[49m\u001b[43mfacecolor\u001b[49m\u001b[38;5;241;43m=\u001b[39;49m\u001b[43mfacecolor\u001b[49m\u001b[43m,\u001b[49m\n\u001b[1;32m   2369\u001b[0m \u001b[43m            \u001b[49m\u001b[43medgecolor\u001b[49m\u001b[38;5;241;43m=\u001b[39;49m\u001b[43medgecolor\u001b[49m\u001b[43m,\u001b[49m\n\u001b[1;32m   2370\u001b[0m \u001b[43m            \u001b[49m\u001b[43morientation\u001b[49m\u001b[38;5;241;43m=\u001b[39;49m\u001b[43morientation\u001b[49m\u001b[43m,\u001b[49m\n\u001b[1;32m   2371\u001b[0m \u001b[43m            \u001b[49m\u001b[43mbbox_inches_restore\u001b[49m\u001b[38;5;241;43m=\u001b[39;49m\u001b[43m_bbox_inches_restore\u001b[49m\u001b[43m,\u001b[49m\n\u001b[1;32m   2372\u001b[0m \u001b[43m            \u001b[49m\u001b[38;5;241;43m*\u001b[39;49m\u001b[38;5;241;43m*\u001b[39;49m\u001b[43mkwargs\u001b[49m\u001b[43m)\u001b[49m\n\u001b[1;32m   2373\u001b[0m \u001b[38;5;28;01mfinally\u001b[39;00m:\n\u001b[1;32m   2374\u001b[0m     \u001b[38;5;28;01mif\u001b[39;00m bbox_inches \u001b[38;5;129;01mand\u001b[39;00m restore_bbox:\n",
      "File \u001b[0;32m/work/hpc/users/kerrie/UN_FAO/env_pyaez/lib/python3.11/site-packages/matplotlib/backend_bases.py:2232\u001b[0m, in \u001b[0;36mFigureCanvasBase._switch_canvas_and_return_print_method.<locals>.<lambda>\u001b[0;34m(*args, **kwargs)\u001b[0m\n\u001b[1;32m   2228\u001b[0m     optional_kws \u001b[38;5;241m=\u001b[39m {  \u001b[38;5;66;03m# Passed by print_figure for other renderers.\u001b[39;00m\n\u001b[1;32m   2229\u001b[0m         \u001b[38;5;124m\"\u001b[39m\u001b[38;5;124mdpi\u001b[39m\u001b[38;5;124m\"\u001b[39m, \u001b[38;5;124m\"\u001b[39m\u001b[38;5;124mfacecolor\u001b[39m\u001b[38;5;124m\"\u001b[39m, \u001b[38;5;124m\"\u001b[39m\u001b[38;5;124medgecolor\u001b[39m\u001b[38;5;124m\"\u001b[39m, \u001b[38;5;124m\"\u001b[39m\u001b[38;5;124morientation\u001b[39m\u001b[38;5;124m\"\u001b[39m,\n\u001b[1;32m   2230\u001b[0m         \u001b[38;5;124m\"\u001b[39m\u001b[38;5;124mbbox_inches_restore\u001b[39m\u001b[38;5;124m\"\u001b[39m}\n\u001b[1;32m   2231\u001b[0m     skip \u001b[38;5;241m=\u001b[39m optional_kws \u001b[38;5;241m-\u001b[39m {\u001b[38;5;241m*\u001b[39minspect\u001b[38;5;241m.\u001b[39msignature(meth)\u001b[38;5;241m.\u001b[39mparameters}\n\u001b[0;32m-> 2232\u001b[0m     print_method \u001b[38;5;241m=\u001b[39m functools\u001b[38;5;241m.\u001b[39mwraps(meth)(\u001b[38;5;28;01mlambda\u001b[39;00m \u001b[38;5;241m*\u001b[39margs, \u001b[38;5;241m*\u001b[39m\u001b[38;5;241m*\u001b[39mkwargs: \u001b[43mmeth\u001b[49m\u001b[43m(\u001b[49m\n\u001b[1;32m   2233\u001b[0m \u001b[43m        \u001b[49m\u001b[38;5;241;43m*\u001b[39;49m\u001b[43margs\u001b[49m\u001b[43m,\u001b[49m\u001b[43m \u001b[49m\u001b[38;5;241;43m*\u001b[39;49m\u001b[38;5;241;43m*\u001b[39;49m\u001b[43m{\u001b[49m\u001b[43mk\u001b[49m\u001b[43m:\u001b[49m\u001b[43m \u001b[49m\u001b[43mv\u001b[49m\u001b[43m \u001b[49m\u001b[38;5;28;43;01mfor\u001b[39;49;00m\u001b[43m \u001b[49m\u001b[43mk\u001b[49m\u001b[43m,\u001b[49m\u001b[43m \u001b[49m\u001b[43mv\u001b[49m\u001b[43m \u001b[49m\u001b[38;5;129;43;01min\u001b[39;49;00m\u001b[43m \u001b[49m\u001b[43mkwargs\u001b[49m\u001b[38;5;241;43m.\u001b[39;49m\u001b[43mitems\u001b[49m\u001b[43m(\u001b[49m\u001b[43m)\u001b[49m\u001b[43m \u001b[49m\u001b[38;5;28;43;01mif\u001b[39;49;00m\u001b[43m \u001b[49m\u001b[43mk\u001b[49m\u001b[43m \u001b[49m\u001b[38;5;129;43;01mnot\u001b[39;49;00m\u001b[43m \u001b[49m\u001b[38;5;129;43;01min\u001b[39;49;00m\u001b[43m \u001b[49m\u001b[43mskip\u001b[49m\u001b[43m}\u001b[49m\u001b[43m)\u001b[49m)\n\u001b[1;32m   2234\u001b[0m \u001b[38;5;28;01melse\u001b[39;00m:  \u001b[38;5;66;03m# Let third-parties do as they see fit.\u001b[39;00m\n\u001b[1;32m   2235\u001b[0m     print_method \u001b[38;5;241m=\u001b[39m meth\n",
      "File \u001b[0;32m/work/hpc/users/kerrie/UN_FAO/env_pyaez/lib/python3.11/site-packages/matplotlib/backends/backend_agg.py:509\u001b[0m, in \u001b[0;36mFigureCanvasAgg.print_png\u001b[0;34m(self, filename_or_obj, metadata, pil_kwargs)\u001b[0m\n\u001b[1;32m    462\u001b[0m \u001b[38;5;28;01mdef\u001b[39;00m \u001b[38;5;21mprint_png\u001b[39m(\u001b[38;5;28mself\u001b[39m, filename_or_obj, \u001b[38;5;241m*\u001b[39m, metadata\u001b[38;5;241m=\u001b[39m\u001b[38;5;28;01mNone\u001b[39;00m, pil_kwargs\u001b[38;5;241m=\u001b[39m\u001b[38;5;28;01mNone\u001b[39;00m):\n\u001b[1;32m    463\u001b[0m \u001b[38;5;250m    \u001b[39m\u001b[38;5;124;03m\"\"\"\u001b[39;00m\n\u001b[1;32m    464\u001b[0m \u001b[38;5;124;03m    Write the figure to a PNG file.\u001b[39;00m\n\u001b[1;32m    465\u001b[0m \n\u001b[0;32m   (...)\u001b[0m\n\u001b[1;32m    507\u001b[0m \u001b[38;5;124;03m        *metadata*, including the default 'Software' key.\u001b[39;00m\n\u001b[1;32m    508\u001b[0m \u001b[38;5;124;03m    \"\"\"\u001b[39;00m\n\u001b[0;32m--> 509\u001b[0m     \u001b[38;5;28;43mself\u001b[39;49m\u001b[38;5;241;43m.\u001b[39;49m\u001b[43m_print_pil\u001b[49m\u001b[43m(\u001b[49m\u001b[43mfilename_or_obj\u001b[49m\u001b[43m,\u001b[49m\u001b[43m \u001b[49m\u001b[38;5;124;43m\"\u001b[39;49m\u001b[38;5;124;43mpng\u001b[39;49m\u001b[38;5;124;43m\"\u001b[39;49m\u001b[43m,\u001b[49m\u001b[43m \u001b[49m\u001b[43mpil_kwargs\u001b[49m\u001b[43m,\u001b[49m\u001b[43m \u001b[49m\u001b[43mmetadata\u001b[49m\u001b[43m)\u001b[49m\n",
      "File \u001b[0;32m/work/hpc/users/kerrie/UN_FAO/env_pyaez/lib/python3.11/site-packages/matplotlib/backends/backend_agg.py:458\u001b[0m, in \u001b[0;36mFigureCanvasAgg._print_pil\u001b[0;34m(self, filename_or_obj, fmt, pil_kwargs, metadata)\u001b[0m\n\u001b[1;32m    453\u001b[0m \u001b[38;5;250m\u001b[39m\u001b[38;5;124;03m\"\"\"\u001b[39;00m\n\u001b[1;32m    454\u001b[0m \u001b[38;5;124;03mDraw the canvas, then save it using `.image.imsave` (to which\u001b[39;00m\n\u001b[1;32m    455\u001b[0m \u001b[38;5;124;03m*pil_kwargs* and *metadata* are forwarded).\u001b[39;00m\n\u001b[1;32m    456\u001b[0m \u001b[38;5;124;03m\"\"\"\u001b[39;00m\n\u001b[1;32m    457\u001b[0m FigureCanvasAgg\u001b[38;5;241m.\u001b[39mdraw(\u001b[38;5;28mself\u001b[39m)\n\u001b[0;32m--> 458\u001b[0m \u001b[43mmpl\u001b[49m\u001b[38;5;241;43m.\u001b[39;49m\u001b[43mimage\u001b[49m\u001b[38;5;241;43m.\u001b[39;49m\u001b[43mimsave\u001b[49m\u001b[43m(\u001b[49m\n\u001b[1;32m    459\u001b[0m \u001b[43m    \u001b[49m\u001b[43mfilename_or_obj\u001b[49m\u001b[43m,\u001b[49m\u001b[43m \u001b[49m\u001b[38;5;28;43mself\u001b[39;49m\u001b[38;5;241;43m.\u001b[39;49m\u001b[43mbuffer_rgba\u001b[49m\u001b[43m(\u001b[49m\u001b[43m)\u001b[49m\u001b[43m,\u001b[49m\u001b[43m \u001b[49m\u001b[38;5;28;43mformat\u001b[39;49m\u001b[38;5;241;43m=\u001b[39;49m\u001b[43mfmt\u001b[49m\u001b[43m,\u001b[49m\u001b[43m \u001b[49m\u001b[43morigin\u001b[49m\u001b[38;5;241;43m=\u001b[39;49m\u001b[38;5;124;43m\"\u001b[39;49m\u001b[38;5;124;43mupper\u001b[39;49m\u001b[38;5;124;43m\"\u001b[39;49m\u001b[43m,\u001b[49m\n\u001b[1;32m    460\u001b[0m \u001b[43m    \u001b[49m\u001b[43mdpi\u001b[49m\u001b[38;5;241;43m=\u001b[39;49m\u001b[38;5;28;43mself\u001b[39;49m\u001b[38;5;241;43m.\u001b[39;49m\u001b[43mfigure\u001b[49m\u001b[38;5;241;43m.\u001b[39;49m\u001b[43mdpi\u001b[49m\u001b[43m,\u001b[49m\u001b[43m \u001b[49m\u001b[43mmetadata\u001b[49m\u001b[38;5;241;43m=\u001b[39;49m\u001b[43mmetadata\u001b[49m\u001b[43m,\u001b[49m\u001b[43m \u001b[49m\u001b[43mpil_kwargs\u001b[49m\u001b[38;5;241;43m=\u001b[39;49m\u001b[43mpil_kwargs\u001b[49m\u001b[43m)\u001b[49m\n",
      "File \u001b[0;32m/work/hpc/users/kerrie/UN_FAO/env_pyaez/lib/python3.11/site-packages/matplotlib/image.py:1689\u001b[0m, in \u001b[0;36mimsave\u001b[0;34m(fname, arr, vmin, vmax, cmap, format, origin, dpi, metadata, pil_kwargs)\u001b[0m\n\u001b[1;32m   1687\u001b[0m pil_kwargs\u001b[38;5;241m.\u001b[39msetdefault(\u001b[38;5;124m\"\u001b[39m\u001b[38;5;124mformat\u001b[39m\u001b[38;5;124m\"\u001b[39m, \u001b[38;5;28mformat\u001b[39m)\n\u001b[1;32m   1688\u001b[0m pil_kwargs\u001b[38;5;241m.\u001b[39msetdefault(\u001b[38;5;124m\"\u001b[39m\u001b[38;5;124mdpi\u001b[39m\u001b[38;5;124m\"\u001b[39m, (dpi, dpi))\n\u001b[0;32m-> 1689\u001b[0m \u001b[43mimage\u001b[49m\u001b[38;5;241;43m.\u001b[39;49m\u001b[43msave\u001b[49m\u001b[43m(\u001b[49m\u001b[43mfname\u001b[49m\u001b[43m,\u001b[49m\u001b[43m \u001b[49m\u001b[38;5;241;43m*\u001b[39;49m\u001b[38;5;241;43m*\u001b[39;49m\u001b[43mpil_kwargs\u001b[49m\u001b[43m)\u001b[49m\n",
      "File \u001b[0;32m/work/hpc/users/kerrie/UN_FAO/env_pyaez/lib/python3.11/site-packages/PIL/Image.py:2429\u001b[0m, in \u001b[0;36mImage.save\u001b[0;34m(self, fp, format, **params)\u001b[0m\n\u001b[1;32m   2427\u001b[0m         fp \u001b[38;5;241m=\u001b[39m builtins\u001b[38;5;241m.\u001b[39mopen(filename, \u001b[38;5;124m\"\u001b[39m\u001b[38;5;124mr+b\u001b[39m\u001b[38;5;124m\"\u001b[39m)\n\u001b[1;32m   2428\u001b[0m     \u001b[38;5;28;01melse\u001b[39;00m:\n\u001b[0;32m-> 2429\u001b[0m         fp \u001b[38;5;241m=\u001b[39m \u001b[43mbuiltins\u001b[49m\u001b[38;5;241;43m.\u001b[39;49m\u001b[43mopen\u001b[49m\u001b[43m(\u001b[49m\u001b[43mfilename\u001b[49m\u001b[43m,\u001b[49m\u001b[43m \u001b[49m\u001b[38;5;124;43m\"\u001b[39;49m\u001b[38;5;124;43mw+b\u001b[39;49m\u001b[38;5;124;43m\"\u001b[39;49m\u001b[43m)\u001b[49m\n\u001b[1;32m   2431\u001b[0m \u001b[38;5;28;01mtry\u001b[39;00m:\n\u001b[1;32m   2432\u001b[0m     save_handler(\u001b[38;5;28mself\u001b[39m, fp, filename)\n",
      "\u001b[0;31mFileNotFoundError\u001b[0m: [Errno 2] No such file or directory: './data_output/NB1/LAO_ThermalClimate.png'"
     ]
    },
    {
     "data": {
      "image/png": "[encoded data removed]",
      "text/plain": [
       "<Figure size 640x480 with 2 Axes>"
      ]
     },
     "metadata": {},
     "output_type": "display_data"
    }
   ],
   "source": [
    "tclimate = clim_reg.getThermalClimate()"
   ]
  },
  {
   "cell_type": "code",
   "execution_count": null,
   "metadata": {},
   "outputs": [],
   "source": [
    "'''save and visualize result'''\n",
    "fig = plt.figure()\n",
    "plt.imshow(tclimate, cmap=plt.get_cmap('gist_ncar_r', 12),vmin=-0.3,vmax=12.5)\n",
    "plt.title('Thermal Climate')\n",
    "plt.colorbar()\n",
    "plt.savefig(out_path+\"ThermalClimate.png\",bbox_inches =\"tight\",dpi=300) #Save as PNG image\n",
    "# plt.savefig(\"./data_output/NB1/LAO_ThermalClimate.png\",bbox_inches =\"tight\",dpi=300) #Save as PNG image\n",
    "plt.show()\n",
    "\n",
    "obj_utilities.saveRaster(mask_path, out_path+'ThermalClimate_'+revname+'.tif',tclimate) #Save as GeoTIFF raster\n",
    "# obj_utilities.saveRaster(mask_path, './data_output/NB1/LAO_ThermalClimate.tif',tclimate) #Save as GeoTIFF raster"
   ]
  },
  {
   "cell_type": "markdown",
   "metadata": {},
   "source": [
    "#### Thermal Zone\n",
    "The thermal zone is classified based on actual temperature which reflects on the temperature regimes of major thermal climates"
   ]
  },
  {
   "cell_type": "code",
   "execution_count": null,
   "metadata": {},
   "outputs": [],
   "source": [
    "tzone = clim_reg.getThermalZone()\n",
    "\n",
    "'''save and visualize result'''\n",
    "fig = plt.figure()\n",
    "plt.imshow(tzone, cmap=plt.get_cmap('gist_ncar_r', 12),vmin=-0.3,vmax=12.5)\n",
    "plt.title('Thermal Zones')\n",
    "plt.colorbar()\n",
    "plt.savefig(\"./data_output/NB1/LAO_ThermalZone.png\",bbox_inches =\"tight\",dpi=300) #Save as PNG image\n",
    "plt.show()\n",
    "\n",
    "obj_utilities.saveRaster(mask_path, './data_output/NB1/LAO_ThermalZone.tif',tzone) #Save as GeoTIFF raster"
   ]
  },
  {
   "cell_type": "markdown",
   "metadata": {},
   "source": [
    "#### Thermal Length of Growing Period (LGP)\n",
    "The thermal length of growing period (LGPt) is defined as the number of days in a year during which the daily mean temperature (Ta) is conductive to crop growth and development. PyAEZ utilizes the AEZ three standard temperature thresholds for LGPt:\n",
    "- Periods with Ta>0°C (LGPt0)\n",
    "- Periods with Ta>5°C (LGPt5) – the period conductive to plant growth and development\n",
    "- Periods, and Ta>10°C (LGPt10) – a proxy for the period of low risks for late and early frost occurrences and termed ‘frost-free period’"
   ]
  },
  {
   "cell_type": "code",
   "execution_count": null,
   "metadata": {},
   "outputs": [],
   "source": [
    "lgpt0 = clim_reg.getThermalLGP0()\n",
    "lgpt5 = clim_reg.getThermalLGP5()\n",
    "lgpt10 = clim_reg.getThermalLGP10()"
   ]
  },
  {
   "cell_type": "code",
   "execution_count": null,
   "metadata": {},
   "outputs": [],
   "source": [
    "'''save and visualize result'''\n",
    "#======================\n",
    "plt.figure(1, figsize=(24, 8))\n",
    "plt.subplot(1, 3, 1)\n",
    "plt.imshow(lgpt0,vmin=0,vmax=366)\n",
    "plt.title('LGPt 0')\n",
    "plt.colorbar(shrink=0.8)\n",
    "#----------------------\n",
    "plt.subplot(1, 3, 2)\n",
    "plt.imshow(lgpt5, vmin=0, vmax=366)\n",
    "plt.title('LGPt 5')\n",
    "plt.colorbar(shrink=0.8)\n",
    "#----------------------\n",
    "plt.subplot(1, 3, 3)\n",
    "plt.imshow(lgpt10, vmin=0, vmax=366)\n",
    "plt.title('LGPt 10')\n",
    "plt.colorbar(shrink=0.8)\n",
    "#----------------------\n",
    "plt.savefig(\"./data_output/NB1/LAO_ThermalLGPs.png\",\n",
    "            bbox_inches=\"tight\", dpi=300)\n",
    "plt.show()\n",
    "#======================\n",
    "\n",
    "obj_utilities.saveRaster(mask_path, './data_output/NB1/LAO_LGPt0.tif', lgpt0)\n",
    "obj_utilities.saveRaster(mask_path, './data_output/NB1/LAO_LGPt5.tif', lgpt5)\n",
    "obj_utilities.saveRaster(mask_path, './data_output/NB1/LAO_LGPt10.tif', lgpt10)\n"
   ]
  },
  {
   "cell_type": "markdown",
   "metadata": {},
   "source": [
    "#### Temperature Sum"
   ]
  },
  {
   "cell_type": "code",
   "execution_count": null,
   "metadata": {},
   "outputs": [],
   "source": [
    "tsum0 = clim_reg.getTemperatureSum0()\n",
    "tsum5 = clim_reg.getTemperatureSum5()\n",
    "tsum10 = clim_reg.getTemperatureSum10()"
   ]
  },
  {
   "cell_type": "code",
   "execution_count": null,
   "metadata": {},
   "outputs": [],
   "source": [
    "'''save and visualize result'''\n",
    "#======================\n",
    "plt.figure(1, figsize=(24, 8))\n",
    "plt.subplot(1, 3, 1)\n",
    "plt.imshow(tsum0, cmap='hot_r', vmin=0, vmax=11000)\n",
    "plt.title('T-sumation 0')\n",
    "plt.colorbar(shrink=0.8)\n",
    "#----------------------\n",
    "plt.subplot(1, 3, 2)\n",
    "plt.imshow(tsum5, cmap='hot_r', vmin=0, vmax=11000)\n",
    "plt.title('T-sumation 5')\n",
    "plt.colorbar(shrink=0.8)\n",
    "#----------------------\n",
    "plt.subplot(1, 3, 3)\n",
    "plt.imshow(tsum10, cmap='hot_r', vmin=0, vmax=11000)\n",
    "plt.title('T-sumation 10')\n",
    "plt.colorbar(shrink=0.8)\n",
    "#----------------------\n",
    "plt.savefig(\"./data_output/NB1/LAO_Tsum.png\",\n",
    "            bbox_inches=\"tight\", dpi=300)\n",
    "plt.show()\n",
    "#======================\n",
    "\n",
    "obj_utilities.saveRaster(mask_path, './data_output/NB1/LAO_tsum0.tif', tsum0)\n",
    "obj_utilities.saveRaster(mask_path, './data_output/NB1/LAO_tsum5.tif', tsum5)\n",
    "obj_utilities.saveRaster(mask_path, './data_output/NB1/LAO_tsum10.tif', tsum10)\n"
   ]
  },
  {
   "cell_type": "markdown",
   "metadata": {},
   "source": [
    "#### Temperature Profile"
   ]
  },
  {
   "cell_type": "code",
   "execution_count": null,
   "metadata": {},
   "outputs": [],
   "source": [
    "tprofile = clim_reg.getTemperatureProfile()"
   ]
  },
  {
   "cell_type": "code",
   "execution_count": null,
   "metadata": {},
   "outputs": [],
   "source": [
    "'''save and visualize result'''\n",
    "\n",
    "tile_list = ['A9', 'A8', 'A7', 'A6', 'A5', 'A4', 'A3', 'A2',\n",
    "             'A1', 'B1', 'B2', 'B3', 'B4', 'B5', 'B6', 'B7', 'B8', 'B9']\n",
    "\n",
    "fig = plt.figure(figsize=(12, 20))\n",
    "for i1 in range(1, 19):\n",
    "    plt.subplot(6, 3, i1)\n",
    "    plt.imshow(tprofile[i1-1])\n",
    "    plt.title(tile_list[i1-1])\n",
    "    plt.colorbar(shrink=0.9)\n",
    "plt.tight_layout()\n",
    "\n",
    "plt.savefig(\"./data_output/NB1/LAO_Tprofiles.png\",\n",
    "            bbox_inches=\"tight\", dpi=300)\n",
    "plt.show()\n",
    "\n",
    "for i1 in range(18):\n",
    "    obj_utilities.saveRaster(\n",
    "        mask_path, './data_output/NB1/LAO_TProfile_' + tile_list[i1] + '.tif', tprofile[i1])\n",
    "    "
   ]
  },
  {
   "cell_type": "markdown",
   "metadata": {},
   "source": [
    "#### Length of Growing Periods (LGPs)"
   ]
  },
  {
   "cell_type": "code",
   "execution_count": null,
   "metadata": {},
   "outputs": [],
   "source": [
    "lgp = clim_reg.getLGP( Sa = 100 )\n",
    "lgp_class = clim_reg.getLGPClassified(lgp)\n",
    "lgp_equv = clim_reg.getLGPEquivalent()"
   ]
  },
  {
   "cell_type": "code",
   "execution_count": null,
   "metadata": {},
   "outputs": [],
   "source": [
    "'''save and visualize result'''\n",
    "\n",
    "plt.imshow(lgp, cmap='viridis', vmin=0, vmax=366)\n",
    "plt.title('LPG [days]')\n",
    "plt.colorbar()\n",
    "plt.savefig(\"./data_output/NB1/LAO_LGP.png\", bbox_inches=\"tight\", dpi=300)\n",
    "plt.show()\n",
    "\n",
    "\n",
    "plt.imshow(lgp_equv, cmap='viridis', vmin=0, vmax=366)\n",
    "plt.title('LPG Equivalent [days]')\n",
    "plt.colorbar()\n",
    "plt.savefig(\"./data_output/NB1/LAO_LGP_Equv.png\",\n",
    "            bbox_inches=\"tight\", dpi=300)\n",
    "plt.show()\n",
    "\n",
    "obj_utilities.saveRaster(mask_path, './data_output/NB1/LAO_LGP.tif', lgp)\n",
    "\n",
    "obj_utilities.saveRaster(mask_path, './data_output/NB1/LAO_LGPEquivalent.tif', lgp_equv)\n"
   ]
  },
  {
   "cell_type": "markdown",
   "metadata": {},
   "source": [
    "#### Multi Cropping Zone\n",
    "Multiple cropping zones classification is an additional agro-climatic indicator, which relates to the possibility of cultivating multiple sequential crops under rain-fed and irrigated conditions."
   ]
  },
  {
   "cell_type": "code",
   "execution_count": null,
   "metadata": {},
   "outputs": [],
   "source": [
    "multi_crop = clim_reg.getMultiCroppingZones(tclimate, lgp, lgpt5, lgpt10, tsum0, tsum10)\n",
    "multi_crop_rainfed = multi_crop[0]  # for rainfed conditions\n",
    "multi_crop_irr = multi_crop[1]  # for irrigated conditions\n"
   ]
  },
  {
   "cell_type": "code",
   "execution_count": null,
   "metadata": {},
   "outputs": [],
   "source": [
    "'''save and visualize result'''\n",
    "\n",
    "plt.imshow(multi_crop_irr, cmap=plt.get_cmap('gist_ncar_r', 9), vmin=-0.2, vmax=8.4)\n",
    "plt.title('Multi Cropping Zone - IRR')\n",
    "plt.colorbar()\n",
    "plt.savefig(\"./data_output/NB1/LAO_multicrop_irr.png\", bbox_inches=\"tight\", dpi=300)\n",
    "plt.show()\n",
    "obj_utilities.saveRaster(\n",
    "    mask_path, './data_output/NB1/LAO_multicrop_irr.tif', multi_crop_irr)\n",
    "\n",
    "\n",
    "plt.imshow(multi_crop_rainfed,cmap=plt.get_cmap('gist_ncar_r', 9), vmin=-0.2, vmax=8.4)\n",
    "plt.title('Multi Cropping Zone - RAINFED')\n",
    "plt.colorbar()\n",
    "plt.savefig(\"./data_output/NB1/LAO_multicrop_rain.png\",bbox_inches=\"tight\", dpi=300)\n",
    "plt.show()\n",
    "obj_utilities.saveRaster(\n",
    "    mask_path, './data_output/NB1/LAO_multicrop_rain.tif', multi_crop_rainfed)\n"
   ]
  },
  {
   "cell_type": "markdown",
   "metadata": {},
   "source": [
    "### Air Frost Index and Permafrost Evaluation\n",
    "Occurrence of continuous or discontinuous permafrost conditions are used in the suitability assessment. Permafrost areas are characterized by sub-soil at or below the freezing point for two or more years. In this section, PyAEZ utilizes the air frost index (FI) which is used to characterize climate-derived permafrost condition into 4 classes: \n",
    "1) Continuous permafrost\n",
    "2) Discontinuous permafrost \n",
    "3) Sporadic permafrost\n",
    "4) No permafrost"
   ]
  },
  {
   "cell_type": "code",
   "execution_count": null,
   "metadata": {},
   "outputs": [],
   "source": [
    "permafrost_eval = clim_reg.AirFrostIndexandPermafrostEvaluation()\n",
    "frost_index = permafrost_eval[0]\n",
    "permafrost = permafrost_eval[1]"
   ]
  },
  {
   "cell_type": "code",
   "execution_count": null,
   "metadata": {},
   "outputs": [],
   "source": [
    "'''save and visualize result'''\n",
    "\n",
    "plt.imshow(frost_index, cmap=plt.get_cmap(\n",
    "    'tab20b', 11), vmin=-0.05, vmax=1.05)\n",
    "plt.title('Frost Index')\n",
    "plt.colorbar()\n",
    "plt.savefig(\"./data_output/NB1/LAO_frost_index.png\",\n",
    "            bbox_inches=\"tight\", dpi=300)\n",
    "plt.show()\n",
    "obj_utilities.saveRaster(\n",
    "    mask_path, './data_output/NB1/LAO_frost_index.tif', frost_index)\n",
    "\n",
    "\n",
    "\n",
    "plt.imshow(permafrost, cmap=plt.get_cmap(\n",
    "    'tab20b', 5), vmin=-0.5, vmax=4.3)\n",
    "plt.title('Permafrost Evaluation')\n",
    "plt.colorbar()\n",
    "plt.savefig(\"./data_output/NB1/LAO_permafrost.png\",\n",
    "            bbox_inches=\"tight\", dpi=300)\n",
    "plt.show()\n",
    "obj_utilities.saveRaster(\n",
    "    mask_path, './data_output/NB1/LAO_permafrost.tif', permafrost)\n"
   ]
  },
  {
   "cell_type": "markdown",
   "metadata": {},
   "source": [
    "### Fallow period requirement\n",
    "Fallow is an agricultural technique that consists of not sowing the arable land during one or more growing seasons. In AEZ framework, the fallow factors have been established by main crop groups and environmental conditions. The crop groups include cereals, legumes, roots and tubers, and a miscellaneous group consisting of long-term annuals/perennials. The fallow factors are expressed as percentage of time during the fallow-cropping cycle the land must be under fallow. PyAEZ determines the fallow requirements using Thermal Zones."
   ]
  },
  {
   "cell_type": "code",
   "execution_count": null,
   "metadata": {},
   "outputs": [],
   "source": [
    "tzone_fallow = clim_reg.TZoneFallowRequirement(tzone)\n",
    "\n",
    "'''save and visualize result'''\n",
    "fig = plt.figure()\n",
    "plt.imshow(tzone_fallow, cmap=plt.get_cmap('tab10', 7), vmin=-0.5, vmax=6.3)\n",
    "plt.title('Fallow Requirement')\n",
    "plt.colorbar()\n",
    "plt.savefig(\"./data_output/NB1/LAO_fallow.png\",\n",
    "            bbox_inches=\"tight\", dpi=300)\n",
    "plt.show()\n",
    "obj_utilities.saveRaster(\n",
    "    mask_path, './data_output/NB1/LAO_fallow.tif', tzone_fallow)\n"
   ]
  },
  {
   "cell_type": "markdown",
   "metadata": {},
   "source": [
    "### Agro-ecological zones classification\n",
    "The agro-ecological zones (AEZ) methodology provides a framework for establishing a spatial inventory of land resources compiled from global/national environmental data sets and assembled to quantify multiple spatial characteristics required for the assessments of land productivity under location-specific agro-ecological conditions."
   ]
  },
  {
   "cell_type": "code",
   "execution_count": null,
   "metadata": {},
   "outputs": [],
   "source": [
    "aez = clim_reg.AEZClassification(\n",
    "    tclimate, lgp, lgp_equv, lgpt5, soil_terrain_lulc, permafrost)\n",
    "\n",
    "# now visualizing result\n",
    "fig = plt.figure()\n",
    "plt.imshow(aez, cmap=plt.get_cmap('rainbow', 59), vmin=0, vmax=59)\n",
    "plt.title('Agro-ecological Zonation')\n",
    "plt.colorbar()\n",
    "plt.savefig(\"./data_output/NB1/LAO_aez.png\",\n",
    "            bbox_inches=\"tight\", dpi=300)\n",
    "plt.show()\n",
    "obj_utilities.saveRaster(\n",
    "    mask_path, './data_output/NB1/LAO_aez.tif', aez)\n"
   ]
  },
  {
   "cell_type": "markdown",
   "metadata": {},
   "source": [
    "<hr>\n",
    "\n",
    "### END OF MODULE 1: CLIMATE REGIME\n",
    "\n",
    "<hr>"
   ]
  },
  {
   "cell_type": "code",
   "execution_count": null,
   "metadata": {},
   "outputs": [],
   "source": []
  }
 ],
 "metadata": {
  "kernelspec": {
   "display_name": "env_pyaez",
   "language": "python",
   "name": "env_pyaez"
  },
  "language_info": {
   "codemirror_mode": {
    "name": "ipython",
    "version": 3
   },
   "file_extension": ".py",
   "mimetype": "text/x-python",
   "name": "python",
   "nbconvert_exporter": "python",
   "pygments_lexer": "ipython3",
   "version": "3.11.3"
  },
  "vscode": {
   "interpreter": {
    "hash": "483d67174723b815a0ec34c2e6a221a1abb14617789d13fdc397c529adda0acb"
   }
  }
 },
 "nbformat": 4,
 "nbformat_minor": 2
}
