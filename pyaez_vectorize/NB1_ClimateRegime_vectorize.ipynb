{
 "cells": [
  {
   "cell_type": "markdown",
   "metadata": {},
   "source": [
    "# Notebook I - Climate Regime\n",
    "<hr>\n",
    "This module performs climate data analysis and compiling general agro-climatic indicators. These general agro-climatic indicators summarize climatic profiles in the study area for each grid. The key input data for this module is the climatic data, and the geographical and terrain data.\n",
    "\n",
    "Prepared by Geoinformatics Center, AIT\n",
    "<hr>\n"
   ]
  },
  {
   "cell_type": "markdown",
   "metadata": {},
   "source": [
    "---\n",
    "### TO RUN THIS NOTEBOOK ON HPC ORION WITH GLOBAL DATA SIZE OF (2160,4320,366)\n",
    "\n",
    "when starting your jupyter notebook session request:\n",
    "\n",
    "- enter your fund number under \"Account Name \"\n",
    "- Partition name = bigmem\n",
    "- QOS = normal\n",
    "- Number of hours = \n",
    "- Number of nodes = \n",
    "- Number of tasks = \n",
    "- Additional Slurm Parameters = --exclusive\n",
    "- enter the path to your conda environment under \"Additional Kernel Locations, colon separated\"\n",
    "\n",
    "---\n"
   ]
  },
  {
   "cell_type": "markdown",
   "metadata": {},
   "source": [
    "Then, installing any additional python packages that required to run PyAEZ.\n",
    "If working on your own PC/machine, these additional installation will vary depending on what is already installed in your Python library. "
   ]
  },
  {
   "cell_type": "code",
   "execution_count": null,
   "metadata": {},
   "outputs": [],
   "source": [
    "# 'Installing neccessary packages'\n",
    "# !pip install gdal\n",
    "# # !pip install pyaez==2.0.0\n",
    "# additional packages used now: rioxarray, xarray, netcdcf4"
   ]
  },
  {
   "cell_type": "markdown",
   "metadata": {},
   "source": [
    "Now, we will import the specific Python packages we need for PyAEZ."
   ]
  },
  {
   "cell_type": "code",
   "execution_count": 1,
   "metadata": {},
   "outputs": [],
   "source": [
    "'''import supporting libraries'''\n",
    "import numpy as np\n",
    "import matplotlib.pyplot as plt\n",
    "import os\n",
    "# try:\n",
    "#     from osgeo import gdal\n",
    "# except:\n",
    "#     import gdal\n",
    "import sys\n",
    "from time import time as timer\n",
    "\n",
    "# because I saved our data in nc files\n",
    "# import xarray as xr"
   ]
  },
  {
   "cell_type": "markdown",
   "metadata": {},
   "source": [
    "Setting the working directory -- where our PyAEZ project is located."
   ]
  },
  {
   "cell_type": "code",
   "execution_count": 2,
   "metadata": {},
   "outputs": [],
   "source": [
    "########################################################\n",
    "### CHANGE THESE VALUES HERE FOR YOUR PERSONAL SETUP ###\n",
    "########################################################\n",
    "\n",
    "# branch version tag\n",
    "revname='vectorize'\n",
    "\n",
    "# 'Set the working directory'\n",
    "\n",
    "# HPC Orion\n",
    "# Replace with path to your PyAEZ folder under your username\n",
    "work_dir = '/work/hpc/users/kerrie/UN_FAO/repos/PyAEZ/'\n",
    "\n",
    "# Replace with whatever location you want to output data under your username\n",
    "out_path = '/work/hpc/users/kerrie/UN_FAO/pyaez_results/global_1980/'+revname+'/' \n",
    "\n",
    "# these are the same for everyone on HPC Orion\n",
    "# data_dir = '/work/hpc/datasets/un_fao/pyaez/global_1980/daily/netcdf/'\n",
    "data_dir = '/work/hpc/datasets/un_fao/pyaez/global_1980/daily/npy/'\n",
    "maskfile = '/work/hpc/datasets/un_fao/pyaez/static/netcdf/mask_2268708_5m.nc'\n",
    "elevfile = '/work/hpc/datasets/un_fao/pyaez/static/netcdf/Elevation_2268708_5m.nc'\n",
    "\n",
    "\n",
    "# # kerrie SSC desktop\n",
    "# work_dir = 'K://projects/rgmg/climate/UN_FAO/repo_pyAEZ_kerrie/PyAEZ/'\n",
    "# data_dir = 'C://Users/kerrie.WIN/Documents/data/pyAEZ_data_inputs_china_03272023/'\n",
    "# out_path = work_dir+'kerrie/data_output/NB1/' \n",
    "\n",
    "# # kerrie laptop\n",
    "# work_dir = 'C://Users/kerrie/Documents/01_LocalCode/repos/PyAEZ/' \n",
    "# data_dir = 'C://Users/kerrie/Documents/02_LocalData/pyAEZ_input_data/china/'\n",
    "# out_path = work_dir+'kerrie/data_output/NB1/' \n",
    "\n",
    "########################################################\n",
    "########################################################\n",
    "########################################################"
   ]
  },
  {
   "cell_type": "code",
   "execution_count": 3,
   "metadata": {},
   "outputs": [],
   "source": [
    "# # add pyaez model to system path\n",
    "# sys.path.append(work_dir+'pyaez/') \n",
    "\n",
    "# Check whether the specified path exists or not\n",
    "isExist = os.path.exists(out_path)\n",
    "if not isExist:\n",
    "   # Create a new directory because it does not exist\n",
    "   os.makedirs(out_path)\n",
    "   print(\"The new directory is created!\")"
   ]
  },
  {
   "cell_type": "markdown",
   "metadata": {},
   "source": [
    "<hr>\n",
    "\n",
    "## MODULE 1: CLIMATE REGIME\n",
    "Now, we will start executing the routines in Module 1\n",
    "\n",
    "\n",
    "First, we initiate Module 1 Class instance by invoking the following commands:"
   ]
  },
  {
   "cell_type": "code",
   "execution_count": 4,
   "metadata": {},
   "outputs": [],
   "source": [
    "# # Import Module 1 and initate Class intance\n",
    "# from pyaez import ClimateRegime\n",
    "# clim_reg = ClimateRegime.ClimateRegime()\n",
    "\n",
    "# # Importing UtilitiesCalc\n",
    "# from pyaez import UtilitiesCalc\n",
    "# obj_utilities = UtilitiesCalc.UtilitiesCalc()\n",
    "\n",
    "import ClimateRegime_vec as ClimateRegime\n",
    "clim_reg = ClimateRegime.ClimateRegime()\n",
    "\n",
    "import UtilitiesCalc_vec as UtilitiesCalc\n",
    "obj_utilities=UtilitiesCalc.UtilitiesCalc()"
   ]
  },
  {
   "cell_type": "markdown",
   "metadata": {},
   "source": [
    "### Importing the climate dataset and the geographical data/rasters.\n",
    "\n",
    "The package expects six climate variables, as daily or monthly observations, as Numpy arrays.\n",
    "Arrays must be 3-dimensional, with the third axes containing the time dimension.\n",
    "Unit of measures are expected as follows:\n",
    "- Minimum temperature = Degree Celsius\n",
    "- Maximum temperature = Degree Celsius\n",
    "- Precipitation = Accumulated mm / day (or per month)\n",
    "- Solar radiation = W/m$^2$\n",
    "- Wind speed = Average m/s\n",
    "- Relative humidity = Average fraction (0 to 1)\n",
    "\n",
    "In addition to climate data, the system requires:\n",
    "- A binary admin_mask, with 0 and 1 values. 0 pixels values will be not executed, while 1 pixels values will be executed\n",
    "- An elevation layer\n",
    "- Soil/terrain/special land cover classes\n",
    "  \n",
    "\n",
    "**All the datasets must have the same shape.**"
   ]
  },
  {
   "cell_type": "code",
   "execution_count": 24,
   "metadata": {},
   "outputs": [
    {
     "name": "stdout",
     "output_type": "stream",
     "text": [
      "(2160, 4320, 366)\n"
     ]
    },
    {
     "data": {
      "text/plain": [
       "14.694885492324829"
      ]
     },
     "execution_count": 24,
     "metadata": {},
     "output_type": "execute_result"
    }
   ],
   "source": [
    "# expect about 1 min run time\n",
    "start=timer()\n",
    "# Importing the climate data\n",
    "max_temp = np.load(data_dir+'Tmax-2m/0.npy',mmap_mode=\"r\")  # maximum temperature\n",
    "min_temp = np.load(data_dir+'Tmin-2m/0.npy',mmap_mode=\"r\")  # minimum temperature\n",
    "precipitation = np.load(data_dir+'Precip/0.npy',mmap_mode=\"r\")  # precipitation\n",
    "rel_humidity = np.load(data_dir+'Rhum/0.npy')  # relative humidity\n",
    "wind_speed = np.load(data_dir+'Wind-2m/0.npy') # wind speed measured at two meters\n",
    "short_rad = np.load(data_dir+'Srad/0.npy')  # shortwave radiation\n",
    "\n",
    "# Load the geographical data/rasters\n",
    "mask=np.load(data_dir+'mask/0.npy')\n",
    "elevation=np.load(data_dir+'Elevation/0.npy')\n",
    "\n",
    "print(min_temp.shape)\n",
    "\n",
    "task_time=timer()-start\n",
    "task_time"
   ]
  },
  {
   "cell_type": "code",
   "execution_count": 6,
   "metadata": {},
   "outputs": [],
   "source": [
    "# ###################################################################\n",
    "# ### USE ABOVE INSTEAD AFTER REWRITING DATA TO NPY AND TIF ###\n",
    "# ###################################################################\n",
    "\n",
    "\n",
    "# start=timer()\n",
    "# # Open the data files, this is quick\n",
    "# # pyaez needs arrays shaped (ny,nx,nt) and\n",
    "# # also, the spatial reference/geo info should at minimum be \n",
    "# # included in the mask input data \n",
    "# # (i.e. the input mask.nc should have spatial_ref or mask.tif should be geotif)\n",
    "# max_temp = xr.open_dataset(data_dir+'Tmax-2m_daily_1980_5m.nc')['Tmax-2m'].transpose('lat','lon','time').data\n",
    "# min_temp = xr.open_dataset(data_dir+'Tmin-2m_daily_1980_5m.nc')['Tmin-2m'].transpose('lat','lon','time').data\n",
    "# precipitation = xr.open_dataset(data_dir+'Precip_daily_1980_5m.nc')['Precip'].transpose('lat','lon','time').data\n",
    "# rel_humidity = xr.open_dataset(data_dir+'Rhum_daily_1980_5m.nc')['Rhum'].transpose('lat','lon','time').data\n",
    "# wind_speed = xr.open_dataset(data_dir+'Wind-2m_daily_1980_5m.nc')['Wind-2m'].transpose('lat','lon','time').data\n",
    "# short_rad = xr.open_dataset(data_dir+'Srad_daily_1980_5m.nc')['Srad'].transpose('lat','lon','time').data\n",
    "\n",
    "# mask=xr.open_dataset(maskfile)['mask'].data\n",
    "# elevation=xr.open_dataset(elevfile)['Elevation'].data\n",
    "\n",
    "# print(max_temp.shape)\n",
    "\n",
    "# task_time=timer()-start\n",
    "# task_time\n",
    "\n"
   ]
  },
  {
   "cell_type": "code",
   "execution_count": 7,
   "metadata": {},
   "outputs": [],
   "source": [
    "# Define the Area-Of-Interest's geographical extents\n",
    "\n",
    "# This section contains parameters that can be modified by the user:\n",
    "# - lat_min = minimum latitude of analysis\n",
    "# - lat_max = maximum latitude of analysis\n",
    "# - mask_value = the value in the admin_mask to exclude from the analysis (typically 0)\n",
    "# - daily = whether climate input data are daily (True) or monthly (False)\n",
    "\n",
    "\n",
    "# rebuilding the grid like this results in problems with precision and \n",
    "# slight shifting of all the grids\n",
    "# why not just feed the entire array of latitudes in from the data to avoid this?\n",
    "# lat_min = 18.00000000\n",
    "# lat_max = 53.66666667\n",
    "lats = xr.open_dataset(maskfile)['lat'].data\n",
    "mask_path = maskfile # if using .nc, variable name inside file needs to match the string of letters before first \"_\" in file name\n",
    "mask_value = 0  # pixel value in admin_mask to exclude from the analysis\n",
    "daily = True #Type of climate data = True: daily, False: monthly\n"
   ]
  },
  {
   "cell_type": "markdown",
   "metadata": {},
   "source": [
    "### Loading the imported data into the Object Class ('*clim_reg*' Class)"
   ]
  },
  {
   "cell_type": "code",
   "execution_count": 8,
   "metadata": {},
   "outputs": [
    {
     "data": {
      "text/plain": [
       "6.127357482910156e-05"
      ]
     },
     "execution_count": 8,
     "metadata": {},
     "output_type": "execute_result"
    }
   ],
   "source": [
    "start=timer()\n",
    "clim_reg.setStudyAreaMask(mask, mask_value)\n",
    "task_time=timer()-start\n",
    "task_time"
   ]
  },
  {
   "cell_type": "code",
   "execution_count": 9,
   "metadata": {},
   "outputs": [
    {
     "data": {
      "text/plain": [
       "0.030428409576416016"
      ]
     },
     "execution_count": 9,
     "metadata": {},
     "output_type": "execute_result"
    }
   ],
   "source": [
    "start=timer()\n",
    "# clim_reg.setLocationTerrainData(lat_min, lat_max, elevation)\n",
    "clim_reg.setLocationTerrainData(lats, elevation)\n",
    "task_time=timer()-start\n",
    "task_time"
   ]
  },
  {
   "cell_type": "code",
   "execution_count": 10,
   "metadata": {},
   "outputs": [
    {
     "name": "stdout",
     "output_type": "stream",
     "text": [
      "assigning fake1\n",
      "assigning fake2\n",
      "assigning fake3\n",
      "assigning fake4\n",
      "assigning fake5\n",
      "assigning fake6\n",
      "assigning fake7\n",
      "assigning fake8\n",
      "assigning fake9\n",
      "assigning fake10\n",
      "assigning fake11\n",
      "assigning fake12\n"
     ]
    },
    {
     "data": {
      "text/plain": [
       "30.165728330612183"
      ]
     },
     "execution_count": 10,
     "metadata": {},
     "output_type": "execute_result"
    }
   ],
   "source": [
    "# expect xx min run time\n",
    "start=timer()\n",
    "if daily:\n",
    "    clim_reg.setDailyClimateData(\n",
    "        min_temp, max_temp, precipitation, short_rad, wind_speed, rel_humidity)\n",
    "else:\n",
    "    clim_reg.setMonthlyClimateData(\n",
    "        min_temp, max_temp, precipitation, short_rad, wind_speed, rel_humidity)\n",
    "    # clim_reg.setMonthlyClimateData(\n",
    "    #     min_temp.sel(time=slice(1,12)), max_temp.sel(time=slice(1,12)), \\\n",
    "    #     precipitation.sel(time=slice(1,12)), short_rad.sel(time=slice(1,12)), \\\n",
    "    #     wind_speed.sel(time=slice(1,12)), rel_humidity.sel(time=slice(1,12)))        \n",
    "task_time=timer()-start\n",
    "task_time  "
   ]
  },
  {
   "cell_type": "code",
   "execution_count": 11,
   "metadata": {},
   "outputs": [],
   "source": [
    "'Releasing the memory of input climate data -- free up some RAM space'\n",
    "del(min_temp, max_temp, precipitation, short_rad, wind_speed, rel_humidity)"
   ]
  },
  {
   "cell_type": "markdown",
   "metadata": {},
   "source": [
    "NOTE: After loading the data into the *clim_reg* Class, all the parameters will be converted to DAILY DATA and calculated as other parameters. \n",
    "These new parameters are available and can be called into use as:\n",
    "- *clim_reg.minT_daily* (minimum temperature)\n",
    "- *clim_reg.maxT_daily* (maximum temperature)\n",
    "- *clim_reg.meanT_daily* (mean temperature)\n",
    "- *clim_reg.meanT_daily_sealevel* (mean temperature, corrected to sea-level)\n",
    "- *clim_reg.totalPrec_daily* (total precipitation)\n",
    "- *clim_reg.pet_daily* (reference evapotranspiration, ETo)\n",
    "- *clim_reg.P_by_PET_daily* (ratio of precipitation over ETo)\n",
    "  \n"
   ]
  },
  {
   "cell_type": "code",
   "execution_count": 13,
   "metadata": {},
   "outputs": [
    {
     "data": {
      "text/plain": [
       "dict_keys(['im_mask', 'nodata_val', 'set_mask', 'elevation', 'im_height', 'im_width', 'latitude', 'meanT_daily', 'totalPrec_daily', 'maxT_daily', 'fake1_3D', 'fake2_3D', 'fake3_3D', 'fake4_3D', 'fake5_3D', 'fake6_3D', 'fake7_3D', 'fake8_3D', 'fake9_3D', 'fake10_3D', 'fake11_3D', 'fake12_3D'])"
      ]
     },
     "execution_count": 13,
     "metadata": {},
     "output_type": "execute_result"
    }
   ],
   "source": [
    "clim_reg.__dict__.keys()\n"
   ]
  },
  {
   "cell_type": "code",
   "execution_count": null,
   "metadata": {},
   "outputs": [
    {
     "name": "stdout",
     "output_type": "stream",
     "text": [
      "compute meanT...\n",
      "create days...\n",
      "create 3D mask\n",
      "replace nan with 0...\n",
      "(2160, 4320, 366)\n",
      "collapse to 2D...\n",
      "del data\n",
      "qual_spl...\n"
     ]
    }
   ],
   "source": [
    "# smoothed mean T\n",
    "# Adding interpolation to the dataset\n",
    "# 5th degree spline fit to smooth in time\n",
    "print('compute meanT...')\n",
    "meanT_daily = (min_temp+max_temp)/2.\n",
    "\n",
    "print('create days...')\n",
    "days = np.arange(1,367) # x values\n",
    "\n",
    "print('create 3D mask')\n",
    "# replace any nan with zero\n",
    "mask3D = np.tile(mask[:,:,np.newaxis], (1,1,days.shape[0]))\n",
    "\n",
    "print('replace nan with 0...')\n",
    "data=np.where(mask3D==0,0,meanT_daily)\n",
    "print(data.shape)\n",
    "\n",
    "print('collapse to 2D...')\n",
    "data2D=data.transpose(2,0,1).reshape(days.shape[0],-1) # every column is a set of y values\n",
    "print(data.shape)\n",
    "\n",
    "print('del data')\n",
    "del data\n",
    "\n",
    "print('quad_spl...')\n",
    "# do the fitting\n",
    "quad_spl=np.polynomial.polynomial.polyfit(days,data2D,deg=5)\n",
    "\n",
    "print('interp_daily_temp...')\n",
    "interp_daily_temp=np.polynomial.polynomial.polyval(days,quad_spl)\n",
    "\n",
    "print('reshape interp_daily_temp...')\n",
    "#reshape\n",
    "interp_daily_temp=interp_daily_temp.reshape(mask3D.shape[0],mask3D.shape[1],-1)\n",
    "print('finished')"
   ]
  },
  {
   "cell_type": "code",
   "execution_count": null,
   "metadata": {},
   "outputs": [],
   "source": []
  },
  {
   "cell_type": "code",
   "execution_count": null,
   "metadata": {},
   "outputs": [],
   "source": []
  },
  {
   "cell_type": "code",
   "execution_count": 21,
   "metadata": {},
   "outputs": [
    {
     "ename": "AttributeError",
     "evalue": "'ClimateRegime' object has no attribute 'get'",
     "output_type": "error",
     "traceback": [
      "\u001b[0;31m---------------------------------------------------------------------------\u001b[0m",
      "\u001b[0;31mAttributeError\u001b[0m                            Traceback (most recent call last)",
      "Cell \u001b[0;32mIn[21], line 1\u001b[0m\n\u001b[0;32m----> 1\u001b[0m \u001b[43mclim_reg\u001b[49m\u001b[38;5;241;43m.\u001b[39;49m\u001b[43mget\u001b[49m(\u001b[38;5;124m'\u001b[39m\u001b[38;5;124mmeanT_daily\u001b[39m\u001b[38;5;124m'\u001b[39m)\n",
      "\u001b[0;31mAttributeError\u001b[0m: 'ClimateRegime' object has no attribute 'get'"
     ]
    }
   ],
   "source": [
    "clim_reg.get('meanT_daily')"
   ]
  },
  {
   "cell_type": "code",
   "execution_count": 20,
   "metadata": {},
   "outputs": [
    {
     "ename": "TypeError",
     "evalue": "'ClimateRegime' object is not subscriptable",
     "output_type": "error",
     "traceback": [
      "\u001b[0;31m---------------------------------------------------------------------------\u001b[0m",
      "\u001b[0;31mTypeError\u001b[0m                                 Traceback (most recent call last)",
      "Cell \u001b[0;32mIn[20], line 1\u001b[0m\n\u001b[0;32m----> 1\u001b[0m sys\u001b[38;5;241m.\u001b[39mgetsizeof(\u001b[43mclim_reg\u001b[49m\u001b[43m[\u001b[49m\u001b[38;5;124;43m'\u001b[39;49m\u001b[38;5;124;43mmeanT_daily\u001b[39;49m\u001b[38;5;124;43m'\u001b[39;49m\u001b[43m]\u001b[49m)\u001b[38;5;241m/\u001b[39m\u001b[38;5;241m1E9\u001b[39m\n",
      "\u001b[0;31mTypeError\u001b[0m: 'ClimateRegime' object is not subscriptable"
     ]
    }
   ],
   "source": [
    "sys.getsizeof(clim_reg)/1E9"
   ]
  },
  {
   "cell_type": "code",
   "execution_count": 23,
   "metadata": {},
   "outputs": [
    {
     "data": {
      "text/plain": [
       "[('AEZClassification', 6.6e-08),\n",
       " ('AirFrostIndexandPermafrostEvaluation', 8.5e-08),\n",
       " ('TZoneFallowRequirement', 7.1e-08),\n",
       " ('__class__', 5.8e-08),\n",
       " ('__delattr__', 6e-08),\n",
       " ('__dict__', 5.7e-08),\n",
       " ('__dir__', 5.6e-08),\n",
       " ('__doc__', 5.6e-08),\n",
       " ('__eq__', 5.5e-08),\n",
       " ('__format__', 5.9e-08),\n",
       " ('__ge__', 5.5e-08),\n",
       " ('__getattribute__', 6.5e-08),\n",
       " ('__getstate__', 6.1e-08),\n",
       " ('__gt__', 5.5e-08),\n",
       " ('__hash__', 5.7e-08),\n",
       " ('__init__', 5.7e-08),\n",
       " ('__init_subclass__', 6.6e-08),\n",
       " ('__le__', 5.5e-08),\n",
       " ('__lt__', 5.5e-08),\n",
       " ('__module__', 5.9e-08),\n",
       " ('__ne__', 5.5e-08),\n",
       " ('__new__', 5.6e-08),\n",
       " ('__reduce__', 5.9e-08),\n",
       " ('__reduce_ex__', 6.2e-08),\n",
       " ('__repr__', 5.7e-08),\n",
       " ('__setattr__', 6e-08),\n",
       " ('__sizeof__', 5.9e-08),\n",
       " ('__str__', 5.6e-08),\n",
       " ('__subclasshook__', 6.5e-08),\n",
       " ('__weakref__', 6e-08),\n",
       " ('elevation', 5.8e-08),\n",
       " ('fake10_3D', 5.8e-08),\n",
       " ('fake11_3D', 5.8e-08),\n",
       " ('fake12_3D', 5.8e-08),\n",
       " ('fake1_3D', 5.7e-08),\n",
       " ('fake2_3D', 5.7e-08),\n",
       " ('fake3_3D', 5.7e-08),\n",
       " ('fake4_3D', 5.7e-08),\n",
       " ('fake5_3D', 5.7e-08),\n",
       " ('fake6_3D', 5.7e-08),\n",
       " ('fake7_3D', 5.7e-08),\n",
       " ('fake8_3D', 5.7e-08),\n",
       " ('fake9_3D', 5.7e-08),\n",
       " ('getLGP', 5.5e-08),\n",
       " ('getLGPClassified', 6.5e-08),\n",
       " ('getLGPEquivalent', 6.5e-08),\n",
       " ('getMultiCroppingZones', 7e-08),\n",
       " ('getTemperatureProfile', 7e-08),\n",
       " ('getTemperatureSum0', 6.7e-08),\n",
       " ('getTemperatureSum10', 6.8e-08),\n",
       " ('getTemperatureSum5', 6.7e-08),\n",
       " ('getThermalClimate', 6.6e-08),\n",
       " ('getThermalLGP0', 6.3e-08),\n",
       " ('getThermalLGP10', 6.4e-08),\n",
       " ('getThermalLGP5', 6.3e-08),\n",
       " ('getThermalZone', 6.3e-08),\n",
       " ('im_height', 5.8e-08),\n",
       " ('im_mask', 5.6e-08),\n",
       " ('im_width', 5.7e-08),\n",
       " ('latitude', 5.7e-08),\n",
       " ('maxT_daily', 5.9e-08),\n",
       " ('meanT_daily', 6e-08),\n",
       " ('nodata_val', 5.9e-08),\n",
       " ('setDailyClimateData', 6.8e-08),\n",
       " ('setLocationTerrainData', 7.1e-08),\n",
       " ('setMonthlyClimateData', 7e-08),\n",
       " ('setStudyAreaMask', 6.5e-08),\n",
       " ('set_mask', 5.7e-08),\n",
       " ('totalPrec_daily', 6.4e-08)]"
      ]
     },
     "execution_count": 23,
     "metadata": {},
     "output_type": "execute_result"
    }
   ],
   "source": [
    "[(x, sys.getsizeof(x)/1E9) for x in dir(clim_reg)]"
   ]
  },
  {
   "cell_type": "code",
   "execution_count": 12,
   "metadata": {},
   "outputs": [
    {
     "data": {
      "text/plain": [
       "[('elevation', 0.037324928),\n",
       " ('mask', 0.037324928),\n",
       " ('open', 1.52e-07),\n",
       " ('elevfile', 1.18e-07),\n",
       " ('out_path', 1.15e-07),\n",
       " ('mask_path', 1.13e-07),\n",
       " ('maskfile', 1.13e-07),\n",
       " ('lats', 1.12e-07),\n",
       " ('data_dir', 1.03e-07),\n",
       " ('work_dir', 9.1e-08),\n",
       " ('ClimateRegime', 7.2e-08),\n",
       " ('UtilitiesCalc', 7.2e-08),\n",
       " ('np', 7.2e-08),\n",
       " ('plt', 7.2e-08),\n",
       " ('timer', 7.2e-08),\n",
       " ('xr', 7.2e-08),\n",
       " ('revname', 5.8e-08),\n",
       " ('clim_reg', 5.6e-08),\n",
       " ('obj_utilities', 5.6e-08),\n",
       " ('daily', 2.8e-08),\n",
       " ('isExist', 2.8e-08),\n",
       " ('mask_value', 2.8e-08),\n",
       " ('start', 2.4e-08),\n",
       " ('task_time', 2.4e-08)]"
      ]
     },
     "execution_count": 12,
     "metadata": {},
     "output_type": "execute_result"
    }
   ],
   "source": [
    "import sys\n",
    "\n",
    "# These are the usual ipython objects, including this one \n",
    "ipython_vars = ['In', 'Out', 'exit', 'quit', 'get_ipython', 'ipython_vars']\n",
    "\n",
    "# Get a sorted list of the objects and their sizes\n",
    "sorted([(x, sys.getsizeof(globals().get(x))/1E9) \\\n",
    "        for x in dir() \\\n",
    "        if not x.startswith('_') \\\n",
    "        and x not in sys.modules \\\n",
    "        and x not in ipython_vars], \n",
    "       key=lambda x: x[1], reverse=True)"
   ]
  },
  {
   "cell_type": "markdown",
   "metadata": {},
   "source": [
    "#### Thermal Climate\n",
    "The Thermal Climate function calculates and classifies latitudinal thermal climate, which will be used later in Module 2 for the assessment of potential crops and land utilization types (LUT) presence in each grid cell."
   ]
  },
  {
   "cell_type": "code",
   "execution_count": null,
   "metadata": {},
   "outputs": [],
   "source": [
    "tclimate = clim_reg.getThermalClimate()\n"
   ]
  },
  {
   "cell_type": "code",
   "execution_count": null,
   "metadata": {},
   "outputs": [],
   "source": [
    "\n",
    "'''save and visualize result'''\n",
    "fig = plt.figure()\n",
    "plt.imshow(tclimate, cmap=plt.get_cmap('gist_ncar_r', 12),vmin=-0.3,vmax=12.5,interpolation='none')\n",
    "plt.title('Thermal Climate')\n",
    "plt.colorbar()\n",
    "plt.savefig(out_path+\"ThermalClimate.png\",bbox_inches =\"tight\",dpi=300) #Save as PNG image\n",
    "plt.show()\n",
    "\n",
    "obj_utilities.saveRaster(mask_path, out_path+'ThermalClimate_'+revname+'.tif',tclimate) #Save as GeoTIFF raster"
   ]
  },
  {
   "cell_type": "markdown",
   "metadata": {},
   "source": [
    "#### Thermal Zone\n",
    "The thermal zone is classified based on actual temperature which reflects on the temperature regimes of major thermal climates"
   ]
  },
  {
   "cell_type": "code",
   "execution_count": null,
   "metadata": {},
   "outputs": [],
   "source": [
    "tzone = clim_reg.getThermalZone()"
   ]
  },
  {
   "cell_type": "code",
   "execution_count": null,
   "metadata": {},
   "outputs": [],
   "source": [
    "\n",
    "'''save and visualize result'''\n",
    "fig = plt.figure()\n",
    "plt.imshow(tzone, cmap=plt.get_cmap('gist_ncar_r', 12),vmin=-0.3,vmax=12.5,interpolation='none')\n",
    "plt.title('Thermal Zones')\n",
    "plt.colorbar()\n",
    "plt.savefig(out_path+\"ThermalZone.png\",bbox_inches =\"tight\",dpi=300) #Save as PNG image\n",
    "plt.show()\n",
    "\n",
    "obj_utilities.saveRaster(mask_path, out_path+'ThermalZone_'+revname+'.tif',tzone) #Save as GeoTIFF raster\n"
   ]
  },
  {
   "cell_type": "markdown",
   "metadata": {},
   "source": [
    "#### Thermal Length of Growing Period (LGP)\n",
    "The thermal length of growing period (LGPt) is defined as the number of days in a year during which the daily mean temperature (Ta) is conductive to crop growth and development. PyAEZ utilizes the AEZ three standard temperature thresholds for LGPt:\n",
    "- Periods with Ta>0°C (LGPt0)\n",
    "- Periods with Ta>5°C (LGPt5) – the period conductive to plant growth and development\n",
    "- Periods, and Ta>10°C (LGPt10) – a proxy for the period of low risks for late and early frost occurrences and termed ‘frost-free period’"
   ]
  },
  {
   "cell_type": "code",
   "execution_count": null,
   "metadata": {},
   "outputs": [],
   "source": [
    "# 3 separate calls means three times as much compute time\n",
    "# can these be combined, one call outputs all 3\n",
    "lgpt0 = clim_reg.getThermalLGP0()\n",
    "lgpt5 = clim_reg.getThermalLGP5()\n",
    "lgpt10 = clim_reg.getThermalLGP10()"
   ]
  },
  {
   "cell_type": "code",
   "execution_count": null,
   "metadata": {},
   "outputs": [],
   "source": [
    "'''save and visualize result'''\n",
    "#======================\n",
    "plt.figure(1, figsize=(24, 8))\n",
    "plt.subplot(1, 3, 1)\n",
    "plt.imshow(lgpt0,vmin=0,vmax=366,interpolation='none')\n",
    "plt.title('LGPt 0')\n",
    "plt.colorbar(shrink=0.8)\n",
    "#----------------------\n",
    "plt.subplot(1, 3, 2)\n",
    "plt.imshow(lgpt5, vmin=0, vmax=366,interpolation='none')\n",
    "plt.title('LGPt 5')\n",
    "plt.colorbar(shrink=0.8)\n",
    "#----------------------\n",
    "plt.subplot(1, 3, 3)\n",
    "plt.imshow(lgpt10, vmin=0, vmax=366,interpolation='none')\n",
    "plt.title('LGPt 10')\n",
    "plt.colorbar(shrink=0.8)\n",
    "#----------------------\n",
    "plt.savefig(out_path+\"ThermalLGPs_\"+revname+\".png\",\n",
    "            bbox_inches=\"tight\", dpi=300)\n",
    "plt.show()\n",
    "#======================\n",
    "\n",
    "obj_utilities.saveRaster(mask_path, out_path+'LGPt0_'+revname+'.tif', lgpt0)\n",
    "obj_utilities.saveRaster(mask_path, out_path+'LGPt5_'+revname+'.tif', lgpt5)\n",
    "obj_utilities.saveRaster(mask_path, out_path+'LGPt10_'+revname+'.tif', lgpt10)\n"
   ]
  },
  {
   "cell_type": "markdown",
   "metadata": {},
   "source": [
    "#### Temperature Sum"
   ]
  },
  {
   "cell_type": "code",
   "execution_count": null,
   "metadata": {},
   "outputs": [],
   "source": [
    "tsum0 = clim_reg.getTemperatureSum0()\n",
    "tsum5 = clim_reg.getTemperatureSum5()\n",
    "tsum10 = clim_reg.getTemperatureSum10()"
   ]
  },
  {
   "cell_type": "code",
   "execution_count": null,
   "metadata": {},
   "outputs": [],
   "source": [
    "'''save and visualize result'''\n",
    "#======================\n",
    "plt.figure(1, figsize=(24, 8))\n",
    "plt.subplot(1, 3, 1)\n",
    "plt.imshow(tsum0, cmap='hot_r', vmin=0, vmax=11000,interpolation='none')\n",
    "plt.title('T-sumation 0')\n",
    "plt.colorbar(shrink=0.8)\n",
    "#----------------------\n",
    "plt.subplot(1, 3, 2)\n",
    "plt.imshow(tsum5, cmap='hot_r', vmin=0, vmax=11000,interpolation='none')\n",
    "plt.title('T-sumation 5')\n",
    "plt.colorbar(shrink=0.8)\n",
    "#----------------------\n",
    "plt.subplot(1, 3, 3)\n",
    "plt.imshow(tsum10, cmap='hot_r', vmin=0, vmax=11000,interpolation='none')\n",
    "plt.title('T-sumation 10')\n",
    "plt.colorbar(shrink=0.8)\n",
    "#----------------------\n",
    "plt.savefig(out_path+\"Tsum_\"+revname+\".png\",\n",
    "            bbox_inches=\"tight\", dpi=300)\n",
    "plt.show()\n",
    "#======================\n",
    "\n",
    "obj_utilities.saveRaster(mask_path, out_path+'tsum0_'+revname+'.tif', tsum0)\n",
    "obj_utilities.saveRaster(mask_path, out_path+'tsum5_'+revname+'.tif', tsum5)\n",
    "obj_utilities.saveRaster(mask_path, out_path+'tsum10_'+revname+'.tif', tsum10)\n"
   ]
  },
  {
   "cell_type": "markdown",
   "metadata": {},
   "source": [
    "#### Temperature Profile"
   ]
  },
  {
   "cell_type": "code",
   "execution_count": null,
   "metadata": {},
   "outputs": [],
   "source": [
    "tprofile = clim_reg.getTemperatureProfile()"
   ]
  },
  {
   "cell_type": "code",
   "execution_count": null,
   "metadata": {},
   "outputs": [],
   "source": [
    "tile_list = ['A1','A2','A3','A4','A5','A6','A7','A8','A9', \\\n",
    "            'B1', 'B2', 'B3', 'B4', 'B5', 'B6', 'B7', 'B8', 'B9']\n",
    "\n",
    "'''save and visualize result'''\n",
    "\n",
    "fig = plt.figure(figsize=(12, 20))\n",
    "for i,profile in enumerate(tprofile):\n",
    "    plt.subplot(6, 3, i+1)\n",
    "    plt.imshow(profile,interpolation='none')\n",
    "    plt.title(tile_list[i])\n",
    "    plt.colorbar(shrink=0.9)\n",
    "plt.tight_layout()\n",
    "\n",
    "plt.savefig(out_path+\"Tprofiles_\"+revname+\".png\",\n",
    "            bbox_inches=\"tight\", dpi=300)\n",
    "plt.show()\n",
    "\n",
    "# for i1 in range(ntiles+1):\n",
    "for tile,profile in zip(tile_list,tprofile):\n",
    "    obj_utilities.saveRaster(\n",
    "        mask_path, out_path+'TProfile_' + tile + '_'+revname+'.tif', profile)\n",
    "    "
   ]
  },
  {
   "cell_type": "markdown",
   "metadata": {},
   "source": [
    "#### Length of Growing Periods (LGPs)"
   ]
  },
  {
   "cell_type": "code",
   "execution_count": null,
   "metadata": {},
   "outputs": [],
   "source": [
    "lgp = clim_reg.getLGP( Sa = 100 )\n",
    "lgp_class = clim_reg.getLGPClassified(lgp)\n",
    "lgp_equv = clim_reg.getLGPEquivalent()"
   ]
  },
  {
   "cell_type": "code",
   "execution_count": null,
   "metadata": {},
   "outputs": [],
   "source": [
    "'''save and visualize result'''\n",
    "\n",
    "plt.imshow(lgp, cmap='viridis', vmin=0, vmax=366,interpolation='none')\n",
    "plt.title('LPG [days]')\n",
    "plt.colorbar()\n",
    "plt.savefig(out_path+\"LGP_\"+revname+\".png\", bbox_inches=\"tight\", dpi=300)\n",
    "plt.show()\n",
    "\n",
    "\n",
    "plt.imshow(lgp_equv, cmap='viridis', vmin=0, vmax=366,interpolation='none')\n",
    "plt.title('LPG Equivalent [days]')\n",
    "plt.colorbar()\n",
    "plt.savefig(out_path+\"LGP_Equv\"+revname+\".png\",\n",
    "            bbox_inches=\"tight\", dpi=300)\n",
    "plt.show()\n",
    "\n",
    "obj_utilities.saveRaster(mask_path, out_path+'LGP_'+revname+'.tif', lgp)\n",
    "\n",
    "obj_utilities.saveRaster(mask_path, out_path+'LGPEquivalent_'+revname+'.tif', lgp_equv)"
   ]
  },
  {
   "cell_type": "markdown",
   "metadata": {},
   "source": [
    "#### Multi Cropping Zone\n",
    "Multiple cropping zones classification is an additional agro-climatic indicator, which relates to the possibility of cultivating multiple sequential crops under rain-fed and irrigated conditions.\n"
   ]
  },
  {
   "cell_type": "code",
   "execution_count": null,
   "metadata": {},
   "outputs": [],
   "source": [
    "multi_crop = clim_reg.getMultiCroppingZones(tclimate, lgp, lgpt5, lgpt10, tsum0, tsum10)\n",
    "multi_crop_rainfed = multi_crop[0]  # for rainfed conditions\n",
    "multi_crop_irr = multi_crop[1]  # for irrigated conditions"
   ]
  },
  {
   "cell_type": "code",
   "execution_count": null,
   "metadata": {},
   "outputs": [],
   "source": [
    "'''save and visualize result'''\n",
    "\n",
    "plt.imshow(multi_crop_irr, cmap=plt.get_cmap('gist_ncar_r', 9), vmin=-0.2, vmax=8.4,interpolation='none')\n",
    "plt.title('Multi Cropping Zone - IRR')\n",
    "plt.colorbar()\n",
    "plt.savefig(out_path+\"multicrop_irr_\"+revname+\".png\", bbox_inches=\"tight\", dpi=300)\n",
    "plt.show()\n",
    "obj_utilities.saveRaster(\n",
    "    mask_path, out_path+'multicrop_irr_'+revname+'.tif', multi_crop_irr)\n",
    "\n",
    "\n",
    "plt.imshow(multi_crop_rainfed,cmap=plt.get_cmap('gist_ncar_r', 9), vmin=-0.2, vmax=8.4,interpolation='none')\n",
    "plt.title('Multi Cropping Zone - RAINFED')\n",
    "plt.colorbar()\n",
    "plt.savefig(out_path+\"multicrop_rain_\"+revname+\".png\",bbox_inches=\"tight\", dpi=300)\n",
    "plt.show()\n",
    "obj_utilities.saveRaster(\n",
    "    mask_path, out_path+'multicrop_rain_'+revname+'.tif', multi_crop_rainfed)\n"
   ]
  },
  {
   "cell_type": "markdown",
   "metadata": {},
   "source": [
    "### Air Frost Index and Permafrost Evaluation\n",
    "Occurrence of continuous or discontinuous permafrost conditions are used in the suitability assessment. Permafrost areas are characterized by sub-soil at or below the freezing point for two or more years. In this section, PyAEZ utilizes the air frost index (FI) which is used to characterize climate-derived permafrost condition into 4 classes: \n",
    "1) Continuous permafrost\n",
    "2) Discontinuous permafrost \n",
    "3) Sporadic permafrost\n",
    "4) No permafrost"
   ]
  },
  {
   "cell_type": "code",
   "execution_count": null,
   "metadata": {},
   "outputs": [],
   "source": [
    "permafrost_eval = clim_reg.AirFrostIndexandPermafrostEvaluation()\n",
    "frost_index = permafrost_eval[0]\n",
    "permafrost = permafrost_eval[1]"
   ]
  },
  {
   "cell_type": "code",
   "execution_count": null,
   "metadata": {},
   "outputs": [],
   "source": [
    "'''save and visualize result'''\n",
    "\n",
    "plt.imshow(frost_index, cmap=plt.get_cmap(\n",
    "    'tab20b', 11), vmin=-0.05, vmax=1.05,interpolation='none')\n",
    "plt.title('Frost Index')\n",
    "plt.colorbar()\n",
    "plt.savefig(out_path+\"frost_index_\"+revname+\".png\",\n",
    "            bbox_inches=\"tight\", dpi=300)\n",
    "plt.show()\n",
    "obj_utilities.saveRaster(\n",
    "    mask_path, out_path+'frost_index_'+revname+'.tif', frost_index)\n",
    "\n",
    "\n",
    "\n",
    "plt.imshow(permafrost, cmap=plt.get_cmap(\n",
    "    'tab20b', 5), vmin=-0.5, vmax=4.3,interpolation='none')\n",
    "plt.title('Permafrost Evaluation')\n",
    "plt.colorbar()\n",
    "plt.savefig(out_path+\"permafrost_\"+revname+\".png\",\n",
    "            bbox_inches=\"tight\", dpi=300)\n",
    "plt.show()\n",
    "obj_utilities.saveRaster(\n",
    "    mask_path, out_path+'permafrost_'+revname+'.tif', permafrost)\n"
   ]
  },
  {
   "cell_type": "markdown",
   "metadata": {},
   "source": [
    "### Fallow period requirement\n",
    "Fallow is an agricultural technique that consists of not sowing the arable land during one or more growing seasons. In AEZ framework, the fallow factors have been established by main crop groups and environmental conditions. The crop groups include cereals, legumes, roots and tubers, and a miscellaneous group consisting of long-term annuals/perennials. The fallow factors are expressed as percentage of time during the fallow-cropping cycle the land must be under fallow. PyAEZ determines the fallow requirements using Thermal Zones.\n"
   ]
  },
  {
   "cell_type": "code",
   "execution_count": null,
   "metadata": {},
   "outputs": [],
   "source": [
    "tzone_fallow = clim_reg.TZoneFallowRequirement(tzone)\n"
   ]
  },
  {
   "cell_type": "code",
   "execution_count": null,
   "metadata": {},
   "outputs": [],
   "source": [
    "'''save and visualize result'''\n",
    "fig = plt.figure()\n",
    "plt.imshow(tzone_fallow, cmap=plt.get_cmap('tab10', 7), vmin=-0.5, vmax=6.3,interpolation='none')\n",
    "plt.title('Fallow Requirement')\n",
    "plt.colorbar()\n",
    "plt.savefig(out_path+\"fallow_\"+revname+\".png\",\n",
    "            bbox_inches=\"tight\", dpi=300)\n",
    "plt.show()\n",
    "obj_utilities.saveRaster(\n",
    "    mask_path, out_path+'fallow_'+revname+'.tif', tzone_fallow)\n"
   ]
  },
  {
   "cell_type": "markdown",
   "metadata": {},
   "source": [
    "### Agro-ecological zones classification\n",
    "The agro-ecological zones (AEZ) methodology provides a framework for establishing a spatial inventory of land resources compiled from global/national environmental data sets and assembled to quantify multiple spatial characteristics required for the assessments of land productivity under location-specific agro-ecological conditions.\n"
   ]
  },
  {
   "cell_type": "code",
   "execution_count": null,
   "metadata": {},
   "outputs": [],
   "source": [
    "\n",
    "aez = clim_reg.AEZClassification(\n",
    "    tclimate, lgp, lgp_equv, lgpt5, soil_terrain_lulc, permafrost)\n",
    "\n",
    "# now visualizing result\n",
    "fig = plt.figure()\n",
    "plt.imshow(aez, cmap=plt.get_cmap('rainbow', 59), vmin=0, vmax=59,interpolation='none')\n",
    "plt.title('Agro-ecological Zonation')\n",
    "plt.colorbar()\n",
    "plt.savefig(out_path+\"aez_\"+revname+\".png\",\n",
    "            bbox_inches=\"tight\", dpi=300)\n",
    "plt.show()\n",
    "obj_utilities.saveRaster(\n",
    "    mask_path, out_path+'aez_'+revname+'.tif', aez)\n"
   ]
  },
  {
   "cell_type": "markdown",
   "metadata": {},
   "source": [
    "<hr>\n",
    "\n",
    "### END OF MODULE 1: CLIMATE REGIME\n",
    "\n",
    "<hr>"
   ]
  },
  {
   "cell_type": "code",
   "execution_count": null,
   "metadata": {},
   "outputs": [],
   "source": []
  }
 ],
 "metadata": {
  "kernelspec": {
   "display_name": "env_pyaez",
   "language": "python",
   "name": "env_pyaez"
  },
  "language_info": {
   "codemirror_mode": {
    "name": "ipython",
    "version": 3
   },
   "file_extension": ".py",
   "mimetype": "text/x-python",
   "name": "python",
   "nbconvert_exporter": "python",
   "pygments_lexer": "ipython3",
   "version": "3.11.3"
  },
  "vscode": {
   "interpreter": {
    "hash": "d4f97d95805a7a825b9816fa3bd8721f5dae634a4a3764dddcefffcd0bb64536"
   }
  }
 },
 "nbformat": 4,
 "nbformat_minor": 2
}
