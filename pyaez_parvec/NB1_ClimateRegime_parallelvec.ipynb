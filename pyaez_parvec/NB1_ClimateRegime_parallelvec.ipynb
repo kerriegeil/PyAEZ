{
 "cells": [
  {
   "cell_type": "markdown",
   "metadata": {},
   "source": [
    "# Notebook I - Climate Regime\n",
    "<hr>\n",
    "This module performs climate data analysis and compiling general agro-climatic indicators. These general agro-climatic indicators summarize climatic profiles in the study area for each grid. The key input data for this module is the climatic data, and the geographical and terrain data.\n",
    "\n",
    "Prepared by Geoinformatics Center, AIT\n",
    "<hr>\n"
   ]
  },
  {
   "cell_type": "markdown",
   "metadata": {},
   "source": [
    "Then, installing any additional python packages that required to run PyAEZ.\n",
    "If working on your own PC/machine, these additional installation will vary depending on what is already installed in your Python library. "
   ]
  },
  {
   "cell_type": "code",
   "execution_count": null,
   "metadata": {},
   "outputs": [],
   "source": [
    "# 'Installing neccessary packages'\n",
    "# !pip install gdal\n",
    "# # !pip install pyaez==2.0.0\n",
    "# additional packages used now: dask, rioxarray, xarray, netcdcf4"
   ]
  },
  {
   "cell_type": "markdown",
   "metadata": {},
   "source": [
    "Now, we will import the specific Python packages we need for PyAEZ."
   ]
  },
  {
   "cell_type": "code",
   "execution_count": 1,
   "metadata": {},
   "outputs": [],
   "source": [
    "'''import supporting libraries'''\n",
    "import numpy as np\n",
    "import matplotlib.pyplot as plt\n",
    "import os\n",
    "# try:\n",
    "#     from osgeo import gdal\n",
    "# except:\n",
    "#     import gdal\n",
    "import sys\n",
    "from time import time as timer\n",
    "\n",
    "import dask.array as da\n",
    "import dask\n",
    "\n",
    "# because I saved our data in nc files\n",
    "import xarray as xr"
   ]
  },
  {
   "cell_type": "markdown",
   "metadata": {},
   "source": [
    "Setting the working directory -- where our PyAEZ project is located."
   ]
  },
  {
   "cell_type": "code",
   "execution_count": 2,
   "metadata": {},
   "outputs": [],
   "source": [
    "########################################################\n",
    "### CHANGE THESE VALUES HERE FOR YOUR PERSONAL SETUP ###\n",
    "########################################################\n",
    "\n",
    "# branch version tag\n",
    "revname='parallelvec'\n",
    "\n",
    "# 'Set the working directory'\n",
    "\n",
    "# HPC Orion\n",
    "# Replace with path to your PyAEZ folder under your username\n",
    "work_dir = '/work/hpc/users/kerrie/UN_FAO/repos/PyAEZ/'\n",
    "\n",
    "# Replace with whatever location you want to output data under your username\n",
    "out_path = '/work/hpc/users/kerrie/UN_FAO/pyaez_results/global_1980/'+revname+'/' \n",
    "\n",
    "# these are the same for everyone on HPC Orion\n",
    "# data_dir = '/work/hpc/datasets/un_fao/pyaez/global_1980/daily/netcdf/'\n",
    "data_dir = '/work/hpc/datasets/un_fao/pyaez/global_1980/daily/npy/'\n",
    "maskfile = '/work/hpc/datasets/un_fao/pyaez/static/netcdf/mask_2268708_5m.nc'\n",
    "elevfile = '/work/hpc/datasets/un_fao/pyaez/static/netcdf/Elevation_2268708_5m.nc'\n",
    "\n",
    "\n",
    "# # kerrie SSC desktop\n",
    "# work_dir = 'K://projects/rgmg/climate/UN_FAO/repo_pyAEZ_kerrie/PyAEZ/'\n",
    "# data_dir = 'C://Users/kerrie.WIN/Documents/data/pyAEZ_data_inputs_china_03272023/'\n",
    "# out_path = work_dir+'kerrie/data_output/NB1/' \n",
    "\n",
    "# # kerrie laptop\n",
    "# work_dir = 'C://Users/kerrie/Documents/01_LocalCode/repos/PyAEZ/' \n",
    "# data_dir = 'C://Users/kerrie/Documents/02_LocalData/pyAEZ_input_data/china/'\n",
    "# out_path = work_dir+'kerrie/data_output/NB1/' \n",
    "\n",
    "########################################################\n",
    "########################################################\n",
    "########################################################"
   ]
  },
  {
   "cell_type": "code",
   "execution_count": 3,
   "metadata": {},
   "outputs": [],
   "source": [
    "# add pyaez model to system path\n",
    "# sys.path.append(work_dir+'pyaez/') \n",
    "\n",
    "# Check whether the specified path exists or not\n",
    "isExist = os.path.exists(out_path)\n",
    "if not isExist:\n",
    "   # Create a new directory because it does not exist\n",
    "   os.makedirs(out_path)\n",
    "   print(\"The new directory is created!\")"
   ]
  },
  {
   "cell_type": "markdown",
   "metadata": {},
   "source": [
    "<hr>\n",
    "\n",
    "## MODULE 1: CLIMATE REGIME\n",
    "Now, we will start executing the routines in Module 1\n",
    "\n",
    "\n",
    "First, we initiate Module 1 Class instance by invoking the following commands:"
   ]
  },
  {
   "cell_type": "code",
   "execution_count": 4,
   "metadata": {},
   "outputs": [],
   "source": [
    "# # Import Module 1 and initate Class intance\n",
    "# from pyaez import ClimateRegime\n",
    "# classdata = ClimateRegime.ClimateRegime()\n",
    "\n",
    "# # Importing UtilitiesCalc\n",
    "# from pyaez import UtilitiesCalc\n",
    "# obj_utilities = UtilitiesCalc.UtilitiesCalc()\n",
    "\n",
    "import ClimateRegime_parvec as ClimateRegime\n",
    "clim_reg = ClimateRegime.ClimateRegime()\n",
    "\n",
    "import UtilitiesCalc_parvec as UtilitiesCalc\n",
    "obj_utilities=UtilitiesCalc.UtilitiesCalc()"
   ]
  },
  {
   "cell_type": "markdown",
   "metadata": {},
   "source": [
    "### Importing the climate dataset and the geographical data/rasters.\n",
    "\n",
    "The package expects six climate variables, as daily or monthly observations, as Numpy arrays.\n",
    "Arrays must be 3-dimensional, with the third axes containing the time dimension.\n",
    "Unit of measures are expected as follows:\n",
    "- Minimum temperature = Degree Celsius\n",
    "- Maximum temperature = Degree Celsius\n",
    "- Precipitation = Accumulated mm / day (or per month)\n",
    "- Solar radiation = W/m$^2$\n",
    "- Wind speed = Average m/s\n",
    "- Relative humidity = Average fraction (0 to 1)\n",
    "\n",
    "In addition to climate data, the system requires:\n",
    "- A binary admin_mask, with 0 and 1 values. 0 pixels values will be not executed, while 1 pixels values will be executed\n",
    "- An elevation layer\n",
    "- Soil/terrain/special land cover classes\n",
    "  \n",
    "\n",
    "**All the datasets must have the same shape.**"
   ]
  },
  {
   "cell_type": "code",
   "execution_count": 5,
   "metadata": {},
   "outputs": [
    {
     "data": {
      "text/html": [
       "<table>\n",
       "    <tr>\n",
       "        <td>\n",
       "            <table style=\"border-collapse: collapse;\">\n",
       "                <thead>\n",
       "                    <tr>\n",
       "                        <td> </td>\n",
       "                        <th> Array </th>\n",
       "                        <th> Chunk </th>\n",
       "                    </tr>\n",
       "                </thead>\n",
       "                <tbody>\n",
       "                    \n",
       "                    <tr>\n",
       "                        <th> Bytes </th>\n",
       "                        <td> 12.72 GiB </td>\n",
       "                        <td> 283.48 MiB </td>\n",
       "                    </tr>\n",
       "                    \n",
       "                    <tr>\n",
       "                        <th> Shape </th>\n",
       "                        <td> (2160, 4320, 366) </td>\n",
       "                        <td> (2160, 94, 366) </td>\n",
       "                    </tr>\n",
       "                    <tr>\n",
       "                        <th> Dask graph </th>\n",
       "                        <td colspan=\"2\"> 46 chunks in 2 graph layers </td>\n",
       "                    </tr>\n",
       "                    <tr>\n",
       "                        <th> Data type </th>\n",
       "                        <td colspan=\"2\"> float32 numpy.ndarray </td>\n",
       "                    </tr>\n",
       "                </tbody>\n",
       "            </table>\n",
       "        </td>\n",
       "        <td>\n",
       "        <svg width=\"132\" height=\"205\" style=\"stroke:rgb(0,0,0);stroke-width:1\" >\n",
       "\n",
       "  <!-- Horizontal lines -->\n",
       "  <line x1=\"10\" y1=\"0\" x2=\"45\" y2=\"35\" style=\"stroke-width:2\" />\n",
       "  <line x1=\"10\" y1=\"5\" x2=\"45\" y2=\"40\" />\n",
       "  <line x1=\"10\" y1=\"10\" x2=\"45\" y2=\"45\" />\n",
       "  <line x1=\"10\" y1=\"18\" x2=\"45\" y2=\"53\" />\n",
       "  <line x1=\"10\" y1=\"23\" x2=\"45\" y2=\"58\" />\n",
       "  <line x1=\"10\" y1=\"31\" x2=\"45\" y2=\"66\" />\n",
       "  <line x1=\"10\" y1=\"36\" x2=\"45\" y2=\"71\" />\n",
       "  <line x1=\"10\" y1=\"41\" x2=\"45\" y2=\"77\" />\n",
       "  <line x1=\"10\" y1=\"49\" x2=\"45\" y2=\"84\" />\n",
       "  <line x1=\"10\" y1=\"54\" x2=\"45\" y2=\"90\" />\n",
       "  <line x1=\"10\" y1=\"62\" x2=\"45\" y2=\"97\" />\n",
       "  <line x1=\"10\" y1=\"67\" x2=\"45\" y2=\"103\" />\n",
       "  <line x1=\"10\" y1=\"75\" x2=\"45\" y2=\"111\" />\n",
       "  <line x1=\"10\" y1=\"80\" x2=\"45\" y2=\"116\" />\n",
       "  <line x1=\"10\" y1=\"86\" x2=\"45\" y2=\"121\" />\n",
       "  <line x1=\"10\" y1=\"94\" x2=\"45\" y2=\"129\" />\n",
       "  <line x1=\"10\" y1=\"99\" x2=\"45\" y2=\"134\" />\n",
       "  <line x1=\"10\" y1=\"107\" x2=\"45\" y2=\"142\" />\n",
       "  <line x1=\"10\" y1=\"112\" x2=\"45\" y2=\"147\" />\n",
       "  <line x1=\"10\" y1=\"120\" x2=\"45\" y2=\"155\" style=\"stroke-width:2\" />\n",
       "\n",
       "  <!-- Vertical lines -->\n",
       "  <line x1=\"10\" y1=\"0\" x2=\"10\" y2=\"120\" style=\"stroke-width:2\" />\n",
       "  <line x1=\"45\" y1=\"35\" x2=\"45\" y2=\"155\" style=\"stroke-width:2\" />\n",
       "\n",
       "  <!-- Colored Rectangle -->\n",
       "  <polygon points=\"10.0,0.0 45.294117647058826,35.294117647058826 45.294117647058826,155.29411764705884 10.0,120.0\" style=\"fill:#8B4903A0;stroke-width:0\"/>\n",
       "\n",
       "  <!-- Horizontal lines -->\n",
       "  <line x1=\"10\" y1=\"0\" x2=\"47\" y2=\"0\" style=\"stroke-width:2\" />\n",
       "  <line x1=\"45\" y1=\"35\" x2=\"82\" y2=\"35\" style=\"stroke-width:2\" />\n",
       "\n",
       "  <!-- Vertical lines -->\n",
       "  <line x1=\"10\" y1=\"0\" x2=\"45\" y2=\"35\" style=\"stroke-width:2\" />\n",
       "  <line x1=\"47\" y1=\"0\" x2=\"82\" y2=\"35\" style=\"stroke-width:2\" />\n",
       "\n",
       "  <!-- Colored Rectangle -->\n",
       "  <polygon points=\"10.0,0.0 47.659013927290275,0.0 82.9531315743491,35.294117647058826 45.294117647058826,35.294117647058826\" style=\"fill:#ECB172A0;stroke-width:0\"/>\n",
       "\n",
       "  <!-- Horizontal lines -->\n",
       "  <line x1=\"45\" y1=\"35\" x2=\"82\" y2=\"35\" style=\"stroke-width:2\" />\n",
       "  <line x1=\"45\" y1=\"40\" x2=\"82\" y2=\"40\" />\n",
       "  <line x1=\"45\" y1=\"45\" x2=\"82\" y2=\"45\" />\n",
       "  <line x1=\"45\" y1=\"53\" x2=\"82\" y2=\"53\" />\n",
       "  <line x1=\"45\" y1=\"58\" x2=\"82\" y2=\"58\" />\n",
       "  <line x1=\"45\" y1=\"66\" x2=\"82\" y2=\"66\" />\n",
       "  <line x1=\"45\" y1=\"71\" x2=\"82\" y2=\"71\" />\n",
       "  <line x1=\"45\" y1=\"77\" x2=\"82\" y2=\"77\" />\n",
       "  <line x1=\"45\" y1=\"84\" x2=\"82\" y2=\"84\" />\n",
       "  <line x1=\"45\" y1=\"90\" x2=\"82\" y2=\"90\" />\n",
       "  <line x1=\"45\" y1=\"97\" x2=\"82\" y2=\"97\" />\n",
       "  <line x1=\"45\" y1=\"103\" x2=\"82\" y2=\"103\" />\n",
       "  <line x1=\"45\" y1=\"111\" x2=\"82\" y2=\"111\" />\n",
       "  <line x1=\"45\" y1=\"116\" x2=\"82\" y2=\"116\" />\n",
       "  <line x1=\"45\" y1=\"121\" x2=\"82\" y2=\"121\" />\n",
       "  <line x1=\"45\" y1=\"129\" x2=\"82\" y2=\"129\" />\n",
       "  <line x1=\"45\" y1=\"134\" x2=\"82\" y2=\"134\" />\n",
       "  <line x1=\"45\" y1=\"142\" x2=\"82\" y2=\"142\" />\n",
       "  <line x1=\"45\" y1=\"147\" x2=\"82\" y2=\"147\" />\n",
       "  <line x1=\"45\" y1=\"155\" x2=\"82\" y2=\"155\" style=\"stroke-width:2\" />\n",
       "\n",
       "  <!-- Vertical lines -->\n",
       "  <line x1=\"45\" y1=\"35\" x2=\"45\" y2=\"155\" style=\"stroke-width:2\" />\n",
       "  <line x1=\"82\" y1=\"35\" x2=\"82\" y2=\"155\" style=\"stroke-width:2\" />\n",
       "\n",
       "  <!-- Colored Rectangle -->\n",
       "  <polygon points=\"45.294117647058826,35.294117647058826 82.9531315743491,35.294117647058826 82.9531315743491,155.29411764705884 45.294117647058826,155.29411764705884\" style=\"fill:#8B4903A0;stroke-width:0\"/>\n",
       "\n",
       "  <!-- Text -->\n",
       "  <text x=\"64.123625\" y=\"175.294118\" font-size=\"1.0rem\" font-weight=\"100\" text-anchor=\"middle\" >366</text>\n",
       "  <text x=\"102.953132\" y=\"95.294118\" font-size=\"1.0rem\" font-weight=\"100\" text-anchor=\"middle\" transform=\"rotate(-90,102.953132,95.294118)\">4320</text>\n",
       "  <text x=\"17.647059\" y=\"157.647059\" font-size=\"1.0rem\" font-weight=\"100\" text-anchor=\"middle\" transform=\"rotate(45,17.647059,157.647059)\">2160</text>\n",
       "</svg>\n",
       "        </td>\n",
       "    </tr>\n",
       "</table>"
      ],
      "text/plain": [
       "dask.array<rechunk-merge, shape=(2160, 4320, 366), dtype=float32, chunksize=(2160, 94, 366), chunktype=numpy.ndarray>"
      ]
     },
     "execution_count": 5,
     "metadata": {},
     "output_type": "execute_result"
    }
   ],
   "source": [
    "# Importing the climate data\n",
    "# max_temp = np.load(data_dir+'Tmax-2m/0.npy',mmap_mode=\"r\")  # maximum temperature\n",
    "# min_temp = np.load(data_dir+'Tmin-2m/0.npy',mmap_mode=\"r\")  # minimum temperature\n",
    "# precipitation = np.load(data_dir+'Precip/0.npy',mmap_mode=\"r\")  # precipitation\n",
    "# rel_humidity = np.load(data_dir+'Rhum/0.npy')  # relative humidity\n",
    "# wind_speed = np.load(data_dir+'Wind-2m/0.npy') # wind speed measured at two meters\n",
    "# short_rad = np.load(data_dir+'Srad/0.npy')  # shortwave radiation\n",
    "chunks=(-1,94,-1)\n",
    "max_temp = da.from_npy_stack(data_dir+'Tmax-2m/').rechunk(chunks=chunks)  # maximum temperature\n",
    "min_temp = da.from_npy_stack(data_dir+'Tmin-2m/').rechunk(chunks=chunks)  # minimum temperature\n",
    "precipitation = da.from_npy_stack(data_dir+'Precip/').rechunk(chunks=chunks)  # precipitation\n",
    "rel_humidity = da.from_npy_stack(data_dir+'Rhum/').rechunk(chunks=chunks)  # relative humidity\n",
    "wind_speed = da.from_npy_stack(data_dir+'Wind-2m/').rechunk(chunks=chunks) # wind speed measured at two meters\n",
    "short_rad = da.from_npy_stack(data_dir+'Srad/').rechunk(chunks=chunks)  # shortwave radiation\n",
    "\n",
    "# Load the geographical data/rasters\n",
    "mask=da.from_npy_stack(data_dir+'mask/').rechunk(chunks=(-1,94))\n",
    "elevation=da.from_npy_stack(data_dir+'Elevation/').rechunk(chunks=(-1,94))\n",
    "# soil_terrain_lulc = gdal.Open(r'./data_input/LAO_soil_terrain_lulc.tif').ReadAsArray()\n",
    "\n",
    "# print(min_temp.shape)\n",
    "max_temp"
   ]
  },
  {
   "cell_type": "code",
   "execution_count": null,
   "metadata": {},
   "outputs": [],
   "source": [
    "# ###################################################################\n",
    "# ### USE ABOVE INSTEAD AFTER REWRITING CHINA DATA TO NPY AND TIF ###\n",
    "# ### NETCDF IS JUST TOO SLOW HERE ###\n",
    "# ###################################################################\n",
    "\n",
    "\n",
    "# '''reading climate data'''\n",
    "# # Open the data files\n",
    "# # pyaez needs arrays shaped (ny,nx,nt) and\n",
    "# # also, the spatial reference/geo info should at minimum be \n",
    "# # included in the mask input data \n",
    "# # (i.e. the input mask.nc should have spatial_ref or mask.tif should be geotif)\n",
    "# max_temp = xr.open_dataset(data_dir+'tmax_daily_8110.nc')['tmax'].transpose('lat','lon','doy').data\n",
    "# min_temp = xr.open_dataset(data_dir+'tmin_daily_8110.nc')['tmin'].transpose('lat','lon','doy').data\n",
    "# precipitation = xr.open_dataset(data_dir+'prcp_daily_8110.nc')['prcp'].transpose('lat','lon','doy').data\n",
    "# rel_humidity = xr.open_dataset(data_dir+'relh_daily_8110.nc')['relh'].transpose('lat','lon','doy').data\n",
    "# wind_speed = xr.open_dataset(data_dir+'wspd_daily_8110.nc')['wspd'].transpose('lat','lon','doy').data\n",
    "# short_rad = xr.open_dataset(data_dir+'srad_daily_8110.nc')['srad'].transpose('lat','lon','doy').data\n",
    "\n",
    "# mask=xr.open_dataset(data_dir+'mask.nc')['mask'].data\n",
    "# elevation=xr.open_dataset(data_dir+'elev.nc')['elev'].data\n",
    "\n",
    "# max_temp.shape"
   ]
  },
  {
   "cell_type": "code",
   "execution_count": 6,
   "metadata": {},
   "outputs": [],
   "source": [
    "# Define the Area-Of-Interest's geographical extents\n",
    "\n",
    "# This section contains parameters that can be modified by the user:\n",
    "# - lat_min = minimum latitude of analysis\n",
    "# - lat_max = maximum latitude of analysis\n",
    "# - mask_value = the value in the admin_mask to exclude from the analysis (typically 0)\n",
    "# - daily = whether climate input data are daily (True) or monthly (False)\n",
    "\n",
    "\n",
    "# rebuilding the grid like this results in problems with precision and \n",
    "# slight shifting of all the grids\n",
    "# why not just feed the entire array of latitudes in from the data to avoid this?\n",
    "# lat_min = 18.00000000\n",
    "# lat_max = 53.66666667\n",
    "lats=xr.open_dataset(maskfile)['lat'].data\n",
    "mask_path=maskfile # if using .nc, variable name inside file needs to match the string of letters before first \"_\" in file name\n",
    "mask_value = 0  # pixel value in admin_mask to exclude from the analysis\n",
    "daily = True #Type of climate data = True: daily, False: monthly\n",
    "parallel=True  # True = call the parallel version of the function, False = call the serial version of the function\n",
    "nchunks= 8  # only used if parallel=True\n",
    "    # first try nchunks = the number of threads your computer has (or the number of cores if you don't have threads)\n",
    "    # For example, on a windows machine: go to Settings>About, copy the processor specification e.g. \"Intel(R) Xeon(R) W-2225 CPU\"\n",
    "    # paste into google \n",
    "    # from one of the web results such as CPU-Monkey.com or intel.com find the number of cores/threads \n",
    "    # enter that number on the line below\n",
    "    # nchunks = nthreads will probably be the fastest\n"
   ]
  },
  {
   "cell_type": "markdown",
   "metadata": {},
   "source": [
    "### Loading the imported data into the Object Class ('*classdata*' Class)"
   ]
  },
  {
   "cell_type": "code",
   "execution_count": 7,
   "metadata": {},
   "outputs": [
    {
     "data": {
      "text/plain": [
       "4.839897155761719e-05"
      ]
     },
     "execution_count": 7,
     "metadata": {},
     "output_type": "execute_result"
    }
   ],
   "source": [
    "start=timer()\n",
    "clim_reg.setStudyAreaMask(mask, mask_value)\n",
    "task_time=timer()-start\n",
    "task_time"
   ]
  },
  {
   "cell_type": "code",
   "execution_count": 9,
   "metadata": {},
   "outputs": [
    {
     "data": {
      "text/plain": [
       "0.030798912048339844"
      ]
     },
     "execution_count": 9,
     "metadata": {},
     "output_type": "execute_result"
    }
   ],
   "source": [
    "start=timer()\n",
    "# classdata.setLocationTerrainData(lat_min, lat_max, elevation)\n",
    "clim_reg.setLocationTerrainData(lats, elevation)\n",
    "task_time=timer()-start\n",
    "task_time"
   ]
  },
  {
   "cell_type": "code",
   "execution_count": 10,
   "metadata": {},
   "outputs": [
    {
     "data": {
      "text/html": [
       "<table>\n",
       "    <tr>\n",
       "        <td>\n",
       "            <table style=\"border-collapse: collapse;\">\n",
       "                <thead>\n",
       "                    <tr>\n",
       "                        <td> </td>\n",
       "                        <th> Array </th>\n",
       "                        <th> Chunk </th>\n",
       "                    </tr>\n",
       "                </thead>\n",
       "                <tbody>\n",
       "                    \n",
       "                    <tr>\n",
       "                        <th> Bytes </th>\n",
       "                        <td> 35.60 MiB </td>\n",
       "                        <td> 793.12 kiB </td>\n",
       "                    </tr>\n",
       "                    \n",
       "                    <tr>\n",
       "                        <th> Shape </th>\n",
       "                        <td> (2160, 4320) </td>\n",
       "                        <td> (2160, 94) </td>\n",
       "                    </tr>\n",
       "                    <tr>\n",
       "                        <th> Dask graph </th>\n",
       "                        <td colspan=\"2\"> 46 chunks in 2 graph layers </td>\n",
       "                    </tr>\n",
       "                    <tr>\n",
       "                        <th> Data type </th>\n",
       "                        <td colspan=\"2\"> int32 numpy.ndarray </td>\n",
       "                    </tr>\n",
       "                </tbody>\n",
       "            </table>\n",
       "        </td>\n",
       "        <td>\n",
       "        <svg width=\"170\" height=\"110\" style=\"stroke:rgb(0,0,0);stroke-width:1\" >\n",
       "\n",
       "  <!-- Horizontal lines -->\n",
       "  <line x1=\"0\" y1=\"0\" x2=\"120\" y2=\"0\" style=\"stroke-width:2\" />\n",
       "  <line x1=\"0\" y1=\"60\" x2=\"120\" y2=\"60\" style=\"stroke-width:2\" />\n",
       "\n",
       "  <!-- Vertical lines -->\n",
       "  <line x1=\"0\" y1=\"0\" x2=\"0\" y2=\"60\" style=\"stroke-width:2\" />\n",
       "  <line x1=\"5\" y1=\"0\" x2=\"5\" y2=\"60\" />\n",
       "  <line x1=\"10\" y1=\"0\" x2=\"10\" y2=\"60\" />\n",
       "  <line x1=\"18\" y1=\"0\" x2=\"18\" y2=\"60\" />\n",
       "  <line x1=\"23\" y1=\"0\" x2=\"23\" y2=\"60\" />\n",
       "  <line x1=\"31\" y1=\"0\" x2=\"31\" y2=\"60\" />\n",
       "  <line x1=\"36\" y1=\"0\" x2=\"36\" y2=\"60\" />\n",
       "  <line x1=\"41\" y1=\"0\" x2=\"41\" y2=\"60\" />\n",
       "  <line x1=\"49\" y1=\"0\" x2=\"49\" y2=\"60\" />\n",
       "  <line x1=\"54\" y1=\"0\" x2=\"54\" y2=\"60\" />\n",
       "  <line x1=\"62\" y1=\"0\" x2=\"62\" y2=\"60\" />\n",
       "  <line x1=\"67\" y1=\"0\" x2=\"67\" y2=\"60\" />\n",
       "  <line x1=\"75\" y1=\"0\" x2=\"75\" y2=\"60\" />\n",
       "  <line x1=\"80\" y1=\"0\" x2=\"80\" y2=\"60\" />\n",
       "  <line x1=\"86\" y1=\"0\" x2=\"86\" y2=\"60\" />\n",
       "  <line x1=\"94\" y1=\"0\" x2=\"94\" y2=\"60\" />\n",
       "  <line x1=\"99\" y1=\"0\" x2=\"99\" y2=\"60\" />\n",
       "  <line x1=\"107\" y1=\"0\" x2=\"107\" y2=\"60\" />\n",
       "  <line x1=\"112\" y1=\"0\" x2=\"112\" y2=\"60\" />\n",
       "  <line x1=\"120\" y1=\"0\" x2=\"120\" y2=\"60\" style=\"stroke-width:2\" />\n",
       "\n",
       "  <!-- Colored Rectangle -->\n",
       "  <polygon points=\"0.0,0.0 120.0,0.0 120.0,60.0 0.0,60.0\" style=\"fill:#8B4903A0;stroke-width:0\"/>\n",
       "\n",
       "  <!-- Text -->\n",
       "  <text x=\"60.000000\" y=\"80.000000\" font-size=\"1.0rem\" font-weight=\"100\" text-anchor=\"middle\" >4320</text>\n",
       "  <text x=\"140.000000\" y=\"30.000000\" font-size=\"1.0rem\" font-weight=\"100\" text-anchor=\"middle\" transform=\"rotate(-90,140.000000,30.000000)\">2160</text>\n",
       "</svg>\n",
       "        </td>\n",
       "    </tr>\n",
       "</table>"
      ],
      "text/plain": [
       "dask.array<rechunk-merge, shape=(2160, 4320), dtype=int32, chunksize=(2160, 94), chunktype=numpy.ndarray>"
      ]
     },
     "execution_count": 10,
     "metadata": {},
     "output_type": "execute_result"
    }
   ],
   "source": [
    "clim_reg.im_mask"
   ]
  },
  {
   "cell_type": "code",
   "execution_count": null,
   "metadata": {},
   "outputs": [],
   "source": []
  },
  {
   "cell_type": "code",
   "execution_count": null,
   "metadata": {},
   "outputs": [],
   "source": []
  },
  {
   "cell_type": "code",
   "execution_count": null,
   "metadata": {},
   "outputs": [
    {
     "name": "stderr",
     "output_type": "stream",
     "text": [
      "/work/hpc/users/kerrie/UN_FAO/repos/PyAEZ/pyaez_parvec/ETOCalc_parvec.py:51: RuntimeWarning: invalid value encountered in arccos\n",
      "  sha = np.arccos(-np.tan(lat_rad)*np.tan(sd))\n"
     ]
    }
   ],
   "source": [
    "start=timer()\n",
    "if daily:\n",
    "    clim_reg.setDailyClimateData(\n",
    "        min_temp, max_temp, precipitation, short_rad, wind_speed, rel_humidity)\n",
    "else:\n",
    "    clim_reg.setMonthlyClimateData(\n",
    "        min_temp, max_temp, precipitation, short_rad, wind_speed, rel_humidity)\n",
    "    # clim_reg.setMonthlyClimateData(\n",
    "    #     min_temp.sel(time=slice(1,12)), max_temp.sel(time=slice(1,12)), \\\n",
    "    #     precipitation.sel(time=slice(1,12)), short_rad.sel(time=slice(1,12)), \\\n",
    "    #     wind_speed.sel(time=slice(1,12)), rel_humidity.sel(time=slice(1,12)))        \n",
    "task_time=timer()-start\n",
    "task_time  "
   ]
  },
  {
   "cell_type": "code",
   "execution_count": null,
   "metadata": {},
   "outputs": [],
   "source": [
    "'Releasing the memory of input climate data -- free up some RAM space'\n",
    "del(min_temp, max_temp, precipitation, short_rad, wind_speed, rel_humidity)"
   ]
  },
  {
   "cell_type": "markdown",
   "metadata": {},
   "source": [
    "NOTE: After loading the data into the *clim_reg* Class, all the parameters will be converted to DAILY DATA and calculated as other parameters. \n",
    "These new parameters are available and can be called into use as:\n",
    "- *clim_reg.minT_daily* (minimum temperature)\n",
    "- *clim_reg.maxT_daily* (maximum temperature)\n",
    "- *clim_reg.meanT_daily* (mean temperature)\n",
    "- *clim_reg.meanT_daily_sealevel* (mean temperature, corrected to sea-level)\n",
    "- *clim_reg.totalPrec_daily* (total precipitation)\n",
    "- *clim_reg.pet_daily* (reference evapotranspiration, ETo)\n",
    "- *clim_reg.P_by_PET_daily* (ratio of precipitation over ETo)\n",
    "  \n"
   ]
  },
  {
   "cell_type": "code",
   "execution_count": null,
   "metadata": {},
   "outputs": [],
   "source": [
    "clim_reg.__dict__.keys()\n"
   ]
  },
  {
   "cell_type": "markdown",
   "metadata": {},
   "source": [
    "#### Thermal Climate\n",
    "The Thermal Climate function calculates and classifies latitudinal thermal climate, which will be used later in Module 2 for the assessment of potential crops and land utilization types (LUT) presence in each grid cell."
   ]
  },
  {
   "cell_type": "code",
   "execution_count": null,
   "metadata": {},
   "outputs": [],
   "source": [
    "tclimate = clim_reg.getThermalClimate()"
   ]
  },
  {
   "cell_type": "code",
   "execution_count": null,
   "metadata": {},
   "outputs": [],
   "source": [
    "\n",
    "'''save and visualize result'''\n",
    "fig = plt.figure()\n",
    "plt.imshow(tclimate, cmap=plt.get_cmap('gist_ncar_r', 12),vmin=-0.3,vmax=12.5,interpolation='none')\n",
    "plt.title('Thermal Climate')\n",
    "plt.colorbar()\n",
    "plt.savefig(out_path+\"ThermalClimate.png\",bbox_inches =\"tight\",dpi=300) #Save as PNG image\n",
    "plt.show()\n",
    "\n",
    "obj_utilities.saveRaster(mask_path, out_path+'ThermalClimate_'+revname+'.tif',tclimate) #Save as GeoTIFF raster"
   ]
  },
  {
   "cell_type": "markdown",
   "metadata": {},
   "source": [
    "#### Thermal Zone\n",
    "The thermal zone is classified based on actual temperature which reflects on the temperature regimes of major thermal climates"
   ]
  },
  {
   "cell_type": "markdown",
   "metadata": {},
   "source": []
  },
  {
   "cell_type": "code",
   "execution_count": null,
   "metadata": {},
   "outputs": [],
   "source": [
    "tzone = clim_reg.getThermalZone()"
   ]
  },
  {
   "cell_type": "code",
   "execution_count": null,
   "metadata": {},
   "outputs": [],
   "source": [
    "\n",
    "'''save and visualize result'''\n",
    "fig = plt.figure()\n",
    "plt.imshow(tzone, cmap=plt.get_cmap('gist_ncar_r', 12),vmin=-0.3,vmax=12.5,interpolation='none')\n",
    "plt.title('Thermal Zones')\n",
    "plt.colorbar()\n",
    "plt.savefig(out_path+\"ThermalZone.png\",bbox_inches =\"tight\",dpi=300) #Save as PNG image\n",
    "plt.show()\n",
    "\n",
    "obj_utilities.saveRaster(mask_path, out_path+'ThermalZone_'+revname+'.tif',tzone) #Save as GeoTIFF raster\n"
   ]
  },
  {
   "cell_type": "markdown",
   "metadata": {},
   "source": [
    "#### Thermal Length of Growing Period (LGP)\n",
    "The thermal length of growing period (LGPt) is defined as the number of days in a year during which the daily mean temperature (Ta) is conductive to crop growth and development. PyAEZ utilizes the AEZ three standard temperature thresholds for LGPt:\n",
    "- Periods with Ta>0°C (LGPt0)\n",
    "- Periods with Ta>5°C (LGPt5) – the period conductive to plant growth and development\n",
    "- Periods, and Ta>10°C (LGPt10) – a proxy for the period of low risks for late and early frost occurrences and termed ‘frost-free period’"
   ]
  },
  {
   "cell_type": "code",
   "execution_count": null,
   "metadata": {},
   "outputs": [],
   "source": [
    "# 3 separate calls means three times as much compute time\n",
    "# can these be combined, one call outputs all 3\n",
    "lgpt0 = clim_reg.getThermalLGP0()\n",
    "lgpt5 = clim_reg.getThermalLGP5()\n",
    "lgpt10 = clim_reg.getThermalLGP10()"
   ]
  },
  {
   "cell_type": "code",
   "execution_count": null,
   "metadata": {},
   "outputs": [],
   "source": [
    "'''save and visualize result'''\n",
    "#======================\n",
    "plt.figure(1, figsize=(24, 8))\n",
    "plt.subplot(1, 3, 1)\n",
    "plt.imshow(lgpt0,vmin=0,vmax=366,interpolation='none')\n",
    "plt.title('LGPt 0')\n",
    "plt.colorbar(shrink=0.8)\n",
    "#----------------------\n",
    "plt.subplot(1, 3, 2)\n",
    "plt.imshow(lgpt5, vmin=0, vmax=366,interpolation='none')\n",
    "plt.title('LGPt 5')\n",
    "plt.colorbar(shrink=0.8)\n",
    "#----------------------\n",
    "plt.subplot(1, 3, 3)\n",
    "plt.imshow(lgpt10, vmin=0, vmax=366,interpolation='none')\n",
    "plt.title('LGPt 10')\n",
    "plt.colorbar(shrink=0.8)\n",
    "#----------------------\n",
    "plt.savefig(out_path+\"ThermalLGPs_\"+revname+\".png\",\n",
    "            bbox_inches=\"tight\", dpi=300)\n",
    "plt.show()\n",
    "#======================\n",
    "\n",
    "obj_utilities.saveRaster(mask_path, out_path+'LGPt0_'+revname+'.tif', lgpt0)\n",
    "obj_utilities.saveRaster(mask_path, out_path+'LGPt5_'+revname+'.tif', lgpt5)\n",
    "obj_utilities.saveRaster(mask_path, out_path+'LGPt10_'+revname+'.tif', lgpt10)\n"
   ]
  },
  {
   "cell_type": "markdown",
   "metadata": {},
   "source": [
    "#### Temperature Sum"
   ]
  },
  {
   "cell_type": "code",
   "execution_count": null,
   "metadata": {},
   "outputs": [],
   "source": [
    "tsum0 = clim_reg.getTemperatureSum0()\n",
    "tsum5 = clim_reg.getTemperatureSum5()\n",
    "tsum10 = clim_reg.getTemperatureSum10()"
   ]
  },
  {
   "cell_type": "code",
   "execution_count": null,
   "metadata": {},
   "outputs": [],
   "source": [
    "'''save and visualize result'''\n",
    "#======================\n",
    "plt.figure(1, figsize=(24, 8))\n",
    "plt.subplot(1, 3, 1)\n",
    "plt.imshow(tsum0, cmap='hot_r', vmin=0, vmax=11000,interpolation='none')\n",
    "plt.title('T-sumation 0')\n",
    "plt.colorbar(shrink=0.8)\n",
    "#----------------------\n",
    "plt.subplot(1, 3, 2)\n",
    "plt.imshow(tsum5, cmap='hot_r', vmin=0, vmax=11000,interpolation='none')\n",
    "plt.title('T-sumation 5')\n",
    "plt.colorbar(shrink=0.8)\n",
    "#----------------------\n",
    "plt.subplot(1, 3, 3)\n",
    "plt.imshow(tsum10, cmap='hot_r', vmin=0, vmax=11000,interpolation='none')\n",
    "plt.title('T-sumation 10')\n",
    "plt.colorbar(shrink=0.8)\n",
    "#----------------------\n",
    "plt.savefig(out_path+\"Tsum_\"+revname+\".png\",\n",
    "            bbox_inches=\"tight\", dpi=300)\n",
    "plt.show()\n",
    "#======================\n",
    "\n",
    "obj_utilities.saveRaster(mask_path, out_path+'tsum0_'+revname+'.tif', tsum0)\n",
    "obj_utilities.saveRaster(mask_path, out_path+'tsum5_'+revname+'.tif', tsum5)\n",
    "obj_utilities.saveRaster(mask_path, out_path+'tsum10_'+revname+'.tif', tsum10)\n"
   ]
  },
  {
   "cell_type": "markdown",
   "metadata": {},
   "source": [
    "#### Temperature Profile"
   ]
  },
  {
   "cell_type": "code",
   "execution_count": null,
   "metadata": {},
   "outputs": [],
   "source": [
    "tprofile = clim_reg.getTemperatureProfile()"
   ]
  },
  {
   "cell_type": "code",
   "execution_count": null,
   "metadata": {},
   "outputs": [],
   "source": [
    "tile_list = ['A1','A2','A3','A4','A5','A6','A7','A8','A9', \\\n",
    "            'B1', 'B2', 'B3', 'B4', 'B5', 'B6', 'B7', 'B8', 'B9']\n",
    "\n",
    "'''save and visualize result'''\n",
    "\n",
    "fig = plt.figure(figsize=(12, 20))\n",
    "for i,profile in enumerate(tprofile):\n",
    "    plt.subplot(6, 3, i+1)\n",
    "    plt.imshow(profile,interpolation='none')\n",
    "    plt.title(tile_list[i])\n",
    "    plt.colorbar(shrink=0.9)\n",
    "plt.tight_layout()\n",
    "\n",
    "plt.savefig(out_path+\"Tprofiles_\"+revname+\".png\",\n",
    "            bbox_inches=\"tight\", dpi=300)\n",
    "plt.show()\n",
    "\n",
    "# for i1 in range(ntiles+1):\n",
    "for tile,profile in zip(tile_list,tprofile):\n",
    "    obj_utilities.saveRaster(\n",
    "        mask_path, out_path+'TProfile_' + tile + '_'+revname+'.tif', profile)\n",
    "    "
   ]
  },
  {
   "cell_type": "markdown",
   "metadata": {},
   "source": [
    "#### Length of Growing Periods (LGPs)"
   ]
  },
  {
   "cell_type": "code",
   "execution_count": null,
   "metadata": {},
   "outputs": [],
   "source": [
    "if parallel:\n",
    "    lgp=clim_reg.getLGP_parallel(nchunks=nchunks)    \n",
    "else:\n",
    "    lgp = clim_reg.getLGP( Sa = 100 )"
   ]
  },
  {
   "cell_type": "code",
   "execution_count": null,
   "metadata": {},
   "outputs": [],
   "source": [
    "lgp_class = clim_reg.getLGPClassified(lgp)\n",
    "lgp_equv = clim_reg.getLGPEquivalent()"
   ]
  },
  {
   "cell_type": "code",
   "execution_count": null,
   "metadata": {},
   "outputs": [],
   "source": [
    "'''save and visualize result'''\n",
    "\n",
    "plt.imshow(lgp, cmap='viridis', vmin=0, vmax=366,interpolation='none')\n",
    "plt.title('LPG [days]')\n",
    "plt.colorbar()\n",
    "plt.savefig(out_path+\"LGP_\"+revname+\".png\", bbox_inches=\"tight\", dpi=300)\n",
    "plt.show()\n",
    "\n",
    "\n",
    "plt.imshow(lgp_equv, cmap='viridis', vmin=0, vmax=366,interpolation='none')\n",
    "plt.title('LPG Equivalent [days]')\n",
    "plt.colorbar()\n",
    "plt.savefig(out_path+\"LGP_Equv\"+revname+\".png\",\n",
    "            bbox_inches=\"tight\", dpi=300)\n",
    "plt.show()\n",
    "\n",
    "obj_utilities.saveRaster(mask_path, out_path+'LGP_'+revname+'.tif', lgp)\n",
    "\n",
    "obj_utilities.saveRaster(mask_path, out_path+'LGPEquivalent_'+revname+'.tif', lgp_equv)"
   ]
  },
  {
   "cell_type": "markdown",
   "metadata": {},
   "source": [
    "#### Multi Cropping Zone\n",
    "Multiple cropping zones classification is an additional agro-climatic indicator, which relates to the possibility of cultivating multiple sequential crops under rain-fed and irrigated conditions.\n"
   ]
  },
  {
   "cell_type": "code",
   "execution_count": null,
   "metadata": {},
   "outputs": [],
   "source": [
    "multi_crop = clim_reg.getMultiCroppingZones(tclimate, lgp, lgpt5, lgpt10, tsum0, tsum10)\n",
    "multi_crop_rainfed = multi_crop[0]  # for rainfed conditions\n",
    "multi_crop_irr = multi_crop[1]  # for irrigated conditions"
   ]
  },
  {
   "cell_type": "code",
   "execution_count": null,
   "metadata": {},
   "outputs": [],
   "source": [
    "'''save and visualize result'''\n",
    "\n",
    "plt.imshow(multi_crop_irr, cmap=plt.get_cmap('gist_ncar_r', 9), vmin=-0.2, vmax=8.4,interpolation='none')\n",
    "plt.title('Multi Cropping Zone - IRR')\n",
    "plt.colorbar()\n",
    "plt.savefig(out_path+\"multicrop_irr_\"+revname+\".png\", bbox_inches=\"tight\", dpi=300)\n",
    "plt.show()\n",
    "obj_utilities.saveRaster(\n",
    "    mask_path, out_path+'multicrop_irr_'+revname+'.tif', multi_crop_irr)\n",
    "\n",
    "\n",
    "plt.imshow(multi_crop_rainfed,cmap=plt.get_cmap('gist_ncar_r', 9), vmin=-0.2, vmax=8.4,interpolation='none')\n",
    "plt.title('Multi Cropping Zone - RAINFED')\n",
    "plt.colorbar()\n",
    "plt.savefig(out_path+\"multicrop_rain_\"+revname+\".png\",bbox_inches=\"tight\", dpi=300)\n",
    "plt.show()\n",
    "obj_utilities.saveRaster(\n",
    "    mask_path, out_path+'multicrop_rain_'+revname+'.tif', multi_crop_rainfed)\n"
   ]
  },
  {
   "cell_type": "markdown",
   "metadata": {},
   "source": [
    "### Air Frost Index and Permafrost Evaluation\n",
    "Occurrence of continuous or discontinuous permafrost conditions are used in the suitability assessment. Permafrost areas are characterized by sub-soil at or below the freezing point for two or more years. In this section, PyAEZ utilizes the air frost index (FI) which is used to characterize climate-derived permafrost condition into 4 classes: \n",
    "1) Continuous permafrost\n",
    "2) Discontinuous permafrost \n",
    "3) Sporadic permafrost\n",
    "4) No permafrost"
   ]
  },
  {
   "cell_type": "code",
   "execution_count": null,
   "metadata": {},
   "outputs": [],
   "source": [
    "permafrost_eval = clim_reg.AirFrostIndexandPermafrostEvaluation()\n",
    "frost_index = permafrost_eval[0]\n",
    "permafrost = permafrost_eval[1]"
   ]
  },
  {
   "cell_type": "code",
   "execution_count": null,
   "metadata": {},
   "outputs": [],
   "source": [
    "'''save and visualize result'''\n",
    "\n",
    "plt.imshow(frost_index, cmap=plt.get_cmap(\n",
    "    'tab20b', 11), vmin=-0.05, vmax=1.05,interpolation='none')\n",
    "plt.title('Frost Index')\n",
    "plt.colorbar()\n",
    "plt.savefig(out_path+\"frost_index_\"+revname+\".png\",\n",
    "            bbox_inches=\"tight\", dpi=300)\n",
    "plt.show()\n",
    "obj_utilities.saveRaster(\n",
    "    mask_path, out_path+'frost_index_'+revname+'.tif', frost_index)\n",
    "\n",
    "\n",
    "\n",
    "plt.imshow(permafrost, cmap=plt.get_cmap(\n",
    "    'tab20b', 5), vmin=-0.5, vmax=4.3,interpolation='none')\n",
    "plt.title('Permafrost Evaluation')\n",
    "plt.colorbar()\n",
    "plt.savefig(out_path+\"permafrost_\"+revname+\".png\",\n",
    "            bbox_inches=\"tight\", dpi=300)\n",
    "plt.show()\n",
    "obj_utilities.saveRaster(\n",
    "    mask_path, out_path+'permafrost_'+revname+'.tif', permafrost)\n"
   ]
  },
  {
   "cell_type": "markdown",
   "metadata": {},
   "source": [
    "### Fallow period requirement\n",
    "Fallow is an agricultural technique that consists of not sowing the arable land during one or more growing seasons. In AEZ framework, the fallow factors have been established by main crop groups and environmental conditions. The crop groups include cereals, legumes, roots and tubers, and a miscellaneous group consisting of long-term annuals/perennials. The fallow factors are expressed as percentage of time during the fallow-cropping cycle the land must be under fallow. PyAEZ determines the fallow requirements using Thermal Zones.\n"
   ]
  },
  {
   "cell_type": "code",
   "execution_count": null,
   "metadata": {},
   "outputs": [],
   "source": [
    "tzone_fallow = clim_reg.TZoneFallowRequirement(tzone)\n"
   ]
  },
  {
   "cell_type": "code",
   "execution_count": null,
   "metadata": {},
   "outputs": [],
   "source": [
    "'''save and visualize result'''\n",
    "fig = plt.figure()\n",
    "plt.imshow(tzone_fallow, cmap=plt.get_cmap('tab10', 7), vmin=-0.5, vmax=6.3,interpolation='none')\n",
    "plt.title('Fallow Requirement')\n",
    "plt.colorbar()\n",
    "plt.savefig(out_path+\"fallow_\"+revname+\".png\",\n",
    "            bbox_inches=\"tight\", dpi=300)\n",
    "plt.show()\n",
    "obj_utilities.saveRaster(\n",
    "    mask_path, out_path+'fallow_'+revname+'.tif', tzone_fallow)\n"
   ]
  },
  {
   "cell_type": "markdown",
   "metadata": {},
   "source": [
    "### Agro-ecological zones classification\n",
    "The agro-ecological zones (AEZ) methodology provides a framework for establishing a spatial inventory of land resources compiled from global/national environmental data sets and assembled to quantify multiple spatial characteristics required for the assessments of land productivity under location-specific agro-ecological conditions.\n"
   ]
  },
  {
   "cell_type": "code",
   "execution_count": null,
   "metadata": {},
   "outputs": [],
   "source": [
    "\n",
    "aez = clim_reg.AEZClassification(\n",
    "    tclimate, lgp, lgp_equv, lgpt5, soil_terrain_lulc, permafrost)\n",
    "\n",
    "# now visualizing result\n",
    "fig = plt.figure()\n",
    "plt.imshow(aez, cmap=plt.get_cmap('rainbow', 59), vmin=0, vmax=59,interpolation='none')\n",
    "plt.title('Agro-ecological Zonation')\n",
    "plt.colorbar()\n",
    "plt.savefig(out_path+\"aez_\"+revname+\".png\",\n",
    "            bbox_inches=\"tight\", dpi=300)\n",
    "plt.show()\n",
    "obj_utilities.saveRaster(\n",
    "    mask_path, out_path+'aez_'+revname+'.tif', aez)\n"
   ]
  },
  {
   "cell_type": "markdown",
   "metadata": {},
   "source": [
    "<hr>\n",
    "\n",
    "### END OF MODULE 1: CLIMATE REGIME\n",
    "\n",
    "<hr>"
   ]
  },
  {
   "cell_type": "code",
   "execution_count": null,
   "metadata": {},
   "outputs": [],
   "source": []
  }
 ],
 "metadata": {
  "kernelspec": {
   "display_name": "xr-rio-dask",
   "language": "python",
   "name": "xr-rio-dask"
  },
  "language_info": {
   "codemirror_mode": {
    "name": "ipython",
    "version": 3
   },
   "file_extension": ".py",
   "mimetype": "text/x-python",
   "name": "python",
   "nbconvert_exporter": "python",
   "pygments_lexer": "ipython3",
   "version": "3.11.3"
  },
  "vscode": {
   "interpreter": {
    "hash": "65e72b0120c35d75cf65cfd3d4805280e35b271cd085ff832a3f7fa98db0a8ca"
   }
  }
 },
 "nbformat": 4,
 "nbformat_minor": 2
}
