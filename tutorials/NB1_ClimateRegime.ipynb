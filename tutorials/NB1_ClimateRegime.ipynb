{
 "cells": [
  {
   "attachments": {},
   "cell_type": "markdown",
   "metadata": {},
   "source": [
    "# Notebook I - Climate Regime\n",
    "<hr>\n",
    "This module performs climate data analysis and compiling general agro-climatic indicators. These general agro-climatic indicators summarize climatic profiles in the study area for each grid. The key input data for this module is the climatic data, and the geographical and terrain data.\n",
    "\n",
    "Prepared by Geoinformatics Center, AIT\n",
    "<hr>\n"
   ]
  },
  {
   "attachments": {},
   "cell_type": "markdown",
   "metadata": {},
   "source": [
    "### Google drive connection\n",
    "In this step, we will connect to Google Drive service and mount the drive where we will start our PyAEZ project"
   ]
  },
  {
   "cell_type": "code",
   "execution_count": null,
   "metadata": {},
   "outputs": [],
   "source": [
    "# from google.colab import drive\n",
    "# drive.mount('/content/gdrive', force_remount=True)"
   ]
  },
  {
   "attachments": {},
   "cell_type": "markdown",
   "metadata": {},
   "source": [
    "Then, installing any additional python packages that required to run PyAEZ. You will need to have the following packages installed on your own machine:\n",
    "- numpy\n",
    "- xarray\n",
    "- rioxarray\n",
    "- gdal\n",
    "- scipy\n",
    "- psutil\n",
    "- os\n",
    "- sys\n",
    "- matplotlib\n",
    "- colorcet\n",
    "\n",
    "optional if you are planning to use parallel (fast) computing (by setting parallel=True later in this notebook):\n",
    "- dask\n",
    "\n",
    "If working on your own PC/machine, these additional installations will vary depending on what is already installed in your Python library. "
   ]
  },
  {
   "cell_type": "code",
   "execution_count": null,
   "metadata": {},
   "outputs": [],
   "source": [
    "# 'Installing neccessary packages'\n",
    "# !pip install gdal"
   ]
  },
  {
   "attachments": {},
   "cell_type": "markdown",
   "metadata": {},
   "source": [
    "Now, we will import the specific Python packages we need for PyAEZ."
   ]
  },
  {
   "cell_type": "code",
   "execution_count": null,
   "metadata": {},
   "outputs": [],
   "source": [
    "'''import supporting libraries'''\n",
    "import numpy as np\n",
    "import xarray as xr\n",
    "import rioxarray as rio\n",
    "try:\n",
    "    from osgeo import gdal\n",
    "except:\n",
    "    import gdal\n",
    "import os\n",
    "import sys\n",
    "import matplotlib.pyplot as plt\n",
    "import matplotlib.colors as colors\n",
    "import colorcet as cc\n",
    "\n",
    "gdal.UseExceptions()"
   ]
  },
  {
   "attachments": {},
   "cell_type": "markdown",
   "metadata": {},
   "source": [
    "Setting the working directory -- where our PyAEZ project is located."
   ]
  },
  {
   "cell_type": "code",
   "execution_count": null,
   "metadata": {},
   "outputs": [],
   "source": [
    "'Set the working directory'\n",
    "work_dir = r'C://Users/kerrie/Documents/01_LocalCode/repos/PyAEZ/'  # Please change this to your working directory\n",
    "os.chdir(work_dir)\n",
    "sys.path.append(work_dir)\n",
    "os.getcwd()\n",
    "\n",
    "'Set some file paths'\n",
    "# (if using the asia_small test inputs at data_input/asia_small/ you will need to unzip first)\n",
    "maskfile = work_dir+'data_input/asia_small/mask.tif'               # path to the binary 0/1 admin mask file\n",
    "elevfile = work_dir+'data_input/asia_small/elev.tif'               # path to the elevation file\n",
    "soilfile = work_dir+'data_input/asia_small/soil_terrain_lulc.tif'  # path to the file with soil, terrain, lulc info\n",
    "\n",
    "domain='ASIA'  # a nickname for your domain that will be used in the names of output files"
   ]
  },
  {
   "attachments": {},
   "cell_type": "markdown",
   "metadata": {},
   "source": [
    "Check and create data output folder"
   ]
  },
  {
   "cell_type": "code",
   "execution_count": null,
   "metadata": {},
   "outputs": [],
   "source": [
    "output_path = './data_output/NB1/'\n",
    "\n",
    "if not os.path.exists(output_path):\n",
    "    os.makedirs(output_path)\n",
    "    print(\"Folder created successfully.\")\n",
    "else:\n",
    "    print(\"Folder already exists.\")"
   ]
  },
  {
   "attachments": {},
   "cell_type": "markdown",
   "metadata": {},
   "source": [
    "<hr>\n",
    "\n",
    "## MODULE 1: CLIMATE REGIME\n",
    "Now, we will start executing the routines in Module 1\n",
    "\n",
    "\n",
    "First, we initiate Module 1 Class instance by invoking the following commands:"
   ]
  },
  {
   "cell_type": "code",
   "execution_count": null,
   "metadata": {},
   "outputs": [],
   "source": [
    "%load_ext autoreload\n",
    "%autoreload 2\n",
    "\n",
    "# Import Module 1 and initate Object Class\n",
    "from pyaez import ClimateRegime\n",
    "clim_reg = ClimateRegime.ClimateRegime()\n",
    "\n",
    "# Importing UtilitiesCalc\n",
    "from pyaez import UtilitiesCalc\n",
    "obj_util = UtilitiesCalc.UtilitiesCalc()\n"
   ]
  },
  {
   "attachments": {},
   "cell_type": "markdown",
   "metadata": {},
   "source": [
    "### Importing the climate dataset and the geographical data/rasters.\n",
    "\n",
    "The package expects six climate variables, as daily or monthly observations, as Numpy arrays.\n",
    "Arrays must be 3-dimensional, with the third axes containing the time dimension.\n",
    "Unit of measures are expected as follows:\n",
    "- Minimum temperature = Degree Celsius\n",
    "- Maximum temperature = Degree Celsius\n",
    "- Precipitation = Accumulated mm / day (or per month)\n",
    "- Solar radiation = W/m^2\n",
    "- Wind speed = Average m/s\n",
    "- Relative humidity = Average fraction (0 to 1)\n",
    "\n",
    "In addition to climate data, the system requires:\n",
    "- A binary admin_mask, with 0 and 1 values. 0 pixels values will be not executed, while 1 pixels values will be executed\n",
    "- An elevation layer (m)\n",
    "- Soil/terrain/special land cover classes\n",
    "  \n",
    "\n",
    "**All the datasets must have the same shape.**"
   ]
  },
  {
   "attachments": {},
   "cell_type": "markdown",
   "metadata": {},
   "source": [
    "This section contains parameters that can be modified by the user:\n",
    "- lat_min = minimum latitude of analysis\n",
    "- lat_max = maximum latitude of analysis\n",
    "- lat_centers = whether the lat_min and lat_max are located at pixel centers (True) or exterior edges (False)\n",
    "- mask_value = the value in the admin_mask to exclude from the analysis (typically 0)\n",
    "- daily = whether climate input data are daily (True) or monthly (False)\n",
    "- parallel = whether process in parallel using dask for speed ups (True) or to not use parallel processing (False)"
   ]
  },
  {
   "cell_type": "code",
   "execution_count": null,
   "metadata": {},
   "outputs": [],
   "source": [
    "daily = True          # Type of climate data. True: daily, False: monthly (NOTE: parallel processing not yet implemented for Daily=False)\n",
    "parallel=True #False# # flag for dask parallel processing (for speed). True: use dask. False: no dask, only numpy\n",
    "mask_value = 0        # pixel value in admin_mask to exclude from the analysis\n",
    "\n",
    "if parallel:\n",
    "    import dask.array as da\n",
    "    import dask"
   ]
  },
  {
   "cell_type": "code",
   "execution_count": null,
   "metadata": {},
   "outputs": [],
   "source": [
    "# Define the Area-Of-Interest's geographical extents\n",
    "# if lat_min/lat_max values defined below are located at pixel center --> set lat_centers to True \n",
    "# if they are located at the exterior pixel edge --> set lat_centers to False\n",
    "lat_centers=True \n",
    "\n",
    "# provide min and max latitudes (either set manually or read from a data file)\n",
    "lats=rio.open_rasterio(maskfile)['y'].data  # get array of latitudes from maskfile\n",
    "lats=np.trunc(lats*100000)/100000           # limit precision to 5 decimal places\n",
    "lons=rio.open_rasterio(maskfile)['x'].data  # get array of longitudes from maskfile\n",
    "lons=np.trunc(lons*100000)/100000           # limit precision to 5 decimal places\n",
    "\n",
    "lat_min = lats.min() \n",
    "lat_max = lats.max()\n",
    "\n",
    "print('minimum latitude:',lat_min,', maximum latitude:',lat_max,', at pixel centers:',lat_centers)"
   ]
  },
  {
   "cell_type": "code",
   "execution_count": null,
   "metadata": {},
   "outputs": [],
   "source": [
    "### Loading data inputs\n",
    "\n",
    "### In order to use the flag parallel=True you will need to:\n",
    "### 1) write your climate input files as npy stacks \n",
    "### 2) in this notebook read the npy stacks directly to dask arrays\n",
    "###    e.g. skip the np.load step and instead use\n",
    "###    max_temp = da.from_npy_stack(data_dir+'npy_stack_dir_name/').astype('float32')\n",
    "### 3) convert your mask, elevation, and soil data to dask arrays as well\n",
    "\n",
    "### IF USING PARALLEL=TRUE USE THE LINES BELOW AND COMMENT OUT THE NEXT NOTEBOOK CELL (DON'T RUN IT) ###\n",
    "### IF USING PARALLEL=FALSE COMMENT OUT THE FOLLOWING LINES AND RUN THE NEXT NOTEBOOK CELL ###\n",
    "\n",
    "# # (if using the asia_small test inputs at data_input/asia_small/ you will need to unzip first)\n",
    "max_temp = da.from_npy_stack(work_dir+'data_input/asia_small/tmax/').astype('float32')  # maximum temperature\n",
    "min_temp = da.from_npy_stack(work_dir+'data_input/asia_small/tmin/').astype('float32')  # minimum temperature\n",
    "precipitation = da.from_npy_stack(work_dir+'data_input/asia_small/prcp/').astype('float32')  # precipitation\n",
    "rel_humidity = da.from_npy_stack(work_dir+'data_input/asia_small/rhum/').astype('float32')  # relative humidity\n",
    "wind_speed = da.from_npy_stack(work_dir+'data_input/asia_small/wspd/').astype('float32') # wind speed measured at two meters\n",
    "short_rad = da.from_npy_stack(work_dir+'data_input/asia_small/srad/').astype('float32')  # shortwave radiation\n",
    "mask=da.from_array(gdal.Open(maskfile).ReadAsArray())\n",
    "elevation=da.from_array(gdal.Open(elevfile).ReadAsArray())\n",
    "soil_terrain_lulc=da.from_array(gdal.Open(soilfile).ReadAsArray())\n",
    "\n",
    "mask"
   ]
  },
  {
   "cell_type": "code",
   "execution_count": null,
   "metadata": {},
   "outputs": [],
   "source": [
    "### Loading data inputs\n",
    "\n",
    "### If using the parallel=False flag, load npy files (as opposed to stacks) and tif files to numpy arrays\n",
    "\n",
    "### IF USING PARALLEL=FALSE, USE THE LINES BELOW AND COMMENT OUT THE NOTEBOOK CELL ABOVE ###\n",
    "### IF USING PARALLEL=TRUE, DON'T USE THIS CELL (COMMENT IT OUT), USE THE CELL ABOVE INSTEAD ###\n",
    "\n",
    "# max_temp = np.load(work_dir+'data_input/asia_small/tmax/0.npy').astype('float32')\n",
    "# min_temp = np.load(work_dir+'data_input/asia_small/tmin/0.npy').astype('float32')  # minimum temperature\n",
    "# precipitation = np.load(work_dir+'data_input/asia_small/prcp/0.npy').astype('float32')  # precipitation\n",
    "# rel_humidity = np.load(work_dir+'data_input/asia_small/rhum/0.npy').astype('float32')  # relative humidity\n",
    "# wind_speed = np.load(work_dir+'data_input/asia_small/wspd/0.npy').astype('float32') # wind speed measured at two meters\n",
    "# short_rad = np.load(work_dir+'data_input/asia_small/srad/0.npy').astype('float32')  # shortwave radiation\n",
    "# mask=gdal.Open(maskfile).ReadAsArray()\n",
    "# elevation=gdal.Open(elevfile).ReadAsArray()\n",
    "# soil_terrain_lulc=gdal.Open(soilfile).ReadAsArray()"
   ]
  },
  {
   "attachments": {},
   "cell_type": "markdown",
   "metadata": {},
   "source": [
    "### Loading the imported data into the Object Class ('*clim_reg*' Class)"
   ]
  },
  {
   "cell_type": "code",
   "execution_count": null,
   "metadata": {},
   "outputs": [],
   "source": [
    "# For parallel=True, this sets the chunk size based on the amount of available RAM and CPU threads\n",
    "\n",
    "# There are 2 possible user overrides:\n",
    "# (unless you've experienced issues, implementing these overrides is unnecessary) \n",
    "# 1) instead of accepting the default chunk size, the user can enter the total number of \n",
    "# chunks desired in order to increase or decrease the chunk size. However, choosing very \n",
    "# large chunks may cause the notebook to fail due to lack of available memory.\n",
    "# 2) The user can indicate they want to use less RAM for the computation with reduce_mem_used=True, \n",
    "# which sets a smaller chunk size that allows the computations to proceed using less than xGB RAM\n",
    "\n",
    "# For parallel=False, this sets all parameters associated with chunking to None\n",
    "\n",
    "clim_reg.setParallel(max_temp,parallel)#,nchunks=288,reduce_mem_used=True)\n",
    "\n",
    "print('total chunks:',clim_reg.nchunks,',  3D chunk dimesions:', clim_reg.chunk3D,',  3D chunk size:', clim_reg.chunksize3D_MB,'MB')"
   ]
  },
  {
   "cell_type": "code",
   "execution_count": null,
   "metadata": {},
   "outputs": [],
   "source": [
    "clim_reg.setStudyAreaMask(mask, mask_value)"
   ]
  },
  {
   "cell_type": "code",
   "execution_count": null,
   "metadata": {},
   "outputs": [],
   "source": [
    "clim_reg.setLocationTerrainData(lat_min, lat_max, lat_centers, elevation,lats,lons)"
   ]
  },
  {
   "cell_type": "code",
   "execution_count": null,
   "metadata": {},
   "outputs": [],
   "source": [
    "if daily:\n",
    "    clim_reg.setDailyClimateData(\n",
    "        min_temp, max_temp, precipitation, short_rad, wind_speed, rel_humidity)\n",
    "else:\n",
    "    clim_reg.setMonthlyClimateData(\n",
    "        min_temp, max_temp, precipitation, short_rad, wind_speed, rel_humidity)"
   ]
  },
  {
   "attachments": {},
   "cell_type": "markdown",
   "metadata": {},
   "source": [
    "NOTE: The data inputs are used to compute a number of arrays and parameters that are attached to the clim_reg class. These data can be accessed as, for example:\n",
    "- clim_reg.elevation (elevation)\n",
    "- clim_reg.maxT_daily (maximum temperature)\n",
    "- clim_reg.annual_accPrec (annual accumulated precipitation)\n",
    "\n",
    "The full list of what exists in the clim_reg class object is as follows"
   ]
  },
  {
   "cell_type": "code",
   "execution_count": null,
   "metadata": {},
   "outputs": [],
   "source": [
    "# Show a list of all the items attached to the clim_reg class object\n",
    "print(clim_reg.__dict__.keys())"
   ]
  },
  {
   "cell_type": "code",
   "execution_count": null,
   "metadata": {},
   "outputs": [],
   "source": [
    "'Releasing the memory of input climate data -- free up some RAM space'\n",
    "del(min_temp, max_temp, precipitation, short_rad, wind_speed, rel_humidity)"
   ]
  },
  {
   "attachments": {},
   "cell_type": "markdown",
   "metadata": {},
   "source": [
    "#### Thermal Climate\n",
    "The Thermal Climate function calculates and classifies latitudinal thermal climate, which will be used later in Module 2 for the assessment of potential crops and land utilization types (LUT) presence in each grid cell."
   ]
  },
  {
   "cell_type": "code",
   "execution_count": null,
   "metadata": {},
   "outputs": [],
   "source": [
    "tclimate = clim_reg.getThermalClimate()"
   ]
  },
  {
   "cell_type": "code",
   "execution_count": null,
   "metadata": {},
   "outputs": [],
   "source": [
    "'''save and visualize result'''\n",
    "fig = plt.figure()\n",
    "ax=fig.add_subplot()\n",
    "\n",
    "# colorbar information\n",
    "bounds=np.linspace(-0.5,12.5,14)\n",
    "ticks=np.linspace(0,12,13).astype('int')\n",
    "cmap=plt.get_cmap('gist_ncar_r', 13)\n",
    "norm=colors.BoundaryNorm(bounds,cmap.N)\n",
    "\n",
    "plt.title('Thermal Climate')\n",
    "im=ax.imshow(tclimate, cmap=cmap, norm=norm, interpolation='none')\n",
    "cbar=fig.colorbar(im,ax=ax,norm=norm,ticks=ticks)\n",
    "cbar.minorticks_off()\n",
    "\n",
    "plt.savefig(output_path+domain+\"_ThermalClimate.png\",bbox_inches =\"tight\",dpi=300) #Save as PNG image\n",
    "plt.show()\n",
    "\n",
    "obj_util.saveRaster(maskfile, output_path+domain+'_ThermalClimate.tif',tclimate) #Save as GeoTIFF raster"
   ]
  },
  {
   "attachments": {},
   "cell_type": "markdown",
   "metadata": {},
   "source": [
    "#### Thermal Zone\n",
    "The thermal zone is classified based on actual temperature which reflects on the temperature regimes of major thermal climates"
   ]
  },
  {
   "cell_type": "code",
   "execution_count": null,
   "metadata": {},
   "outputs": [],
   "source": [
    "tzone = clim_reg.getThermalZone()"
   ]
  },
  {
   "cell_type": "code",
   "execution_count": null,
   "metadata": {},
   "outputs": [],
   "source": [
    "'''save and visualize result'''\n",
    "fig = plt.figure()\n",
    "ax=fig.add_subplot()\n",
    "\n",
    "# colorbar information\n",
    "bounds=np.linspace(-0.5,12.5,14)\n",
    "ticks=np.linspace(0,12,13).astype('int')\n",
    "cmap=plt.get_cmap('gist_ncar_r', 13)\n",
    "norm=colors.BoundaryNorm(bounds,cmap.N)\n",
    "\n",
    "plt.title('Thermal Zones')\n",
    "im=ax.imshow(tzone, cmap=cmap, norm=norm, interpolation='none')\n",
    "cbar=fig.colorbar(im,ax=ax,norm=norm,ticks=ticks)\n",
    "cbar.minorticks_off()\n",
    "\n",
    "plt.savefig(output_path+domain+\"_ThermalZone.png\",bbox_inches =\"tight\",dpi=300) #Save as PNG image\n",
    "plt.show()\n",
    "\n",
    "obj_util.saveRaster(maskfile, output_path+domain+'_ThermalZone.tif',tzone) #Save as GeoTIFF raster"
   ]
  },
  {
   "attachments": {},
   "cell_type": "markdown",
   "metadata": {},
   "source": [
    "#### Thermal Length of Growing Period (LGP)\n",
    "The thermal length of growing period (LGPt) is defined as the number of days in a year during which the daily mean temperature (Ta) is conductive to crop growth and development. PyAEZ utilizes the AEZ three standard temperature thresholds for LGPt:\n",
    "- Periods with Ta>0°C (LGPt0)\n",
    "- Periods with Ta>5°C (LGPt5) – the period conductive to plant growth and development\n",
    "- Periods, and Ta>10°C (LGPt10) – a proxy for the period of low risks for late and early frost occurrences and termed ‘frost-free period’"
   ]
  },
  {
   "cell_type": "code",
   "execution_count": null,
   "metadata": {},
   "outputs": [],
   "source": [
    "lgpt0 = clim_reg.getThermalLGP0()\n",
    "lgpt5 = clim_reg.getThermalLGP5()\n",
    "lgpt10 = clim_reg.getThermalLGP10()"
   ]
  },
  {
   "cell_type": "code",
   "execution_count": null,
   "metadata": {},
   "outputs": [],
   "source": [
    "'''save and visualize result'''\n",
    "vmin=0\n",
    "vmax=365\n",
    "#======================\n",
    "plt.figure(1, figsize=(24, 8))\n",
    "plt.subplot(1, 3, 1)\n",
    "plt.imshow(lgpt0,vmin=vmin,vmax=vmax,interpolation='none')\n",
    "plt.title('LGPt 0')\n",
    "plt.colorbar(shrink=0.8)\n",
    "#----------------------\n",
    "plt.subplot(1, 3, 2)\n",
    "plt.imshow(lgpt5, vmin=vmin, vmax=vmax,interpolation='none')\n",
    "plt.title('LGPt 5')\n",
    "plt.colorbar(shrink=0.8)\n",
    "#----------------------\n",
    "plt.subplot(1, 3, 3)\n",
    "plt.imshow(lgpt10, vmin=vmin, vmax=vmax,interpolation='none')\n",
    "plt.title('LGPt 10')\n",
    "plt.colorbar(shrink=0.8)\n",
    "#----------------------\n",
    "plt.savefig(output_path+domain+\"_ThermalLGPs.png\",bbox_inches=\"tight\", dpi=300)\n",
    "plt.show()\n",
    "#======================\n",
    "obj_util.saveRaster(maskfile, output_path+domain+'_LGPt0.tif', lgpt0)\n",
    "obj_util.saveRaster(maskfile, output_path+domain+'_LGPt5.tif', lgpt5)\n",
    "obj_util.saveRaster(maskfile, output_path+domain+'_LGPt10.tif', lgpt10)"
   ]
  },
  {
   "attachments": {},
   "cell_type": "markdown",
   "metadata": {},
   "source": [
    "#### Temperature Sum"
   ]
  },
  {
   "cell_type": "code",
   "execution_count": null,
   "metadata": {},
   "outputs": [],
   "source": [
    "tsum0 = clim_reg.getTemperatureSum0()\n",
    "tsum5 = clim_reg.getTemperatureSum5()\n",
    "tsum10 = clim_reg.getTemperatureSum10()"
   ]
  },
  {
   "cell_type": "code",
   "execution_count": null,
   "metadata": {},
   "outputs": [],
   "source": [
    "'''save and visualize result'''\n",
    "vmin=0\n",
    "vmax=11000\n",
    "cmap='hot_r'\n",
    "#======================\n",
    "plt.figure(1, figsize=(24, 8))\n",
    "plt.subplot(1, 3, 1)\n",
    "plt.imshow(tsum0, cmap=cmap,vmin=vmin, vmax=vmax,interpolation='none')\n",
    "plt.title('T-sumation 0')\n",
    "plt.colorbar(shrink=0.8)\n",
    "#----------------------\n",
    "plt.subplot(1, 3, 2)\n",
    "plt.imshow(tsum5, cmap=cmap, vmin=vmin, vmax=vmax,interpolation='none')\n",
    "plt.title('T-sumation 5')\n",
    "plt.colorbar(shrink=0.8)\n",
    "#----------------------\n",
    "plt.subplot(1, 3, 3)\n",
    "plt.imshow(tsum10, cmap=cmap, vmin=vmin, vmax=vmax,interpolation='none')\n",
    "plt.title('T-sumation 10')\n",
    "plt.colorbar(shrink=0.8)\n",
    "#----------------------\n",
    "plt.savefig(output_path+domain+\"_Tsum.png\",bbox_inches=\"tight\", dpi=300)\n",
    "plt.show()\n",
    "#======================\n",
    "obj_util.saveRaster(maskfile, output_path+domain+'_tsum0.tif', tsum0)\n",
    "obj_util.saveRaster(maskfile, output_path+domain+'_tsum5.tif', tsum5)\n",
    "obj_util.saveRaster(maskfile, output_path+domain+'_tsum10.tif', tsum10)"
   ]
  },
  {
   "attachments": {},
   "cell_type": "markdown",
   "metadata": {},
   "source": [
    "#### Temperature Profile"
   ]
  },
  {
   "cell_type": "code",
   "execution_count": null,
   "metadata": {},
   "outputs": [],
   "source": [
    "tprofile = clim_reg.getTemperatureProfile()"
   ]
  },
  {
   "cell_type": "code",
   "execution_count": null,
   "metadata": {},
   "outputs": [],
   "source": [
    "'''save and visualize result'''\n",
    "\n",
    "tile_list = ['A1','A2','A3','A4','A5','A6','A7','A8','A9',\n",
    "            'B1', 'B2', 'B3', 'B4', 'B5', 'B6', 'B7', 'B8', 'B9']\n",
    "\n",
    "vmax=np.nanmax(tprofile)\n",
    "vmin=np.nanmin(tprofile)            \n",
    "\n",
    "fig = plt.figure(figsize=(12, 16))\n",
    "for i1 in range(1, 19):\n",
    "    plt.subplot(6, 3, i1)\n",
    "    plt.imshow(tprofile[i1-1],interpolation='none',vmin=vmin,vmax=vmax)\n",
    "    plt.title(tile_list[i1-1])\n",
    "    plt.colorbar(shrink=0.7)\n",
    "plt.tight_layout()\n",
    "\n",
    "plt.savefig(output_path+domain+\"_Tprofiles.png\",bbox_inches=\"tight\", dpi=300)\n",
    "plt.show()\n",
    "\n",
    "for label,profile in zip(tile_list,tprofile):\n",
    "    obj_util.saveRaster(maskfile,output_path+domain+\"_TProfile_\"+label+\".tif\",profile) #Save as GeoTIFF raster\n"
   ]
  },
  {
   "attachments": {},
   "cell_type": "markdown",
   "metadata": {},
   "source": [
    "#### Length of Growing Periods (LGPs)"
   ]
  },
  {
   "cell_type": "code",
   "execution_count": null,
   "metadata": {},
   "outputs": [],
   "source": [
    "lgp = clim_reg.getLGP(Sa=100., D=1.)\n",
    "lgp_class = clim_reg.getLGPClassified(lgp)\n",
    "lgp_equv = clim_reg.getLGPEquivalent()"
   ]
  },
  {
   "cell_type": "code",
   "execution_count": null,
   "metadata": {},
   "outputs": [],
   "source": [
    "'''save and visualize result'''\n",
    "\n",
    "vmin=0\n",
    "vmax=365\n",
    "cmap='viridis'\n",
    "#======================\n",
    "plt.imshow(lgp, cmap=cmap, vmin=vmin, vmax=vmax,interpolation='none')\n",
    "plt.title('LPG [days]')\n",
    "plt.colorbar()\n",
    "\n",
    "plt.savefig(output_path+domain+\"_LGP.png\", bbox_inches=\"tight\", dpi=300)\n",
    "plt.show()\n",
    "\n",
    "#----------------------\n",
    "\n",
    "plt.imshow(lgp_equv, cmap=cmap, vmin=vmin, vmax=vmax,interpolation='none')\n",
    "plt.title('LPG Equivalent [days]')\n",
    "plt.colorbar()\n",
    "\n",
    "plt.savefig(output_path+domain+\"_LGP_Equv.png\",bbox_inches=\"tight\", dpi=300)\n",
    "plt.show()\n",
    "\n",
    "#----------------------\n",
    "\n",
    "obj_util.saveRaster(maskfile, output_path+domain+'_LGP.tif', lgp)\n",
    "obj_util.saveRaster(maskfile, output_path+domain+'_LGPEquivalent.tif', lgp_equv)\n"
   ]
  },
  {
   "attachments": {},
   "cell_type": "markdown",
   "metadata": {},
   "source": [
    "#### Multi Cropping Zone\n",
    "Multiple cropping zones classification is an additional agro-climatic indicator, which relates to the possibility of cultivating multiple sequential crops under rain-fed and irrigated conditions."
   ]
  },
  {
   "cell_type": "code",
   "execution_count": null,
   "metadata": {},
   "outputs": [],
   "source": [
    "multi_crop = clim_reg.getMultiCroppingZones(tclimate, lgp, lgpt5, lgpt10, tsum0, tsum10)\n",
    "multi_crop_rainfed = multi_crop[0]  # for rainfed conditions\n",
    "multi_crop_irr = multi_crop[1]  # for irrigated conditions"
   ]
  },
  {
   "cell_type": "code",
   "execution_count": null,
   "metadata": {},
   "outputs": [],
   "source": [
    "'''save and visualize result'''\n",
    "\n",
    "# colorbar information\n",
    "bounds=np.linspace(-0.5,8.5,10)\n",
    "ticks=np.linspace(0,8,9).astype('int')\n",
    "cmap=plt.get_cmap('gist_ncar_r', 9)\n",
    "norm=colors.BoundaryNorm(bounds,cmap.N)\n",
    "\n",
    "#----------------------\n",
    "\n",
    "fig = plt.figure()\n",
    "ax=fig.add_subplot()\n",
    "im=ax.imshow(multi_crop_irr, cmap=cmap, norm=norm, interpolation='none')\n",
    "plt.title('Multi Cropping Zone - IRR')\n",
    "cbar=fig.colorbar(im,ax=ax,norm=norm,ticks=ticks)\n",
    "cbar.minorticks_off()\n",
    "\n",
    "plt.savefig(output_path+domain+\"_multicrop_irr.png\", bbox_inches=\"tight\", dpi=300)\n",
    "plt.show()\n",
    "\n",
    "obj_util.saveRaster(maskfile, output_path+domain+'_multicrop_irr.tif', multi_crop_irr)\n",
    "\n",
    "#----------------------\n",
    "\n",
    "fig = plt.figure()\n",
    "ax=fig.add_subplot()\n",
    "im=ax.imshow(multi_crop_rainfed,cmap=cmap, norm=norm,interpolation='none')\n",
    "plt.title('Multi Cropping Zone - RAINFED')\n",
    "cbar=fig.colorbar(im,ax=ax,norm=norm,ticks=ticks)\n",
    "cbar.minorticks_off()\n",
    "\n",
    "plt.savefig(output_path+domain+\"_multicrop_rain.png\",bbox_inches=\"tight\", dpi=300)\n",
    "plt.show()\n",
    "\n",
    "obj_util.saveRaster(maskfile, output_path+domain+'_multicrop_rain.tif', multi_crop_rainfed)\n"
   ]
  },
  {
   "attachments": {},
   "cell_type": "markdown",
   "metadata": {},
   "source": [
    "### Air Frost Index and Permafrost Evaluation\n",
    "Occurrence of continuous or discontinuous permafrost conditions are used in the suitability assessment. Permafrost areas are characterized by sub-soil at or below the freezing point for two or more years. In this section, PyAEZ utilizes the air frost index (FI) which is used to characterize climate-derived permafrost condition into 4 classes: \n",
    "1) Continuous permafrost\n",
    "2) Discontinuous permafrost \n",
    "3) Sporadic permafrost\n",
    "4) No permafrost"
   ]
  },
  {
   "cell_type": "code",
   "execution_count": null,
   "metadata": {},
   "outputs": [],
   "source": [
    "permafrost_eval = clim_reg.AirFrostIndexandPermafrostEvaluation()\n",
    "frost_index = permafrost_eval[0]\n",
    "permafrost = permafrost_eval[1]"
   ]
  },
  {
   "cell_type": "code",
   "execution_count": null,
   "metadata": {},
   "outputs": [],
   "source": [
    "'''save and visualize result'''\n",
    "\n",
    "#----------------------\n",
    "\n",
    "# colorbar information\n",
    "bounds=np.linspace(-0.05,1.05,12)\n",
    "ticks=np.linspace(0,1,11)\n",
    "cmap=plt.get_cmap('tab20b', 11)\n",
    "norm=colors.BoundaryNorm(bounds,cmap.N)\n",
    "\n",
    "fig = plt.figure()\n",
    "ax=fig.add_subplot()\n",
    "im=ax.imshow(frost_index, cmap=cmap, norm=norm, interpolation='none')\n",
    "plt.title('Frost Index')\n",
    "cbar=fig.colorbar(im,ax=ax,norm=norm,ticks=ticks)\n",
    "cbar.minorticks_off()\n",
    "\n",
    "plt.savefig(output_path+domain+\"_frost_index.png\",bbox_inches=\"tight\", dpi=300)\n",
    "plt.show()\n",
    "\n",
    "obj_util.saveRaster(maskfile, output_path+domain+'_frost_index.tif', frost_index)\n",
    "\n",
    "#----------------------\n",
    "\n",
    "# colorbar information\n",
    "bounds=np.linspace(-0.5,4.5,6)\n",
    "ticks=np.linspace(0,4,5)\n",
    "cmap=plt.get_cmap('tab20b', 5)\n",
    "norm=colors.BoundaryNorm(bounds,cmap.N)\n",
    "\n",
    "fig = plt.figure()\n",
    "ax=fig.add_subplot()\n",
    "im=ax.imshow(permafrost, cmap=cmap, norm=norm,interpolation='none')\n",
    "plt.title('Permafrost Evaluation')\n",
    "cbar=fig.colorbar(im,ax=ax,norm=norm,ticks=ticks)\n",
    "cbar.minorticks_off()\n",
    "\n",
    "plt.savefig(output_path+domain+\"_permafrost.png\",bbox_inches=\"tight\", dpi=300)\n",
    "plt.show()\n",
    "\n",
    "obj_util.saveRaster(maskfile, output_path+domain+'_permafrost.tif', permafrost)\n"
   ]
  },
  {
   "attachments": {},
   "cell_type": "markdown",
   "metadata": {},
   "source": [
    "### Fallow period requirement\n",
    "Fallow is an agricultural technique that consists of not sowing the arable land during one or more growing seasons. In AEZ framework, the fallow factors have been established by main crop groups and environmental conditions. The crop groups include cereals, legumes, roots and tubers, and a miscellaneous group consisting of long-term annuals/perennials. The fallow factors are expressed as percentage of time during the fallow-cropping cycle the land must be under fallow. PyAEZ determines the fallow requirements using Thermal Zones."
   ]
  },
  {
   "cell_type": "code",
   "execution_count": null,
   "metadata": {},
   "outputs": [],
   "source": [
    "tzone_fallow = clim_reg.TZoneFallowRequirement(tzone)"
   ]
  },
  {
   "cell_type": "code",
   "execution_count": null,
   "metadata": {},
   "outputs": [],
   "source": [
    "'''save and visualize result'''\n",
    "\n",
    "# colorbar information\n",
    "bounds=np.linspace(-0.5,6.5,8)\n",
    "ticks=np.linspace(0,6,7)\n",
    "cmap=plt.get_cmap('tab10', 7)\n",
    "norm=colors.BoundaryNorm(bounds,cmap.N)\n",
    "\n",
    "fig = plt.figure()\n",
    "ax=fig.add_subplot()\n",
    "im=ax.imshow(tzone_fallow, cmap=cmap, norm=norm,interpolation='none')\n",
    "plt.title('Fallow Requirement')\n",
    "cbar=fig.colorbar(im,ax=ax,norm=norm,ticks=ticks)\n",
    "cbar.minorticks_off()\n",
    "\n",
    "plt.savefig(output_path+domain+\"_fallow.png\",bbox_inches=\"tight\", dpi=300)\n",
    "plt.show()\n",
    "\n",
    "obj_util.saveRaster(maskfile,output_path+domain+'_fallow.tif', tzone_fallow)\n"
   ]
  },
  {
   "attachments": {},
   "cell_type": "markdown",
   "metadata": {},
   "source": [
    "### Agro-ecological zones classification\n",
    "The agro-ecological zones (AEZ) methodology provides a framework for establishing a spatial inventory of land resources compiled from global/national environmental data sets and assembled to quantify multiple spatial characteristics required for the assessments of land productivity under location-specific agro-ecological conditions."
   ]
  },
  {
   "cell_type": "code",
   "execution_count": null,
   "metadata": {},
   "outputs": [],
   "source": [
    "aez = clim_reg.AEZClassification(\n",
    "    tclimate, lgp, lgp_equv, lgpt5, soil_terrain_lulc, permafrost)"
   ]
  },
  {
   "cell_type": "code",
   "execution_count": null,
   "metadata": {},
   "outputs": [],
   "source": [
    "# colorbar information\n",
    "bounds=np.linspace(-0.5,59.5,61)\n",
    "ticks=np.linspace(0,59,60)\n",
    "cmap=cc.cm.glasbey\n",
    "norm=colors.BoundaryNorm(bounds,cmap.N)\n",
    "\n",
    "fig = plt.figure(figsize= (16,10))\n",
    "ax=fig.add_subplot()\n",
    "im=ax.imshow(aez, cmap=cmap,norm=norm,interpolation='none')\n",
    "plt.title('Agro-ecological Zonation')\n",
    "cbar=fig.colorbar(im,ax=ax,norm=norm,ticks=ticks,shrink=0.8)\n",
    "cbar.minorticks_off()\n",
    "\n",
    "plt.savefig(output_path+domain+\"_aez.png\",bbox_inches=\"tight\", dpi=300)\n",
    "plt.show()\n",
    "\n",
    "obj_util.saveRaster(maskfile, output_path+domain+'_aez.tif', aez)\n"
   ]
  },
  {
   "attachments": {},
   "cell_type": "markdown",
   "metadata": {},
   "source": [
    "<hr>\n",
    "\n",
    "### END OF MODULE 1: CLIMATE REGIME\n",
    "\n",
    "<hr>"
   ]
  }
 ],
 "metadata": {
  "kernelspec": {
   "display_name": "Python 3.12.1 ('new_pyaez')",
   "language": "python",
   "name": "python3"
  },
  "language_info": {
   "codemirror_mode": {
    "name": "ipython",
    "version": 3
   },
   "file_extension": ".py",
   "mimetype": "text/x-python",
   "name": "python",
   "nbconvert_exporter": "python",
   "pygments_lexer": "ipython3",
   "version": "3.12.1"
  },
  "vscode": {
   "interpreter": {
    "hash": "2bddfb41da4151ce5b1031cd416422677436bcb92cdebf658c075f31af04c367"
   }
  }
 },
 "nbformat": 4,
 "nbformat_minor": 2
}
